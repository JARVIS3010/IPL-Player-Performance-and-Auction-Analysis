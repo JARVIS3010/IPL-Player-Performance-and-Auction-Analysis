{
 "cells": [
  {
   "cell_type": "code",
   "execution_count": 31,
   "id": "f147803f",
   "metadata": {},
   "outputs": [],
   "source": [
    "import pandas as pd\n",
    "import plotly.express as px"
   ]
  },
  {
   "cell_type": "code",
   "execution_count": 32,
   "id": "d757b383",
   "metadata": {},
   "outputs": [
    {
     "data": {
      "text/html": [
       "<div>\n",
       "<style scoped>\n",
       "    .dataframe tbody tr th:only-of-type {\n",
       "        vertical-align: middle;\n",
       "    }\n",
       "\n",
       "    .dataframe tbody tr th {\n",
       "        vertical-align: top;\n",
       "    }\n",
       "\n",
       "    .dataframe thead th {\n",
       "        text-align: right;\n",
       "    }\n",
       "</style>\n",
       "<table border=\"1\" class=\"dataframe\">\n",
       "  <thead>\n",
       "    <tr style=\"text-align: right;\">\n",
       "      <th></th>\n",
       "      <th>Id</th>\n",
       "      <th>Name</th>\n",
       "      <th>Year</th>\n",
       "      <th>Final Price</th>\n",
       "      <th>Role</th>\n",
       "      <th>Nationality</th>\n",
       "      <th>Team</th>\n",
       "      <th>Ent</th>\n",
       "      <th>Age</th>\n",
       "      <th>Matches</th>\n",
       "      <th>...</th>\n",
       "      <th>LWkts</th>\n",
       "      <th>Econ</th>\n",
       "      <th>LEcon</th>\n",
       "      <th>FourWkts</th>\n",
       "      <th>LFourWkts</th>\n",
       "      <th>FiveWkts</th>\n",
       "      <th>LFiveWkts</th>\n",
       "      <th>Indian</th>\n",
       "      <th>Specialist</th>\n",
       "      <th>Status</th>\n",
       "    </tr>\n",
       "  </thead>\n",
       "  <tbody>\n",
       "    <tr>\n",
       "      <th>0</th>\n",
       "      <td>1</td>\n",
       "      <td>AB de Villiers</td>\n",
       "      <td>2008</td>\n",
       "      <td>12048000</td>\n",
       "      <td>Wicketkeeper batsman</td>\n",
       "      <td>South African</td>\n",
       "      <td>DD</td>\n",
       "      <td>0</td>\n",
       "      <td>24</td>\n",
       "      <td>6</td>\n",
       "      <td>...</td>\n",
       "      <td>0</td>\n",
       "      <td>0.0</td>\n",
       "      <td>0.0</td>\n",
       "      <td>0</td>\n",
       "      <td>0</td>\n",
       "      <td>0</td>\n",
       "      <td>0</td>\n",
       "      <td>0</td>\n",
       "      <td>1</td>\n",
       "      <td>218</td>\n",
       "    </tr>\n",
       "    <tr>\n",
       "      <th>1</th>\n",
       "      <td>1</td>\n",
       "      <td>AB de Villiers</td>\n",
       "      <td>2009</td>\n",
       "      <td>14736000</td>\n",
       "      <td>Wicketkeeper batsman</td>\n",
       "      <td>South African</td>\n",
       "      <td>DD</td>\n",
       "      <td>0</td>\n",
       "      <td>25</td>\n",
       "      <td>15</td>\n",
       "      <td>...</td>\n",
       "      <td>0</td>\n",
       "      <td>0.0</td>\n",
       "      <td>0.0</td>\n",
       "      <td>0</td>\n",
       "      <td>0</td>\n",
       "      <td>0</td>\n",
       "      <td>0</td>\n",
       "      <td>0</td>\n",
       "      <td>1</td>\n",
       "      <td>329</td>\n",
       "    </tr>\n",
       "    <tr>\n",
       "      <th>2</th>\n",
       "      <td>1</td>\n",
       "      <td>AB de Villiers</td>\n",
       "      <td>2010</td>\n",
       "      <td>13887000</td>\n",
       "      <td>Wicketkeeper batsman</td>\n",
       "      <td>South African</td>\n",
       "      <td>DD</td>\n",
       "      <td>0</td>\n",
       "      <td>26</td>\n",
       "      <td>7</td>\n",
       "      <td>...</td>\n",
       "      <td>0</td>\n",
       "      <td>0.0</td>\n",
       "      <td>0.0</td>\n",
       "      <td>0</td>\n",
       "      <td>0</td>\n",
       "      <td>0</td>\n",
       "      <td>0</td>\n",
       "      <td>0</td>\n",
       "      <td>1</td>\n",
       "      <td>885</td>\n",
       "    </tr>\n",
       "    <tr>\n",
       "      <th>3</th>\n",
       "      <td>1</td>\n",
       "      <td>AB de Villiers</td>\n",
       "      <td>2011</td>\n",
       "      <td>50600000</td>\n",
       "      <td>Wicketkeeper batsman</td>\n",
       "      <td>South African</td>\n",
       "      <td>RCB</td>\n",
       "      <td>0</td>\n",
       "      <td>27</td>\n",
       "      <td>16</td>\n",
       "      <td>...</td>\n",
       "      <td>0</td>\n",
       "      <td>0.0</td>\n",
       "      <td>0.0</td>\n",
       "      <td>0</td>\n",
       "      <td>0</td>\n",
       "      <td>0</td>\n",
       "      <td>0</td>\n",
       "      <td>0</td>\n",
       "      <td>1</td>\n",
       "      <td>1316</td>\n",
       "    </tr>\n",
       "    <tr>\n",
       "      <th>4</th>\n",
       "      <td>1</td>\n",
       "      <td>AB de Villiers</td>\n",
       "      <td>2012</td>\n",
       "      <td>55297000</td>\n",
       "      <td>Wicketkeeper batsman</td>\n",
       "      <td>South African</td>\n",
       "      <td>RCB</td>\n",
       "      <td>0</td>\n",
       "      <td>28</td>\n",
       "      <td>16</td>\n",
       "      <td>...</td>\n",
       "      <td>0</td>\n",
       "      <td>0.0</td>\n",
       "      <td>0.0</td>\n",
       "      <td>0</td>\n",
       "      <td>0</td>\n",
       "      <td>0</td>\n",
       "      <td>0</td>\n",
       "      <td>0</td>\n",
       "      <td>1</td>\n",
       "      <td>1075</td>\n",
       "    </tr>\n",
       "  </tbody>\n",
       "</table>\n",
       "<p>5 rows × 42 columns</p>\n",
       "</div>"
      ],
      "text/plain": [
       "   Id            Name  Year  Final Price                  Role    Nationality  \\\n",
       "0   1  AB de Villiers  2008     12048000  Wicketkeeper batsman  South African   \n",
       "1   1  AB de Villiers  2009     14736000  Wicketkeeper batsman  South African   \n",
       "2   1  AB de Villiers  2010     13887000  Wicketkeeper batsman  South African   \n",
       "3   1  AB de Villiers  2011     50600000  Wicketkeeper batsman  South African   \n",
       "4   1  AB de Villiers  2012     55297000  Wicketkeeper batsman  South African   \n",
       "\n",
       "  Team  Ent  Age  Matches  ...  LWkts  Econ  LEcon  FourWkts  LFourWkts  \\\n",
       "0   DD    0   24        6  ...      0   0.0    0.0         0          0   \n",
       "1   DD    0   25       15  ...      0   0.0    0.0         0          0   \n",
       "2   DD    0   26        7  ...      0   0.0    0.0         0          0   \n",
       "3  RCB    0   27       16  ...      0   0.0    0.0         0          0   \n",
       "4  RCB    0   28       16  ...      0   0.0    0.0         0          0   \n",
       "\n",
       "   FiveWkts  LFiveWkts  Indian  Specialist  Status  \n",
       "0         0          0       0           1     218  \n",
       "1         0          0       0           1     329  \n",
       "2         0          0       0           1     885  \n",
       "3         0          0       0           1    1316  \n",
       "4         0          0       0           1    1075  \n",
       "\n",
       "[5 rows x 42 columns]"
      ]
     },
     "execution_count": 32,
     "metadata": {},
     "output_type": "execute_result"
    }
   ],
   "source": [
    "df = pd.read_csv(r'C:\\Users\\Mohak kansal\\Documents\\Coding\\Projects\\IPL Auction Analytics & Team Performance Prediction Dashboard\\Data Collection and Cleaning\\Used Datasets\\6.) IPL Player Performance and Salary Dataset\\Data_Mendeley.csv')\n",
    "df.head()"
   ]
  },
  {
   "cell_type": "code",
   "execution_count": 33,
   "id": "7aca557d",
   "metadata": {},
   "outputs": [
    {
     "data": {
      "text/html": [
       "<div>\n",
       "<style scoped>\n",
       "    .dataframe tbody tr th:only-of-type {\n",
       "        vertical-align: middle;\n",
       "    }\n",
       "\n",
       "    .dataframe tbody tr th {\n",
       "        vertical-align: top;\n",
       "    }\n",
       "\n",
       "    .dataframe thead th {\n",
       "        text-align: right;\n",
       "    }\n",
       "</style>\n",
       "<table border=\"1\" class=\"dataframe\">\n",
       "  <thead>\n",
       "    <tr style=\"text-align: right;\">\n",
       "      <th></th>\n",
       "      <th>Id</th>\n",
       "      <th>Year</th>\n",
       "      <th>Final Price</th>\n",
       "      <th>Ent</th>\n",
       "      <th>Age</th>\n",
       "      <th>Matches</th>\n",
       "      <th>LMatches</th>\n",
       "      <th>Runs</th>\n",
       "      <th>LRuns</th>\n",
       "      <th>HS</th>\n",
       "      <th>...</th>\n",
       "      <th>LWkts</th>\n",
       "      <th>Econ</th>\n",
       "      <th>LEcon</th>\n",
       "      <th>FourWkts</th>\n",
       "      <th>LFourWkts</th>\n",
       "      <th>FiveWkts</th>\n",
       "      <th>LFiveWkts</th>\n",
       "      <th>Indian</th>\n",
       "      <th>Specialist</th>\n",
       "      <th>Status</th>\n",
       "    </tr>\n",
       "  </thead>\n",
       "  <tbody>\n",
       "    <tr>\n",
       "      <th>count</th>\n",
       "      <td>1108.000000</td>\n",
       "      <td>1108.000000</td>\n",
       "      <td>1.108000e+03</td>\n",
       "      <td>1108.000000</td>\n",
       "      <td>1108.000000</td>\n",
       "      <td>1108.000000</td>\n",
       "      <td>1108.000000</td>\n",
       "      <td>1108.000000</td>\n",
       "      <td>1108.000000</td>\n",
       "      <td>1108.000000</td>\n",
       "      <td>...</td>\n",
       "      <td>1108.000000</td>\n",
       "      <td>1108.000000</td>\n",
       "      <td>1108.000000</td>\n",
       "      <td>1108.000000</td>\n",
       "      <td>1108.000000</td>\n",
       "      <td>1108.000000</td>\n",
       "      <td>1108.000000</td>\n",
       "      <td>1108.000000</td>\n",
       "      <td>1108.000000</td>\n",
       "      <td>1108.000000</td>\n",
       "    </tr>\n",
       "    <tr>\n",
       "      <th>mean</th>\n",
       "      <td>128.925090</td>\n",
       "      <td>2013.642599</td>\n",
       "      <td>2.499991e+07</td>\n",
       "      <td>0.299639</td>\n",
       "      <td>27.344765</td>\n",
       "      <td>8.703069</td>\n",
       "      <td>7.092960</td>\n",
       "      <td>122.481949</td>\n",
       "      <td>100.869134</td>\n",
       "      <td>31.178700</td>\n",
       "      <td>...</td>\n",
       "      <td>3.368231</td>\n",
       "      <td>5.079729</td>\n",
       "      <td>3.760632</td>\n",
       "      <td>0.060469</td>\n",
       "      <td>0.052347</td>\n",
       "      <td>0.011733</td>\n",
       "      <td>0.008123</td>\n",
       "      <td>0.648917</td>\n",
       "      <td>0.711191</td>\n",
       "      <td>2227.456679</td>\n",
       "    </tr>\n",
       "    <tr>\n",
       "      <th>std</th>\n",
       "      <td>74.886115</td>\n",
       "      <td>2.650437</td>\n",
       "      <td>3.002749e+07</td>\n",
       "      <td>0.458307</td>\n",
       "      <td>4.434233</td>\n",
       "      <td>5.641288</td>\n",
       "      <td>6.333649</td>\n",
       "      <td>157.789755</td>\n",
       "      <td>153.175806</td>\n",
       "      <td>32.062701</td>\n",
       "      <td>...</td>\n",
       "      <td>5.770510</td>\n",
       "      <td>4.414907</td>\n",
       "      <td>4.305346</td>\n",
       "      <td>0.249568</td>\n",
       "      <td>0.234673</td>\n",
       "      <td>0.115812</td>\n",
       "      <td>0.099352</td>\n",
       "      <td>0.477524</td>\n",
       "      <td>0.453413</td>\n",
       "      <td>2961.907353</td>\n",
       "    </tr>\n",
       "    <tr>\n",
       "      <th>min</th>\n",
       "      <td>1.000000</td>\n",
       "      <td>2008.000000</td>\n",
       "      <td>6.000000e+05</td>\n",
       "      <td>0.000000</td>\n",
       "      <td>17.000000</td>\n",
       "      <td>0.000000</td>\n",
       "      <td>0.000000</td>\n",
       "      <td>0.000000</td>\n",
       "      <td>0.000000</td>\n",
       "      <td>0.000000</td>\n",
       "      <td>...</td>\n",
       "      <td>0.000000</td>\n",
       "      <td>0.000000</td>\n",
       "      <td>0.000000</td>\n",
       "      <td>0.000000</td>\n",
       "      <td>0.000000</td>\n",
       "      <td>0.000000</td>\n",
       "      <td>0.000000</td>\n",
       "      <td>0.000000</td>\n",
       "      <td>0.000000</td>\n",
       "      <td>1.000000</td>\n",
       "    </tr>\n",
       "    <tr>\n",
       "      <th>25%</th>\n",
       "      <td>68.000000</td>\n",
       "      <td>2012.000000</td>\n",
       "      <td>3.000000e+06</td>\n",
       "      <td>0.000000</td>\n",
       "      <td>24.000000</td>\n",
       "      <td>3.000000</td>\n",
       "      <td>0.000000</td>\n",
       "      <td>2.000000</td>\n",
       "      <td>0.000000</td>\n",
       "      <td>2.000000</td>\n",
       "      <td>...</td>\n",
       "      <td>0.000000</td>\n",
       "      <td>0.000000</td>\n",
       "      <td>0.000000</td>\n",
       "      <td>0.000000</td>\n",
       "      <td>0.000000</td>\n",
       "      <td>0.000000</td>\n",
       "      <td>0.000000</td>\n",
       "      <td>0.000000</td>\n",
       "      <td>0.000000</td>\n",
       "      <td>334.500000</td>\n",
       "    </tr>\n",
       "    <tr>\n",
       "      <th>50%</th>\n",
       "      <td>126.000000</td>\n",
       "      <td>2014.000000</td>\n",
       "      <td>1.380000e+07</td>\n",
       "      <td>0.000000</td>\n",
       "      <td>27.000000</td>\n",
       "      <td>9.000000</td>\n",
       "      <td>6.000000</td>\n",
       "      <td>38.500000</td>\n",
       "      <td>11.500000</td>\n",
       "      <td>21.000000</td>\n",
       "      <td>...</td>\n",
       "      <td>0.000000</td>\n",
       "      <td>6.870000</td>\n",
       "      <td>0.000000</td>\n",
       "      <td>0.000000</td>\n",
       "      <td>0.000000</td>\n",
       "      <td>0.000000</td>\n",
       "      <td>0.000000</td>\n",
       "      <td>1.000000</td>\n",
       "      <td>1.000000</td>\n",
       "      <td>1036.500000</td>\n",
       "    </tr>\n",
       "    <tr>\n",
       "      <th>75%</th>\n",
       "      <td>193.000000</td>\n",
       "      <td>2016.000000</td>\n",
       "      <td>3.700000e+07</td>\n",
       "      <td>1.000000</td>\n",
       "      <td>30.000000</td>\n",
       "      <td>14.000000</td>\n",
       "      <td>14.000000</td>\n",
       "      <td>205.250000</td>\n",
       "      <td>159.250000</td>\n",
       "      <td>56.000000</td>\n",
       "      <td>...</td>\n",
       "      <td>5.000000</td>\n",
       "      <td>8.315000</td>\n",
       "      <td>7.722500</td>\n",
       "      <td>0.000000</td>\n",
       "      <td>0.000000</td>\n",
       "      <td>0.000000</td>\n",
       "      <td>0.000000</td>\n",
       "      <td>1.000000</td>\n",
       "      <td>1.000000</td>\n",
       "      <td>3008.500000</td>\n",
       "    </tr>\n",
       "    <tr>\n",
       "      <th>max</th>\n",
       "      <td>254.000000</td>\n",
       "      <td>2017.000000</td>\n",
       "      <td>1.600000e+08</td>\n",
       "      <td>1.000000</td>\n",
       "      <td>45.000000</td>\n",
       "      <td>19.000000</td>\n",
       "      <td>19.000000</td>\n",
       "      <td>973.000000</td>\n",
       "      <td>973.000000</td>\n",
       "      <td>175.000000</td>\n",
       "      <td>...</td>\n",
       "      <td>32.000000</td>\n",
       "      <td>25.000000</td>\n",
       "      <td>25.000000</td>\n",
       "      <td>2.000000</td>\n",
       "      <td>2.000000</td>\n",
       "      <td>2.000000</td>\n",
       "      <td>2.000000</td>\n",
       "      <td>1.000000</td>\n",
       "      <td>1.000000</td>\n",
       "      <td>21068.000000</td>\n",
       "    </tr>\n",
       "  </tbody>\n",
       "</table>\n",
       "<p>8 rows × 38 columns</p>\n",
       "</div>"
      ],
      "text/plain": [
       "                Id         Year   Final Price          Ent          Age  \\\n",
       "count  1108.000000  1108.000000  1.108000e+03  1108.000000  1108.000000   \n",
       "mean    128.925090  2013.642599  2.499991e+07     0.299639    27.344765   \n",
       "std      74.886115     2.650437  3.002749e+07     0.458307     4.434233   \n",
       "min       1.000000  2008.000000  6.000000e+05     0.000000    17.000000   \n",
       "25%      68.000000  2012.000000  3.000000e+06     0.000000    24.000000   \n",
       "50%     126.000000  2014.000000  1.380000e+07     0.000000    27.000000   \n",
       "75%     193.000000  2016.000000  3.700000e+07     1.000000    30.000000   \n",
       "max     254.000000  2017.000000  1.600000e+08     1.000000    45.000000   \n",
       "\n",
       "           Matches     LMatches         Runs        LRuns           HS  ...  \\\n",
       "count  1108.000000  1108.000000  1108.000000  1108.000000  1108.000000  ...   \n",
       "mean      8.703069     7.092960   122.481949   100.869134    31.178700  ...   \n",
       "std       5.641288     6.333649   157.789755   153.175806    32.062701  ...   \n",
       "min       0.000000     0.000000     0.000000     0.000000     0.000000  ...   \n",
       "25%       3.000000     0.000000     2.000000     0.000000     2.000000  ...   \n",
       "50%       9.000000     6.000000    38.500000    11.500000    21.000000  ...   \n",
       "75%      14.000000    14.000000   205.250000   159.250000    56.000000  ...   \n",
       "max      19.000000    19.000000   973.000000   973.000000   175.000000  ...   \n",
       "\n",
       "             LWkts         Econ        LEcon     FourWkts    LFourWkts  \\\n",
       "count  1108.000000  1108.000000  1108.000000  1108.000000  1108.000000   \n",
       "mean      3.368231     5.079729     3.760632     0.060469     0.052347   \n",
       "std       5.770510     4.414907     4.305346     0.249568     0.234673   \n",
       "min       0.000000     0.000000     0.000000     0.000000     0.000000   \n",
       "25%       0.000000     0.000000     0.000000     0.000000     0.000000   \n",
       "50%       0.000000     6.870000     0.000000     0.000000     0.000000   \n",
       "75%       5.000000     8.315000     7.722500     0.000000     0.000000   \n",
       "max      32.000000    25.000000    25.000000     2.000000     2.000000   \n",
       "\n",
       "          FiveWkts    LFiveWkts       Indian   Specialist        Status  \n",
       "count  1108.000000  1108.000000  1108.000000  1108.000000   1108.000000  \n",
       "mean      0.011733     0.008123     0.648917     0.711191   2227.456679  \n",
       "std       0.115812     0.099352     0.477524     0.453413   2961.907353  \n",
       "min       0.000000     0.000000     0.000000     0.000000      1.000000  \n",
       "25%       0.000000     0.000000     0.000000     0.000000    334.500000  \n",
       "50%       0.000000     0.000000     1.000000     1.000000   1036.500000  \n",
       "75%       0.000000     0.000000     1.000000     1.000000   3008.500000  \n",
       "max       2.000000     2.000000     1.000000     1.000000  21068.000000  \n",
       "\n",
       "[8 rows x 38 columns]"
      ]
     },
     "execution_count": 33,
     "metadata": {},
     "output_type": "execute_result"
    }
   ],
   "source": [
    "df.describe()"
   ]
  },
  {
   "cell_type": "code",
   "execution_count": 34,
   "id": "45b57987",
   "metadata": {},
   "outputs": [
    {
     "name": "stdout",
     "output_type": "stream",
     "text": [
      "<class 'pandas.core.frame.DataFrame'>\n",
      "RangeIndex: 1108 entries, 0 to 1107\n",
      "Data columns (total 42 columns):\n",
      " #   Column       Non-Null Count  Dtype  \n",
      "---  ------       --------------  -----  \n",
      " 0   Id           1108 non-null   int64  \n",
      " 1   Name         1108 non-null   object \n",
      " 2   Year         1108 non-null   int64  \n",
      " 3   Final Price  1108 non-null   int64  \n",
      " 4   Role         1108 non-null   object \n",
      " 5   Nationality  1108 non-null   object \n",
      " 6   Team         1108 non-null   object \n",
      " 7   Ent          1108 non-null   int64  \n",
      " 8   Age          1108 non-null   int64  \n",
      " 9   Matches      1108 non-null   int64  \n",
      " 10  LMatches     1108 non-null   int64  \n",
      " 11  Runs         1108 non-null   int64  \n",
      " 12  LRuns        1108 non-null   int64  \n",
      " 13  HS           1108 non-null   int64  \n",
      " 14  LHS          1108 non-null   int64  \n",
      " 15  Ave          1108 non-null   float64\n",
      " 16  LAve         1108 non-null   float64\n",
      " 17  StrRate      1108 non-null   float64\n",
      " 18  LStrRate     1108 non-null   float64\n",
      " 19  Fifties      1108 non-null   int64  \n",
      " 20  LFifties     1108 non-null   int64  \n",
      " 21  Hundreds     1108 non-null   int64  \n",
      " 22  LHundreds    1108 non-null   int64  \n",
      " 23  Fours        1108 non-null   int64  \n",
      " 24  LFours       1108 non-null   int64  \n",
      " 25  Sixes        1108 non-null   int64  \n",
      " 26  LSixes       1108 non-null   int64  \n",
      " 27  Catches      1108 non-null   int64  \n",
      " 28  LCatches     1108 non-null   int64  \n",
      " 29  Stumps       1108 non-null   int64  \n",
      " 30  LStumps      1108 non-null   int64  \n",
      " 31  Wkts         1108 non-null   int64  \n",
      " 32  LWkts        1108 non-null   int64  \n",
      " 33  Econ         1108 non-null   float64\n",
      " 34  LEcon        1108 non-null   float64\n",
      " 35  FourWkts     1108 non-null   int64  \n",
      " 36  LFourWkts    1108 non-null   int64  \n",
      " 37  FiveWkts     1108 non-null   int64  \n",
      " 38  LFiveWkts    1108 non-null   int64  \n",
      " 39  Indian       1108 non-null   int64  \n",
      " 40  Specialist   1108 non-null   int64  \n",
      " 41  Status       1108 non-null   int64  \n",
      "dtypes: float64(6), int64(32), object(4)\n",
      "memory usage: 363.7+ KB\n"
     ]
    }
   ],
   "source": [
    "df.info()"
   ]
  },
  {
   "cell_type": "code",
   "execution_count": 35,
   "id": "44a42ddd",
   "metadata": {},
   "outputs": [
    {
     "data": {
      "text/plain": [
       "Id             0\n",
       "Name           0\n",
       "Year           0\n",
       "Final Price    0\n",
       "Role           0\n",
       "Nationality    0\n",
       "Team           0\n",
       "Ent            0\n",
       "Age            0\n",
       "Matches        0\n",
       "LMatches       0\n",
       "Runs           0\n",
       "LRuns          0\n",
       "HS             0\n",
       "LHS            0\n",
       "Ave            0\n",
       "LAve           0\n",
       "StrRate        0\n",
       "LStrRate       0\n",
       "Fifties        0\n",
       "LFifties       0\n",
       "Hundreds       0\n",
       "LHundreds      0\n",
       "Fours          0\n",
       "LFours         0\n",
       "Sixes          0\n",
       "LSixes         0\n",
       "Catches        0\n",
       "LCatches       0\n",
       "Stumps         0\n",
       "LStumps        0\n",
       "Wkts           0\n",
       "LWkts          0\n",
       "Econ           0\n",
       "LEcon          0\n",
       "FourWkts       0\n",
       "LFourWkts      0\n",
       "FiveWkts       0\n",
       "LFiveWkts      0\n",
       "Indian         0\n",
       "Specialist     0\n",
       "Status         0\n",
       "dtype: int64"
      ]
     },
     "execution_count": 35,
     "metadata": {},
     "output_type": "execute_result"
    }
   ],
   "source": [
    "df.isnull().sum()"
   ]
  },
  {
   "cell_type": "code",
   "execution_count": 36,
   "id": "4ced991a",
   "metadata": {},
   "outputs": [
    {
     "data": {
      "text/plain": [
       "np.int64(0)"
      ]
     },
     "execution_count": 36,
     "metadata": {},
     "output_type": "execute_result"
    }
   ],
   "source": [
    "df.duplicated().sum()"
   ]
  },
  {
   "cell_type": "code",
   "execution_count": 37,
   "id": "b732586f",
   "metadata": {},
   "outputs": [
    {
     "data": {
      "text/plain": [
       "Index(['Id', 'Name', 'Year', 'Final Price', 'Role', 'Nationality', 'Team',\n",
       "       'Ent', 'Age', 'Matches', 'LMatches', 'Runs', 'LRuns', 'HS', 'LHS',\n",
       "       'Ave', 'LAve', 'StrRate', 'LStrRate', 'Fifties', 'LFifties', 'Hundreds',\n",
       "       'LHundreds', 'Fours', 'LFours', 'Sixes', 'LSixes', 'Catches',\n",
       "       'LCatches', 'Stumps', 'LStumps', 'Wkts', 'LWkts', 'Econ', 'LEcon',\n",
       "       'FourWkts', 'LFourWkts', 'FiveWkts', 'LFiveWkts', 'Indian',\n",
       "       'Specialist', 'Status'],\n",
       "      dtype='object')"
      ]
     },
     "execution_count": 37,
     "metadata": {},
     "output_type": "execute_result"
    }
   ],
   "source": [
    "df.columns"
   ]
  },
  {
   "cell_type": "code",
   "execution_count": 38,
   "id": "5ce6c711",
   "metadata": {},
   "outputs": [
    {
     "name": "stdout",
     "output_type": "stream",
     "text": [
      "Id: 254 unique values\n",
      "Name: 254 unique values\n",
      "Year: 10 unique values\n",
      "Final Price: 205 unique values\n",
      "Role: 9 unique values\n",
      "Nationality: 19 unique values\n",
      "Team: 13 unique values\n",
      "Ent: 2 unique values\n",
      "Age: 29 unique values\n",
      "Matches: 20 unique values\n",
      "LMatches: 20 unique values\n",
      "Runs: 363 unique values\n",
      "LRuns: 322 unique values\n",
      "HS: 122 unique values\n",
      "LHS: 118 unique values\n",
      "Ave: 492 unique values\n",
      "LAve: 411 unique values\n",
      "StrRate: 654 unique values\n",
      "LStrRate: 537 unique values\n",
      "Fifties: 9 unique values\n",
      "LFifties: 9 unique values\n",
      "Hundreds: 4 unique values\n",
      "LHundreds: 4 unique values\n",
      "Fours: 71 unique values\n",
      "LFours: 69 unique values\n",
      "Sixes: 38 unique values\n",
      "LSixes: 38 unique values\n",
      "Catches: 18 unique values\n",
      "LCatches: 18 unique values\n",
      "Stumps: 8 unique values\n",
      "LStumps: 8 unique values\n",
      "Wkts: 29 unique values\n",
      "LWkts: 29 unique values\n",
      "Econ: 349 unique values\n",
      "LEcon: 291 unique values\n",
      "FourWkts: 3 unique values\n",
      "LFourWkts: 3 unique values\n",
      "FiveWkts: 3 unique values\n",
      "LFiveWkts: 3 unique values\n",
      "Indian: 2 unique values\n",
      "Specialist: 2 unique values\n",
      "Status: 938 unique values\n"
     ]
    }
   ],
   "source": [
    "for col in df.columns:\n",
    "    print(f\"{col}: {df[col].nunique()} unique values\")"
   ]
  },
  {
   "cell_type": "code",
   "execution_count": 39,
   "id": "076d3b5a",
   "metadata": {},
   "outputs": [
    {
     "name": "stdout",
     "output_type": "stream",
     "text": [
      "Team\n",
      "MI      155\n",
      "DD      150\n",
      "RCB     138\n",
      "KXIP    129\n",
      "KKR     129\n",
      "CSK      93\n",
      "SRH      89\n",
      "RR       74\n",
      "GL       44\n",
      "RPS      43\n",
      "PWI      33\n",
      "DC       24\n",
      "KTK       7\n",
      "Name: count, dtype: int64\n",
      "Role\n",
      "Bowler                  360\n",
      "Batsman                 309\n",
      "All-rounder             254\n",
      "Wicketkeeper batsman    108\n",
      "All-Rounder              60\n",
      "Bowling All-rounder       6\n",
      "Wicketkeeper              5\n",
      "Wicketkeeper-batsman      5\n",
      "Wicket Keeper             1\n",
      "Name: count, dtype: int64\n"
     ]
    }
   ],
   "source": [
    "# Replace 'Player', 'Team', 'Season', 'Role' with actual column names from your file\n",
    "if 'Player' in df.columns:\n",
    "    print(df['Player'].value_counts().head(10))\n",
    "\n",
    "if 'Team' in df.columns:\n",
    "    print(df['Team'].value_counts())\n",
    "\n",
    "if 'Role' in df.columns:\n",
    "    print(df['Role'].value_counts())"
   ]
  },
  {
   "cell_type": "markdown",
   "id": "22ca9134",
   "metadata": {},
   "source": [
    "#### Top 10 Players by Total Runs"
   ]
  },
  {
   "cell_type": "code",
   "execution_count": 40,
   "id": "460d7bd8",
   "metadata": {},
   "outputs": [
    {
     "data": {
      "application/vnd.plotly.v1+json": {
       "config": {
        "plotlyServerURL": "https://plot.ly"
       },
       "data": [
        {
         "hovertemplate": "Name=%{x}<br>Runs=%{y}<extra></extra>",
         "legendgroup": "",
         "marker": {
          "color": "#636efa",
          "pattern": {
           "shape": ""
          }
         },
         "name": "",
         "orientation": "v",
         "showlegend": false,
         "textposition": "auto",
         "type": "bar",
         "x": [
          "Suresh Raina",
          "Virat Kohli",
          "Rohit Sharma",
          "Gautam Gambhir",
          "David Warner",
          "Robin Uthappa",
          "Chris Gayle",
          "MS Dhoni",
          "Shikhar Dhawan",
          "AB de Villiers"
         ],
         "xaxis": "x",
         "y": {
          "bdata": "vBFCEW8QJBCuD8IOKg7pDekNkQ0=",
          "dtype": "i2"
         },
         "yaxis": "y"
        }
       ],
       "layout": {
        "barmode": "relative",
        "legend": {
         "tracegroupgap": 0
        },
        "template": {
         "data": {
          "bar": [
           {
            "error_x": {
             "color": "#2a3f5f"
            },
            "error_y": {
             "color": "#2a3f5f"
            },
            "marker": {
             "line": {
              "color": "#E5ECF6",
              "width": 0.5
             },
             "pattern": {
              "fillmode": "overlay",
              "size": 10,
              "solidity": 0.2
             }
            },
            "type": "bar"
           }
          ],
          "barpolar": [
           {
            "marker": {
             "line": {
              "color": "#E5ECF6",
              "width": 0.5
             },
             "pattern": {
              "fillmode": "overlay",
              "size": 10,
              "solidity": 0.2
             }
            },
            "type": "barpolar"
           }
          ],
          "carpet": [
           {
            "aaxis": {
             "endlinecolor": "#2a3f5f",
             "gridcolor": "white",
             "linecolor": "white",
             "minorgridcolor": "white",
             "startlinecolor": "#2a3f5f"
            },
            "baxis": {
             "endlinecolor": "#2a3f5f",
             "gridcolor": "white",
             "linecolor": "white",
             "minorgridcolor": "white",
             "startlinecolor": "#2a3f5f"
            },
            "type": "carpet"
           }
          ],
          "choropleth": [
           {
            "colorbar": {
             "outlinewidth": 0,
             "ticks": ""
            },
            "type": "choropleth"
           }
          ],
          "contour": [
           {
            "colorbar": {
             "outlinewidth": 0,
             "ticks": ""
            },
            "colorscale": [
             [
              0,
              "#0d0887"
             ],
             [
              0.1111111111111111,
              "#46039f"
             ],
             [
              0.2222222222222222,
              "#7201a8"
             ],
             [
              0.3333333333333333,
              "#9c179e"
             ],
             [
              0.4444444444444444,
              "#bd3786"
             ],
             [
              0.5555555555555556,
              "#d8576b"
             ],
             [
              0.6666666666666666,
              "#ed7953"
             ],
             [
              0.7777777777777778,
              "#fb9f3a"
             ],
             [
              0.8888888888888888,
              "#fdca26"
             ],
             [
              1,
              "#f0f921"
             ]
            ],
            "type": "contour"
           }
          ],
          "contourcarpet": [
           {
            "colorbar": {
             "outlinewidth": 0,
             "ticks": ""
            },
            "type": "contourcarpet"
           }
          ],
          "heatmap": [
           {
            "colorbar": {
             "outlinewidth": 0,
             "ticks": ""
            },
            "colorscale": [
             [
              0,
              "#0d0887"
             ],
             [
              0.1111111111111111,
              "#46039f"
             ],
             [
              0.2222222222222222,
              "#7201a8"
             ],
             [
              0.3333333333333333,
              "#9c179e"
             ],
             [
              0.4444444444444444,
              "#bd3786"
             ],
             [
              0.5555555555555556,
              "#d8576b"
             ],
             [
              0.6666666666666666,
              "#ed7953"
             ],
             [
              0.7777777777777778,
              "#fb9f3a"
             ],
             [
              0.8888888888888888,
              "#fdca26"
             ],
             [
              1,
              "#f0f921"
             ]
            ],
            "type": "heatmap"
           }
          ],
          "histogram": [
           {
            "marker": {
             "pattern": {
              "fillmode": "overlay",
              "size": 10,
              "solidity": 0.2
             }
            },
            "type": "histogram"
           }
          ],
          "histogram2d": [
           {
            "colorbar": {
             "outlinewidth": 0,
             "ticks": ""
            },
            "colorscale": [
             [
              0,
              "#0d0887"
             ],
             [
              0.1111111111111111,
              "#46039f"
             ],
             [
              0.2222222222222222,
              "#7201a8"
             ],
             [
              0.3333333333333333,
              "#9c179e"
             ],
             [
              0.4444444444444444,
              "#bd3786"
             ],
             [
              0.5555555555555556,
              "#d8576b"
             ],
             [
              0.6666666666666666,
              "#ed7953"
             ],
             [
              0.7777777777777778,
              "#fb9f3a"
             ],
             [
              0.8888888888888888,
              "#fdca26"
             ],
             [
              1,
              "#f0f921"
             ]
            ],
            "type": "histogram2d"
           }
          ],
          "histogram2dcontour": [
           {
            "colorbar": {
             "outlinewidth": 0,
             "ticks": ""
            },
            "colorscale": [
             [
              0,
              "#0d0887"
             ],
             [
              0.1111111111111111,
              "#46039f"
             ],
             [
              0.2222222222222222,
              "#7201a8"
             ],
             [
              0.3333333333333333,
              "#9c179e"
             ],
             [
              0.4444444444444444,
              "#bd3786"
             ],
             [
              0.5555555555555556,
              "#d8576b"
             ],
             [
              0.6666666666666666,
              "#ed7953"
             ],
             [
              0.7777777777777778,
              "#fb9f3a"
             ],
             [
              0.8888888888888888,
              "#fdca26"
             ],
             [
              1,
              "#f0f921"
             ]
            ],
            "type": "histogram2dcontour"
           }
          ],
          "mesh3d": [
           {
            "colorbar": {
             "outlinewidth": 0,
             "ticks": ""
            },
            "type": "mesh3d"
           }
          ],
          "parcoords": [
           {
            "line": {
             "colorbar": {
              "outlinewidth": 0,
              "ticks": ""
             }
            },
            "type": "parcoords"
           }
          ],
          "pie": [
           {
            "automargin": true,
            "type": "pie"
           }
          ],
          "scatter": [
           {
            "fillpattern": {
             "fillmode": "overlay",
             "size": 10,
             "solidity": 0.2
            },
            "type": "scatter"
           }
          ],
          "scatter3d": [
           {
            "line": {
             "colorbar": {
              "outlinewidth": 0,
              "ticks": ""
             }
            },
            "marker": {
             "colorbar": {
              "outlinewidth": 0,
              "ticks": ""
             }
            },
            "type": "scatter3d"
           }
          ],
          "scattercarpet": [
           {
            "marker": {
             "colorbar": {
              "outlinewidth": 0,
              "ticks": ""
             }
            },
            "type": "scattercarpet"
           }
          ],
          "scattergeo": [
           {
            "marker": {
             "colorbar": {
              "outlinewidth": 0,
              "ticks": ""
             }
            },
            "type": "scattergeo"
           }
          ],
          "scattergl": [
           {
            "marker": {
             "colorbar": {
              "outlinewidth": 0,
              "ticks": ""
             }
            },
            "type": "scattergl"
           }
          ],
          "scattermap": [
           {
            "marker": {
             "colorbar": {
              "outlinewidth": 0,
              "ticks": ""
             }
            },
            "type": "scattermap"
           }
          ],
          "scattermapbox": [
           {
            "marker": {
             "colorbar": {
              "outlinewidth": 0,
              "ticks": ""
             }
            },
            "type": "scattermapbox"
           }
          ],
          "scatterpolar": [
           {
            "marker": {
             "colorbar": {
              "outlinewidth": 0,
              "ticks": ""
             }
            },
            "type": "scatterpolar"
           }
          ],
          "scatterpolargl": [
           {
            "marker": {
             "colorbar": {
              "outlinewidth": 0,
              "ticks": ""
             }
            },
            "type": "scatterpolargl"
           }
          ],
          "scatterternary": [
           {
            "marker": {
             "colorbar": {
              "outlinewidth": 0,
              "ticks": ""
             }
            },
            "type": "scatterternary"
           }
          ],
          "surface": [
           {
            "colorbar": {
             "outlinewidth": 0,
             "ticks": ""
            },
            "colorscale": [
             [
              0,
              "#0d0887"
             ],
             [
              0.1111111111111111,
              "#46039f"
             ],
             [
              0.2222222222222222,
              "#7201a8"
             ],
             [
              0.3333333333333333,
              "#9c179e"
             ],
             [
              0.4444444444444444,
              "#bd3786"
             ],
             [
              0.5555555555555556,
              "#d8576b"
             ],
             [
              0.6666666666666666,
              "#ed7953"
             ],
             [
              0.7777777777777778,
              "#fb9f3a"
             ],
             [
              0.8888888888888888,
              "#fdca26"
             ],
             [
              1,
              "#f0f921"
             ]
            ],
            "type": "surface"
           }
          ],
          "table": [
           {
            "cells": {
             "fill": {
              "color": "#EBF0F8"
             },
             "line": {
              "color": "white"
             }
            },
            "header": {
             "fill": {
              "color": "#C8D4E3"
             },
             "line": {
              "color": "white"
             }
            },
            "type": "table"
           }
          ]
         },
         "layout": {
          "annotationdefaults": {
           "arrowcolor": "#2a3f5f",
           "arrowhead": 0,
           "arrowwidth": 1
          },
          "autotypenumbers": "strict",
          "coloraxis": {
           "colorbar": {
            "outlinewidth": 0,
            "ticks": ""
           }
          },
          "colorscale": {
           "diverging": [
            [
             0,
             "#8e0152"
            ],
            [
             0.1,
             "#c51b7d"
            ],
            [
             0.2,
             "#de77ae"
            ],
            [
             0.3,
             "#f1b6da"
            ],
            [
             0.4,
             "#fde0ef"
            ],
            [
             0.5,
             "#f7f7f7"
            ],
            [
             0.6,
             "#e6f5d0"
            ],
            [
             0.7,
             "#b8e186"
            ],
            [
             0.8,
             "#7fbc41"
            ],
            [
             0.9,
             "#4d9221"
            ],
            [
             1,
             "#276419"
            ]
           ],
           "sequential": [
            [
             0,
             "#0d0887"
            ],
            [
             0.1111111111111111,
             "#46039f"
            ],
            [
             0.2222222222222222,
             "#7201a8"
            ],
            [
             0.3333333333333333,
             "#9c179e"
            ],
            [
             0.4444444444444444,
             "#bd3786"
            ],
            [
             0.5555555555555556,
             "#d8576b"
            ],
            [
             0.6666666666666666,
             "#ed7953"
            ],
            [
             0.7777777777777778,
             "#fb9f3a"
            ],
            [
             0.8888888888888888,
             "#fdca26"
            ],
            [
             1,
             "#f0f921"
            ]
           ],
           "sequentialminus": [
            [
             0,
             "#0d0887"
            ],
            [
             0.1111111111111111,
             "#46039f"
            ],
            [
             0.2222222222222222,
             "#7201a8"
            ],
            [
             0.3333333333333333,
             "#9c179e"
            ],
            [
             0.4444444444444444,
             "#bd3786"
            ],
            [
             0.5555555555555556,
             "#d8576b"
            ],
            [
             0.6666666666666666,
             "#ed7953"
            ],
            [
             0.7777777777777778,
             "#fb9f3a"
            ],
            [
             0.8888888888888888,
             "#fdca26"
            ],
            [
             1,
             "#f0f921"
            ]
           ]
          },
          "colorway": [
           "#636efa",
           "#EF553B",
           "#00cc96",
           "#ab63fa",
           "#FFA15A",
           "#19d3f3",
           "#FF6692",
           "#B6E880",
           "#FF97FF",
           "#FECB52"
          ],
          "font": {
           "color": "#2a3f5f"
          },
          "geo": {
           "bgcolor": "white",
           "lakecolor": "white",
           "landcolor": "#E5ECF6",
           "showlakes": true,
           "showland": true,
           "subunitcolor": "white"
          },
          "hoverlabel": {
           "align": "left"
          },
          "hovermode": "closest",
          "mapbox": {
           "style": "light"
          },
          "paper_bgcolor": "white",
          "plot_bgcolor": "#E5ECF6",
          "polar": {
           "angularaxis": {
            "gridcolor": "white",
            "linecolor": "white",
            "ticks": ""
           },
           "bgcolor": "#E5ECF6",
           "radialaxis": {
            "gridcolor": "white",
            "linecolor": "white",
            "ticks": ""
           }
          },
          "scene": {
           "xaxis": {
            "backgroundcolor": "#E5ECF6",
            "gridcolor": "white",
            "gridwidth": 2,
            "linecolor": "white",
            "showbackground": true,
            "ticks": "",
            "zerolinecolor": "white"
           },
           "yaxis": {
            "backgroundcolor": "#E5ECF6",
            "gridcolor": "white",
            "gridwidth": 2,
            "linecolor": "white",
            "showbackground": true,
            "ticks": "",
            "zerolinecolor": "white"
           },
           "zaxis": {
            "backgroundcolor": "#E5ECF6",
            "gridcolor": "white",
            "gridwidth": 2,
            "linecolor": "white",
            "showbackground": true,
            "ticks": "",
            "zerolinecolor": "white"
           }
          },
          "shapedefaults": {
           "line": {
            "color": "#2a3f5f"
           }
          },
          "ternary": {
           "aaxis": {
            "gridcolor": "white",
            "linecolor": "white",
            "ticks": ""
           },
           "baxis": {
            "gridcolor": "white",
            "linecolor": "white",
            "ticks": ""
           },
           "bgcolor": "#E5ECF6",
           "caxis": {
            "gridcolor": "white",
            "linecolor": "white",
            "ticks": ""
           }
          },
          "title": {
           "x": 0.05
          },
          "xaxis": {
           "automargin": true,
           "gridcolor": "white",
           "linecolor": "white",
           "ticks": "",
           "title": {
            "standoff": 15
           },
           "zerolinecolor": "white",
           "zerolinewidth": 2
          },
          "yaxis": {
           "automargin": true,
           "gridcolor": "white",
           "linecolor": "white",
           "ticks": "",
           "title": {
            "standoff": 15
           },
           "zerolinecolor": "white",
           "zerolinewidth": 2
          }
         }
        },
        "title": {
         "text": "Top 10 Players by Total Runs"
        },
        "xaxis": {
         "anchor": "y",
         "domain": [
          0,
          1
         ],
         "title": {
          "text": "Name"
         }
        },
        "yaxis": {
         "anchor": "x",
         "domain": [
          0,
          1
         ],
         "title": {
          "text": "Runs"
         }
        }
       }
      }
     },
     "metadata": {},
     "output_type": "display_data"
    }
   ],
   "source": [
    "if 'Name' in df.columns and 'Runs' in df.columns:\n",
    "    top_runs = df.groupby('Name')['Runs'].sum().sort_values(ascending=False).head(10).reset_index()\n",
    "    fig = px.bar(top_runs, x='Name', y='Runs', title='Top 10 Players by Total Runs')\n",
    "    fig.show()"
   ]
  },
  {
   "cell_type": "markdown",
   "id": "4404d7b6",
   "metadata": {},
   "source": [
    "#### Top 10 Players by Total Wickets"
   ]
  },
  {
   "cell_type": "code",
   "execution_count": 41,
   "id": "9d73e775",
   "metadata": {},
   "outputs": [
    {
     "data": {
      "application/vnd.plotly.v1+json": {
       "config": {
        "plotlyServerURL": "https://plot.ly"
       },
       "data": [
        {
         "hovertemplate": "Name=%{x}<br>Wkts=%{y}<extra></extra>",
         "legendgroup": "",
         "marker": {
          "color": "#636efa",
          "pattern": {
           "shape": ""
          }
         },
         "name": "",
         "orientation": "v",
         "showlegend": false,
         "textposition": "auto",
         "type": "bar",
         "x": [
          "Lasith Malinga",
          "Amit Mishra",
          "Harbhajan Singh",
          "Piyush Chawla",
          "Bhuvneshwar Kumar",
          "Ashish Nehra",
          "Dwayne Bravo",
          "Vinay Kumar",
          "Zaheer Khan",
          "Sunil Narine"
         ],
         "xaxis": "x",
         "y": {
          "bdata": "mgCGAH8AfgBvAGoAaQBnAGYAXwA=",
          "dtype": "i2"
         },
         "yaxis": "y"
        }
       ],
       "layout": {
        "barmode": "relative",
        "legend": {
         "tracegroupgap": 0
        },
        "template": {
         "data": {
          "bar": [
           {
            "error_x": {
             "color": "#2a3f5f"
            },
            "error_y": {
             "color": "#2a3f5f"
            },
            "marker": {
             "line": {
              "color": "#E5ECF6",
              "width": 0.5
             },
             "pattern": {
              "fillmode": "overlay",
              "size": 10,
              "solidity": 0.2
             }
            },
            "type": "bar"
           }
          ],
          "barpolar": [
           {
            "marker": {
             "line": {
              "color": "#E5ECF6",
              "width": 0.5
             },
             "pattern": {
              "fillmode": "overlay",
              "size": 10,
              "solidity": 0.2
             }
            },
            "type": "barpolar"
           }
          ],
          "carpet": [
           {
            "aaxis": {
             "endlinecolor": "#2a3f5f",
             "gridcolor": "white",
             "linecolor": "white",
             "minorgridcolor": "white",
             "startlinecolor": "#2a3f5f"
            },
            "baxis": {
             "endlinecolor": "#2a3f5f",
             "gridcolor": "white",
             "linecolor": "white",
             "minorgridcolor": "white",
             "startlinecolor": "#2a3f5f"
            },
            "type": "carpet"
           }
          ],
          "choropleth": [
           {
            "colorbar": {
             "outlinewidth": 0,
             "ticks": ""
            },
            "type": "choropleth"
           }
          ],
          "contour": [
           {
            "colorbar": {
             "outlinewidth": 0,
             "ticks": ""
            },
            "colorscale": [
             [
              0,
              "#0d0887"
             ],
             [
              0.1111111111111111,
              "#46039f"
             ],
             [
              0.2222222222222222,
              "#7201a8"
             ],
             [
              0.3333333333333333,
              "#9c179e"
             ],
             [
              0.4444444444444444,
              "#bd3786"
             ],
             [
              0.5555555555555556,
              "#d8576b"
             ],
             [
              0.6666666666666666,
              "#ed7953"
             ],
             [
              0.7777777777777778,
              "#fb9f3a"
             ],
             [
              0.8888888888888888,
              "#fdca26"
             ],
             [
              1,
              "#f0f921"
             ]
            ],
            "type": "contour"
           }
          ],
          "contourcarpet": [
           {
            "colorbar": {
             "outlinewidth": 0,
             "ticks": ""
            },
            "type": "contourcarpet"
           }
          ],
          "heatmap": [
           {
            "colorbar": {
             "outlinewidth": 0,
             "ticks": ""
            },
            "colorscale": [
             [
              0,
              "#0d0887"
             ],
             [
              0.1111111111111111,
              "#46039f"
             ],
             [
              0.2222222222222222,
              "#7201a8"
             ],
             [
              0.3333333333333333,
              "#9c179e"
             ],
             [
              0.4444444444444444,
              "#bd3786"
             ],
             [
              0.5555555555555556,
              "#d8576b"
             ],
             [
              0.6666666666666666,
              "#ed7953"
             ],
             [
              0.7777777777777778,
              "#fb9f3a"
             ],
             [
              0.8888888888888888,
              "#fdca26"
             ],
             [
              1,
              "#f0f921"
             ]
            ],
            "type": "heatmap"
           }
          ],
          "histogram": [
           {
            "marker": {
             "pattern": {
              "fillmode": "overlay",
              "size": 10,
              "solidity": 0.2
             }
            },
            "type": "histogram"
           }
          ],
          "histogram2d": [
           {
            "colorbar": {
             "outlinewidth": 0,
             "ticks": ""
            },
            "colorscale": [
             [
              0,
              "#0d0887"
             ],
             [
              0.1111111111111111,
              "#46039f"
             ],
             [
              0.2222222222222222,
              "#7201a8"
             ],
             [
              0.3333333333333333,
              "#9c179e"
             ],
             [
              0.4444444444444444,
              "#bd3786"
             ],
             [
              0.5555555555555556,
              "#d8576b"
             ],
             [
              0.6666666666666666,
              "#ed7953"
             ],
             [
              0.7777777777777778,
              "#fb9f3a"
             ],
             [
              0.8888888888888888,
              "#fdca26"
             ],
             [
              1,
              "#f0f921"
             ]
            ],
            "type": "histogram2d"
           }
          ],
          "histogram2dcontour": [
           {
            "colorbar": {
             "outlinewidth": 0,
             "ticks": ""
            },
            "colorscale": [
             [
              0,
              "#0d0887"
             ],
             [
              0.1111111111111111,
              "#46039f"
             ],
             [
              0.2222222222222222,
              "#7201a8"
             ],
             [
              0.3333333333333333,
              "#9c179e"
             ],
             [
              0.4444444444444444,
              "#bd3786"
             ],
             [
              0.5555555555555556,
              "#d8576b"
             ],
             [
              0.6666666666666666,
              "#ed7953"
             ],
             [
              0.7777777777777778,
              "#fb9f3a"
             ],
             [
              0.8888888888888888,
              "#fdca26"
             ],
             [
              1,
              "#f0f921"
             ]
            ],
            "type": "histogram2dcontour"
           }
          ],
          "mesh3d": [
           {
            "colorbar": {
             "outlinewidth": 0,
             "ticks": ""
            },
            "type": "mesh3d"
           }
          ],
          "parcoords": [
           {
            "line": {
             "colorbar": {
              "outlinewidth": 0,
              "ticks": ""
             }
            },
            "type": "parcoords"
           }
          ],
          "pie": [
           {
            "automargin": true,
            "type": "pie"
           }
          ],
          "scatter": [
           {
            "fillpattern": {
             "fillmode": "overlay",
             "size": 10,
             "solidity": 0.2
            },
            "type": "scatter"
           }
          ],
          "scatter3d": [
           {
            "line": {
             "colorbar": {
              "outlinewidth": 0,
              "ticks": ""
             }
            },
            "marker": {
             "colorbar": {
              "outlinewidth": 0,
              "ticks": ""
             }
            },
            "type": "scatter3d"
           }
          ],
          "scattercarpet": [
           {
            "marker": {
             "colorbar": {
              "outlinewidth": 0,
              "ticks": ""
             }
            },
            "type": "scattercarpet"
           }
          ],
          "scattergeo": [
           {
            "marker": {
             "colorbar": {
              "outlinewidth": 0,
              "ticks": ""
             }
            },
            "type": "scattergeo"
           }
          ],
          "scattergl": [
           {
            "marker": {
             "colorbar": {
              "outlinewidth": 0,
              "ticks": ""
             }
            },
            "type": "scattergl"
           }
          ],
          "scattermap": [
           {
            "marker": {
             "colorbar": {
              "outlinewidth": 0,
              "ticks": ""
             }
            },
            "type": "scattermap"
           }
          ],
          "scattermapbox": [
           {
            "marker": {
             "colorbar": {
              "outlinewidth": 0,
              "ticks": ""
             }
            },
            "type": "scattermapbox"
           }
          ],
          "scatterpolar": [
           {
            "marker": {
             "colorbar": {
              "outlinewidth": 0,
              "ticks": ""
             }
            },
            "type": "scatterpolar"
           }
          ],
          "scatterpolargl": [
           {
            "marker": {
             "colorbar": {
              "outlinewidth": 0,
              "ticks": ""
             }
            },
            "type": "scatterpolargl"
           }
          ],
          "scatterternary": [
           {
            "marker": {
             "colorbar": {
              "outlinewidth": 0,
              "ticks": ""
             }
            },
            "type": "scatterternary"
           }
          ],
          "surface": [
           {
            "colorbar": {
             "outlinewidth": 0,
             "ticks": ""
            },
            "colorscale": [
             [
              0,
              "#0d0887"
             ],
             [
              0.1111111111111111,
              "#46039f"
             ],
             [
              0.2222222222222222,
              "#7201a8"
             ],
             [
              0.3333333333333333,
              "#9c179e"
             ],
             [
              0.4444444444444444,
              "#bd3786"
             ],
             [
              0.5555555555555556,
              "#d8576b"
             ],
             [
              0.6666666666666666,
              "#ed7953"
             ],
             [
              0.7777777777777778,
              "#fb9f3a"
             ],
             [
              0.8888888888888888,
              "#fdca26"
             ],
             [
              1,
              "#f0f921"
             ]
            ],
            "type": "surface"
           }
          ],
          "table": [
           {
            "cells": {
             "fill": {
              "color": "#EBF0F8"
             },
             "line": {
              "color": "white"
             }
            },
            "header": {
             "fill": {
              "color": "#C8D4E3"
             },
             "line": {
              "color": "white"
             }
            },
            "type": "table"
           }
          ]
         },
         "layout": {
          "annotationdefaults": {
           "arrowcolor": "#2a3f5f",
           "arrowhead": 0,
           "arrowwidth": 1
          },
          "autotypenumbers": "strict",
          "coloraxis": {
           "colorbar": {
            "outlinewidth": 0,
            "ticks": ""
           }
          },
          "colorscale": {
           "diverging": [
            [
             0,
             "#8e0152"
            ],
            [
             0.1,
             "#c51b7d"
            ],
            [
             0.2,
             "#de77ae"
            ],
            [
             0.3,
             "#f1b6da"
            ],
            [
             0.4,
             "#fde0ef"
            ],
            [
             0.5,
             "#f7f7f7"
            ],
            [
             0.6,
             "#e6f5d0"
            ],
            [
             0.7,
             "#b8e186"
            ],
            [
             0.8,
             "#7fbc41"
            ],
            [
             0.9,
             "#4d9221"
            ],
            [
             1,
             "#276419"
            ]
           ],
           "sequential": [
            [
             0,
             "#0d0887"
            ],
            [
             0.1111111111111111,
             "#46039f"
            ],
            [
             0.2222222222222222,
             "#7201a8"
            ],
            [
             0.3333333333333333,
             "#9c179e"
            ],
            [
             0.4444444444444444,
             "#bd3786"
            ],
            [
             0.5555555555555556,
             "#d8576b"
            ],
            [
             0.6666666666666666,
             "#ed7953"
            ],
            [
             0.7777777777777778,
             "#fb9f3a"
            ],
            [
             0.8888888888888888,
             "#fdca26"
            ],
            [
             1,
             "#f0f921"
            ]
           ],
           "sequentialminus": [
            [
             0,
             "#0d0887"
            ],
            [
             0.1111111111111111,
             "#46039f"
            ],
            [
             0.2222222222222222,
             "#7201a8"
            ],
            [
             0.3333333333333333,
             "#9c179e"
            ],
            [
             0.4444444444444444,
             "#bd3786"
            ],
            [
             0.5555555555555556,
             "#d8576b"
            ],
            [
             0.6666666666666666,
             "#ed7953"
            ],
            [
             0.7777777777777778,
             "#fb9f3a"
            ],
            [
             0.8888888888888888,
             "#fdca26"
            ],
            [
             1,
             "#f0f921"
            ]
           ]
          },
          "colorway": [
           "#636efa",
           "#EF553B",
           "#00cc96",
           "#ab63fa",
           "#FFA15A",
           "#19d3f3",
           "#FF6692",
           "#B6E880",
           "#FF97FF",
           "#FECB52"
          ],
          "font": {
           "color": "#2a3f5f"
          },
          "geo": {
           "bgcolor": "white",
           "lakecolor": "white",
           "landcolor": "#E5ECF6",
           "showlakes": true,
           "showland": true,
           "subunitcolor": "white"
          },
          "hoverlabel": {
           "align": "left"
          },
          "hovermode": "closest",
          "mapbox": {
           "style": "light"
          },
          "paper_bgcolor": "white",
          "plot_bgcolor": "#E5ECF6",
          "polar": {
           "angularaxis": {
            "gridcolor": "white",
            "linecolor": "white",
            "ticks": ""
           },
           "bgcolor": "#E5ECF6",
           "radialaxis": {
            "gridcolor": "white",
            "linecolor": "white",
            "ticks": ""
           }
          },
          "scene": {
           "xaxis": {
            "backgroundcolor": "#E5ECF6",
            "gridcolor": "white",
            "gridwidth": 2,
            "linecolor": "white",
            "showbackground": true,
            "ticks": "",
            "zerolinecolor": "white"
           },
           "yaxis": {
            "backgroundcolor": "#E5ECF6",
            "gridcolor": "white",
            "gridwidth": 2,
            "linecolor": "white",
            "showbackground": true,
            "ticks": "",
            "zerolinecolor": "white"
           },
           "zaxis": {
            "backgroundcolor": "#E5ECF6",
            "gridcolor": "white",
            "gridwidth": 2,
            "linecolor": "white",
            "showbackground": true,
            "ticks": "",
            "zerolinecolor": "white"
           }
          },
          "shapedefaults": {
           "line": {
            "color": "#2a3f5f"
           }
          },
          "ternary": {
           "aaxis": {
            "gridcolor": "white",
            "linecolor": "white",
            "ticks": ""
           },
           "baxis": {
            "gridcolor": "white",
            "linecolor": "white",
            "ticks": ""
           },
           "bgcolor": "#E5ECF6",
           "caxis": {
            "gridcolor": "white",
            "linecolor": "white",
            "ticks": ""
           }
          },
          "title": {
           "x": 0.05
          },
          "xaxis": {
           "automargin": true,
           "gridcolor": "white",
           "linecolor": "white",
           "ticks": "",
           "title": {
            "standoff": 15
           },
           "zerolinecolor": "white",
           "zerolinewidth": 2
          },
          "yaxis": {
           "automargin": true,
           "gridcolor": "white",
           "linecolor": "white",
           "ticks": "",
           "title": {
            "standoff": 15
           },
           "zerolinecolor": "white",
           "zerolinewidth": 2
          }
         }
        },
        "title": {
         "text": "Top 10 Names by Total Wkts"
        },
        "xaxis": {
         "anchor": "y",
         "domain": [
          0,
          1
         ],
         "title": {
          "text": "Name"
         }
        },
        "yaxis": {
         "anchor": "x",
         "domain": [
          0,
          1
         ],
         "title": {
          "text": "Wkts"
         }
        }
       }
      }
     },
     "metadata": {},
     "output_type": "display_data"
    }
   ],
   "source": [
    "if 'Name' in df.columns and 'Wkts' in df.columns:\n",
    "    top_Wkts = df.groupby('Name')['Wkts'].sum().sort_values(ascending=False).head(10).reset_index()\n",
    "    fig = px.bar(top_Wkts, x='Name', y='Wkts', title='Top 10 Names by Total Wkts')\n",
    "    fig.show()"
   ]
  },
  {
   "cell_type": "markdown",
   "id": "02a07463",
   "metadata": {},
   "source": [
    "#### Salary Distribution"
   ]
  },
  {
   "cell_type": "code",
   "execution_count": 42,
   "id": "3bdb5d3f",
   "metadata": {},
   "outputs": [
    {
     "data": {
      "application/vnd.plotly.v1+json": {
       "config": {
        "plotlyServerURL": "https://plot.ly"
       },
       "data": [
        {
         "bingroup": "x",
         "hovertemplate": "Final Price=%{x}<br>count=%{y}<extra></extra>",
         "legendgroup": "",
         "marker": {
          "color": "#636efa",
          "pattern": {
           "shape": ""
          }
         },
         "name": "",
         "nbinsx": 30,
         "orientation": "v",
         "showlegend": false,
         "type": "histogram",
         "x": {
          "bdata": "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",
          "dtype": "i4"
         },
         "xaxis": "x",
         "yaxis": "y"
        }
       ],
       "layout": {
        "barmode": "relative",
        "legend": {
         "tracegroupgap": 0
        },
        "template": {
         "data": {
          "bar": [
           {
            "error_x": {
             "color": "#2a3f5f"
            },
            "error_y": {
             "color": "#2a3f5f"
            },
            "marker": {
             "line": {
              "color": "#E5ECF6",
              "width": 0.5
             },
             "pattern": {
              "fillmode": "overlay",
              "size": 10,
              "solidity": 0.2
             }
            },
            "type": "bar"
           }
          ],
          "barpolar": [
           {
            "marker": {
             "line": {
              "color": "#E5ECF6",
              "width": 0.5
             },
             "pattern": {
              "fillmode": "overlay",
              "size": 10,
              "solidity": 0.2
             }
            },
            "type": "barpolar"
           }
          ],
          "carpet": [
           {
            "aaxis": {
             "endlinecolor": "#2a3f5f",
             "gridcolor": "white",
             "linecolor": "white",
             "minorgridcolor": "white",
             "startlinecolor": "#2a3f5f"
            },
            "baxis": {
             "endlinecolor": "#2a3f5f",
             "gridcolor": "white",
             "linecolor": "white",
             "minorgridcolor": "white",
             "startlinecolor": "#2a3f5f"
            },
            "type": "carpet"
           }
          ],
          "choropleth": [
           {
            "colorbar": {
             "outlinewidth": 0,
             "ticks": ""
            },
            "type": "choropleth"
           }
          ],
          "contour": [
           {
            "colorbar": {
             "outlinewidth": 0,
             "ticks": ""
            },
            "colorscale": [
             [
              0,
              "#0d0887"
             ],
             [
              0.1111111111111111,
              "#46039f"
             ],
             [
              0.2222222222222222,
              "#7201a8"
             ],
             [
              0.3333333333333333,
              "#9c179e"
             ],
             [
              0.4444444444444444,
              "#bd3786"
             ],
             [
              0.5555555555555556,
              "#d8576b"
             ],
             [
              0.6666666666666666,
              "#ed7953"
             ],
             [
              0.7777777777777778,
              "#fb9f3a"
             ],
             [
              0.8888888888888888,
              "#fdca26"
             ],
             [
              1,
              "#f0f921"
             ]
            ],
            "type": "contour"
           }
          ],
          "contourcarpet": [
           {
            "colorbar": {
             "outlinewidth": 0,
             "ticks": ""
            },
            "type": "contourcarpet"
           }
          ],
          "heatmap": [
           {
            "colorbar": {
             "outlinewidth": 0,
             "ticks": ""
            },
            "colorscale": [
             [
              0,
              "#0d0887"
             ],
             [
              0.1111111111111111,
              "#46039f"
             ],
             [
              0.2222222222222222,
              "#7201a8"
             ],
             [
              0.3333333333333333,
              "#9c179e"
             ],
             [
              0.4444444444444444,
              "#bd3786"
             ],
             [
              0.5555555555555556,
              "#d8576b"
             ],
             [
              0.6666666666666666,
              "#ed7953"
             ],
             [
              0.7777777777777778,
              "#fb9f3a"
             ],
             [
              0.8888888888888888,
              "#fdca26"
             ],
             [
              1,
              "#f0f921"
             ]
            ],
            "type": "heatmap"
           }
          ],
          "histogram": [
           {
            "marker": {
             "pattern": {
              "fillmode": "overlay",
              "size": 10,
              "solidity": 0.2
             }
            },
            "type": "histogram"
           }
          ],
          "histogram2d": [
           {
            "colorbar": {
             "outlinewidth": 0,
             "ticks": ""
            },
            "colorscale": [
             [
              0,
              "#0d0887"
             ],
             [
              0.1111111111111111,
              "#46039f"
             ],
             [
              0.2222222222222222,
              "#7201a8"
             ],
             [
              0.3333333333333333,
              "#9c179e"
             ],
             [
              0.4444444444444444,
              "#bd3786"
             ],
             [
              0.5555555555555556,
              "#d8576b"
             ],
             [
              0.6666666666666666,
              "#ed7953"
             ],
             [
              0.7777777777777778,
              "#fb9f3a"
             ],
             [
              0.8888888888888888,
              "#fdca26"
             ],
             [
              1,
              "#f0f921"
             ]
            ],
            "type": "histogram2d"
           }
          ],
          "histogram2dcontour": [
           {
            "colorbar": {
             "outlinewidth": 0,
             "ticks": ""
            },
            "colorscale": [
             [
              0,
              "#0d0887"
             ],
             [
              0.1111111111111111,
              "#46039f"
             ],
             [
              0.2222222222222222,
              "#7201a8"
             ],
             [
              0.3333333333333333,
              "#9c179e"
             ],
             [
              0.4444444444444444,
              "#bd3786"
             ],
             [
              0.5555555555555556,
              "#d8576b"
             ],
             [
              0.6666666666666666,
              "#ed7953"
             ],
             [
              0.7777777777777778,
              "#fb9f3a"
             ],
             [
              0.8888888888888888,
              "#fdca26"
             ],
             [
              1,
              "#f0f921"
             ]
            ],
            "type": "histogram2dcontour"
           }
          ],
          "mesh3d": [
           {
            "colorbar": {
             "outlinewidth": 0,
             "ticks": ""
            },
            "type": "mesh3d"
           }
          ],
          "parcoords": [
           {
            "line": {
             "colorbar": {
              "outlinewidth": 0,
              "ticks": ""
             }
            },
            "type": "parcoords"
           }
          ],
          "pie": [
           {
            "automargin": true,
            "type": "pie"
           }
          ],
          "scatter": [
           {
            "fillpattern": {
             "fillmode": "overlay",
             "size": 10,
             "solidity": 0.2
            },
            "type": "scatter"
           }
          ],
          "scatter3d": [
           {
            "line": {
             "colorbar": {
              "outlinewidth": 0,
              "ticks": ""
             }
            },
            "marker": {
             "colorbar": {
              "outlinewidth": 0,
              "ticks": ""
             }
            },
            "type": "scatter3d"
           }
          ],
          "scattercarpet": [
           {
            "marker": {
             "colorbar": {
              "outlinewidth": 0,
              "ticks": ""
             }
            },
            "type": "scattercarpet"
           }
          ],
          "scattergeo": [
           {
            "marker": {
             "colorbar": {
              "outlinewidth": 0,
              "ticks": ""
             }
            },
            "type": "scattergeo"
           }
          ],
          "scattergl": [
           {
            "marker": {
             "colorbar": {
              "outlinewidth": 0,
              "ticks": ""
             }
            },
            "type": "scattergl"
           }
          ],
          "scattermap": [
           {
            "marker": {
             "colorbar": {
              "outlinewidth": 0,
              "ticks": ""
             }
            },
            "type": "scattermap"
           }
          ],
          "scattermapbox": [
           {
            "marker": {
             "colorbar": {
              "outlinewidth": 0,
              "ticks": ""
             }
            },
            "type": "scattermapbox"
           }
          ],
          "scatterpolar": [
           {
            "marker": {
             "colorbar": {
              "outlinewidth": 0,
              "ticks": ""
             }
            },
            "type": "scatterpolar"
           }
          ],
          "scatterpolargl": [
           {
            "marker": {
             "colorbar": {
              "outlinewidth": 0,
              "ticks": ""
             }
            },
            "type": "scatterpolargl"
           }
          ],
          "scatterternary": [
           {
            "marker": {
             "colorbar": {
              "outlinewidth": 0,
              "ticks": ""
             }
            },
            "type": "scatterternary"
           }
          ],
          "surface": [
           {
            "colorbar": {
             "outlinewidth": 0,
             "ticks": ""
            },
            "colorscale": [
             [
              0,
              "#0d0887"
             ],
             [
              0.1111111111111111,
              "#46039f"
             ],
             [
              0.2222222222222222,
              "#7201a8"
             ],
             [
              0.3333333333333333,
              "#9c179e"
             ],
             [
              0.4444444444444444,
              "#bd3786"
             ],
             [
              0.5555555555555556,
              "#d8576b"
             ],
             [
              0.6666666666666666,
              "#ed7953"
             ],
             [
              0.7777777777777778,
              "#fb9f3a"
             ],
             [
              0.8888888888888888,
              "#fdca26"
             ],
             [
              1,
              "#f0f921"
             ]
            ],
            "type": "surface"
           }
          ],
          "table": [
           {
            "cells": {
             "fill": {
              "color": "#EBF0F8"
             },
             "line": {
              "color": "white"
             }
            },
            "header": {
             "fill": {
              "color": "#C8D4E3"
             },
             "line": {
              "color": "white"
             }
            },
            "type": "table"
           }
          ]
         },
         "layout": {
          "annotationdefaults": {
           "arrowcolor": "#2a3f5f",
           "arrowhead": 0,
           "arrowwidth": 1
          },
          "autotypenumbers": "strict",
          "coloraxis": {
           "colorbar": {
            "outlinewidth": 0,
            "ticks": ""
           }
          },
          "colorscale": {
           "diverging": [
            [
             0,
             "#8e0152"
            ],
            [
             0.1,
             "#c51b7d"
            ],
            [
             0.2,
             "#de77ae"
            ],
            [
             0.3,
             "#f1b6da"
            ],
            [
             0.4,
             "#fde0ef"
            ],
            [
             0.5,
             "#f7f7f7"
            ],
            [
             0.6,
             "#e6f5d0"
            ],
            [
             0.7,
             "#b8e186"
            ],
            [
             0.8,
             "#7fbc41"
            ],
            [
             0.9,
             "#4d9221"
            ],
            [
             1,
             "#276419"
            ]
           ],
           "sequential": [
            [
             0,
             "#0d0887"
            ],
            [
             0.1111111111111111,
             "#46039f"
            ],
            [
             0.2222222222222222,
             "#7201a8"
            ],
            [
             0.3333333333333333,
             "#9c179e"
            ],
            [
             0.4444444444444444,
             "#bd3786"
            ],
            [
             0.5555555555555556,
             "#d8576b"
            ],
            [
             0.6666666666666666,
             "#ed7953"
            ],
            [
             0.7777777777777778,
             "#fb9f3a"
            ],
            [
             0.8888888888888888,
             "#fdca26"
            ],
            [
             1,
             "#f0f921"
            ]
           ],
           "sequentialminus": [
            [
             0,
             "#0d0887"
            ],
            [
             0.1111111111111111,
             "#46039f"
            ],
            [
             0.2222222222222222,
             "#7201a8"
            ],
            [
             0.3333333333333333,
             "#9c179e"
            ],
            [
             0.4444444444444444,
             "#bd3786"
            ],
            [
             0.5555555555555556,
             "#d8576b"
            ],
            [
             0.6666666666666666,
             "#ed7953"
            ],
            [
             0.7777777777777778,
             "#fb9f3a"
            ],
            [
             0.8888888888888888,
             "#fdca26"
            ],
            [
             1,
             "#f0f921"
            ]
           ]
          },
          "colorway": [
           "#636efa",
           "#EF553B",
           "#00cc96",
           "#ab63fa",
           "#FFA15A",
           "#19d3f3",
           "#FF6692",
           "#B6E880",
           "#FF97FF",
           "#FECB52"
          ],
          "font": {
           "color": "#2a3f5f"
          },
          "geo": {
           "bgcolor": "white",
           "lakecolor": "white",
           "landcolor": "#E5ECF6",
           "showlakes": true,
           "showland": true,
           "subunitcolor": "white"
          },
          "hoverlabel": {
           "align": "left"
          },
          "hovermode": "closest",
          "mapbox": {
           "style": "light"
          },
          "paper_bgcolor": "white",
          "plot_bgcolor": "#E5ECF6",
          "polar": {
           "angularaxis": {
            "gridcolor": "white",
            "linecolor": "white",
            "ticks": ""
           },
           "bgcolor": "#E5ECF6",
           "radialaxis": {
            "gridcolor": "white",
            "linecolor": "white",
            "ticks": ""
           }
          },
          "scene": {
           "xaxis": {
            "backgroundcolor": "#E5ECF6",
            "gridcolor": "white",
            "gridwidth": 2,
            "linecolor": "white",
            "showbackground": true,
            "ticks": "",
            "zerolinecolor": "white"
           },
           "yaxis": {
            "backgroundcolor": "#E5ECF6",
            "gridcolor": "white",
            "gridwidth": 2,
            "linecolor": "white",
            "showbackground": true,
            "ticks": "",
            "zerolinecolor": "white"
           },
           "zaxis": {
            "backgroundcolor": "#E5ECF6",
            "gridcolor": "white",
            "gridwidth": 2,
            "linecolor": "white",
            "showbackground": true,
            "ticks": "",
            "zerolinecolor": "white"
           }
          },
          "shapedefaults": {
           "line": {
            "color": "#2a3f5f"
           }
          },
          "ternary": {
           "aaxis": {
            "gridcolor": "white",
            "linecolor": "white",
            "ticks": ""
           },
           "baxis": {
            "gridcolor": "white",
            "linecolor": "white",
            "ticks": ""
           },
           "bgcolor": "#E5ECF6",
           "caxis": {
            "gridcolor": "white",
            "linecolor": "white",
            "ticks": ""
           }
          },
          "title": {
           "x": 0.05
          },
          "xaxis": {
           "automargin": true,
           "gridcolor": "white",
           "linecolor": "white",
           "ticks": "",
           "title": {
            "standoff": 15
           },
           "zerolinecolor": "white",
           "zerolinewidth": 2
          },
          "yaxis": {
           "automargin": true,
           "gridcolor": "white",
           "linecolor": "white",
           "ticks": "",
           "title": {
            "standoff": 15
           },
           "zerolinecolor": "white",
           "zerolinewidth": 2
          }
         }
        },
        "title": {
         "text": "Final Price Distribution"
        },
        "xaxis": {
         "anchor": "y",
         "domain": [
          0,
          1
         ],
         "title": {
          "text": "Final Price"
         }
        },
        "yaxis": {
         "anchor": "x",
         "domain": [
          0,
          1
         ],
         "title": {
          "text": "count"
         }
        }
       }
      }
     },
     "metadata": {},
     "output_type": "display_data"
    }
   ],
   "source": [
    "if 'Final Price' in df.columns:\n",
    "    fig = px.histogram(df, x='Final Price', nbins=30, title='Final Price Distribution')\n",
    "    fig.show()"
   ]
  },
  {
   "cell_type": "markdown",
   "id": "94eb0635",
   "metadata": {},
   "source": [
    "#### Role Distribution"
   ]
  },
  {
   "cell_type": "code",
   "execution_count": 43,
   "id": "ef00a4fc",
   "metadata": {},
   "outputs": [
    {
     "data": {
      "application/vnd.plotly.v1+json": {
       "config": {
        "plotlyServerURL": "https://plot.ly"
       },
       "data": [
        {
         "domain": {
          "x": [
           0,
           1
          ],
          "y": [
           0,
           1
          ]
         },
         "hovertemplate": "Role=%{label}<extra></extra>",
         "labels": [
          "Wicketkeeper batsman",
          "Wicketkeeper batsman",
          "Wicketkeeper batsman",
          "Wicketkeeper batsman",
          "Wicketkeeper batsman",
          "Wicketkeeper batsman",
          "Wicketkeeper batsman",
          "Wicketkeeper batsman",
          "Wicketkeeper batsman",
          "Wicketkeeper batsman",
          "Batsman",
          "Batsman",
          "Batsman",
          "Batsman",
          "Batsman",
          "Batsman",
          "Batsman",
          "Batsman",
          "Bowler",
          "Bowler",
          "Bowler",
          "Bowler",
          "Bowler",
          "Bowler",
          "All-rounder",
          "All-rounder",
          "All-rounder",
          "All-rounder",
          "All-rounder",
          "All-rounder",
          "All-rounder",
          "Bowler",
          "Bowler",
          "Bowler",
          "Bowler",
          "Bowler",
          "Bowler",
          "Bowler",
          "Bowler",
          "Bowler",
          "Wicketkeeper batsman",
          "Wicketkeeper batsman",
          "Wicketkeeper batsman",
          "Wicketkeeper batsman",
          "Wicketkeeper batsman",
          "Wicketkeeper batsman",
          "Batsman",
          "Batsman",
          "Batsman",
          "Batsman",
          "Batsman",
          "Batsman",
          "Batsman",
          "Batsman",
          "Batsman",
          "Batsman",
          "Batsman",
          "Batsman",
          "Bowler",
          "Bowler",
          "All-Rounder",
          "Bowler",
          "Bowler",
          "Batsman",
          "Batsman",
          "All-rounder",
          "All-rounder",
          "All-rounder",
          "All-rounder",
          "All-rounder",
          "All-rounder",
          "All-rounder",
          "All-rounder",
          "All-rounder",
          "Wicketkeeper batsman",
          "Wicketkeeper batsman",
          "Wicketkeeper batsman",
          "Wicketkeeper batsman",
          "Wicketkeeper batsman",
          "Wicketkeeper batsman",
          "Wicketkeeper batsman",
          "Wicketkeeper batsman",
          "Bowler",
          "Bowler",
          "Bowler",
          "Bowler",
          "Bowler",
          "Bowler",
          "Bowler",
          "Bowler",
          "Bowler",
          "Bowler",
          "All-rounder",
          "All-rounder",
          "All-rounder",
          "All-rounder",
          "All-rounder",
          "All-rounder",
          "All-rounder",
          "All-rounder",
          "All-rounder",
          "All-rounder",
          "All-rounder",
          "All-rounder",
          "All-rounder",
          "All-rounder",
          "Bowler",
          "Batsman",
          "Bowler",
          "Bowler",
          "Bowling All-rounder",
          "Bowling All-rounder",
          "Bowling All-rounder",
          "Bowling All-rounder",
          "Bowling All-rounder",
          "Bowling All-rounder",
          "All-rounder",
          "Bowler",
          "Bowler",
          "Bowler",
          "Bowler",
          "Bowler",
          "Bowler",
          "Bowler",
          "Bowler",
          "Bowler",
          "Bowler",
          "Bowler",
          "Bowler",
          "Bowler",
          "Bowler",
          "Bowler",
          "Bowler",
          "Bowler",
          "Bowler",
          "Bowler",
          "Bowler",
          "Bowler",
          "Bowler",
          "Bowler",
          "Bowler",
          "Bowler",
          "Bowler",
          "Bowler",
          "Bowler",
          "Bowler",
          "Bowler",
          "Batsman",
          "All-rounder",
          "All-rounder",
          "All-rounder",
          "All-rounder",
          "All-rounder",
          "All-rounder",
          "All-rounder",
          "Bowler",
          "Bowler",
          "Batsman",
          "All-Rounder",
          "All-Rounder",
          "All-Rounder",
          "Wicket Keeper",
          "Bowler",
          "Bowler",
          "Bowler",
          "Bowler",
          "Bowler",
          "Batsman",
          "Bowler",
          "Bowler",
          "Bowler",
          "Bowler",
          "Bowler",
          "Bowler",
          "Bowler",
          "Bowler",
          "Bowler",
          "Batsman",
          "All-rounder",
          "All-rounder",
          "All-rounder",
          "All-rounder",
          "All-rounder",
          "All-rounder",
          "All-rounder",
          "All-rounder",
          "All-rounder",
          "All-rounder",
          "All-rounder",
          "Wicketkeeper batsman",
          "Wicketkeeper batsman",
          "Wicketkeeper batsman",
          "Wicketkeeper batsman",
          "Wicketkeeper batsman",
          "Wicketkeeper batsman",
          "Wicketkeeper batsman",
          "Wicketkeeper batsman",
          "Wicketkeeper batsman",
          "Wicketkeeper batsman",
          "Wicketkeeper batsman",
          "Wicketkeeper batsman",
          "Wicketkeeper batsman",
          "All-rounder",
          "All-rounder",
          "Batsman",
          "All-Rounder",
          "All-rounder",
          "All-rounder",
          "All-rounder",
          "All-rounder",
          "All-rounder",
          "All-rounder",
          "All-rounder",
          "All-rounder",
          "All-rounder",
          "Bowler",
          "Bowler",
          "Batsman",
          "Batsman",
          "All-rounder",
          "All-rounder",
          "All-rounder",
          "All-rounder",
          "Batsman",
          "Batsman",
          "All-rounder",
          "Bowler",
          "Bowler",
          "Bowler",
          "Bowler",
          "Bowler",
          "Bowler",
          "Bowler",
          "Bowler",
          "Bowler",
          "All-rounder",
          "Batsman",
          "All-rounder",
          "All-rounder",
          "All-rounder",
          "All-rounder",
          "Batsman",
          "Batsman",
          "Batsman",
          "Batsman",
          "Batsman",
          "Batsman",
          "Batsman",
          "Batsman",
          "Batsman",
          "Batsman",
          "Batsman",
          "Batsman",
          "Batsman",
          "Batsman",
          "Batsman",
          "All-rounder",
          "All-rounder",
          "Bowler",
          "Bowler",
          "All-Rounder",
          "All-Rounder",
          "All-Rounder",
          "All-Rounder",
          "Bowler",
          "Bowler",
          "Bowler",
          "Bowler",
          "Bowler",
          "Bowler",
          "Bowler",
          "Bowler",
          "Bowler",
          "Bowler",
          "Wicketkeeper batsman",
          "Wicketkeeper batsman",
          "Wicketkeeper batsman",
          "Wicketkeeper batsman",
          "Wicketkeeper batsman",
          "Wicketkeeper batsman",
          "Wicketkeeper batsman",
          "Wicketkeeper batsman",
          "Wicketkeeper batsman",
          "Wicketkeeper",
          "Bowler",
          "Bowler",
          "Wicketkeeper batsman",
          "Wicketkeeper batsman",
          "Wicketkeeper batsman",
          "Wicketkeeper batsman",
          "Bowler",
          "All-rounder",
          "All-rounder",
          "All-rounder",
          "All-rounder",
          "All-rounder",
          "All-rounder",
          "All-rounder",
          "All-rounder",
          "All-rounder",
          "All-Rounder",
          "All-Rounder",
          "All-Rounder",
          "All-Rounder",
          "All-Rounder",
          "All-Rounder",
          "All-Rounder",
          "Wicketkeeper",
          "Wicketkeeper",
          "Batsman",
          "Batsman",
          "Batsman",
          "Batsman",
          "Batsman",
          "Batsman",
          "Batsman",
          "Batsman",
          "Batsman",
          "Batsman",
          "Batsman",
          "Batsman",
          "Batsman",
          "Batsman",
          "Batsman",
          "Batsman",
          "Batsman",
          "Batsman",
          "Batsman",
          "Batsman",
          "Batsman",
          "Batsman",
          "Batsman",
          "Batsman",
          "Batsman",
          "Batsman",
          "Batsman",
          "Batsman",
          "All-rounder",
          "All-rounder",
          "All-rounder",
          "All-rounder",
          "All-rounder",
          "All-rounder",
          "Bowler",
          "Batsman",
          "Batsman",
          "Batsman",
          "Batsman",
          "Batsman",
          "Batsman",
          "Batsman",
          "All-rounder",
          "All-rounder",
          "All-rounder",
          "All-rounder",
          "All-rounder",
          "All-rounder",
          "All-rounder",
          "All-rounder",
          "All-rounder",
          "All-rounder",
          "All-rounder",
          "All-rounder",
          "All-rounder",
          "Bowler",
          "Bowler",
          "Bowler",
          "Bowler",
          "Bowler",
          "Batsman",
          "Batsman",
          "Bowler",
          "Bowler",
          "Bowler",
          "Bowler",
          "All-Rounder",
          "All-Rounder",
          "All-Rounder",
          "All-Rounder",
          "All-Rounder",
          "All-Rounder",
          "All-Rounder",
          "All-Rounder",
          "All-Rounder",
          "All-rounder",
          "All-rounder",
          "All-rounder",
          "All-rounder",
          "All-rounder",
          "All-rounder",
          "All-rounder",
          "All-rounder",
          "All-Rounder",
          "All-rounder",
          "Batsman",
          "Batsman",
          "Batsman",
          "Bowler",
          "Bowler",
          "Bowler",
          "Bowler",
          "Bowler",
          "Bowler",
          "Bowler",
          "Bowler",
          "Bowler",
          "Bowler",
          "Bowler",
          "Bowler",
          "Bowler",
          "Bowler",
          "All-Rounder",
          "All-Rounder",
          "All-Rounder",
          "All-Rounder",
          "All-Rounder",
          "All-Rounder",
          "All-rounder",
          "Bowler",
          "Bowler",
          "Bowler",
          "Bowler",
          "Bowler",
          "Bowler",
          "Bowler",
          "Bowler",
          "All-rounder",
          "All-rounder",
          "All-rounder",
          "All-rounder",
          "All-rounder",
          "All-rounder",
          "All-rounder",
          "Batsman",
          "Bowler",
          "Bowler",
          "Bowler",
          "Bowler",
          "Bowler",
          "Bowler",
          "Bowler",
          "Bowler",
          "Bowler",
          "All-rounder",
          "All-rounder",
          "All-rounder",
          "All-rounder",
          "All-rounder",
          "Wicketkeeper-batsman",
          "Wicketkeeper-batsman",
          "Bowler",
          "Bowler",
          "Bowler",
          "Bowler",
          "All-rounder",
          "Bowler",
          "Bowler",
          "Bowler",
          "Batsman",
          "Bowler",
          "Bowler",
          "Bowler",
          "Batsman",
          "Batsman",
          "Batsman",
          "Bowler",
          "Bowler",
          "Bowler",
          "Bowler",
          "Bowler",
          "Bowler",
          "Bowler",
          "All-Rounder",
          "All-Rounder",
          "All-Rounder",
          "All-Rounder",
          "All-Rounder",
          "Batsman",
          "Batsman",
          "Batsman",
          "Batsman",
          "Batsman",
          "Batsman",
          "Batsman",
          "Batsman",
          "Batsman",
          "Batsman",
          "Batsman",
          "Batsman",
          "Batsman",
          "Batsman",
          "All-rounder",
          "All-rounder",
          "All-rounder",
          "All-rounder",
          "All-rounder",
          "All-rounder",
          "All-rounder",
          "All-rounder",
          "All-rounder",
          "All-rounder",
          "All-rounder",
          "All-rounder",
          "Bowler",
          "Bowler",
          "Bowler",
          "Bowler",
          "Bowler",
          "Bowler",
          "Bowler",
          "Bowler",
          "Bowler",
          "Bowler",
          "Batsman",
          "Batsman",
          "Batsman",
          "Batsman",
          "Batsman",
          "Wicketkeeper batsman",
          "Wicketkeeper batsman",
          "Wicketkeeper batsman",
          "Wicketkeeper batsman",
          "Wicketkeeper batsman",
          "Wicketkeeper batsman",
          "Wicketkeeper batsman",
          "Wicketkeeper batsman",
          "Wicketkeeper batsman",
          "Wicketkeeper batsman",
          "Wicketkeeper batsman",
          "Wicketkeeper batsman",
          "Wicketkeeper batsman",
          "Batsman",
          "Batsman",
          "Batsman",
          "Batsman",
          "Batsman",
          "All-rounder",
          "All-rounder",
          "All-rounder",
          "All-rounder",
          "All-rounder",
          "All-rounder",
          "All-rounder",
          "Batsman",
          "Batsman",
          "Batsman",
          "Batsman",
          "Batsman",
          "Batsman",
          "Batsman",
          "Batsman",
          "Batsman",
          "Batsman",
          "Batsman",
          "Batsman",
          "Batsman",
          "Batsman",
          "Batsman",
          "Batsman",
          "Batsman",
          "Batsman",
          "Batsman",
          "Bowler",
          "Wicketkeeper batsman",
          "Wicketkeeper batsman",
          "Wicketkeeper batsman",
          "Wicketkeeper batsman",
          "Wicketkeeper batsman",
          "Wicketkeeper batsman",
          "Bowler",
          "Bowler",
          "Bowler",
          "Bowler",
          "All-rounder",
          "All-rounder",
          "Batsman",
          "Batsman",
          "Batsman",
          "Bowler",
          "Batsman",
          "Batsman",
          "Batsman",
          "Batsman",
          "Batsman",
          "Batsman",
          "Batsman",
          "Batsman",
          "Batsman",
          "Batsman",
          "Batsman",
          "Batsman",
          "Batsman",
          "Batsman",
          "Batsman",
          "Bowler",
          "Bowler",
          "Bowler",
          "Bowler",
          "Bowler",
          "Bowler",
          "Batsman",
          "Batsman",
          "Bowler",
          "Bowler",
          "Bowler",
          "Bowler",
          "Bowler",
          "Bowler",
          "Batsman",
          "Batsman",
          "Batsman",
          "Batsman",
          "Batsman",
          "Batsman",
          "Batsman",
          "Batsman",
          "Bowler",
          "Bowler",
          "Bowler",
          "Bowler",
          "Batsman",
          "Bowler",
          "Bowler",
          "Bowler",
          "Bowler",
          "Bowler",
          "All-rounder",
          "All-rounder",
          "All-rounder",
          "All-rounder",
          "All-rounder",
          "All-rounder",
          "All-rounder",
          "All-rounder",
          "Bowler",
          "Bowler",
          "Bowler",
          "Bowler",
          "Bowler",
          "Bowler",
          "Bowler",
          "Bowler",
          "Bowler",
          "Batsman",
          "Batsman",
          "Batsman",
          "Batsman",
          "Batsman",
          "Batsman",
          "Batsman",
          "Batsman",
          "Bowler",
          "Batsman",
          "Batsman",
          "Wicketkeeper batsman",
          "Wicketkeeper batsman",
          "Wicketkeeper batsman",
          "Wicketkeeper batsman",
          "Wicketkeeper batsman",
          "Wicketkeeper batsman",
          "Wicketkeeper batsman",
          "Wicketkeeper batsman",
          "Wicketkeeper batsman",
          "Bowler",
          "Bowler",
          "Bowler",
          "Bowler",
          "Bowler",
          "Batsman",
          "Batsman",
          "Bowler",
          "Batsman",
          "Batsman",
          "Wicketkeeper",
          "Wicketkeeper-batsman",
          "Batsman",
          "Batsman",
          "Wicketkeeper batsman",
          "Wicketkeeper batsman",
          "Wicketkeeper batsman",
          "Wicketkeeper batsman",
          "Wicketkeeper batsman",
          "Wicketkeeper batsman",
          "Wicketkeeper batsman",
          "Wicketkeeper batsman",
          "Wicketkeeper batsman",
          "Wicketkeeper batsman",
          "All-rounder",
          "All-rounder",
          "All-rounder",
          "All-rounder",
          "Bowler",
          "Bowler",
          "Bowler",
          "Bowler",
          "Bowler",
          "Bowler",
          "All-rounder",
          "All-rounder",
          "All-rounder",
          "All-rounder",
          "All-Rounder",
          "All-Rounder",
          "Bowler",
          "Bowler",
          "Bowler",
          "Bowler",
          "All-Rounder",
          "All-Rounder",
          "All-Rounder",
          "All-Rounder",
          "All-Rounder",
          "All-Rounder",
          "All-Rounder",
          "All-Rounder",
          "All-Rounder",
          "All-Rounder",
          "Batsman",
          "Bowler",
          "Bowler",
          "Bowler",
          "Bowler",
          "Bowler",
          "Bowler",
          "Bowler",
          "Bowler",
          "Bowler",
          "Bowler",
          "Batsman",
          "All-rounder",
          "All-rounder",
          "Bowler",
          "Bowler",
          "Bowler",
          "Bowler",
          "Bowler",
          "Bowler",
          "Bowler",
          "Bowler",
          "Bowler",
          "Bowler",
          "Bowler",
          "Bowler",
          "Bowler",
          "Bowler",
          "Wicketkeeper batsman",
          "Wicketkeeper batsman",
          "Wicketkeeper batsman",
          "Wicketkeeper batsman",
          "Batsman",
          "Bowler",
          "Bowler",
          "Bowler",
          "Bowler",
          "Bowler",
          "Bowler",
          "Bowler",
          "Bowler",
          "Bowler",
          "Batsman",
          "All-rounder",
          "All-rounder",
          "All-rounder",
          "All-rounder",
          "All-rounder",
          "All-rounder",
          "All-rounder",
          "All-rounder",
          "All-Rounder",
          "All-rounder",
          "Bowler",
          "Batsman",
          "Batsman",
          "Batsman",
          "All-rounder",
          "All-rounder",
          "All-rounder",
          "All-rounder",
          "All-rounder",
          "All-rounder",
          "All-rounder",
          "All-rounder",
          "All-rounder",
          "All-rounder",
          "All-rounder",
          "All-rounder",
          "All-rounder",
          "All-rounder",
          "All-rounder",
          "All-Rounder",
          "All-rounder",
          "Batsman",
          "Batsman",
          "Batsman",
          "Batsman",
          "Wicketkeeper-batsman",
          "Wicketkeeper-batsman",
          "All-rounder",
          "All-rounder",
          "All-rounder",
          "All-rounder",
          "All-rounder",
          "Batsman",
          "Batsman",
          "Batsman",
          "Batsman",
          "Batsman",
          "Batsman",
          "Batsman",
          "Batsman",
          "Batsman",
          "Batsman",
          "Batsman",
          "Batsman",
          "Batsman",
          "Batsman",
          "Batsman",
          "Batsman",
          "Batsman",
          "Batsman",
          "Batsman",
          "Batsman",
          "Bowler",
          "Bowler",
          "Batsman",
          "All-rounder",
          "All-rounder",
          "All-rounder",
          "All-rounder",
          "All-rounder",
          "Batsman",
          "Batsman",
          "Batsman",
          "Batsman",
          "Bowler",
          "Bowler",
          "Bowler",
          "Bowler",
          "Bowler",
          "Bowler",
          "Bowler",
          "Bowler",
          "Bowler",
          "Wicketkeeper batsman",
          "Wicketkeeper batsman",
          "Wicketkeeper batsman",
          "Wicketkeeper batsman",
          "Wicketkeeper batsman",
          "Bowler",
          "Batsman",
          "Batsman",
          "Bowler",
          "Batsman",
          "Batsman",
          "Batsman",
          "Batsman",
          "Batsman",
          "Batsman",
          "Batsman",
          "Batsman",
          "Batsman",
          "Batsman",
          "Bowler",
          "Bowler",
          "Bowler",
          "Bowler",
          "Bowler",
          "Bowler",
          "Bowler",
          "Bowler",
          "Bowler",
          "Bowler",
          "Bowler",
          "All-rounder",
          "All-rounder",
          "All-rounder",
          "All-rounder",
          "All-rounder",
          "All-rounder",
          "All-rounder",
          "All-rounder",
          "All-rounder",
          "All-rounder",
          "All-rounder",
          "All-rounder",
          "All-rounder",
          "All-Rounder",
          "All-rounder",
          "Bowler",
          "Bowler",
          "Bowler",
          "Bowler",
          "All-rounder",
          "Batsman",
          "Batsman",
          "Batsman",
          "Batsman",
          "Batsman",
          "Batsman",
          "Batsman",
          "Batsman",
          "Batsman",
          "Wicketkeeper",
          "Batsman",
          "Batsman",
          "Batsman",
          "Batsman",
          "Batsman",
          "Batsman",
          "Batsman",
          "Batsman",
          "Batsman",
          "Batsman",
          "All-rounder",
          "All-rounder",
          "All-rounder",
          "All-rounder",
          "All-rounder",
          "Batsman",
          "Batsman",
          "Batsman",
          "Batsman",
          "Bowler",
          "Bowler",
          "Bowler",
          "Bowler",
          "Bowler",
          "Bowler",
          "Bowler",
          "Bowler",
          "Bowler",
          "All-Rounder",
          "All-rounder",
          "All-rounder",
          "All-rounder",
          "All-rounder",
          "All-rounder",
          "All-rounder",
          "All-rounder",
          "All-rounder",
          "All-rounder",
          "All-rounder",
          "All-rounder",
          "All-Rounder",
          "All-rounder",
          "Batsman",
          "Batsman",
          "Batsman",
          "Batsman",
          "Batsman",
          "Batsman",
          "Batsman",
          "All-Rounder",
          "All-Rounder",
          "All-Rounder",
          "Bowler",
          "Bowler",
          "Bowler",
          "Bowler",
          "Bowler",
          "Bowler",
          "Batsman",
          "Batsman",
          "Batsman",
          "Batsman",
          "Batsman",
          "Batsman",
          "Batsman",
          "Batsman",
          "Batsman",
          "Batsman",
          "Batsman",
          "Batsman",
          "Batsman",
          "Batsman",
          "Batsman",
          "Bowler",
          "Bowler",
          "Batsman",
          "Bowler",
          "Batsman",
          "Batsman",
          "All-rounder",
          "All-rounder",
          "All-rounder",
          "All-rounder",
          "All-Rounder",
          "All-rounder",
          "All-Rounder",
          "Bowler",
          "Bowler",
          "Bowler",
          "Bowler",
          "Bowler",
          "Batsman",
          "Batsman",
          "Batsman",
          "Bowler",
          "Bowler",
          "Bowler",
          "Batsman",
          "Bowler",
          "Bowler",
          "Bowler",
          "Bowler",
          "Bowler",
          "Bowler",
          "Bowler",
          "Bowler",
          "Batsman",
          "Batsman",
          "Batsman",
          "Batsman",
          "Batsman",
          "Batsman",
          "Batsman",
          "Bowler",
          "Bowler",
          "Bowler",
          "Bowler",
          "Bowler",
          "Bowler",
          "Bowler",
          "Bowler",
          "All-rounder",
          "All-rounder",
          "Batsman",
          "Bowler",
          "Bowler",
          "Bowler",
          "Bowler",
          "Bowler",
          "Bowler",
          "Bowler",
          "Bowler",
          "Bowler",
          "Bowler",
          "Bowler",
          "Bowler",
          "Bowler",
          "Bowler",
          "Bowler",
          "Bowler",
          "Batsman",
          "Batsman",
          "Batsman",
          "Batsman",
          "Batsman",
          "Batsman",
          "Batsman",
          "Batsman",
          "Batsman",
          "Batsman",
          "Batsman",
          "Batsman",
          "Batsman",
          "Batsman",
          "Batsman",
          "Batsman",
          "Batsman",
          "Batsman",
          "Batsman",
          "Batsman",
          "Wicketkeeper batsman",
          "Wicketkeeper batsman",
          "Wicketkeeper batsman",
          "Wicketkeeper batsman",
          "Wicketkeeper batsman",
          "Wicketkeeper batsman",
          "Wicketkeeper batsman",
          "Wicketkeeper batsman",
          "Wicketkeeper batsman",
          "Wicketkeeper batsman",
          "Wicketkeeper batsman",
          "All-rounder",
          "All-rounder",
          "All-rounder",
          "All-rounder",
          "All-rounder",
          "All-rounder",
          "All-rounder",
          "All-rounder",
          "All-rounder",
          "All-rounder",
          "All-rounder",
          "All-rounder",
          "All-rounder",
          "All-rounder",
          "All-rounder",
          "All-rounder",
          "All-rounder",
          "All-Rounder",
          "All-rounder",
          "Bowler",
          "Bowler",
          "Bowler",
          "Bowler",
          "Bowler",
          "Bowler",
          "Bowler",
          "Bowler",
          "Bowler",
          "Bowler",
          "Bowler",
          "Bowler",
          "Bowler",
          "Bowler",
          "Bowler"
         ],
         "legendgroup": "",
         "name": "",
         "showlegend": true,
         "type": "pie"
        }
       ],
       "layout": {
        "legend": {
         "tracegroupgap": 0
        },
        "template": {
         "data": {
          "bar": [
           {
            "error_x": {
             "color": "#2a3f5f"
            },
            "error_y": {
             "color": "#2a3f5f"
            },
            "marker": {
             "line": {
              "color": "#E5ECF6",
              "width": 0.5
             },
             "pattern": {
              "fillmode": "overlay",
              "size": 10,
              "solidity": 0.2
             }
            },
            "type": "bar"
           }
          ],
          "barpolar": [
           {
            "marker": {
             "line": {
              "color": "#E5ECF6",
              "width": 0.5
             },
             "pattern": {
              "fillmode": "overlay",
              "size": 10,
              "solidity": 0.2
             }
            },
            "type": "barpolar"
           }
          ],
          "carpet": [
           {
            "aaxis": {
             "endlinecolor": "#2a3f5f",
             "gridcolor": "white",
             "linecolor": "white",
             "minorgridcolor": "white",
             "startlinecolor": "#2a3f5f"
            },
            "baxis": {
             "endlinecolor": "#2a3f5f",
             "gridcolor": "white",
             "linecolor": "white",
             "minorgridcolor": "white",
             "startlinecolor": "#2a3f5f"
            },
            "type": "carpet"
           }
          ],
          "choropleth": [
           {
            "colorbar": {
             "outlinewidth": 0,
             "ticks": ""
            },
            "type": "choropleth"
           }
          ],
          "contour": [
           {
            "colorbar": {
             "outlinewidth": 0,
             "ticks": ""
            },
            "colorscale": [
             [
              0,
              "#0d0887"
             ],
             [
              0.1111111111111111,
              "#46039f"
             ],
             [
              0.2222222222222222,
              "#7201a8"
             ],
             [
              0.3333333333333333,
              "#9c179e"
             ],
             [
              0.4444444444444444,
              "#bd3786"
             ],
             [
              0.5555555555555556,
              "#d8576b"
             ],
             [
              0.6666666666666666,
              "#ed7953"
             ],
             [
              0.7777777777777778,
              "#fb9f3a"
             ],
             [
              0.8888888888888888,
              "#fdca26"
             ],
             [
              1,
              "#f0f921"
             ]
            ],
            "type": "contour"
           }
          ],
          "contourcarpet": [
           {
            "colorbar": {
             "outlinewidth": 0,
             "ticks": ""
            },
            "type": "contourcarpet"
           }
          ],
          "heatmap": [
           {
            "colorbar": {
             "outlinewidth": 0,
             "ticks": ""
            },
            "colorscale": [
             [
              0,
              "#0d0887"
             ],
             [
              0.1111111111111111,
              "#46039f"
             ],
             [
              0.2222222222222222,
              "#7201a8"
             ],
             [
              0.3333333333333333,
              "#9c179e"
             ],
             [
              0.4444444444444444,
              "#bd3786"
             ],
             [
              0.5555555555555556,
              "#d8576b"
             ],
             [
              0.6666666666666666,
              "#ed7953"
             ],
             [
              0.7777777777777778,
              "#fb9f3a"
             ],
             [
              0.8888888888888888,
              "#fdca26"
             ],
             [
              1,
              "#f0f921"
             ]
            ],
            "type": "heatmap"
           }
          ],
          "histogram": [
           {
            "marker": {
             "pattern": {
              "fillmode": "overlay",
              "size": 10,
              "solidity": 0.2
             }
            },
            "type": "histogram"
           }
          ],
          "histogram2d": [
           {
            "colorbar": {
             "outlinewidth": 0,
             "ticks": ""
            },
            "colorscale": [
             [
              0,
              "#0d0887"
             ],
             [
              0.1111111111111111,
              "#46039f"
             ],
             [
              0.2222222222222222,
              "#7201a8"
             ],
             [
              0.3333333333333333,
              "#9c179e"
             ],
             [
              0.4444444444444444,
              "#bd3786"
             ],
             [
              0.5555555555555556,
              "#d8576b"
             ],
             [
              0.6666666666666666,
              "#ed7953"
             ],
             [
              0.7777777777777778,
              "#fb9f3a"
             ],
             [
              0.8888888888888888,
              "#fdca26"
             ],
             [
              1,
              "#f0f921"
             ]
            ],
            "type": "histogram2d"
           }
          ],
          "histogram2dcontour": [
           {
            "colorbar": {
             "outlinewidth": 0,
             "ticks": ""
            },
            "colorscale": [
             [
              0,
              "#0d0887"
             ],
             [
              0.1111111111111111,
              "#46039f"
             ],
             [
              0.2222222222222222,
              "#7201a8"
             ],
             [
              0.3333333333333333,
              "#9c179e"
             ],
             [
              0.4444444444444444,
              "#bd3786"
             ],
             [
              0.5555555555555556,
              "#d8576b"
             ],
             [
              0.6666666666666666,
              "#ed7953"
             ],
             [
              0.7777777777777778,
              "#fb9f3a"
             ],
             [
              0.8888888888888888,
              "#fdca26"
             ],
             [
              1,
              "#f0f921"
             ]
            ],
            "type": "histogram2dcontour"
           }
          ],
          "mesh3d": [
           {
            "colorbar": {
             "outlinewidth": 0,
             "ticks": ""
            },
            "type": "mesh3d"
           }
          ],
          "parcoords": [
           {
            "line": {
             "colorbar": {
              "outlinewidth": 0,
              "ticks": ""
             }
            },
            "type": "parcoords"
           }
          ],
          "pie": [
           {
            "automargin": true,
            "type": "pie"
           }
          ],
          "scatter": [
           {
            "fillpattern": {
             "fillmode": "overlay",
             "size": 10,
             "solidity": 0.2
            },
            "type": "scatter"
           }
          ],
          "scatter3d": [
           {
            "line": {
             "colorbar": {
              "outlinewidth": 0,
              "ticks": ""
             }
            },
            "marker": {
             "colorbar": {
              "outlinewidth": 0,
              "ticks": ""
             }
            },
            "type": "scatter3d"
           }
          ],
          "scattercarpet": [
           {
            "marker": {
             "colorbar": {
              "outlinewidth": 0,
              "ticks": ""
             }
            },
            "type": "scattercarpet"
           }
          ],
          "scattergeo": [
           {
            "marker": {
             "colorbar": {
              "outlinewidth": 0,
              "ticks": ""
             }
            },
            "type": "scattergeo"
           }
          ],
          "scattergl": [
           {
            "marker": {
             "colorbar": {
              "outlinewidth": 0,
              "ticks": ""
             }
            },
            "type": "scattergl"
           }
          ],
          "scattermap": [
           {
            "marker": {
             "colorbar": {
              "outlinewidth": 0,
              "ticks": ""
             }
            },
            "type": "scattermap"
           }
          ],
          "scattermapbox": [
           {
            "marker": {
             "colorbar": {
              "outlinewidth": 0,
              "ticks": ""
             }
            },
            "type": "scattermapbox"
           }
          ],
          "scatterpolar": [
           {
            "marker": {
             "colorbar": {
              "outlinewidth": 0,
              "ticks": ""
             }
            },
            "type": "scatterpolar"
           }
          ],
          "scatterpolargl": [
           {
            "marker": {
             "colorbar": {
              "outlinewidth": 0,
              "ticks": ""
             }
            },
            "type": "scatterpolargl"
           }
          ],
          "scatterternary": [
           {
            "marker": {
             "colorbar": {
              "outlinewidth": 0,
              "ticks": ""
             }
            },
            "type": "scatterternary"
           }
          ],
          "surface": [
           {
            "colorbar": {
             "outlinewidth": 0,
             "ticks": ""
            },
            "colorscale": [
             [
              0,
              "#0d0887"
             ],
             [
              0.1111111111111111,
              "#46039f"
             ],
             [
              0.2222222222222222,
              "#7201a8"
             ],
             [
              0.3333333333333333,
              "#9c179e"
             ],
             [
              0.4444444444444444,
              "#bd3786"
             ],
             [
              0.5555555555555556,
              "#d8576b"
             ],
             [
              0.6666666666666666,
              "#ed7953"
             ],
             [
              0.7777777777777778,
              "#fb9f3a"
             ],
             [
              0.8888888888888888,
              "#fdca26"
             ],
             [
              1,
              "#f0f921"
             ]
            ],
            "type": "surface"
           }
          ],
          "table": [
           {
            "cells": {
             "fill": {
              "color": "#EBF0F8"
             },
             "line": {
              "color": "white"
             }
            },
            "header": {
             "fill": {
              "color": "#C8D4E3"
             },
             "line": {
              "color": "white"
             }
            },
            "type": "table"
           }
          ]
         },
         "layout": {
          "annotationdefaults": {
           "arrowcolor": "#2a3f5f",
           "arrowhead": 0,
           "arrowwidth": 1
          },
          "autotypenumbers": "strict",
          "coloraxis": {
           "colorbar": {
            "outlinewidth": 0,
            "ticks": ""
           }
          },
          "colorscale": {
           "diverging": [
            [
             0,
             "#8e0152"
            ],
            [
             0.1,
             "#c51b7d"
            ],
            [
             0.2,
             "#de77ae"
            ],
            [
             0.3,
             "#f1b6da"
            ],
            [
             0.4,
             "#fde0ef"
            ],
            [
             0.5,
             "#f7f7f7"
            ],
            [
             0.6,
             "#e6f5d0"
            ],
            [
             0.7,
             "#b8e186"
            ],
            [
             0.8,
             "#7fbc41"
            ],
            [
             0.9,
             "#4d9221"
            ],
            [
             1,
             "#276419"
            ]
           ],
           "sequential": [
            [
             0,
             "#0d0887"
            ],
            [
             0.1111111111111111,
             "#46039f"
            ],
            [
             0.2222222222222222,
             "#7201a8"
            ],
            [
             0.3333333333333333,
             "#9c179e"
            ],
            [
             0.4444444444444444,
             "#bd3786"
            ],
            [
             0.5555555555555556,
             "#d8576b"
            ],
            [
             0.6666666666666666,
             "#ed7953"
            ],
            [
             0.7777777777777778,
             "#fb9f3a"
            ],
            [
             0.8888888888888888,
             "#fdca26"
            ],
            [
             1,
             "#f0f921"
            ]
           ],
           "sequentialminus": [
            [
             0,
             "#0d0887"
            ],
            [
             0.1111111111111111,
             "#46039f"
            ],
            [
             0.2222222222222222,
             "#7201a8"
            ],
            [
             0.3333333333333333,
             "#9c179e"
            ],
            [
             0.4444444444444444,
             "#bd3786"
            ],
            [
             0.5555555555555556,
             "#d8576b"
            ],
            [
             0.6666666666666666,
             "#ed7953"
            ],
            [
             0.7777777777777778,
             "#fb9f3a"
            ],
            [
             0.8888888888888888,
             "#fdca26"
            ],
            [
             1,
             "#f0f921"
            ]
           ]
          },
          "colorway": [
           "#636efa",
           "#EF553B",
           "#00cc96",
           "#ab63fa",
           "#FFA15A",
           "#19d3f3",
           "#FF6692",
           "#B6E880",
           "#FF97FF",
           "#FECB52"
          ],
          "font": {
           "color": "#2a3f5f"
          },
          "geo": {
           "bgcolor": "white",
           "lakecolor": "white",
           "landcolor": "#E5ECF6",
           "showlakes": true,
           "showland": true,
           "subunitcolor": "white"
          },
          "hoverlabel": {
           "align": "left"
          },
          "hovermode": "closest",
          "mapbox": {
           "style": "light"
          },
          "paper_bgcolor": "white",
          "plot_bgcolor": "#E5ECF6",
          "polar": {
           "angularaxis": {
            "gridcolor": "white",
            "linecolor": "white",
            "ticks": ""
           },
           "bgcolor": "#E5ECF6",
           "radialaxis": {
            "gridcolor": "white",
            "linecolor": "white",
            "ticks": ""
           }
          },
          "scene": {
           "xaxis": {
            "backgroundcolor": "#E5ECF6",
            "gridcolor": "white",
            "gridwidth": 2,
            "linecolor": "white",
            "showbackground": true,
            "ticks": "",
            "zerolinecolor": "white"
           },
           "yaxis": {
            "backgroundcolor": "#E5ECF6",
            "gridcolor": "white",
            "gridwidth": 2,
            "linecolor": "white",
            "showbackground": true,
            "ticks": "",
            "zerolinecolor": "white"
           },
           "zaxis": {
            "backgroundcolor": "#E5ECF6",
            "gridcolor": "white",
            "gridwidth": 2,
            "linecolor": "white",
            "showbackground": true,
            "ticks": "",
            "zerolinecolor": "white"
           }
          },
          "shapedefaults": {
           "line": {
            "color": "#2a3f5f"
           }
          },
          "ternary": {
           "aaxis": {
            "gridcolor": "white",
            "linecolor": "white",
            "ticks": ""
           },
           "baxis": {
            "gridcolor": "white",
            "linecolor": "white",
            "ticks": ""
           },
           "bgcolor": "#E5ECF6",
           "caxis": {
            "gridcolor": "white",
            "linecolor": "white",
            "ticks": ""
           }
          },
          "title": {
           "x": 0.05
          },
          "xaxis": {
           "automargin": true,
           "gridcolor": "white",
           "linecolor": "white",
           "ticks": "",
           "title": {
            "standoff": 15
           },
           "zerolinecolor": "white",
           "zerolinewidth": 2
          },
          "yaxis": {
           "automargin": true,
           "gridcolor": "white",
           "linecolor": "white",
           "ticks": "",
           "title": {
            "standoff": 15
           },
           "zerolinecolor": "white",
           "zerolinewidth": 2
          }
         }
        },
        "title": {
         "text": "Player Role Distribution"
        }
       }
      }
     },
     "metadata": {},
     "output_type": "display_data"
    }
   ],
   "source": [
    "if 'Role' in df.columns:\n",
    "    fig = px.pie(df, names='Role', title='Player Role Distribution')\n",
    "    fig.show()"
   ]
  },
  {
   "cell_type": "markdown",
   "id": "f8cbd3b7",
   "metadata": {},
   "source": [
    "#### Total Runs Scored by All Players Each Year"
   ]
  },
  {
   "cell_type": "code",
   "execution_count": 44,
   "id": "8e657a19",
   "metadata": {},
   "outputs": [
    {
     "data": {
      "text/plain": [
       "Index(['Id', 'Name', 'Year', 'Final Price', 'Role', 'Nationality', 'Team',\n",
       "       'Ent', 'Age', 'Matches', 'LMatches', 'Runs', 'LRuns', 'HS', 'LHS',\n",
       "       'Ave', 'LAve', 'StrRate', 'LStrRate', 'Fifties', 'LFifties', 'Hundreds',\n",
       "       'LHundreds', 'Fours', 'LFours', 'Sixes', 'LSixes', 'Catches',\n",
       "       'LCatches', 'Stumps', 'LStumps', 'Wkts', 'LWkts', 'Econ', 'LEcon',\n",
       "       'FourWkts', 'LFourWkts', 'FiveWkts', 'LFiveWkts', 'Indian',\n",
       "       'Specialist', 'Status'],\n",
       "      dtype='object')"
      ]
     },
     "execution_count": 44,
     "metadata": {},
     "output_type": "execute_result"
    }
   ],
   "source": [
    "df.columns"
   ]
  },
  {
   "cell_type": "code",
   "execution_count": 45,
   "id": "41b1a8dd",
   "metadata": {},
   "outputs": [
    {
     "data": {
      "application/vnd.plotly.v1+json": {
       "config": {
        "plotlyServerURL": "https://plot.ly"
       },
       "data": [
        {
         "hovertemplate": "Year=%{x}<br>Runs=%{y}<extra></extra>",
         "legendgroup": "",
         "line": {
          "color": "#636efa",
          "dash": "solid"
         },
         "marker": {
          "symbol": "circle"
         },
         "mode": "lines+markers",
         "name": "",
         "orientation": "v",
         "showlegend": false,
         "type": "scatter",
         "x": {
          "bdata": "2AfZB9oH2wfcB90H3gffB+AH4Qc=",
          "dtype": "i2"
         },
         "xaxis": "x",
         "y": {
          "bdata": "YR3OG3knCzBeN6FCOkFfQ9489UU=",
          "dtype": "i2"
         },
         "yaxis": "y"
        }
       ],
       "layout": {
        "legend": {
         "tracegroupgap": 0
        },
        "template": {
         "data": {
          "bar": [
           {
            "error_x": {
             "color": "#2a3f5f"
            },
            "error_y": {
             "color": "#2a3f5f"
            },
            "marker": {
             "line": {
              "color": "#E5ECF6",
              "width": 0.5
             },
             "pattern": {
              "fillmode": "overlay",
              "size": 10,
              "solidity": 0.2
             }
            },
            "type": "bar"
           }
          ],
          "barpolar": [
           {
            "marker": {
             "line": {
              "color": "#E5ECF6",
              "width": 0.5
             },
             "pattern": {
              "fillmode": "overlay",
              "size": 10,
              "solidity": 0.2
             }
            },
            "type": "barpolar"
           }
          ],
          "carpet": [
           {
            "aaxis": {
             "endlinecolor": "#2a3f5f",
             "gridcolor": "white",
             "linecolor": "white",
             "minorgridcolor": "white",
             "startlinecolor": "#2a3f5f"
            },
            "baxis": {
             "endlinecolor": "#2a3f5f",
             "gridcolor": "white",
             "linecolor": "white",
             "minorgridcolor": "white",
             "startlinecolor": "#2a3f5f"
            },
            "type": "carpet"
           }
          ],
          "choropleth": [
           {
            "colorbar": {
             "outlinewidth": 0,
             "ticks": ""
            },
            "type": "choropleth"
           }
          ],
          "contour": [
           {
            "colorbar": {
             "outlinewidth": 0,
             "ticks": ""
            },
            "colorscale": [
             [
              0,
              "#0d0887"
             ],
             [
              0.1111111111111111,
              "#46039f"
             ],
             [
              0.2222222222222222,
              "#7201a8"
             ],
             [
              0.3333333333333333,
              "#9c179e"
             ],
             [
              0.4444444444444444,
              "#bd3786"
             ],
             [
              0.5555555555555556,
              "#d8576b"
             ],
             [
              0.6666666666666666,
              "#ed7953"
             ],
             [
              0.7777777777777778,
              "#fb9f3a"
             ],
             [
              0.8888888888888888,
              "#fdca26"
             ],
             [
              1,
              "#f0f921"
             ]
            ],
            "type": "contour"
           }
          ],
          "contourcarpet": [
           {
            "colorbar": {
             "outlinewidth": 0,
             "ticks": ""
            },
            "type": "contourcarpet"
           }
          ],
          "heatmap": [
           {
            "colorbar": {
             "outlinewidth": 0,
             "ticks": ""
            },
            "colorscale": [
             [
              0,
              "#0d0887"
             ],
             [
              0.1111111111111111,
              "#46039f"
             ],
             [
              0.2222222222222222,
              "#7201a8"
             ],
             [
              0.3333333333333333,
              "#9c179e"
             ],
             [
              0.4444444444444444,
              "#bd3786"
             ],
             [
              0.5555555555555556,
              "#d8576b"
             ],
             [
              0.6666666666666666,
              "#ed7953"
             ],
             [
              0.7777777777777778,
              "#fb9f3a"
             ],
             [
              0.8888888888888888,
              "#fdca26"
             ],
             [
              1,
              "#f0f921"
             ]
            ],
            "type": "heatmap"
           }
          ],
          "histogram": [
           {
            "marker": {
             "pattern": {
              "fillmode": "overlay",
              "size": 10,
              "solidity": 0.2
             }
            },
            "type": "histogram"
           }
          ],
          "histogram2d": [
           {
            "colorbar": {
             "outlinewidth": 0,
             "ticks": ""
            },
            "colorscale": [
             [
              0,
              "#0d0887"
             ],
             [
              0.1111111111111111,
              "#46039f"
             ],
             [
              0.2222222222222222,
              "#7201a8"
             ],
             [
              0.3333333333333333,
              "#9c179e"
             ],
             [
              0.4444444444444444,
              "#bd3786"
             ],
             [
              0.5555555555555556,
              "#d8576b"
             ],
             [
              0.6666666666666666,
              "#ed7953"
             ],
             [
              0.7777777777777778,
              "#fb9f3a"
             ],
             [
              0.8888888888888888,
              "#fdca26"
             ],
             [
              1,
              "#f0f921"
             ]
            ],
            "type": "histogram2d"
           }
          ],
          "histogram2dcontour": [
           {
            "colorbar": {
             "outlinewidth": 0,
             "ticks": ""
            },
            "colorscale": [
             [
              0,
              "#0d0887"
             ],
             [
              0.1111111111111111,
              "#46039f"
             ],
             [
              0.2222222222222222,
              "#7201a8"
             ],
             [
              0.3333333333333333,
              "#9c179e"
             ],
             [
              0.4444444444444444,
              "#bd3786"
             ],
             [
              0.5555555555555556,
              "#d8576b"
             ],
             [
              0.6666666666666666,
              "#ed7953"
             ],
             [
              0.7777777777777778,
              "#fb9f3a"
             ],
             [
              0.8888888888888888,
              "#fdca26"
             ],
             [
              1,
              "#f0f921"
             ]
            ],
            "type": "histogram2dcontour"
           }
          ],
          "mesh3d": [
           {
            "colorbar": {
             "outlinewidth": 0,
             "ticks": ""
            },
            "type": "mesh3d"
           }
          ],
          "parcoords": [
           {
            "line": {
             "colorbar": {
              "outlinewidth": 0,
              "ticks": ""
             }
            },
            "type": "parcoords"
           }
          ],
          "pie": [
           {
            "automargin": true,
            "type": "pie"
           }
          ],
          "scatter": [
           {
            "fillpattern": {
             "fillmode": "overlay",
             "size": 10,
             "solidity": 0.2
            },
            "type": "scatter"
           }
          ],
          "scatter3d": [
           {
            "line": {
             "colorbar": {
              "outlinewidth": 0,
              "ticks": ""
             }
            },
            "marker": {
             "colorbar": {
              "outlinewidth": 0,
              "ticks": ""
             }
            },
            "type": "scatter3d"
           }
          ],
          "scattercarpet": [
           {
            "marker": {
             "colorbar": {
              "outlinewidth": 0,
              "ticks": ""
             }
            },
            "type": "scattercarpet"
           }
          ],
          "scattergeo": [
           {
            "marker": {
             "colorbar": {
              "outlinewidth": 0,
              "ticks": ""
             }
            },
            "type": "scattergeo"
           }
          ],
          "scattergl": [
           {
            "marker": {
             "colorbar": {
              "outlinewidth": 0,
              "ticks": ""
             }
            },
            "type": "scattergl"
           }
          ],
          "scattermap": [
           {
            "marker": {
             "colorbar": {
              "outlinewidth": 0,
              "ticks": ""
             }
            },
            "type": "scattermap"
           }
          ],
          "scattermapbox": [
           {
            "marker": {
             "colorbar": {
              "outlinewidth": 0,
              "ticks": ""
             }
            },
            "type": "scattermapbox"
           }
          ],
          "scatterpolar": [
           {
            "marker": {
             "colorbar": {
              "outlinewidth": 0,
              "ticks": ""
             }
            },
            "type": "scatterpolar"
           }
          ],
          "scatterpolargl": [
           {
            "marker": {
             "colorbar": {
              "outlinewidth": 0,
              "ticks": ""
             }
            },
            "type": "scatterpolargl"
           }
          ],
          "scatterternary": [
           {
            "marker": {
             "colorbar": {
              "outlinewidth": 0,
              "ticks": ""
             }
            },
            "type": "scatterternary"
           }
          ],
          "surface": [
           {
            "colorbar": {
             "outlinewidth": 0,
             "ticks": ""
            },
            "colorscale": [
             [
              0,
              "#0d0887"
             ],
             [
              0.1111111111111111,
              "#46039f"
             ],
             [
              0.2222222222222222,
              "#7201a8"
             ],
             [
              0.3333333333333333,
              "#9c179e"
             ],
             [
              0.4444444444444444,
              "#bd3786"
             ],
             [
              0.5555555555555556,
              "#d8576b"
             ],
             [
              0.6666666666666666,
              "#ed7953"
             ],
             [
              0.7777777777777778,
              "#fb9f3a"
             ],
             [
              0.8888888888888888,
              "#fdca26"
             ],
             [
              1,
              "#f0f921"
             ]
            ],
            "type": "surface"
           }
          ],
          "table": [
           {
            "cells": {
             "fill": {
              "color": "#EBF0F8"
             },
             "line": {
              "color": "white"
             }
            },
            "header": {
             "fill": {
              "color": "#C8D4E3"
             },
             "line": {
              "color": "white"
             }
            },
            "type": "table"
           }
          ]
         },
         "layout": {
          "annotationdefaults": {
           "arrowcolor": "#2a3f5f",
           "arrowhead": 0,
           "arrowwidth": 1
          },
          "autotypenumbers": "strict",
          "coloraxis": {
           "colorbar": {
            "outlinewidth": 0,
            "ticks": ""
           }
          },
          "colorscale": {
           "diverging": [
            [
             0,
             "#8e0152"
            ],
            [
             0.1,
             "#c51b7d"
            ],
            [
             0.2,
             "#de77ae"
            ],
            [
             0.3,
             "#f1b6da"
            ],
            [
             0.4,
             "#fde0ef"
            ],
            [
             0.5,
             "#f7f7f7"
            ],
            [
             0.6,
             "#e6f5d0"
            ],
            [
             0.7,
             "#b8e186"
            ],
            [
             0.8,
             "#7fbc41"
            ],
            [
             0.9,
             "#4d9221"
            ],
            [
             1,
             "#276419"
            ]
           ],
           "sequential": [
            [
             0,
             "#0d0887"
            ],
            [
             0.1111111111111111,
             "#46039f"
            ],
            [
             0.2222222222222222,
             "#7201a8"
            ],
            [
             0.3333333333333333,
             "#9c179e"
            ],
            [
             0.4444444444444444,
             "#bd3786"
            ],
            [
             0.5555555555555556,
             "#d8576b"
            ],
            [
             0.6666666666666666,
             "#ed7953"
            ],
            [
             0.7777777777777778,
             "#fb9f3a"
            ],
            [
             0.8888888888888888,
             "#fdca26"
            ],
            [
             1,
             "#f0f921"
            ]
           ],
           "sequentialminus": [
            [
             0,
             "#0d0887"
            ],
            [
             0.1111111111111111,
             "#46039f"
            ],
            [
             0.2222222222222222,
             "#7201a8"
            ],
            [
             0.3333333333333333,
             "#9c179e"
            ],
            [
             0.4444444444444444,
             "#bd3786"
            ],
            [
             0.5555555555555556,
             "#d8576b"
            ],
            [
             0.6666666666666666,
             "#ed7953"
            ],
            [
             0.7777777777777778,
             "#fb9f3a"
            ],
            [
             0.8888888888888888,
             "#fdca26"
            ],
            [
             1,
             "#f0f921"
            ]
           ]
          },
          "colorway": [
           "#636efa",
           "#EF553B",
           "#00cc96",
           "#ab63fa",
           "#FFA15A",
           "#19d3f3",
           "#FF6692",
           "#B6E880",
           "#FF97FF",
           "#FECB52"
          ],
          "font": {
           "color": "#2a3f5f"
          },
          "geo": {
           "bgcolor": "white",
           "lakecolor": "white",
           "landcolor": "#E5ECF6",
           "showlakes": true,
           "showland": true,
           "subunitcolor": "white"
          },
          "hoverlabel": {
           "align": "left"
          },
          "hovermode": "closest",
          "mapbox": {
           "style": "light"
          },
          "paper_bgcolor": "white",
          "plot_bgcolor": "#E5ECF6",
          "polar": {
           "angularaxis": {
            "gridcolor": "white",
            "linecolor": "white",
            "ticks": ""
           },
           "bgcolor": "#E5ECF6",
           "radialaxis": {
            "gridcolor": "white",
            "linecolor": "white",
            "ticks": ""
           }
          },
          "scene": {
           "xaxis": {
            "backgroundcolor": "#E5ECF6",
            "gridcolor": "white",
            "gridwidth": 2,
            "linecolor": "white",
            "showbackground": true,
            "ticks": "",
            "zerolinecolor": "white"
           },
           "yaxis": {
            "backgroundcolor": "#E5ECF6",
            "gridcolor": "white",
            "gridwidth": 2,
            "linecolor": "white",
            "showbackground": true,
            "ticks": "",
            "zerolinecolor": "white"
           },
           "zaxis": {
            "backgroundcolor": "#E5ECF6",
            "gridcolor": "white",
            "gridwidth": 2,
            "linecolor": "white",
            "showbackground": true,
            "ticks": "",
            "zerolinecolor": "white"
           }
          },
          "shapedefaults": {
           "line": {
            "color": "#2a3f5f"
           }
          },
          "ternary": {
           "aaxis": {
            "gridcolor": "white",
            "linecolor": "white",
            "ticks": ""
           },
           "baxis": {
            "gridcolor": "white",
            "linecolor": "white",
            "ticks": ""
           },
           "bgcolor": "#E5ECF6",
           "caxis": {
            "gridcolor": "white",
            "linecolor": "white",
            "ticks": ""
           }
          },
          "title": {
           "x": 0.05
          },
          "xaxis": {
           "automargin": true,
           "gridcolor": "white",
           "linecolor": "white",
           "ticks": "",
           "title": {
            "standoff": 15
           },
           "zerolinecolor": "white",
           "zerolinewidth": 2
          },
          "yaxis": {
           "automargin": true,
           "gridcolor": "white",
           "linecolor": "white",
           "ticks": "",
           "title": {
            "standoff": 15
           },
           "zerolinecolor": "white",
           "zerolinewidth": 2
          }
         }
        },
        "title": {
         "text": "Total Runs Scored by All Players Each Year"
        },
        "xaxis": {
         "anchor": "y",
         "domain": [
          0,
          1
         ],
         "title": {
          "text": "Year"
         }
        },
        "yaxis": {
         "anchor": "x",
         "domain": [
          0,
          1
         ],
         "title": {
          "text": "Runs"
         }
        }
       }
      }
     },
     "metadata": {},
     "output_type": "display_data"
    }
   ],
   "source": [
    "# Replace 'Year' with your actual year/Year column name\n",
    "yearly_runs = df.groupby('Year')['Runs'].sum().reset_index()\n",
    "fig = px.line(yearly_runs, x='Year', y='Runs', markers=True, title='Total Runs Scored by All Players Each Year')\n",
    "fig.show()"
   ]
  },
  {
   "cell_type": "markdown",
   "id": "774f89a0",
   "metadata": {},
   "source": [
    "####  Average Salary by Year"
   ]
  },
  {
   "cell_type": "code",
   "execution_count": 47,
   "id": "aa603666",
   "metadata": {},
   "outputs": [
    {
     "data": {
      "application/vnd.plotly.v1+json": {
       "config": {
        "plotlyServerURL": "https://plot.ly"
       },
       "data": [
        {
         "hovertemplate": "Year=%{x}<br>Final Price=%{y}<extra></extra>",
         "legendgroup": "",
         "line": {
          "color": "#636efa",
          "dash": "solid"
         },
         "marker": {
          "symbol": "circle"
         },
         "mode": "lines",
         "name": "",
         "orientation": "v",
         "showlegend": false,
         "type": "scatter",
         "x": {
          "bdata": "2AfZB9oH2wfcB90H3gffB+AH4Qc=",
          "dtype": "i2"
         },
         "xaxis": "x",
         "y": {
          "bdata": "bdR3Nmroa0GSJEkSdbRtQTDXDowJc2lBHMdxHGu+eEFeQ3nN9gh5QbHc09id2XZBzLUDc1lIfkF+QpwVRTR7QRoDppG9cnlBf/SjH3nAd0E=",
          "dtype": "f8"
         },
         "yaxis": "y"
        }
       ],
       "layout": {
        "legend": {
         "tracegroupgap": 0
        },
        "template": {
         "data": {
          "bar": [
           {
            "error_x": {
             "color": "#2a3f5f"
            },
            "error_y": {
             "color": "#2a3f5f"
            },
            "marker": {
             "line": {
              "color": "#E5ECF6",
              "width": 0.5
             },
             "pattern": {
              "fillmode": "overlay",
              "size": 10,
              "solidity": 0.2
             }
            },
            "type": "bar"
           }
          ],
          "barpolar": [
           {
            "marker": {
             "line": {
              "color": "#E5ECF6",
              "width": 0.5
             },
             "pattern": {
              "fillmode": "overlay",
              "size": 10,
              "solidity": 0.2
             }
            },
            "type": "barpolar"
           }
          ],
          "carpet": [
           {
            "aaxis": {
             "endlinecolor": "#2a3f5f",
             "gridcolor": "white",
             "linecolor": "white",
             "minorgridcolor": "white",
             "startlinecolor": "#2a3f5f"
            },
            "baxis": {
             "endlinecolor": "#2a3f5f",
             "gridcolor": "white",
             "linecolor": "white",
             "minorgridcolor": "white",
             "startlinecolor": "#2a3f5f"
            },
            "type": "carpet"
           }
          ],
          "choropleth": [
           {
            "colorbar": {
             "outlinewidth": 0,
             "ticks": ""
            },
            "type": "choropleth"
           }
          ],
          "contour": [
           {
            "colorbar": {
             "outlinewidth": 0,
             "ticks": ""
            },
            "colorscale": [
             [
              0,
              "#0d0887"
             ],
             [
              0.1111111111111111,
              "#46039f"
             ],
             [
              0.2222222222222222,
              "#7201a8"
             ],
             [
              0.3333333333333333,
              "#9c179e"
             ],
             [
              0.4444444444444444,
              "#bd3786"
             ],
             [
              0.5555555555555556,
              "#d8576b"
             ],
             [
              0.6666666666666666,
              "#ed7953"
             ],
             [
              0.7777777777777778,
              "#fb9f3a"
             ],
             [
              0.8888888888888888,
              "#fdca26"
             ],
             [
              1,
              "#f0f921"
             ]
            ],
            "type": "contour"
           }
          ],
          "contourcarpet": [
           {
            "colorbar": {
             "outlinewidth": 0,
             "ticks": ""
            },
            "type": "contourcarpet"
           }
          ],
          "heatmap": [
           {
            "colorbar": {
             "outlinewidth": 0,
             "ticks": ""
            },
            "colorscale": [
             [
              0,
              "#0d0887"
             ],
             [
              0.1111111111111111,
              "#46039f"
             ],
             [
              0.2222222222222222,
              "#7201a8"
             ],
             [
              0.3333333333333333,
              "#9c179e"
             ],
             [
              0.4444444444444444,
              "#bd3786"
             ],
             [
              0.5555555555555556,
              "#d8576b"
             ],
             [
              0.6666666666666666,
              "#ed7953"
             ],
             [
              0.7777777777777778,
              "#fb9f3a"
             ],
             [
              0.8888888888888888,
              "#fdca26"
             ],
             [
              1,
              "#f0f921"
             ]
            ],
            "type": "heatmap"
           }
          ],
          "histogram": [
           {
            "marker": {
             "pattern": {
              "fillmode": "overlay",
              "size": 10,
              "solidity": 0.2
             }
            },
            "type": "histogram"
           }
          ],
          "histogram2d": [
           {
            "colorbar": {
             "outlinewidth": 0,
             "ticks": ""
            },
            "colorscale": [
             [
              0,
              "#0d0887"
             ],
             [
              0.1111111111111111,
              "#46039f"
             ],
             [
              0.2222222222222222,
              "#7201a8"
             ],
             [
              0.3333333333333333,
              "#9c179e"
             ],
             [
              0.4444444444444444,
              "#bd3786"
             ],
             [
              0.5555555555555556,
              "#d8576b"
             ],
             [
              0.6666666666666666,
              "#ed7953"
             ],
             [
              0.7777777777777778,
              "#fb9f3a"
             ],
             [
              0.8888888888888888,
              "#fdca26"
             ],
             [
              1,
              "#f0f921"
             ]
            ],
            "type": "histogram2d"
           }
          ],
          "histogram2dcontour": [
           {
            "colorbar": {
             "outlinewidth": 0,
             "ticks": ""
            },
            "colorscale": [
             [
              0,
              "#0d0887"
             ],
             [
              0.1111111111111111,
              "#46039f"
             ],
             [
              0.2222222222222222,
              "#7201a8"
             ],
             [
              0.3333333333333333,
              "#9c179e"
             ],
             [
              0.4444444444444444,
              "#bd3786"
             ],
             [
              0.5555555555555556,
              "#d8576b"
             ],
             [
              0.6666666666666666,
              "#ed7953"
             ],
             [
              0.7777777777777778,
              "#fb9f3a"
             ],
             [
              0.8888888888888888,
              "#fdca26"
             ],
             [
              1,
              "#f0f921"
             ]
            ],
            "type": "histogram2dcontour"
           }
          ],
          "mesh3d": [
           {
            "colorbar": {
             "outlinewidth": 0,
             "ticks": ""
            },
            "type": "mesh3d"
           }
          ],
          "parcoords": [
           {
            "line": {
             "colorbar": {
              "outlinewidth": 0,
              "ticks": ""
             }
            },
            "type": "parcoords"
           }
          ],
          "pie": [
           {
            "automargin": true,
            "type": "pie"
           }
          ],
          "scatter": [
           {
            "fillpattern": {
             "fillmode": "overlay",
             "size": 10,
             "solidity": 0.2
            },
            "type": "scatter"
           }
          ],
          "scatter3d": [
           {
            "line": {
             "colorbar": {
              "outlinewidth": 0,
              "ticks": ""
             }
            },
            "marker": {
             "colorbar": {
              "outlinewidth": 0,
              "ticks": ""
             }
            },
            "type": "scatter3d"
           }
          ],
          "scattercarpet": [
           {
            "marker": {
             "colorbar": {
              "outlinewidth": 0,
              "ticks": ""
             }
            },
            "type": "scattercarpet"
           }
          ],
          "scattergeo": [
           {
            "marker": {
             "colorbar": {
              "outlinewidth": 0,
              "ticks": ""
             }
            },
            "type": "scattergeo"
           }
          ],
          "scattergl": [
           {
            "marker": {
             "colorbar": {
              "outlinewidth": 0,
              "ticks": ""
             }
            },
            "type": "scattergl"
           }
          ],
          "scattermap": [
           {
            "marker": {
             "colorbar": {
              "outlinewidth": 0,
              "ticks": ""
             }
            },
            "type": "scattermap"
           }
          ],
          "scattermapbox": [
           {
            "marker": {
             "colorbar": {
              "outlinewidth": 0,
              "ticks": ""
             }
            },
            "type": "scattermapbox"
           }
          ],
          "scatterpolar": [
           {
            "marker": {
             "colorbar": {
              "outlinewidth": 0,
              "ticks": ""
             }
            },
            "type": "scatterpolar"
           }
          ],
          "scatterpolargl": [
           {
            "marker": {
             "colorbar": {
              "outlinewidth": 0,
              "ticks": ""
             }
            },
            "type": "scatterpolargl"
           }
          ],
          "scatterternary": [
           {
            "marker": {
             "colorbar": {
              "outlinewidth": 0,
              "ticks": ""
             }
            },
            "type": "scatterternary"
           }
          ],
          "surface": [
           {
            "colorbar": {
             "outlinewidth": 0,
             "ticks": ""
            },
            "colorscale": [
             [
              0,
              "#0d0887"
             ],
             [
              0.1111111111111111,
              "#46039f"
             ],
             [
              0.2222222222222222,
              "#7201a8"
             ],
             [
              0.3333333333333333,
              "#9c179e"
             ],
             [
              0.4444444444444444,
              "#bd3786"
             ],
             [
              0.5555555555555556,
              "#d8576b"
             ],
             [
              0.6666666666666666,
              "#ed7953"
             ],
             [
              0.7777777777777778,
              "#fb9f3a"
             ],
             [
              0.8888888888888888,
              "#fdca26"
             ],
             [
              1,
              "#f0f921"
             ]
            ],
            "type": "surface"
           }
          ],
          "table": [
           {
            "cells": {
             "fill": {
              "color": "#EBF0F8"
             },
             "line": {
              "color": "white"
             }
            },
            "header": {
             "fill": {
              "color": "#C8D4E3"
             },
             "line": {
              "color": "white"
             }
            },
            "type": "table"
           }
          ]
         },
         "layout": {
          "annotationdefaults": {
           "arrowcolor": "#2a3f5f",
           "arrowhead": 0,
           "arrowwidth": 1
          },
          "autotypenumbers": "strict",
          "coloraxis": {
           "colorbar": {
            "outlinewidth": 0,
            "ticks": ""
           }
          },
          "colorscale": {
           "diverging": [
            [
             0,
             "#8e0152"
            ],
            [
             0.1,
             "#c51b7d"
            ],
            [
             0.2,
             "#de77ae"
            ],
            [
             0.3,
             "#f1b6da"
            ],
            [
             0.4,
             "#fde0ef"
            ],
            [
             0.5,
             "#f7f7f7"
            ],
            [
             0.6,
             "#e6f5d0"
            ],
            [
             0.7,
             "#b8e186"
            ],
            [
             0.8,
             "#7fbc41"
            ],
            [
             0.9,
             "#4d9221"
            ],
            [
             1,
             "#276419"
            ]
           ],
           "sequential": [
            [
             0,
             "#0d0887"
            ],
            [
             0.1111111111111111,
             "#46039f"
            ],
            [
             0.2222222222222222,
             "#7201a8"
            ],
            [
             0.3333333333333333,
             "#9c179e"
            ],
            [
             0.4444444444444444,
             "#bd3786"
            ],
            [
             0.5555555555555556,
             "#d8576b"
            ],
            [
             0.6666666666666666,
             "#ed7953"
            ],
            [
             0.7777777777777778,
             "#fb9f3a"
            ],
            [
             0.8888888888888888,
             "#fdca26"
            ],
            [
             1,
             "#f0f921"
            ]
           ],
           "sequentialminus": [
            [
             0,
             "#0d0887"
            ],
            [
             0.1111111111111111,
             "#46039f"
            ],
            [
             0.2222222222222222,
             "#7201a8"
            ],
            [
             0.3333333333333333,
             "#9c179e"
            ],
            [
             0.4444444444444444,
             "#bd3786"
            ],
            [
             0.5555555555555556,
             "#d8576b"
            ],
            [
             0.6666666666666666,
             "#ed7953"
            ],
            [
             0.7777777777777778,
             "#fb9f3a"
            ],
            [
             0.8888888888888888,
             "#fdca26"
            ],
            [
             1,
             "#f0f921"
            ]
           ]
          },
          "colorway": [
           "#636efa",
           "#EF553B",
           "#00cc96",
           "#ab63fa",
           "#FFA15A",
           "#19d3f3",
           "#FF6692",
           "#B6E880",
           "#FF97FF",
           "#FECB52"
          ],
          "font": {
           "color": "#2a3f5f"
          },
          "geo": {
           "bgcolor": "white",
           "lakecolor": "white",
           "landcolor": "#E5ECF6",
           "showlakes": true,
           "showland": true,
           "subunitcolor": "white"
          },
          "hoverlabel": {
           "align": "left"
          },
          "hovermode": "closest",
          "mapbox": {
           "style": "light"
          },
          "paper_bgcolor": "white",
          "plot_bgcolor": "#E5ECF6",
          "polar": {
           "angularaxis": {
            "gridcolor": "white",
            "linecolor": "white",
            "ticks": ""
           },
           "bgcolor": "#E5ECF6",
           "radialaxis": {
            "gridcolor": "white",
            "linecolor": "white",
            "ticks": ""
           }
          },
          "scene": {
           "xaxis": {
            "backgroundcolor": "#E5ECF6",
            "gridcolor": "white",
            "gridwidth": 2,
            "linecolor": "white",
            "showbackground": true,
            "ticks": "",
            "zerolinecolor": "white"
           },
           "yaxis": {
            "backgroundcolor": "#E5ECF6",
            "gridcolor": "white",
            "gridwidth": 2,
            "linecolor": "white",
            "showbackground": true,
            "ticks": "",
            "zerolinecolor": "white"
           },
           "zaxis": {
            "backgroundcolor": "#E5ECF6",
            "gridcolor": "white",
            "gridwidth": 2,
            "linecolor": "white",
            "showbackground": true,
            "ticks": "",
            "zerolinecolor": "white"
           }
          },
          "shapedefaults": {
           "line": {
            "color": "#2a3f5f"
           }
          },
          "ternary": {
           "aaxis": {
            "gridcolor": "white",
            "linecolor": "white",
            "ticks": ""
           },
           "baxis": {
            "gridcolor": "white",
            "linecolor": "white",
            "ticks": ""
           },
           "bgcolor": "#E5ECF6",
           "caxis": {
            "gridcolor": "white",
            "linecolor": "white",
            "ticks": ""
           }
          },
          "title": {
           "x": 0.05
          },
          "xaxis": {
           "automargin": true,
           "gridcolor": "white",
           "linecolor": "white",
           "ticks": "",
           "title": {
            "standoff": 15
           },
           "zerolinecolor": "white",
           "zerolinewidth": 2
          },
          "yaxis": {
           "automargin": true,
           "gridcolor": "white",
           "linecolor": "white",
           "ticks": "",
           "title": {
            "standoff": 15
           },
           "zerolinecolor": "white",
           "zerolinewidth": 2
          }
         }
        },
        "title": {
         "text": "Average Player Salary by Year"
        },
        "xaxis": {
         "anchor": "y",
         "domain": [
          0,
          1
         ],
         "title": {
          "text": "Year"
         }
        },
        "yaxis": {
         "anchor": "x",
         "domain": [
          0,
          1
         ],
         "title": {
          "text": "Final Price"
         }
        }
       }
      }
     },
     "metadata": {},
     "output_type": "display_data"
    }
   ],
   "source": [
    "# Replace 'Year' and 'Salary' with your actual column names\n",
    "yearly_salary = df.groupby('Year')['Final Price'].mean().reset_index()\n",
    "fig = px.line(yearly_salary, x='Year', y='Final Price', title='Average Player Salary by Year')\n",
    "fig.show()"
   ]
  },
  {
   "cell_type": "markdown",
   "id": "1d772593",
   "metadata": {},
   "source": [
    "#### Number of Unique Players Each Year"
   ]
  },
  {
   "cell_type": "code",
   "execution_count": 50,
   "id": "e0cfbc72",
   "metadata": {},
   "outputs": [
    {
     "data": {
      "application/vnd.plotly.v1+json": {
       "config": {
        "plotlyServerURL": "https://plot.ly"
       },
       "data": [
        {
         "hovertemplate": "Year=%{x}<br>Name=%{y}<extra></extra>",
         "legendgroup": "",
         "line": {
          "color": "#636efa",
          "dash": "solid"
         },
         "marker": {
          "symbol": "circle"
         },
         "mode": "lines",
         "name": "",
         "orientation": "v",
         "showlegend": false,
         "type": "scatter",
         "x": {
          "bdata": "2AfZB9oH2wfcB90H3gffB+AH4Qc=",
          "dtype": "i2"
         },
         "xaxis": "x",
         "y": {
          "bdata": "LwA4AEUAWgBfAHQAigCaAKUAsgA=",
          "dtype": "i2"
         },
         "yaxis": "y"
        }
       ],
       "layout": {
        "legend": {
         "tracegroupgap": 0
        },
        "template": {
         "data": {
          "bar": [
           {
            "error_x": {
             "color": "#2a3f5f"
            },
            "error_y": {
             "color": "#2a3f5f"
            },
            "marker": {
             "line": {
              "color": "#E5ECF6",
              "width": 0.5
             },
             "pattern": {
              "fillmode": "overlay",
              "size": 10,
              "solidity": 0.2
             }
            },
            "type": "bar"
           }
          ],
          "barpolar": [
           {
            "marker": {
             "line": {
              "color": "#E5ECF6",
              "width": 0.5
             },
             "pattern": {
              "fillmode": "overlay",
              "size": 10,
              "solidity": 0.2
             }
            },
            "type": "barpolar"
           }
          ],
          "carpet": [
           {
            "aaxis": {
             "endlinecolor": "#2a3f5f",
             "gridcolor": "white",
             "linecolor": "white",
             "minorgridcolor": "white",
             "startlinecolor": "#2a3f5f"
            },
            "baxis": {
             "endlinecolor": "#2a3f5f",
             "gridcolor": "white",
             "linecolor": "white",
             "minorgridcolor": "white",
             "startlinecolor": "#2a3f5f"
            },
            "type": "carpet"
           }
          ],
          "choropleth": [
           {
            "colorbar": {
             "outlinewidth": 0,
             "ticks": ""
            },
            "type": "choropleth"
           }
          ],
          "contour": [
           {
            "colorbar": {
             "outlinewidth": 0,
             "ticks": ""
            },
            "colorscale": [
             [
              0,
              "#0d0887"
             ],
             [
              0.1111111111111111,
              "#46039f"
             ],
             [
              0.2222222222222222,
              "#7201a8"
             ],
             [
              0.3333333333333333,
              "#9c179e"
             ],
             [
              0.4444444444444444,
              "#bd3786"
             ],
             [
              0.5555555555555556,
              "#d8576b"
             ],
             [
              0.6666666666666666,
              "#ed7953"
             ],
             [
              0.7777777777777778,
              "#fb9f3a"
             ],
             [
              0.8888888888888888,
              "#fdca26"
             ],
             [
              1,
              "#f0f921"
             ]
            ],
            "type": "contour"
           }
          ],
          "contourcarpet": [
           {
            "colorbar": {
             "outlinewidth": 0,
             "ticks": ""
            },
            "type": "contourcarpet"
           }
          ],
          "heatmap": [
           {
            "colorbar": {
             "outlinewidth": 0,
             "ticks": ""
            },
            "colorscale": [
             [
              0,
              "#0d0887"
             ],
             [
              0.1111111111111111,
              "#46039f"
             ],
             [
              0.2222222222222222,
              "#7201a8"
             ],
             [
              0.3333333333333333,
              "#9c179e"
             ],
             [
              0.4444444444444444,
              "#bd3786"
             ],
             [
              0.5555555555555556,
              "#d8576b"
             ],
             [
              0.6666666666666666,
              "#ed7953"
             ],
             [
              0.7777777777777778,
              "#fb9f3a"
             ],
             [
              0.8888888888888888,
              "#fdca26"
             ],
             [
              1,
              "#f0f921"
             ]
            ],
            "type": "heatmap"
           }
          ],
          "histogram": [
           {
            "marker": {
             "pattern": {
              "fillmode": "overlay",
              "size": 10,
              "solidity": 0.2
             }
            },
            "type": "histogram"
           }
          ],
          "histogram2d": [
           {
            "colorbar": {
             "outlinewidth": 0,
             "ticks": ""
            },
            "colorscale": [
             [
              0,
              "#0d0887"
             ],
             [
              0.1111111111111111,
              "#46039f"
             ],
             [
              0.2222222222222222,
              "#7201a8"
             ],
             [
              0.3333333333333333,
              "#9c179e"
             ],
             [
              0.4444444444444444,
              "#bd3786"
             ],
             [
              0.5555555555555556,
              "#d8576b"
             ],
             [
              0.6666666666666666,
              "#ed7953"
             ],
             [
              0.7777777777777778,
              "#fb9f3a"
             ],
             [
              0.8888888888888888,
              "#fdca26"
             ],
             [
              1,
              "#f0f921"
             ]
            ],
            "type": "histogram2d"
           }
          ],
          "histogram2dcontour": [
           {
            "colorbar": {
             "outlinewidth": 0,
             "ticks": ""
            },
            "colorscale": [
             [
              0,
              "#0d0887"
             ],
             [
              0.1111111111111111,
              "#46039f"
             ],
             [
              0.2222222222222222,
              "#7201a8"
             ],
             [
              0.3333333333333333,
              "#9c179e"
             ],
             [
              0.4444444444444444,
              "#bd3786"
             ],
             [
              0.5555555555555556,
              "#d8576b"
             ],
             [
              0.6666666666666666,
              "#ed7953"
             ],
             [
              0.7777777777777778,
              "#fb9f3a"
             ],
             [
              0.8888888888888888,
              "#fdca26"
             ],
             [
              1,
              "#f0f921"
             ]
            ],
            "type": "histogram2dcontour"
           }
          ],
          "mesh3d": [
           {
            "colorbar": {
             "outlinewidth": 0,
             "ticks": ""
            },
            "type": "mesh3d"
           }
          ],
          "parcoords": [
           {
            "line": {
             "colorbar": {
              "outlinewidth": 0,
              "ticks": ""
             }
            },
            "type": "parcoords"
           }
          ],
          "pie": [
           {
            "automargin": true,
            "type": "pie"
           }
          ],
          "scatter": [
           {
            "fillpattern": {
             "fillmode": "overlay",
             "size": 10,
             "solidity": 0.2
            },
            "type": "scatter"
           }
          ],
          "scatter3d": [
           {
            "line": {
             "colorbar": {
              "outlinewidth": 0,
              "ticks": ""
             }
            },
            "marker": {
             "colorbar": {
              "outlinewidth": 0,
              "ticks": ""
             }
            },
            "type": "scatter3d"
           }
          ],
          "scattercarpet": [
           {
            "marker": {
             "colorbar": {
              "outlinewidth": 0,
              "ticks": ""
             }
            },
            "type": "scattercarpet"
           }
          ],
          "scattergeo": [
           {
            "marker": {
             "colorbar": {
              "outlinewidth": 0,
              "ticks": ""
             }
            },
            "type": "scattergeo"
           }
          ],
          "scattergl": [
           {
            "marker": {
             "colorbar": {
              "outlinewidth": 0,
              "ticks": ""
             }
            },
            "type": "scattergl"
           }
          ],
          "scattermap": [
           {
            "marker": {
             "colorbar": {
              "outlinewidth": 0,
              "ticks": ""
             }
            },
            "type": "scattermap"
           }
          ],
          "scattermapbox": [
           {
            "marker": {
             "colorbar": {
              "outlinewidth": 0,
              "ticks": ""
             }
            },
            "type": "scattermapbox"
           }
          ],
          "scatterpolar": [
           {
            "marker": {
             "colorbar": {
              "outlinewidth": 0,
              "ticks": ""
             }
            },
            "type": "scatterpolar"
           }
          ],
          "scatterpolargl": [
           {
            "marker": {
             "colorbar": {
              "outlinewidth": 0,
              "ticks": ""
             }
            },
            "type": "scatterpolargl"
           }
          ],
          "scatterternary": [
           {
            "marker": {
             "colorbar": {
              "outlinewidth": 0,
              "ticks": ""
             }
            },
            "type": "scatterternary"
           }
          ],
          "surface": [
           {
            "colorbar": {
             "outlinewidth": 0,
             "ticks": ""
            },
            "colorscale": [
             [
              0,
              "#0d0887"
             ],
             [
              0.1111111111111111,
              "#46039f"
             ],
             [
              0.2222222222222222,
              "#7201a8"
             ],
             [
              0.3333333333333333,
              "#9c179e"
             ],
             [
              0.4444444444444444,
              "#bd3786"
             ],
             [
              0.5555555555555556,
              "#d8576b"
             ],
             [
              0.6666666666666666,
              "#ed7953"
             ],
             [
              0.7777777777777778,
              "#fb9f3a"
             ],
             [
              0.8888888888888888,
              "#fdca26"
             ],
             [
              1,
              "#f0f921"
             ]
            ],
            "type": "surface"
           }
          ],
          "table": [
           {
            "cells": {
             "fill": {
              "color": "#EBF0F8"
             },
             "line": {
              "color": "white"
             }
            },
            "header": {
             "fill": {
              "color": "#C8D4E3"
             },
             "line": {
              "color": "white"
             }
            },
            "type": "table"
           }
          ]
         },
         "layout": {
          "annotationdefaults": {
           "arrowcolor": "#2a3f5f",
           "arrowhead": 0,
           "arrowwidth": 1
          },
          "autotypenumbers": "strict",
          "coloraxis": {
           "colorbar": {
            "outlinewidth": 0,
            "ticks": ""
           }
          },
          "colorscale": {
           "diverging": [
            [
             0,
             "#8e0152"
            ],
            [
             0.1,
             "#c51b7d"
            ],
            [
             0.2,
             "#de77ae"
            ],
            [
             0.3,
             "#f1b6da"
            ],
            [
             0.4,
             "#fde0ef"
            ],
            [
             0.5,
             "#f7f7f7"
            ],
            [
             0.6,
             "#e6f5d0"
            ],
            [
             0.7,
             "#b8e186"
            ],
            [
             0.8,
             "#7fbc41"
            ],
            [
             0.9,
             "#4d9221"
            ],
            [
             1,
             "#276419"
            ]
           ],
           "sequential": [
            [
             0,
             "#0d0887"
            ],
            [
             0.1111111111111111,
             "#46039f"
            ],
            [
             0.2222222222222222,
             "#7201a8"
            ],
            [
             0.3333333333333333,
             "#9c179e"
            ],
            [
             0.4444444444444444,
             "#bd3786"
            ],
            [
             0.5555555555555556,
             "#d8576b"
            ],
            [
             0.6666666666666666,
             "#ed7953"
            ],
            [
             0.7777777777777778,
             "#fb9f3a"
            ],
            [
             0.8888888888888888,
             "#fdca26"
            ],
            [
             1,
             "#f0f921"
            ]
           ],
           "sequentialminus": [
            [
             0,
             "#0d0887"
            ],
            [
             0.1111111111111111,
             "#46039f"
            ],
            [
             0.2222222222222222,
             "#7201a8"
            ],
            [
             0.3333333333333333,
             "#9c179e"
            ],
            [
             0.4444444444444444,
             "#bd3786"
            ],
            [
             0.5555555555555556,
             "#d8576b"
            ],
            [
             0.6666666666666666,
             "#ed7953"
            ],
            [
             0.7777777777777778,
             "#fb9f3a"
            ],
            [
             0.8888888888888888,
             "#fdca26"
            ],
            [
             1,
             "#f0f921"
            ]
           ]
          },
          "colorway": [
           "#636efa",
           "#EF553B",
           "#00cc96",
           "#ab63fa",
           "#FFA15A",
           "#19d3f3",
           "#FF6692",
           "#B6E880",
           "#FF97FF",
           "#FECB52"
          ],
          "font": {
           "color": "#2a3f5f"
          },
          "geo": {
           "bgcolor": "white",
           "lakecolor": "white",
           "landcolor": "#E5ECF6",
           "showlakes": true,
           "showland": true,
           "subunitcolor": "white"
          },
          "hoverlabel": {
           "align": "left"
          },
          "hovermode": "closest",
          "mapbox": {
           "style": "light"
          },
          "paper_bgcolor": "white",
          "plot_bgcolor": "#E5ECF6",
          "polar": {
           "angularaxis": {
            "gridcolor": "white",
            "linecolor": "white",
            "ticks": ""
           },
           "bgcolor": "#E5ECF6",
           "radialaxis": {
            "gridcolor": "white",
            "linecolor": "white",
            "ticks": ""
           }
          },
          "scene": {
           "xaxis": {
            "backgroundcolor": "#E5ECF6",
            "gridcolor": "white",
            "gridwidth": 2,
            "linecolor": "white",
            "showbackground": true,
            "ticks": "",
            "zerolinecolor": "white"
           },
           "yaxis": {
            "backgroundcolor": "#E5ECF6",
            "gridcolor": "white",
            "gridwidth": 2,
            "linecolor": "white",
            "showbackground": true,
            "ticks": "",
            "zerolinecolor": "white"
           },
           "zaxis": {
            "backgroundcolor": "#E5ECF6",
            "gridcolor": "white",
            "gridwidth": 2,
            "linecolor": "white",
            "showbackground": true,
            "ticks": "",
            "zerolinecolor": "white"
           }
          },
          "shapedefaults": {
           "line": {
            "color": "#2a3f5f"
           }
          },
          "ternary": {
           "aaxis": {
            "gridcolor": "white",
            "linecolor": "white",
            "ticks": ""
           },
           "baxis": {
            "gridcolor": "white",
            "linecolor": "white",
            "ticks": ""
           },
           "bgcolor": "#E5ECF6",
           "caxis": {
            "gridcolor": "white",
            "linecolor": "white",
            "ticks": ""
           }
          },
          "title": {
           "x": 0.05
          },
          "xaxis": {
           "automargin": true,
           "gridcolor": "white",
           "linecolor": "white",
           "ticks": "",
           "title": {
            "standoff": 15
           },
           "zerolinecolor": "white",
           "zerolinewidth": 2
          },
          "yaxis": {
           "automargin": true,
           "gridcolor": "white",
           "linecolor": "white",
           "ticks": "",
           "title": {
            "standoff": 15
           },
           "zerolinecolor": "white",
           "zerolinewidth": 2
          }
         }
        },
        "title": {
         "text": "Number of Unique Players Each Year"
        },
        "xaxis": {
         "anchor": "y",
         "domain": [
          0,
          1
         ],
         "title": {
          "text": "Year"
         }
        },
        "yaxis": {
         "anchor": "x",
         "domain": [
          0,
          1
         ],
         "title": {
          "text": "Name"
         }
        }
       }
      }
     },
     "metadata": {},
     "output_type": "display_data"
    }
   ],
   "source": [
    "unique_players = df.groupby('Year')['Name'].nunique().reset_index()\n",
    "fig = px.line(unique_players, x='Year', y='Name', title='Number of Unique Players Each Year')\n",
    "fig.show()"
   ]
  },
  {
   "cell_type": "markdown",
   "id": "4a94d660",
   "metadata": {},
   "source": [
    "#### Top Player’s Runs Over the Years"
   ]
  },
  {
   "cell_type": "code",
   "execution_count": 51,
   "id": "a141ed28",
   "metadata": {},
   "outputs": [
    {
     "data": {
      "application/vnd.plotly.v1+json": {
       "config": {
        "plotlyServerURL": "https://plot.ly"
       },
       "data": [
        {
         "hovertemplate": "Year=%{x}<br>Runs=%{y}<extra></extra>",
         "legendgroup": "",
         "line": {
          "color": "#636efa",
          "dash": "solid"
         },
         "marker": {
          "symbol": "circle"
         },
         "mode": "lines",
         "name": "",
         "orientation": "v",
         "showlegend": false,
         "type": "scatter",
         "x": {
          "bdata": "2AfZB9oH2wfcB90H3gffB+AH4Qc=",
          "dtype": "i2"
         },
         "xaxis": "x",
         "y": {
          "bdata": "pQGyAQgCtgG5ASQCCwJ2AY8BugE=",
          "dtype": "i2"
         },
         "yaxis": "y"
        }
       ],
       "layout": {
        "legend": {
         "tracegroupgap": 0
        },
        "template": {
         "data": {
          "bar": [
           {
            "error_x": {
             "color": "#2a3f5f"
            },
            "error_y": {
             "color": "#2a3f5f"
            },
            "marker": {
             "line": {
              "color": "#E5ECF6",
              "width": 0.5
             },
             "pattern": {
              "fillmode": "overlay",
              "size": 10,
              "solidity": 0.2
             }
            },
            "type": "bar"
           }
          ],
          "barpolar": [
           {
            "marker": {
             "line": {
              "color": "#E5ECF6",
              "width": 0.5
             },
             "pattern": {
              "fillmode": "overlay",
              "size": 10,
              "solidity": 0.2
             }
            },
            "type": "barpolar"
           }
          ],
          "carpet": [
           {
            "aaxis": {
             "endlinecolor": "#2a3f5f",
             "gridcolor": "white",
             "linecolor": "white",
             "minorgridcolor": "white",
             "startlinecolor": "#2a3f5f"
            },
            "baxis": {
             "endlinecolor": "#2a3f5f",
             "gridcolor": "white",
             "linecolor": "white",
             "minorgridcolor": "white",
             "startlinecolor": "#2a3f5f"
            },
            "type": "carpet"
           }
          ],
          "choropleth": [
           {
            "colorbar": {
             "outlinewidth": 0,
             "ticks": ""
            },
            "type": "choropleth"
           }
          ],
          "contour": [
           {
            "colorbar": {
             "outlinewidth": 0,
             "ticks": ""
            },
            "colorscale": [
             [
              0,
              "#0d0887"
             ],
             [
              0.1111111111111111,
              "#46039f"
             ],
             [
              0.2222222222222222,
              "#7201a8"
             ],
             [
              0.3333333333333333,
              "#9c179e"
             ],
             [
              0.4444444444444444,
              "#bd3786"
             ],
             [
              0.5555555555555556,
              "#d8576b"
             ],
             [
              0.6666666666666666,
              "#ed7953"
             ],
             [
              0.7777777777777778,
              "#fb9f3a"
             ],
             [
              0.8888888888888888,
              "#fdca26"
             ],
             [
              1,
              "#f0f921"
             ]
            ],
            "type": "contour"
           }
          ],
          "contourcarpet": [
           {
            "colorbar": {
             "outlinewidth": 0,
             "ticks": ""
            },
            "type": "contourcarpet"
           }
          ],
          "heatmap": [
           {
            "colorbar": {
             "outlinewidth": 0,
             "ticks": ""
            },
            "colorscale": [
             [
              0,
              "#0d0887"
             ],
             [
              0.1111111111111111,
              "#46039f"
             ],
             [
              0.2222222222222222,
              "#7201a8"
             ],
             [
              0.3333333333333333,
              "#9c179e"
             ],
             [
              0.4444444444444444,
              "#bd3786"
             ],
             [
              0.5555555555555556,
              "#d8576b"
             ],
             [
              0.6666666666666666,
              "#ed7953"
             ],
             [
              0.7777777777777778,
              "#fb9f3a"
             ],
             [
              0.8888888888888888,
              "#fdca26"
             ],
             [
              1,
              "#f0f921"
             ]
            ],
            "type": "heatmap"
           }
          ],
          "histogram": [
           {
            "marker": {
             "pattern": {
              "fillmode": "overlay",
              "size": 10,
              "solidity": 0.2
             }
            },
            "type": "histogram"
           }
          ],
          "histogram2d": [
           {
            "colorbar": {
             "outlinewidth": 0,
             "ticks": ""
            },
            "colorscale": [
             [
              0,
              "#0d0887"
             ],
             [
              0.1111111111111111,
              "#46039f"
             ],
             [
              0.2222222222222222,
              "#7201a8"
             ],
             [
              0.3333333333333333,
              "#9c179e"
             ],
             [
              0.4444444444444444,
              "#bd3786"
             ],
             [
              0.5555555555555556,
              "#d8576b"
             ],
             [
              0.6666666666666666,
              "#ed7953"
             ],
             [
              0.7777777777777778,
              "#fb9f3a"
             ],
             [
              0.8888888888888888,
              "#fdca26"
             ],
             [
              1,
              "#f0f921"
             ]
            ],
            "type": "histogram2d"
           }
          ],
          "histogram2dcontour": [
           {
            "colorbar": {
             "outlinewidth": 0,
             "ticks": ""
            },
            "colorscale": [
             [
              0,
              "#0d0887"
             ],
             [
              0.1111111111111111,
              "#46039f"
             ],
             [
              0.2222222222222222,
              "#7201a8"
             ],
             [
              0.3333333333333333,
              "#9c179e"
             ],
             [
              0.4444444444444444,
              "#bd3786"
             ],
             [
              0.5555555555555556,
              "#d8576b"
             ],
             [
              0.6666666666666666,
              "#ed7953"
             ],
             [
              0.7777777777777778,
              "#fb9f3a"
             ],
             [
              0.8888888888888888,
              "#fdca26"
             ],
             [
              1,
              "#f0f921"
             ]
            ],
            "type": "histogram2dcontour"
           }
          ],
          "mesh3d": [
           {
            "colorbar": {
             "outlinewidth": 0,
             "ticks": ""
            },
            "type": "mesh3d"
           }
          ],
          "parcoords": [
           {
            "line": {
             "colorbar": {
              "outlinewidth": 0,
              "ticks": ""
             }
            },
            "type": "parcoords"
           }
          ],
          "pie": [
           {
            "automargin": true,
            "type": "pie"
           }
          ],
          "scatter": [
           {
            "fillpattern": {
             "fillmode": "overlay",
             "size": 10,
             "solidity": 0.2
            },
            "type": "scatter"
           }
          ],
          "scatter3d": [
           {
            "line": {
             "colorbar": {
              "outlinewidth": 0,
              "ticks": ""
             }
            },
            "marker": {
             "colorbar": {
              "outlinewidth": 0,
              "ticks": ""
             }
            },
            "type": "scatter3d"
           }
          ],
          "scattercarpet": [
           {
            "marker": {
             "colorbar": {
              "outlinewidth": 0,
              "ticks": ""
             }
            },
            "type": "scattercarpet"
           }
          ],
          "scattergeo": [
           {
            "marker": {
             "colorbar": {
              "outlinewidth": 0,
              "ticks": ""
             }
            },
            "type": "scattergeo"
           }
          ],
          "scattergl": [
           {
            "marker": {
             "colorbar": {
              "outlinewidth": 0,
              "ticks": ""
             }
            },
            "type": "scattergl"
           }
          ],
          "scattermap": [
           {
            "marker": {
             "colorbar": {
              "outlinewidth": 0,
              "ticks": ""
             }
            },
            "type": "scattermap"
           }
          ],
          "scattermapbox": [
           {
            "marker": {
             "colorbar": {
              "outlinewidth": 0,
              "ticks": ""
             }
            },
            "type": "scattermapbox"
           }
          ],
          "scatterpolar": [
           {
            "marker": {
             "colorbar": {
              "outlinewidth": 0,
              "ticks": ""
             }
            },
            "type": "scatterpolar"
           }
          ],
          "scatterpolargl": [
           {
            "marker": {
             "colorbar": {
              "outlinewidth": 0,
              "ticks": ""
             }
            },
            "type": "scatterpolargl"
           }
          ],
          "scatterternary": [
           {
            "marker": {
             "colorbar": {
              "outlinewidth": 0,
              "ticks": ""
             }
            },
            "type": "scatterternary"
           }
          ],
          "surface": [
           {
            "colorbar": {
             "outlinewidth": 0,
             "ticks": ""
            },
            "colorscale": [
             [
              0,
              "#0d0887"
             ],
             [
              0.1111111111111111,
              "#46039f"
             ],
             [
              0.2222222222222222,
              "#7201a8"
             ],
             [
              0.3333333333333333,
              "#9c179e"
             ],
             [
              0.4444444444444444,
              "#bd3786"
             ],
             [
              0.5555555555555556,
              "#d8576b"
             ],
             [
              0.6666666666666666,
              "#ed7953"
             ],
             [
              0.7777777777777778,
              "#fb9f3a"
             ],
             [
              0.8888888888888888,
              "#fdca26"
             ],
             [
              1,
              "#f0f921"
             ]
            ],
            "type": "surface"
           }
          ],
          "table": [
           {
            "cells": {
             "fill": {
              "color": "#EBF0F8"
             },
             "line": {
              "color": "white"
             }
            },
            "header": {
             "fill": {
              "color": "#C8D4E3"
             },
             "line": {
              "color": "white"
             }
            },
            "type": "table"
           }
          ]
         },
         "layout": {
          "annotationdefaults": {
           "arrowcolor": "#2a3f5f",
           "arrowhead": 0,
           "arrowwidth": 1
          },
          "autotypenumbers": "strict",
          "coloraxis": {
           "colorbar": {
            "outlinewidth": 0,
            "ticks": ""
           }
          },
          "colorscale": {
           "diverging": [
            [
             0,
             "#8e0152"
            ],
            [
             0.1,
             "#c51b7d"
            ],
            [
             0.2,
             "#de77ae"
            ],
            [
             0.3,
             "#f1b6da"
            ],
            [
             0.4,
             "#fde0ef"
            ],
            [
             0.5,
             "#f7f7f7"
            ],
            [
             0.6,
             "#e6f5d0"
            ],
            [
             0.7,
             "#b8e186"
            ],
            [
             0.8,
             "#7fbc41"
            ],
            [
             0.9,
             "#4d9221"
            ],
            [
             1,
             "#276419"
            ]
           ],
           "sequential": [
            [
             0,
             "#0d0887"
            ],
            [
             0.1111111111111111,
             "#46039f"
            ],
            [
             0.2222222222222222,
             "#7201a8"
            ],
            [
             0.3333333333333333,
             "#9c179e"
            ],
            [
             0.4444444444444444,
             "#bd3786"
            ],
            [
             0.5555555555555556,
             "#d8576b"
            ],
            [
             0.6666666666666666,
             "#ed7953"
            ],
            [
             0.7777777777777778,
             "#fb9f3a"
            ],
            [
             0.8888888888888888,
             "#fdca26"
            ],
            [
             1,
             "#f0f921"
            ]
           ],
           "sequentialminus": [
            [
             0,
             "#0d0887"
            ],
            [
             0.1111111111111111,
             "#46039f"
            ],
            [
             0.2222222222222222,
             "#7201a8"
            ],
            [
             0.3333333333333333,
             "#9c179e"
            ],
            [
             0.4444444444444444,
             "#bd3786"
            ],
            [
             0.5555555555555556,
             "#d8576b"
            ],
            [
             0.6666666666666666,
             "#ed7953"
            ],
            [
             0.7777777777777778,
             "#fb9f3a"
            ],
            [
             0.8888888888888888,
             "#fdca26"
            ],
            [
             1,
             "#f0f921"
            ]
           ]
          },
          "colorway": [
           "#636efa",
           "#EF553B",
           "#00cc96",
           "#ab63fa",
           "#FFA15A",
           "#19d3f3",
           "#FF6692",
           "#B6E880",
           "#FF97FF",
           "#FECB52"
          ],
          "font": {
           "color": "#2a3f5f"
          },
          "geo": {
           "bgcolor": "white",
           "lakecolor": "white",
           "landcolor": "#E5ECF6",
           "showlakes": true,
           "showland": true,
           "subunitcolor": "white"
          },
          "hoverlabel": {
           "align": "left"
          },
          "hovermode": "closest",
          "mapbox": {
           "style": "light"
          },
          "paper_bgcolor": "white",
          "plot_bgcolor": "#E5ECF6",
          "polar": {
           "angularaxis": {
            "gridcolor": "white",
            "linecolor": "white",
            "ticks": ""
           },
           "bgcolor": "#E5ECF6",
           "radialaxis": {
            "gridcolor": "white",
            "linecolor": "white",
            "ticks": ""
           }
          },
          "scene": {
           "xaxis": {
            "backgroundcolor": "#E5ECF6",
            "gridcolor": "white",
            "gridwidth": 2,
            "linecolor": "white",
            "showbackground": true,
            "ticks": "",
            "zerolinecolor": "white"
           },
           "yaxis": {
            "backgroundcolor": "#E5ECF6",
            "gridcolor": "white",
            "gridwidth": 2,
            "linecolor": "white",
            "showbackground": true,
            "ticks": "",
            "zerolinecolor": "white"
           },
           "zaxis": {
            "backgroundcolor": "#E5ECF6",
            "gridcolor": "white",
            "gridwidth": 2,
            "linecolor": "white",
            "showbackground": true,
            "ticks": "",
            "zerolinecolor": "white"
           }
          },
          "shapedefaults": {
           "line": {
            "color": "#2a3f5f"
           }
          },
          "ternary": {
           "aaxis": {
            "gridcolor": "white",
            "linecolor": "white",
            "ticks": ""
           },
           "baxis": {
            "gridcolor": "white",
            "linecolor": "white",
            "ticks": ""
           },
           "bgcolor": "#E5ECF6",
           "caxis": {
            "gridcolor": "white",
            "linecolor": "white",
            "ticks": ""
           }
          },
          "title": {
           "x": 0.05
          },
          "xaxis": {
           "automargin": true,
           "gridcolor": "white",
           "linecolor": "white",
           "ticks": "",
           "title": {
            "standoff": 15
           },
           "zerolinecolor": "white",
           "zerolinewidth": 2
          },
          "yaxis": {
           "automargin": true,
           "gridcolor": "white",
           "linecolor": "white",
           "ticks": "",
           "title": {
            "standoff": 15
           },
           "zerolinecolor": "white",
           "zerolinewidth": 2
          }
         }
        },
        "title": {
         "text": "Suresh Raina Runs Over the Years"
        },
        "xaxis": {
         "anchor": "y",
         "domain": [
          0,
          1
         ],
         "title": {
          "text": "Year"
         }
        },
        "yaxis": {
         "anchor": "x",
         "domain": [
          0,
          1
         ],
         "title": {
          "text": "Runs"
         }
        }
       }
      }
     },
     "metadata": {},
     "output_type": "display_data"
    }
   ],
   "source": [
    "# Replace 'Player' and 'Runs' with your actual column names\n",
    "top_player = df.groupby(['Year', 'Name'])['Runs'].sum().reset_index()\n",
    "top_player_name = top_player.groupby('Name')['Runs'].sum().idxmax()\n",
    "top_player_data = top_player[top_player['Name'] == top_player_name]\n",
    "fig = px.line(top_player_data, x='Year', y='Runs', title=f'{top_player_name} Runs Over the Years')\n",
    "fig.show()"
   ]
  }
 ],
 "metadata": {
  "kernelspec": {
   "display_name": "Python 3",
   "language": "python",
   "name": "python3"
  },
  "language_info": {
   "codemirror_mode": {
    "name": "ipython",
    "version": 3
   },
   "file_extension": ".py",
   "mimetype": "text/x-python",
   "name": "python",
   "nbconvert_exporter": "python",
   "pygments_lexer": "ipython3",
   "version": "3.10.2"
  }
 },
 "nbformat": 4,
 "nbformat_minor": 5
}
