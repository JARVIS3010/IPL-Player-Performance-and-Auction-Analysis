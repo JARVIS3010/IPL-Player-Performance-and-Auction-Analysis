{
 "cells": [
  {
   "cell_type": "code",
   "execution_count": 1,
   "id": "98bfbc05",
   "metadata": {},
   "outputs": [],
   "source": [
    "import pandas as pd\n",
    "import plotly.express as px"
   ]
  },
  {
   "cell_type": "markdown",
   "id": "98ca5afd",
   "metadata": {},
   "source": [
    "### EDA"
   ]
  },
  {
   "cell_type": "code",
   "execution_count": 2,
   "id": "beb6a653",
   "metadata": {},
   "outputs": [
    {
     "data": {
      "text/html": [
       "<div>\n",
       "<style scoped>\n",
       "    .dataframe tbody tr th:only-of-type {\n",
       "        vertical-align: middle;\n",
       "    }\n",
       "\n",
       "    .dataframe tbody tr th {\n",
       "        vertical-align: top;\n",
       "    }\n",
       "\n",
       "    .dataframe thead th {\n",
       "        text-align: right;\n",
       "    }\n",
       "</style>\n",
       "<table border=\"1\" class=\"dataframe\">\n",
       "  <thead>\n",
       "    <tr style=\"text-align: right;\">\n",
       "      <th></th>\n",
       "      <th>Unnamed: 0</th>\n",
       "      <th>Player</th>\n",
       "      <th>Base Price</th>\n",
       "      <th>TYPE</th>\n",
       "      <th>COST IN ₹ (CR.)</th>\n",
       "      <th>Cost IN $ (000)</th>\n",
       "      <th>2023 Squad</th>\n",
       "      <th>Team</th>\n",
       "    </tr>\n",
       "  </thead>\n",
       "  <tbody>\n",
       "    <tr>\n",
       "      <th>0</th>\n",
       "      <td>0</td>\n",
       "      <td>Spencer Johnson</td>\n",
       "      <td>5000000</td>\n",
       "      <td>BOWLER</td>\n",
       "      <td>10.0</td>\n",
       "      <td>1200.0</td>\n",
       "      <td>NaN</td>\n",
       "      <td>Gujarat Titans</td>\n",
       "    </tr>\n",
       "    <tr>\n",
       "      <th>1</th>\n",
       "      <td>1</td>\n",
       "      <td>Shahrukh Khan</td>\n",
       "      <td>4000000</td>\n",
       "      <td>ALL-ROUNDER</td>\n",
       "      <td>7.4</td>\n",
       "      <td>888.0</td>\n",
       "      <td>PBKS</td>\n",
       "      <td>Gujarat Titans</td>\n",
       "    </tr>\n",
       "    <tr>\n",
       "      <th>2</th>\n",
       "      <td>2</td>\n",
       "      <td>Umesh Yadav</td>\n",
       "      <td>20000000</td>\n",
       "      <td>BOWLER</td>\n",
       "      <td>5.8</td>\n",
       "      <td>696.0</td>\n",
       "      <td>KKR</td>\n",
       "      <td>Gujarat Titans</td>\n",
       "    </tr>\n",
       "    <tr>\n",
       "      <th>3</th>\n",
       "      <td>3</td>\n",
       "      <td>Robin Minz</td>\n",
       "      <td>2000000</td>\n",
       "      <td>WICKETKEEPER</td>\n",
       "      <td>3.6</td>\n",
       "      <td>432.0</td>\n",
       "      <td>NaN</td>\n",
       "      <td>Gujarat Titans</td>\n",
       "    </tr>\n",
       "    <tr>\n",
       "      <th>4</th>\n",
       "      <td>4</td>\n",
       "      <td>Sushant Mishra</td>\n",
       "      <td>2000000</td>\n",
       "      <td>BOWLER</td>\n",
       "      <td>2.2</td>\n",
       "      <td>264.0</td>\n",
       "      <td>NaN</td>\n",
       "      <td>Gujarat Titans</td>\n",
       "    </tr>\n",
       "  </tbody>\n",
       "</table>\n",
       "</div>"
      ],
      "text/plain": [
       "   Unnamed: 0           Player Base Price          TYPE  COST IN ₹ (CR.)  \\\n",
       "0           0  Spencer Johnson    5000000        BOWLER             10.0   \n",
       "1           1    Shahrukh Khan    4000000   ALL-ROUNDER              7.4   \n",
       "2           2      Umesh Yadav   20000000        BOWLER              5.8   \n",
       "3           3       Robin Minz    2000000  WICKETKEEPER              3.6   \n",
       "4           4   Sushant Mishra    2000000        BOWLER              2.2   \n",
       "\n",
       "   Cost IN $ (000) 2023 Squad            Team  \n",
       "0           1200.0        NaN  Gujarat Titans  \n",
       "1            888.0       PBKS  Gujarat Titans  \n",
       "2            696.0        KKR  Gujarat Titans  \n",
       "3            432.0        NaN  Gujarat Titans  \n",
       "4            264.0        NaN  Gujarat Titans  "
      ]
     },
     "execution_count": 2,
     "metadata": {},
     "output_type": "execute_result"
    }
   ],
   "source": [
    "import pandas as pd\n",
    "\n",
    "df = pd.read_csv(r'C:\\Users\\Mohak kansal\\Documents\\Coding\\Projects\\IPL Auction Analytics & Team Performance Prediction Dashboard\\Data Collection and Cleaning\\Used Datasets\\3.) IPL AUCTION 2024 DATASET\\IPL AUCTION 2024 DATASET.csv')\n",
    "df.head()\n"
   ]
  },
  {
   "cell_type": "code",
   "execution_count": 3,
   "id": "39495fcc",
   "metadata": {},
   "outputs": [
    {
     "name": "stdout",
     "output_type": "stream",
     "text": [
      "<class 'pandas.core.frame.DataFrame'>\n",
      "RangeIndex: 675 entries, 0 to 674\n",
      "Data columns (total 8 columns):\n",
      " #   Column           Non-Null Count  Dtype  \n",
      "---  ------           --------------  -----  \n",
      " 0   Unnamed: 0       675 non-null    int64  \n",
      " 1   Player           675 non-null    object \n",
      " 2   Base Price       675 non-null    object \n",
      " 3   TYPE             333 non-null    object \n",
      " 4   COST IN ₹ (CR.)  240 non-null    float64\n",
      " 5   Cost IN $ (000)  240 non-null    float64\n",
      " 6   2023 Squad       67 non-null     object \n",
      " 7   Team             675 non-null    object \n",
      "dtypes: float64(2), int64(1), object(5)\n",
      "memory usage: 42.3+ KB\n"
     ]
    }
   ],
   "source": [
    "df.info()"
   ]
  },
  {
   "cell_type": "code",
   "execution_count": 4,
   "id": "ea163cef",
   "metadata": {},
   "outputs": [
    {
     "data": {
      "text/html": [
       "<div>\n",
       "<style scoped>\n",
       "    .dataframe tbody tr th:only-of-type {\n",
       "        vertical-align: middle;\n",
       "    }\n",
       "\n",
       "    .dataframe tbody tr th {\n",
       "        vertical-align: top;\n",
       "    }\n",
       "\n",
       "    .dataframe thead th {\n",
       "        text-align: right;\n",
       "    }\n",
       "</style>\n",
       "<table border=\"1\" class=\"dataframe\">\n",
       "  <thead>\n",
       "    <tr style=\"text-align: right;\">\n",
       "      <th></th>\n",
       "      <th>Unnamed: 0</th>\n",
       "      <th>COST IN ₹ (CR.)</th>\n",
       "      <th>Cost IN $ (000)</th>\n",
       "    </tr>\n",
       "  </thead>\n",
       "  <tbody>\n",
       "    <tr>\n",
       "      <th>count</th>\n",
       "      <td>675.0</td>\n",
       "      <td>240.000000</td>\n",
       "      <td>240.000000</td>\n",
       "    </tr>\n",
       "    <tr>\n",
       "      <th>mean</th>\n",
       "      <td>337.0</td>\n",
       "      <td>0.960208</td>\n",
       "      <td>112.925000</td>\n",
       "    </tr>\n",
       "    <tr>\n",
       "      <th>std</th>\n",
       "      <td>195.0</td>\n",
       "      <td>2.934421</td>\n",
       "      <td>351.066842</td>\n",
       "    </tr>\n",
       "    <tr>\n",
       "      <th>min</th>\n",
       "      <td>0.0</td>\n",
       "      <td>0.000000</td>\n",
       "      <td>0.000000</td>\n",
       "    </tr>\n",
       "    <tr>\n",
       "      <th>25%</th>\n",
       "      <td>168.5</td>\n",
       "      <td>0.000000</td>\n",
       "      <td>0.000000</td>\n",
       "    </tr>\n",
       "    <tr>\n",
       "      <th>50%</th>\n",
       "      <td>337.0</td>\n",
       "      <td>0.000000</td>\n",
       "      <td>0.000000</td>\n",
       "    </tr>\n",
       "    <tr>\n",
       "      <th>75%</th>\n",
       "      <td>505.5</td>\n",
       "      <td>0.200000</td>\n",
       "      <td>24.000000</td>\n",
       "    </tr>\n",
       "    <tr>\n",
       "      <th>max</th>\n",
       "      <td>674.0</td>\n",
       "      <td>24.750000</td>\n",
       "      <td>2970.000000</td>\n",
       "    </tr>\n",
       "  </tbody>\n",
       "</table>\n",
       "</div>"
      ],
      "text/plain": [
       "       Unnamed: 0  COST IN ₹ (CR.)  Cost IN $ (000)\n",
       "count       675.0       240.000000       240.000000\n",
       "mean        337.0         0.960208       112.925000\n",
       "std         195.0         2.934421       351.066842\n",
       "min           0.0         0.000000         0.000000\n",
       "25%         168.5         0.000000         0.000000\n",
       "50%         337.0         0.000000         0.000000\n",
       "75%         505.5         0.200000        24.000000\n",
       "max         674.0        24.750000      2970.000000"
      ]
     },
     "execution_count": 4,
     "metadata": {},
     "output_type": "execute_result"
    }
   ],
   "source": [
    "df.describe()"
   ]
  },
  {
   "cell_type": "code",
   "execution_count": 5,
   "id": "19fbd2cb",
   "metadata": {},
   "outputs": [
    {
     "data": {
      "text/plain": [
       "Unnamed: 0           0\n",
       "Player               0\n",
       "Base Price           0\n",
       "TYPE               342\n",
       "COST IN ₹ (CR.)    435\n",
       "Cost IN $ (000)    435\n",
       "2023 Squad         608\n",
       "Team                 0\n",
       "dtype: int64"
      ]
     },
     "execution_count": 5,
     "metadata": {},
     "output_type": "execute_result"
    }
   ],
   "source": [
    "df.isnull().sum()"
   ]
  },
  {
   "cell_type": "code",
   "execution_count": 6,
   "id": "f9bc5ced",
   "metadata": {},
   "outputs": [
    {
     "data": {
      "text/plain": [
       "np.int64(0)"
      ]
     },
     "execution_count": 6,
     "metadata": {},
     "output_type": "execute_result"
    }
   ],
   "source": [
    "df.duplicated().sum()"
   ]
  },
  {
   "cell_type": "code",
   "execution_count": 7,
   "id": "69599217",
   "metadata": {},
   "outputs": [
    {
     "data": {
      "text/plain": [
       "Index(['Unnamed: 0', 'Player', 'Base Price', 'TYPE', 'COST IN ₹ (CR.)',\n",
       "       'Cost IN $ (000)', '2023 Squad', 'Team'],\n",
       "      dtype='object')"
      ]
     },
     "execution_count": 7,
     "metadata": {},
     "output_type": "execute_result"
    }
   ],
   "source": [
    "df.columns"
   ]
  },
  {
   "cell_type": "markdown",
   "id": "8f7a0f2f",
   "metadata": {},
   "source": [
    "#### Unique Values in Key Columns"
   ]
  },
  {
   "cell_type": "code",
   "execution_count": null,
   "id": "754e2c7b",
   "metadata": {},
   "outputs": [],
   "source": []
  },
  {
   "cell_type": "code",
   "execution_count": 8,
   "id": "f123f77f",
   "metadata": {},
   "outputs": [
    {
     "name": "stdout",
     "output_type": "stream",
     "text": [
      "Unnamed: 0: 675 unique values\n",
      "Player: 503 unique values\n",
      "Base Price: 10 unique values\n",
      "TYPE: 4 unique values\n",
      "COST IN ₹ (CR.): 32 unique values\n",
      "Cost IN $ (000): 31 unique values\n",
      "2023 Squad: 10 unique values\n",
      "Team: 11 unique values\n"
     ]
    }
   ],
   "source": [
    "for col in df.columns:\n",
    "    print(f\"{col}: {df[col].nunique()} unique values\")"
   ]
  },
  {
   "cell_type": "markdown",
   "id": "1c7ac93c",
   "metadata": {},
   "source": [
    "#### Top 10 Most Expensive Buys"
   ]
  },
  {
   "cell_type": "code",
   "execution_count": 9,
   "id": "8e59056f",
   "metadata": {},
   "outputs": [
    {
     "data": {
      "application/vnd.plotly.v1+json": {
       "config": {
        "plotlyServerURL": "https://plot.ly"
       },
       "data": [
        {
         "hovertemplate": "Team=Kolkata Knight Riders<br>Player=%{x}<br>COST IN ₹ (CR.)=%{y}<extra></extra>",
         "legendgroup": "Kolkata Knight Riders",
         "marker": {
          "color": "#636efa",
          "pattern": {
           "shape": ""
          }
         },
         "name": "Kolkata Knight Riders",
         "orientation": "v",
         "showlegend": true,
         "textposition": "auto",
         "type": "bar",
         "x": [
          "Mitchell Starc"
         ],
         "xaxis": "x",
         "y": {
          "bdata": "AAAAAADAOEA=",
          "dtype": "f8"
         },
         "yaxis": "y"
        },
        {
         "hovertemplate": "Team=Sunrisers Hyderabad<br>Player=%{x}<br>COST IN ₹ (CR.)=%{y}<extra></extra>",
         "legendgroup": "Sunrisers Hyderabad",
         "marker": {
          "color": "#EF553B",
          "pattern": {
           "shape": ""
          }
         },
         "name": "Sunrisers Hyderabad",
         "orientation": "v",
         "showlegend": true,
         "textposition": "auto",
         "type": "bar",
         "x": [
          "Pat Cummins"
         ],
         "xaxis": "x",
         "y": {
          "bdata": "AAAAAACANEA=",
          "dtype": "f8"
         },
         "yaxis": "y"
        },
        {
         "hovertemplate": "Team=Chennai Super Kings<br>Player=%{x}<br>COST IN ₹ (CR.)=%{y}<extra></extra>",
         "legendgroup": "Chennai Super Kings",
         "marker": {
          "color": "#00cc96",
          "pattern": {
           "shape": ""
          }
         },
         "name": "Chennai Super Kings",
         "orientation": "v",
         "showlegend": true,
         "textposition": "auto",
         "type": "bar",
         "x": [
          "Daryl Mitchell",
          "Sameer Rizvi"
         ],
         "xaxis": "x",
         "y": {
          "bdata": "AAAAAAAALEDNzMzMzMwgQA==",
          "dtype": "f8"
         },
         "yaxis": "y"
        },
        {
         "hovertemplate": "Team=Punjab Kings<br>Player=%{x}<br>COST IN ₹ (CR.)=%{y}<extra></extra>",
         "legendgroup": "Punjab Kings",
         "marker": {
          "color": "#ab63fa",
          "pattern": {
           "shape": ""
          }
         },
         "name": "Punjab Kings",
         "orientation": "v",
         "showlegend": true,
         "textposition": "auto",
         "type": "bar",
         "x": [
          "Harshal Patel",
          "Rilee Rossouw"
         ],
         "xaxis": "x",
         "y": {
          "bdata": "AAAAAACAJ0AAAAAAAAAgQA==",
          "dtype": "f8"
         },
         "yaxis": "y"
        },
        {
         "hovertemplate": "Team=Royal Challengers Bengaluru<br>Player=%{x}<br>COST IN ₹ (CR.)=%{y}<extra></extra>",
         "legendgroup": "Royal Challengers Bengaluru",
         "marker": {
          "color": "#FFA15A",
          "pattern": {
           "shape": ""
          }
         },
         "name": "Royal Challengers Bengaluru",
         "orientation": "v",
         "showlegend": true,
         "textposition": "auto",
         "type": "bar",
         "x": [
          "Alzarri Joseph"
         ],
         "xaxis": "x",
         "y": {
          "bdata": "AAAAAAAAJ0A=",
          "dtype": "f8"
         },
         "yaxis": "y"
        },
        {
         "hovertemplate": "Team=Gujarat Titans<br>Player=%{x}<br>COST IN ₹ (CR.)=%{y}<extra></extra>",
         "legendgroup": "Gujarat Titans",
         "marker": {
          "color": "#19d3f3",
          "pattern": {
           "shape": ""
          }
         },
         "name": "Gujarat Titans",
         "orientation": "v",
         "showlegend": true,
         "textposition": "auto",
         "type": "bar",
         "x": [
          "Spencer Johnson",
          "Shahrukh Khan"
         ],
         "xaxis": "x",
         "y": {
          "bdata": "AAAAAAAAJECamZmZmZkdQA==",
          "dtype": "f8"
         },
         "yaxis": "y"
        },
        {
         "hovertemplate": "Team=Rajasthan Royals<br>Player=%{x}<br>COST IN ₹ (CR.)=%{y}<extra></extra>",
         "legendgroup": "Rajasthan Royals",
         "marker": {
          "color": "#FF6692",
          "pattern": {
           "shape": ""
          }
         },
         "name": "Rajasthan Royals",
         "orientation": "v",
         "showlegend": true,
         "textposition": "auto",
         "type": "bar",
         "x": [
          "Rovman Powell"
         ],
         "xaxis": "x",
         "y": {
          "bdata": "mpmZmZmZHUA=",
          "dtype": "f8"
         },
         "yaxis": "y"
        }
       ],
       "layout": {
        "barmode": "relative",
        "legend": {
         "title": {
          "text": "Team"
         },
         "tracegroupgap": 0
        },
        "template": {
         "data": {
          "bar": [
           {
            "error_x": {
             "color": "#2a3f5f"
            },
            "error_y": {
             "color": "#2a3f5f"
            },
            "marker": {
             "line": {
              "color": "#E5ECF6",
              "width": 0.5
             },
             "pattern": {
              "fillmode": "overlay",
              "size": 10,
              "solidity": 0.2
             }
            },
            "type": "bar"
           }
          ],
          "barpolar": [
           {
            "marker": {
             "line": {
              "color": "#E5ECF6",
              "width": 0.5
             },
             "pattern": {
              "fillmode": "overlay",
              "size": 10,
              "solidity": 0.2
             }
            },
            "type": "barpolar"
           }
          ],
          "carpet": [
           {
            "aaxis": {
             "endlinecolor": "#2a3f5f",
             "gridcolor": "white",
             "linecolor": "white",
             "minorgridcolor": "white",
             "startlinecolor": "#2a3f5f"
            },
            "baxis": {
             "endlinecolor": "#2a3f5f",
             "gridcolor": "white",
             "linecolor": "white",
             "minorgridcolor": "white",
             "startlinecolor": "#2a3f5f"
            },
            "type": "carpet"
           }
          ],
          "choropleth": [
           {
            "colorbar": {
             "outlinewidth": 0,
             "ticks": ""
            },
            "type": "choropleth"
           }
          ],
          "contour": [
           {
            "colorbar": {
             "outlinewidth": 0,
             "ticks": ""
            },
            "colorscale": [
             [
              0,
              "#0d0887"
             ],
             [
              0.1111111111111111,
              "#46039f"
             ],
             [
              0.2222222222222222,
              "#7201a8"
             ],
             [
              0.3333333333333333,
              "#9c179e"
             ],
             [
              0.4444444444444444,
              "#bd3786"
             ],
             [
              0.5555555555555556,
              "#d8576b"
             ],
             [
              0.6666666666666666,
              "#ed7953"
             ],
             [
              0.7777777777777778,
              "#fb9f3a"
             ],
             [
              0.8888888888888888,
              "#fdca26"
             ],
             [
              1,
              "#f0f921"
             ]
            ],
            "type": "contour"
           }
          ],
          "contourcarpet": [
           {
            "colorbar": {
             "outlinewidth": 0,
             "ticks": ""
            },
            "type": "contourcarpet"
           }
          ],
          "heatmap": [
           {
            "colorbar": {
             "outlinewidth": 0,
             "ticks": ""
            },
            "colorscale": [
             [
              0,
              "#0d0887"
             ],
             [
              0.1111111111111111,
              "#46039f"
             ],
             [
              0.2222222222222222,
              "#7201a8"
             ],
             [
              0.3333333333333333,
              "#9c179e"
             ],
             [
              0.4444444444444444,
              "#bd3786"
             ],
             [
              0.5555555555555556,
              "#d8576b"
             ],
             [
              0.6666666666666666,
              "#ed7953"
             ],
             [
              0.7777777777777778,
              "#fb9f3a"
             ],
             [
              0.8888888888888888,
              "#fdca26"
             ],
             [
              1,
              "#f0f921"
             ]
            ],
            "type": "heatmap"
           }
          ],
          "histogram": [
           {
            "marker": {
             "pattern": {
              "fillmode": "overlay",
              "size": 10,
              "solidity": 0.2
             }
            },
            "type": "histogram"
           }
          ],
          "histogram2d": [
           {
            "colorbar": {
             "outlinewidth": 0,
             "ticks": ""
            },
            "colorscale": [
             [
              0,
              "#0d0887"
             ],
             [
              0.1111111111111111,
              "#46039f"
             ],
             [
              0.2222222222222222,
              "#7201a8"
             ],
             [
              0.3333333333333333,
              "#9c179e"
             ],
             [
              0.4444444444444444,
              "#bd3786"
             ],
             [
              0.5555555555555556,
              "#d8576b"
             ],
             [
              0.6666666666666666,
              "#ed7953"
             ],
             [
              0.7777777777777778,
              "#fb9f3a"
             ],
             [
              0.8888888888888888,
              "#fdca26"
             ],
             [
              1,
              "#f0f921"
             ]
            ],
            "type": "histogram2d"
           }
          ],
          "histogram2dcontour": [
           {
            "colorbar": {
             "outlinewidth": 0,
             "ticks": ""
            },
            "colorscale": [
             [
              0,
              "#0d0887"
             ],
             [
              0.1111111111111111,
              "#46039f"
             ],
             [
              0.2222222222222222,
              "#7201a8"
             ],
             [
              0.3333333333333333,
              "#9c179e"
             ],
             [
              0.4444444444444444,
              "#bd3786"
             ],
             [
              0.5555555555555556,
              "#d8576b"
             ],
             [
              0.6666666666666666,
              "#ed7953"
             ],
             [
              0.7777777777777778,
              "#fb9f3a"
             ],
             [
              0.8888888888888888,
              "#fdca26"
             ],
             [
              1,
              "#f0f921"
             ]
            ],
            "type": "histogram2dcontour"
           }
          ],
          "mesh3d": [
           {
            "colorbar": {
             "outlinewidth": 0,
             "ticks": ""
            },
            "type": "mesh3d"
           }
          ],
          "parcoords": [
           {
            "line": {
             "colorbar": {
              "outlinewidth": 0,
              "ticks": ""
             }
            },
            "type": "parcoords"
           }
          ],
          "pie": [
           {
            "automargin": true,
            "type": "pie"
           }
          ],
          "scatter": [
           {
            "fillpattern": {
             "fillmode": "overlay",
             "size": 10,
             "solidity": 0.2
            },
            "type": "scatter"
           }
          ],
          "scatter3d": [
           {
            "line": {
             "colorbar": {
              "outlinewidth": 0,
              "ticks": ""
             }
            },
            "marker": {
             "colorbar": {
              "outlinewidth": 0,
              "ticks": ""
             }
            },
            "type": "scatter3d"
           }
          ],
          "scattercarpet": [
           {
            "marker": {
             "colorbar": {
              "outlinewidth": 0,
              "ticks": ""
             }
            },
            "type": "scattercarpet"
           }
          ],
          "scattergeo": [
           {
            "marker": {
             "colorbar": {
              "outlinewidth": 0,
              "ticks": ""
             }
            },
            "type": "scattergeo"
           }
          ],
          "scattergl": [
           {
            "marker": {
             "colorbar": {
              "outlinewidth": 0,
              "ticks": ""
             }
            },
            "type": "scattergl"
           }
          ],
          "scattermap": [
           {
            "marker": {
             "colorbar": {
              "outlinewidth": 0,
              "ticks": ""
             }
            },
            "type": "scattermap"
           }
          ],
          "scattermapbox": [
           {
            "marker": {
             "colorbar": {
              "outlinewidth": 0,
              "ticks": ""
             }
            },
            "type": "scattermapbox"
           }
          ],
          "scatterpolar": [
           {
            "marker": {
             "colorbar": {
              "outlinewidth": 0,
              "ticks": ""
             }
            },
            "type": "scatterpolar"
           }
          ],
          "scatterpolargl": [
           {
            "marker": {
             "colorbar": {
              "outlinewidth": 0,
              "ticks": ""
             }
            },
            "type": "scatterpolargl"
           }
          ],
          "scatterternary": [
           {
            "marker": {
             "colorbar": {
              "outlinewidth": 0,
              "ticks": ""
             }
            },
            "type": "scatterternary"
           }
          ],
          "surface": [
           {
            "colorbar": {
             "outlinewidth": 0,
             "ticks": ""
            },
            "colorscale": [
             [
              0,
              "#0d0887"
             ],
             [
              0.1111111111111111,
              "#46039f"
             ],
             [
              0.2222222222222222,
              "#7201a8"
             ],
             [
              0.3333333333333333,
              "#9c179e"
             ],
             [
              0.4444444444444444,
              "#bd3786"
             ],
             [
              0.5555555555555556,
              "#d8576b"
             ],
             [
              0.6666666666666666,
              "#ed7953"
             ],
             [
              0.7777777777777778,
              "#fb9f3a"
             ],
             [
              0.8888888888888888,
              "#fdca26"
             ],
             [
              1,
              "#f0f921"
             ]
            ],
            "type": "surface"
           }
          ],
          "table": [
           {
            "cells": {
             "fill": {
              "color": "#EBF0F8"
             },
             "line": {
              "color": "white"
             }
            },
            "header": {
             "fill": {
              "color": "#C8D4E3"
             },
             "line": {
              "color": "white"
             }
            },
            "type": "table"
           }
          ]
         },
         "layout": {
          "annotationdefaults": {
           "arrowcolor": "#2a3f5f",
           "arrowhead": 0,
           "arrowwidth": 1
          },
          "autotypenumbers": "strict",
          "coloraxis": {
           "colorbar": {
            "outlinewidth": 0,
            "ticks": ""
           }
          },
          "colorscale": {
           "diverging": [
            [
             0,
             "#8e0152"
            ],
            [
             0.1,
             "#c51b7d"
            ],
            [
             0.2,
             "#de77ae"
            ],
            [
             0.3,
             "#f1b6da"
            ],
            [
             0.4,
             "#fde0ef"
            ],
            [
             0.5,
             "#f7f7f7"
            ],
            [
             0.6,
             "#e6f5d0"
            ],
            [
             0.7,
             "#b8e186"
            ],
            [
             0.8,
             "#7fbc41"
            ],
            [
             0.9,
             "#4d9221"
            ],
            [
             1,
             "#276419"
            ]
           ],
           "sequential": [
            [
             0,
             "#0d0887"
            ],
            [
             0.1111111111111111,
             "#46039f"
            ],
            [
             0.2222222222222222,
             "#7201a8"
            ],
            [
             0.3333333333333333,
             "#9c179e"
            ],
            [
             0.4444444444444444,
             "#bd3786"
            ],
            [
             0.5555555555555556,
             "#d8576b"
            ],
            [
             0.6666666666666666,
             "#ed7953"
            ],
            [
             0.7777777777777778,
             "#fb9f3a"
            ],
            [
             0.8888888888888888,
             "#fdca26"
            ],
            [
             1,
             "#f0f921"
            ]
           ],
           "sequentialminus": [
            [
             0,
             "#0d0887"
            ],
            [
             0.1111111111111111,
             "#46039f"
            ],
            [
             0.2222222222222222,
             "#7201a8"
            ],
            [
             0.3333333333333333,
             "#9c179e"
            ],
            [
             0.4444444444444444,
             "#bd3786"
            ],
            [
             0.5555555555555556,
             "#d8576b"
            ],
            [
             0.6666666666666666,
             "#ed7953"
            ],
            [
             0.7777777777777778,
             "#fb9f3a"
            ],
            [
             0.8888888888888888,
             "#fdca26"
            ],
            [
             1,
             "#f0f921"
            ]
           ]
          },
          "colorway": [
           "#636efa",
           "#EF553B",
           "#00cc96",
           "#ab63fa",
           "#FFA15A",
           "#19d3f3",
           "#FF6692",
           "#B6E880",
           "#FF97FF",
           "#FECB52"
          ],
          "font": {
           "color": "#2a3f5f"
          },
          "geo": {
           "bgcolor": "white",
           "lakecolor": "white",
           "landcolor": "#E5ECF6",
           "showlakes": true,
           "showland": true,
           "subunitcolor": "white"
          },
          "hoverlabel": {
           "align": "left"
          },
          "hovermode": "closest",
          "mapbox": {
           "style": "light"
          },
          "paper_bgcolor": "white",
          "plot_bgcolor": "#E5ECF6",
          "polar": {
           "angularaxis": {
            "gridcolor": "white",
            "linecolor": "white",
            "ticks": ""
           },
           "bgcolor": "#E5ECF6",
           "radialaxis": {
            "gridcolor": "white",
            "linecolor": "white",
            "ticks": ""
           }
          },
          "scene": {
           "xaxis": {
            "backgroundcolor": "#E5ECF6",
            "gridcolor": "white",
            "gridwidth": 2,
            "linecolor": "white",
            "showbackground": true,
            "ticks": "",
            "zerolinecolor": "white"
           },
           "yaxis": {
            "backgroundcolor": "#E5ECF6",
            "gridcolor": "white",
            "gridwidth": 2,
            "linecolor": "white",
            "showbackground": true,
            "ticks": "",
            "zerolinecolor": "white"
           },
           "zaxis": {
            "backgroundcolor": "#E5ECF6",
            "gridcolor": "white",
            "gridwidth": 2,
            "linecolor": "white",
            "showbackground": true,
            "ticks": "",
            "zerolinecolor": "white"
           }
          },
          "shapedefaults": {
           "line": {
            "color": "#2a3f5f"
           }
          },
          "ternary": {
           "aaxis": {
            "gridcolor": "white",
            "linecolor": "white",
            "ticks": ""
           },
           "baxis": {
            "gridcolor": "white",
            "linecolor": "white",
            "ticks": ""
           },
           "bgcolor": "#E5ECF6",
           "caxis": {
            "gridcolor": "white",
            "linecolor": "white",
            "ticks": ""
           }
          },
          "title": {
           "x": 0.05
          },
          "xaxis": {
           "automargin": true,
           "gridcolor": "white",
           "linecolor": "white",
           "ticks": "",
           "title": {
            "standoff": 15
           },
           "zerolinecolor": "white",
           "zerolinewidth": 2
          },
          "yaxis": {
           "automargin": true,
           "gridcolor": "white",
           "linecolor": "white",
           "ticks": "",
           "title": {
            "standoff": 15
           },
           "zerolinecolor": "white",
           "zerolinewidth": 2
          }
         }
        },
        "title": {
         "text": "Top 10 Most Expensive Buys (2024 Auction)"
        },
        "xaxis": {
         "anchor": "y",
         "domain": [
          0,
          1
         ],
         "title": {
          "text": "Player"
         }
        },
        "yaxis": {
         "anchor": "x",
         "domain": [
          0,
          1
         ],
         "title": {
          "text": "COST IN ₹ (CR.)"
         }
        }
       }
      }
     },
     "metadata": {},
     "output_type": "display_data"
    }
   ],
   "source": [
    "top_buys = df.sort_values('COST IN ₹ (CR.)', ascending=False).head(10)\n",
    "fig = px.bar(top_buys, x='Player', y='COST IN ₹ (CR.)', color='Team', title='Top 10 Most Expensive Buys (2024 Auction)')\n",
    "fig.show()"
   ]
  },
  {
   "cell_type": "markdown",
   "id": "876f357f",
   "metadata": {},
   "source": [
    "#### Total Spend by Each Team"
   ]
  },
  {
   "cell_type": "code",
   "execution_count": 10,
   "id": "b892dcc4",
   "metadata": {},
   "outputs": [
    {
     "data": {
      "application/vnd.plotly.v1+json": {
       "config": {
        "plotlyServerURL": "https://plot.ly"
       },
       "data": [
        {
         "hovertemplate": "Team=%{x}<br>COST IN ₹ (CR.)=%{y}<extra></extra>",
         "legendgroup": "",
         "marker": {
          "color": "#636efa",
          "pattern": {
           "shape": ""
          }
         },
         "name": "",
         "orientation": "v",
         "showlegend": false,
         "textposition": "auto",
         "type": "bar",
         "x": [
          "Chennai Super Kings",
          "Delhi Capital",
          "Gujarat Titans",
          "Kolkata Knight Riders",
          "Lucknow Super Giants",
          "Mumbai Indians",
          "Punjab Kings",
          "Rajasthan Royals",
          "Royal Challengers Bengaluru",
          "Sunrisers Hyderabad",
          "Unsold"
         ],
         "xaxis": "x",
         "y": {
          "bdata": "Z2ZmZmZmPkDNzMzMzAwzQM3MzMzMTD5AmpmZmZlZP0BnZmZmZmYoQDMzMzMzszBAMzMzMzPzOECamZmZmZksQGZmZmZmZjRAzczMzMzMPkAAAAAAAAAAAA==",
          "dtype": "f8"
         },
         "yaxis": "y"
        }
       ],
       "layout": {
        "barmode": "relative",
        "legend": {
         "tracegroupgap": 0
        },
        "template": {
         "data": {
          "bar": [
           {
            "error_x": {
             "color": "#2a3f5f"
            },
            "error_y": {
             "color": "#2a3f5f"
            },
            "marker": {
             "line": {
              "color": "#E5ECF6",
              "width": 0.5
             },
             "pattern": {
              "fillmode": "overlay",
              "size": 10,
              "solidity": 0.2
             }
            },
            "type": "bar"
           }
          ],
          "barpolar": [
           {
            "marker": {
             "line": {
              "color": "#E5ECF6",
              "width": 0.5
             },
             "pattern": {
              "fillmode": "overlay",
              "size": 10,
              "solidity": 0.2
             }
            },
            "type": "barpolar"
           }
          ],
          "carpet": [
           {
            "aaxis": {
             "endlinecolor": "#2a3f5f",
             "gridcolor": "white",
             "linecolor": "white",
             "minorgridcolor": "white",
             "startlinecolor": "#2a3f5f"
            },
            "baxis": {
             "endlinecolor": "#2a3f5f",
             "gridcolor": "white",
             "linecolor": "white",
             "minorgridcolor": "white",
             "startlinecolor": "#2a3f5f"
            },
            "type": "carpet"
           }
          ],
          "choropleth": [
           {
            "colorbar": {
             "outlinewidth": 0,
             "ticks": ""
            },
            "type": "choropleth"
           }
          ],
          "contour": [
           {
            "colorbar": {
             "outlinewidth": 0,
             "ticks": ""
            },
            "colorscale": [
             [
              0,
              "#0d0887"
             ],
             [
              0.1111111111111111,
              "#46039f"
             ],
             [
              0.2222222222222222,
              "#7201a8"
             ],
             [
              0.3333333333333333,
              "#9c179e"
             ],
             [
              0.4444444444444444,
              "#bd3786"
             ],
             [
              0.5555555555555556,
              "#d8576b"
             ],
             [
              0.6666666666666666,
              "#ed7953"
             ],
             [
              0.7777777777777778,
              "#fb9f3a"
             ],
             [
              0.8888888888888888,
              "#fdca26"
             ],
             [
              1,
              "#f0f921"
             ]
            ],
            "type": "contour"
           }
          ],
          "contourcarpet": [
           {
            "colorbar": {
             "outlinewidth": 0,
             "ticks": ""
            },
            "type": "contourcarpet"
           }
          ],
          "heatmap": [
           {
            "colorbar": {
             "outlinewidth": 0,
             "ticks": ""
            },
            "colorscale": [
             [
              0,
              "#0d0887"
             ],
             [
              0.1111111111111111,
              "#46039f"
             ],
             [
              0.2222222222222222,
              "#7201a8"
             ],
             [
              0.3333333333333333,
              "#9c179e"
             ],
             [
              0.4444444444444444,
              "#bd3786"
             ],
             [
              0.5555555555555556,
              "#d8576b"
             ],
             [
              0.6666666666666666,
              "#ed7953"
             ],
             [
              0.7777777777777778,
              "#fb9f3a"
             ],
             [
              0.8888888888888888,
              "#fdca26"
             ],
             [
              1,
              "#f0f921"
             ]
            ],
            "type": "heatmap"
           }
          ],
          "histogram": [
           {
            "marker": {
             "pattern": {
              "fillmode": "overlay",
              "size": 10,
              "solidity": 0.2
             }
            },
            "type": "histogram"
           }
          ],
          "histogram2d": [
           {
            "colorbar": {
             "outlinewidth": 0,
             "ticks": ""
            },
            "colorscale": [
             [
              0,
              "#0d0887"
             ],
             [
              0.1111111111111111,
              "#46039f"
             ],
             [
              0.2222222222222222,
              "#7201a8"
             ],
             [
              0.3333333333333333,
              "#9c179e"
             ],
             [
              0.4444444444444444,
              "#bd3786"
             ],
             [
              0.5555555555555556,
              "#d8576b"
             ],
             [
              0.6666666666666666,
              "#ed7953"
             ],
             [
              0.7777777777777778,
              "#fb9f3a"
             ],
             [
              0.8888888888888888,
              "#fdca26"
             ],
             [
              1,
              "#f0f921"
             ]
            ],
            "type": "histogram2d"
           }
          ],
          "histogram2dcontour": [
           {
            "colorbar": {
             "outlinewidth": 0,
             "ticks": ""
            },
            "colorscale": [
             [
              0,
              "#0d0887"
             ],
             [
              0.1111111111111111,
              "#46039f"
             ],
             [
              0.2222222222222222,
              "#7201a8"
             ],
             [
              0.3333333333333333,
              "#9c179e"
             ],
             [
              0.4444444444444444,
              "#bd3786"
             ],
             [
              0.5555555555555556,
              "#d8576b"
             ],
             [
              0.6666666666666666,
              "#ed7953"
             ],
             [
              0.7777777777777778,
              "#fb9f3a"
             ],
             [
              0.8888888888888888,
              "#fdca26"
             ],
             [
              1,
              "#f0f921"
             ]
            ],
            "type": "histogram2dcontour"
           }
          ],
          "mesh3d": [
           {
            "colorbar": {
             "outlinewidth": 0,
             "ticks": ""
            },
            "type": "mesh3d"
           }
          ],
          "parcoords": [
           {
            "line": {
             "colorbar": {
              "outlinewidth": 0,
              "ticks": ""
             }
            },
            "type": "parcoords"
           }
          ],
          "pie": [
           {
            "automargin": true,
            "type": "pie"
           }
          ],
          "scatter": [
           {
            "fillpattern": {
             "fillmode": "overlay",
             "size": 10,
             "solidity": 0.2
            },
            "type": "scatter"
           }
          ],
          "scatter3d": [
           {
            "line": {
             "colorbar": {
              "outlinewidth": 0,
              "ticks": ""
             }
            },
            "marker": {
             "colorbar": {
              "outlinewidth": 0,
              "ticks": ""
             }
            },
            "type": "scatter3d"
           }
          ],
          "scattercarpet": [
           {
            "marker": {
             "colorbar": {
              "outlinewidth": 0,
              "ticks": ""
             }
            },
            "type": "scattercarpet"
           }
          ],
          "scattergeo": [
           {
            "marker": {
             "colorbar": {
              "outlinewidth": 0,
              "ticks": ""
             }
            },
            "type": "scattergeo"
           }
          ],
          "scattergl": [
           {
            "marker": {
             "colorbar": {
              "outlinewidth": 0,
              "ticks": ""
             }
            },
            "type": "scattergl"
           }
          ],
          "scattermap": [
           {
            "marker": {
             "colorbar": {
              "outlinewidth": 0,
              "ticks": ""
             }
            },
            "type": "scattermap"
           }
          ],
          "scattermapbox": [
           {
            "marker": {
             "colorbar": {
              "outlinewidth": 0,
              "ticks": ""
             }
            },
            "type": "scattermapbox"
           }
          ],
          "scatterpolar": [
           {
            "marker": {
             "colorbar": {
              "outlinewidth": 0,
              "ticks": ""
             }
            },
            "type": "scatterpolar"
           }
          ],
          "scatterpolargl": [
           {
            "marker": {
             "colorbar": {
              "outlinewidth": 0,
              "ticks": ""
             }
            },
            "type": "scatterpolargl"
           }
          ],
          "scatterternary": [
           {
            "marker": {
             "colorbar": {
              "outlinewidth": 0,
              "ticks": ""
             }
            },
            "type": "scatterternary"
           }
          ],
          "surface": [
           {
            "colorbar": {
             "outlinewidth": 0,
             "ticks": ""
            },
            "colorscale": [
             [
              0,
              "#0d0887"
             ],
             [
              0.1111111111111111,
              "#46039f"
             ],
             [
              0.2222222222222222,
              "#7201a8"
             ],
             [
              0.3333333333333333,
              "#9c179e"
             ],
             [
              0.4444444444444444,
              "#bd3786"
             ],
             [
              0.5555555555555556,
              "#d8576b"
             ],
             [
              0.6666666666666666,
              "#ed7953"
             ],
             [
              0.7777777777777778,
              "#fb9f3a"
             ],
             [
              0.8888888888888888,
              "#fdca26"
             ],
             [
              1,
              "#f0f921"
             ]
            ],
            "type": "surface"
           }
          ],
          "table": [
           {
            "cells": {
             "fill": {
              "color": "#EBF0F8"
             },
             "line": {
              "color": "white"
             }
            },
            "header": {
             "fill": {
              "color": "#C8D4E3"
             },
             "line": {
              "color": "white"
             }
            },
            "type": "table"
           }
          ]
         },
         "layout": {
          "annotationdefaults": {
           "arrowcolor": "#2a3f5f",
           "arrowhead": 0,
           "arrowwidth": 1
          },
          "autotypenumbers": "strict",
          "coloraxis": {
           "colorbar": {
            "outlinewidth": 0,
            "ticks": ""
           }
          },
          "colorscale": {
           "diverging": [
            [
             0,
             "#8e0152"
            ],
            [
             0.1,
             "#c51b7d"
            ],
            [
             0.2,
             "#de77ae"
            ],
            [
             0.3,
             "#f1b6da"
            ],
            [
             0.4,
             "#fde0ef"
            ],
            [
             0.5,
             "#f7f7f7"
            ],
            [
             0.6,
             "#e6f5d0"
            ],
            [
             0.7,
             "#b8e186"
            ],
            [
             0.8,
             "#7fbc41"
            ],
            [
             0.9,
             "#4d9221"
            ],
            [
             1,
             "#276419"
            ]
           ],
           "sequential": [
            [
             0,
             "#0d0887"
            ],
            [
             0.1111111111111111,
             "#46039f"
            ],
            [
             0.2222222222222222,
             "#7201a8"
            ],
            [
             0.3333333333333333,
             "#9c179e"
            ],
            [
             0.4444444444444444,
             "#bd3786"
            ],
            [
             0.5555555555555556,
             "#d8576b"
            ],
            [
             0.6666666666666666,
             "#ed7953"
            ],
            [
             0.7777777777777778,
             "#fb9f3a"
            ],
            [
             0.8888888888888888,
             "#fdca26"
            ],
            [
             1,
             "#f0f921"
            ]
           ],
           "sequentialminus": [
            [
             0,
             "#0d0887"
            ],
            [
             0.1111111111111111,
             "#46039f"
            ],
            [
             0.2222222222222222,
             "#7201a8"
            ],
            [
             0.3333333333333333,
             "#9c179e"
            ],
            [
             0.4444444444444444,
             "#bd3786"
            ],
            [
             0.5555555555555556,
             "#d8576b"
            ],
            [
             0.6666666666666666,
             "#ed7953"
            ],
            [
             0.7777777777777778,
             "#fb9f3a"
            ],
            [
             0.8888888888888888,
             "#fdca26"
            ],
            [
             1,
             "#f0f921"
            ]
           ]
          },
          "colorway": [
           "#636efa",
           "#EF553B",
           "#00cc96",
           "#ab63fa",
           "#FFA15A",
           "#19d3f3",
           "#FF6692",
           "#B6E880",
           "#FF97FF",
           "#FECB52"
          ],
          "font": {
           "color": "#2a3f5f"
          },
          "geo": {
           "bgcolor": "white",
           "lakecolor": "white",
           "landcolor": "#E5ECF6",
           "showlakes": true,
           "showland": true,
           "subunitcolor": "white"
          },
          "hoverlabel": {
           "align": "left"
          },
          "hovermode": "closest",
          "mapbox": {
           "style": "light"
          },
          "paper_bgcolor": "white",
          "plot_bgcolor": "#E5ECF6",
          "polar": {
           "angularaxis": {
            "gridcolor": "white",
            "linecolor": "white",
            "ticks": ""
           },
           "bgcolor": "#E5ECF6",
           "radialaxis": {
            "gridcolor": "white",
            "linecolor": "white",
            "ticks": ""
           }
          },
          "scene": {
           "xaxis": {
            "backgroundcolor": "#E5ECF6",
            "gridcolor": "white",
            "gridwidth": 2,
            "linecolor": "white",
            "showbackground": true,
            "ticks": "",
            "zerolinecolor": "white"
           },
           "yaxis": {
            "backgroundcolor": "#E5ECF6",
            "gridcolor": "white",
            "gridwidth": 2,
            "linecolor": "white",
            "showbackground": true,
            "ticks": "",
            "zerolinecolor": "white"
           },
           "zaxis": {
            "backgroundcolor": "#E5ECF6",
            "gridcolor": "white",
            "gridwidth": 2,
            "linecolor": "white",
            "showbackground": true,
            "ticks": "",
            "zerolinecolor": "white"
           }
          },
          "shapedefaults": {
           "line": {
            "color": "#2a3f5f"
           }
          },
          "ternary": {
           "aaxis": {
            "gridcolor": "white",
            "linecolor": "white",
            "ticks": ""
           },
           "baxis": {
            "gridcolor": "white",
            "linecolor": "white",
            "ticks": ""
           },
           "bgcolor": "#E5ECF6",
           "caxis": {
            "gridcolor": "white",
            "linecolor": "white",
            "ticks": ""
           }
          },
          "title": {
           "x": 0.05
          },
          "xaxis": {
           "automargin": true,
           "gridcolor": "white",
           "linecolor": "white",
           "ticks": "",
           "title": {
            "standoff": 15
           },
           "zerolinecolor": "white",
           "zerolinewidth": 2
          },
          "yaxis": {
           "automargin": true,
           "gridcolor": "white",
           "linecolor": "white",
           "ticks": "",
           "title": {
            "standoff": 15
           },
           "zerolinecolor": "white",
           "zerolinewidth": 2
          }
         }
        },
        "title": {
         "text": "Total Spend by Team (2024 Auction)"
        },
        "xaxis": {
         "anchor": "y",
         "domain": [
          0,
          1
         ],
         "title": {
          "text": "Team"
         }
        },
        "yaxis": {
         "anchor": "x",
         "domain": [
          0,
          1
         ],
         "title": {
          "text": "COST IN ₹ (CR.)"
         }
        }
       }
      }
     },
     "metadata": {},
     "output_type": "display_data"
    }
   ],
   "source": [
    "team_spend = df.groupby('Team')['COST IN ₹ (CR.)'].sum().reset_index()\n",
    "fig = px.bar(team_spend, x='Team', y='COST IN ₹ (CR.)', title='Total Spend by Team (2024 Auction)')\n",
    "fig.show()"
   ]
  },
  {
   "cell_type": "markdown",
   "id": "7e39ca1d",
   "metadata": {},
   "source": [
    "#### Role-wise Spend Distribution"
   ]
  },
  {
   "cell_type": "code",
   "execution_count": 11,
   "id": "206ce4f9",
   "metadata": {},
   "outputs": [
    {
     "data": {
      "application/vnd.plotly.v1+json": {
       "config": {
        "plotlyServerURL": "https://plot.ly"
       },
       "data": [
        {
         "domain": {
          "x": [
           0,
           1
          ],
          "y": [
           0,
           1
          ]
         },
         "hovertemplate": "TYPE=%{label}<br>COST IN ₹ (CR.)=%{value}<extra></extra>",
         "labels": [
          "ALL-ROUNDER",
          "BATTER",
          "BOWLER",
          "WICKETKEEPER"
         ],
         "legendgroup": "",
         "name": "",
         "showlegend": true,
         "type": "pie",
         "values": {
          "bdata": "MzMzMzPDU0AAAAAAAABGQDMzMzMzg1dANDMzMzOzKkA=",
          "dtype": "f8"
         }
        }
       ],
       "layout": {
        "legend": {
         "tracegroupgap": 0
        },
        "template": {
         "data": {
          "bar": [
           {
            "error_x": {
             "color": "#2a3f5f"
            },
            "error_y": {
             "color": "#2a3f5f"
            },
            "marker": {
             "line": {
              "color": "#E5ECF6",
              "width": 0.5
             },
             "pattern": {
              "fillmode": "overlay",
              "size": 10,
              "solidity": 0.2
             }
            },
            "type": "bar"
           }
          ],
          "barpolar": [
           {
            "marker": {
             "line": {
              "color": "#E5ECF6",
              "width": 0.5
             },
             "pattern": {
              "fillmode": "overlay",
              "size": 10,
              "solidity": 0.2
             }
            },
            "type": "barpolar"
           }
          ],
          "carpet": [
           {
            "aaxis": {
             "endlinecolor": "#2a3f5f",
             "gridcolor": "white",
             "linecolor": "white",
             "minorgridcolor": "white",
             "startlinecolor": "#2a3f5f"
            },
            "baxis": {
             "endlinecolor": "#2a3f5f",
             "gridcolor": "white",
             "linecolor": "white",
             "minorgridcolor": "white",
             "startlinecolor": "#2a3f5f"
            },
            "type": "carpet"
           }
          ],
          "choropleth": [
           {
            "colorbar": {
             "outlinewidth": 0,
             "ticks": ""
            },
            "type": "choropleth"
           }
          ],
          "contour": [
           {
            "colorbar": {
             "outlinewidth": 0,
             "ticks": ""
            },
            "colorscale": [
             [
              0,
              "#0d0887"
             ],
             [
              0.1111111111111111,
              "#46039f"
             ],
             [
              0.2222222222222222,
              "#7201a8"
             ],
             [
              0.3333333333333333,
              "#9c179e"
             ],
             [
              0.4444444444444444,
              "#bd3786"
             ],
             [
              0.5555555555555556,
              "#d8576b"
             ],
             [
              0.6666666666666666,
              "#ed7953"
             ],
             [
              0.7777777777777778,
              "#fb9f3a"
             ],
             [
              0.8888888888888888,
              "#fdca26"
             ],
             [
              1,
              "#f0f921"
             ]
            ],
            "type": "contour"
           }
          ],
          "contourcarpet": [
           {
            "colorbar": {
             "outlinewidth": 0,
             "ticks": ""
            },
            "type": "contourcarpet"
           }
          ],
          "heatmap": [
           {
            "colorbar": {
             "outlinewidth": 0,
             "ticks": ""
            },
            "colorscale": [
             [
              0,
              "#0d0887"
             ],
             [
              0.1111111111111111,
              "#46039f"
             ],
             [
              0.2222222222222222,
              "#7201a8"
             ],
             [
              0.3333333333333333,
              "#9c179e"
             ],
             [
              0.4444444444444444,
              "#bd3786"
             ],
             [
              0.5555555555555556,
              "#d8576b"
             ],
             [
              0.6666666666666666,
              "#ed7953"
             ],
             [
              0.7777777777777778,
              "#fb9f3a"
             ],
             [
              0.8888888888888888,
              "#fdca26"
             ],
             [
              1,
              "#f0f921"
             ]
            ],
            "type": "heatmap"
           }
          ],
          "histogram": [
           {
            "marker": {
             "pattern": {
              "fillmode": "overlay",
              "size": 10,
              "solidity": 0.2
             }
            },
            "type": "histogram"
           }
          ],
          "histogram2d": [
           {
            "colorbar": {
             "outlinewidth": 0,
             "ticks": ""
            },
            "colorscale": [
             [
              0,
              "#0d0887"
             ],
             [
              0.1111111111111111,
              "#46039f"
             ],
             [
              0.2222222222222222,
              "#7201a8"
             ],
             [
              0.3333333333333333,
              "#9c179e"
             ],
             [
              0.4444444444444444,
              "#bd3786"
             ],
             [
              0.5555555555555556,
              "#d8576b"
             ],
             [
              0.6666666666666666,
              "#ed7953"
             ],
             [
              0.7777777777777778,
              "#fb9f3a"
             ],
             [
              0.8888888888888888,
              "#fdca26"
             ],
             [
              1,
              "#f0f921"
             ]
            ],
            "type": "histogram2d"
           }
          ],
          "histogram2dcontour": [
           {
            "colorbar": {
             "outlinewidth": 0,
             "ticks": ""
            },
            "colorscale": [
             [
              0,
              "#0d0887"
             ],
             [
              0.1111111111111111,
              "#46039f"
             ],
             [
              0.2222222222222222,
              "#7201a8"
             ],
             [
              0.3333333333333333,
              "#9c179e"
             ],
             [
              0.4444444444444444,
              "#bd3786"
             ],
             [
              0.5555555555555556,
              "#d8576b"
             ],
             [
              0.6666666666666666,
              "#ed7953"
             ],
             [
              0.7777777777777778,
              "#fb9f3a"
             ],
             [
              0.8888888888888888,
              "#fdca26"
             ],
             [
              1,
              "#f0f921"
             ]
            ],
            "type": "histogram2dcontour"
           }
          ],
          "mesh3d": [
           {
            "colorbar": {
             "outlinewidth": 0,
             "ticks": ""
            },
            "type": "mesh3d"
           }
          ],
          "parcoords": [
           {
            "line": {
             "colorbar": {
              "outlinewidth": 0,
              "ticks": ""
             }
            },
            "type": "parcoords"
           }
          ],
          "pie": [
           {
            "automargin": true,
            "type": "pie"
           }
          ],
          "scatter": [
           {
            "fillpattern": {
             "fillmode": "overlay",
             "size": 10,
             "solidity": 0.2
            },
            "type": "scatter"
           }
          ],
          "scatter3d": [
           {
            "line": {
             "colorbar": {
              "outlinewidth": 0,
              "ticks": ""
             }
            },
            "marker": {
             "colorbar": {
              "outlinewidth": 0,
              "ticks": ""
             }
            },
            "type": "scatter3d"
           }
          ],
          "scattercarpet": [
           {
            "marker": {
             "colorbar": {
              "outlinewidth": 0,
              "ticks": ""
             }
            },
            "type": "scattercarpet"
           }
          ],
          "scattergeo": [
           {
            "marker": {
             "colorbar": {
              "outlinewidth": 0,
              "ticks": ""
             }
            },
            "type": "scattergeo"
           }
          ],
          "scattergl": [
           {
            "marker": {
             "colorbar": {
              "outlinewidth": 0,
              "ticks": ""
             }
            },
            "type": "scattergl"
           }
          ],
          "scattermap": [
           {
            "marker": {
             "colorbar": {
              "outlinewidth": 0,
              "ticks": ""
             }
            },
            "type": "scattermap"
           }
          ],
          "scattermapbox": [
           {
            "marker": {
             "colorbar": {
              "outlinewidth": 0,
              "ticks": ""
             }
            },
            "type": "scattermapbox"
           }
          ],
          "scatterpolar": [
           {
            "marker": {
             "colorbar": {
              "outlinewidth": 0,
              "ticks": ""
             }
            },
            "type": "scatterpolar"
           }
          ],
          "scatterpolargl": [
           {
            "marker": {
             "colorbar": {
              "outlinewidth": 0,
              "ticks": ""
             }
            },
            "type": "scatterpolargl"
           }
          ],
          "scatterternary": [
           {
            "marker": {
             "colorbar": {
              "outlinewidth": 0,
              "ticks": ""
             }
            },
            "type": "scatterternary"
           }
          ],
          "surface": [
           {
            "colorbar": {
             "outlinewidth": 0,
             "ticks": ""
            },
            "colorscale": [
             [
              0,
              "#0d0887"
             ],
             [
              0.1111111111111111,
              "#46039f"
             ],
             [
              0.2222222222222222,
              "#7201a8"
             ],
             [
              0.3333333333333333,
              "#9c179e"
             ],
             [
              0.4444444444444444,
              "#bd3786"
             ],
             [
              0.5555555555555556,
              "#d8576b"
             ],
             [
              0.6666666666666666,
              "#ed7953"
             ],
             [
              0.7777777777777778,
              "#fb9f3a"
             ],
             [
              0.8888888888888888,
              "#fdca26"
             ],
             [
              1,
              "#f0f921"
             ]
            ],
            "type": "surface"
           }
          ],
          "table": [
           {
            "cells": {
             "fill": {
              "color": "#EBF0F8"
             },
             "line": {
              "color": "white"
             }
            },
            "header": {
             "fill": {
              "color": "#C8D4E3"
             },
             "line": {
              "color": "white"
             }
            },
            "type": "table"
           }
          ]
         },
         "layout": {
          "annotationdefaults": {
           "arrowcolor": "#2a3f5f",
           "arrowhead": 0,
           "arrowwidth": 1
          },
          "autotypenumbers": "strict",
          "coloraxis": {
           "colorbar": {
            "outlinewidth": 0,
            "ticks": ""
           }
          },
          "colorscale": {
           "diverging": [
            [
             0,
             "#8e0152"
            ],
            [
             0.1,
             "#c51b7d"
            ],
            [
             0.2,
             "#de77ae"
            ],
            [
             0.3,
             "#f1b6da"
            ],
            [
             0.4,
             "#fde0ef"
            ],
            [
             0.5,
             "#f7f7f7"
            ],
            [
             0.6,
             "#e6f5d0"
            ],
            [
             0.7,
             "#b8e186"
            ],
            [
             0.8,
             "#7fbc41"
            ],
            [
             0.9,
             "#4d9221"
            ],
            [
             1,
             "#276419"
            ]
           ],
           "sequential": [
            [
             0,
             "#0d0887"
            ],
            [
             0.1111111111111111,
             "#46039f"
            ],
            [
             0.2222222222222222,
             "#7201a8"
            ],
            [
             0.3333333333333333,
             "#9c179e"
            ],
            [
             0.4444444444444444,
             "#bd3786"
            ],
            [
             0.5555555555555556,
             "#d8576b"
            ],
            [
             0.6666666666666666,
             "#ed7953"
            ],
            [
             0.7777777777777778,
             "#fb9f3a"
            ],
            [
             0.8888888888888888,
             "#fdca26"
            ],
            [
             1,
             "#f0f921"
            ]
           ],
           "sequentialminus": [
            [
             0,
             "#0d0887"
            ],
            [
             0.1111111111111111,
             "#46039f"
            ],
            [
             0.2222222222222222,
             "#7201a8"
            ],
            [
             0.3333333333333333,
             "#9c179e"
            ],
            [
             0.4444444444444444,
             "#bd3786"
            ],
            [
             0.5555555555555556,
             "#d8576b"
            ],
            [
             0.6666666666666666,
             "#ed7953"
            ],
            [
             0.7777777777777778,
             "#fb9f3a"
            ],
            [
             0.8888888888888888,
             "#fdca26"
            ],
            [
             1,
             "#f0f921"
            ]
           ]
          },
          "colorway": [
           "#636efa",
           "#EF553B",
           "#00cc96",
           "#ab63fa",
           "#FFA15A",
           "#19d3f3",
           "#FF6692",
           "#B6E880",
           "#FF97FF",
           "#FECB52"
          ],
          "font": {
           "color": "#2a3f5f"
          },
          "geo": {
           "bgcolor": "white",
           "lakecolor": "white",
           "landcolor": "#E5ECF6",
           "showlakes": true,
           "showland": true,
           "subunitcolor": "white"
          },
          "hoverlabel": {
           "align": "left"
          },
          "hovermode": "closest",
          "mapbox": {
           "style": "light"
          },
          "paper_bgcolor": "white",
          "plot_bgcolor": "#E5ECF6",
          "polar": {
           "angularaxis": {
            "gridcolor": "white",
            "linecolor": "white",
            "ticks": ""
           },
           "bgcolor": "#E5ECF6",
           "radialaxis": {
            "gridcolor": "white",
            "linecolor": "white",
            "ticks": ""
           }
          },
          "scene": {
           "xaxis": {
            "backgroundcolor": "#E5ECF6",
            "gridcolor": "white",
            "gridwidth": 2,
            "linecolor": "white",
            "showbackground": true,
            "ticks": "",
            "zerolinecolor": "white"
           },
           "yaxis": {
            "backgroundcolor": "#E5ECF6",
            "gridcolor": "white",
            "gridwidth": 2,
            "linecolor": "white",
            "showbackground": true,
            "ticks": "",
            "zerolinecolor": "white"
           },
           "zaxis": {
            "backgroundcolor": "#E5ECF6",
            "gridcolor": "white",
            "gridwidth": 2,
            "linecolor": "white",
            "showbackground": true,
            "ticks": "",
            "zerolinecolor": "white"
           }
          },
          "shapedefaults": {
           "line": {
            "color": "#2a3f5f"
           }
          },
          "ternary": {
           "aaxis": {
            "gridcolor": "white",
            "linecolor": "white",
            "ticks": ""
           },
           "baxis": {
            "gridcolor": "white",
            "linecolor": "white",
            "ticks": ""
           },
           "bgcolor": "#E5ECF6",
           "caxis": {
            "gridcolor": "white",
            "linecolor": "white",
            "ticks": ""
           }
          },
          "title": {
           "x": 0.05
          },
          "xaxis": {
           "automargin": true,
           "gridcolor": "white",
           "linecolor": "white",
           "ticks": "",
           "title": {
            "standoff": 15
           },
           "zerolinecolor": "white",
           "zerolinewidth": 2
          },
          "yaxis": {
           "automargin": true,
           "gridcolor": "white",
           "linecolor": "white",
           "ticks": "",
           "title": {
            "standoff": 15
           },
           "zerolinecolor": "white",
           "zerolinewidth": 2
          }
         }
        },
        "title": {
         "text": "Role-wise Spend Distribution"
        }
       }
      }
     },
     "metadata": {},
     "output_type": "display_data"
    }
   ],
   "source": [
    "role_spend = df.groupby('TYPE')['COST IN ₹ (CR.)'].sum().reset_index()\n",
    "fig = px.pie(role_spend, names='TYPE', values='COST IN ₹ (CR.)', title='Role-wise Spend Distribution')\n",
    "fig.show()"
   ]
  },
  {
   "cell_type": "markdown",
   "id": "5383c12c",
   "metadata": {},
   "source": [
    "#### Number of Players Bought by Each Team"
   ]
  },
  {
   "cell_type": "code",
   "execution_count": 12,
   "id": "6d6285d3",
   "metadata": {},
   "outputs": [
    {
     "data": {
      "application/vnd.plotly.v1+json": {
       "config": {
        "plotlyServerURL": "https://plot.ly"
       },
       "data": [
        {
         "hovertemplate": "Team=%{x}<br>Players Bought=%{y}<extra></extra>",
         "legendgroup": "",
         "marker": {
          "color": "#636efa",
          "pattern": {
           "shape": ""
          }
         },
         "name": "",
         "orientation": "v",
         "showlegend": false,
         "textposition": "auto",
         "type": "bar",
         "x": [
          "Unsold",
          "Punjab Kings",
          "Mumbai Indians",
          "Delhi Capital",
          "Chennai Super Kings",
          "Gujarat Titans",
          "Royal Challengers Bengaluru",
          "Sunrisers Hyderabad",
          "Lucknow Super Giants",
          "Kolkata Knight Riders",
          "Rajasthan Royals"
         ],
         "xaxis": "x",
         "y": {
          "bdata": "rAEbABoAGQAZABkAGQAZABgAFwAWAA==",
          "dtype": "i2"
         },
         "yaxis": "y"
        }
       ],
       "layout": {
        "barmode": "relative",
        "legend": {
         "tracegroupgap": 0
        },
        "template": {
         "data": {
          "bar": [
           {
            "error_x": {
             "color": "#2a3f5f"
            },
            "error_y": {
             "color": "#2a3f5f"
            },
            "marker": {
             "line": {
              "color": "#E5ECF6",
              "width": 0.5
             },
             "pattern": {
              "fillmode": "overlay",
              "size": 10,
              "solidity": 0.2
             }
            },
            "type": "bar"
           }
          ],
          "barpolar": [
           {
            "marker": {
             "line": {
              "color": "#E5ECF6",
              "width": 0.5
             },
             "pattern": {
              "fillmode": "overlay",
              "size": 10,
              "solidity": 0.2
             }
            },
            "type": "barpolar"
           }
          ],
          "carpet": [
           {
            "aaxis": {
             "endlinecolor": "#2a3f5f",
             "gridcolor": "white",
             "linecolor": "white",
             "minorgridcolor": "white",
             "startlinecolor": "#2a3f5f"
            },
            "baxis": {
             "endlinecolor": "#2a3f5f",
             "gridcolor": "white",
             "linecolor": "white",
             "minorgridcolor": "white",
             "startlinecolor": "#2a3f5f"
            },
            "type": "carpet"
           }
          ],
          "choropleth": [
           {
            "colorbar": {
             "outlinewidth": 0,
             "ticks": ""
            },
            "type": "choropleth"
           }
          ],
          "contour": [
           {
            "colorbar": {
             "outlinewidth": 0,
             "ticks": ""
            },
            "colorscale": [
             [
              0,
              "#0d0887"
             ],
             [
              0.1111111111111111,
              "#46039f"
             ],
             [
              0.2222222222222222,
              "#7201a8"
             ],
             [
              0.3333333333333333,
              "#9c179e"
             ],
             [
              0.4444444444444444,
              "#bd3786"
             ],
             [
              0.5555555555555556,
              "#d8576b"
             ],
             [
              0.6666666666666666,
              "#ed7953"
             ],
             [
              0.7777777777777778,
              "#fb9f3a"
             ],
             [
              0.8888888888888888,
              "#fdca26"
             ],
             [
              1,
              "#f0f921"
             ]
            ],
            "type": "contour"
           }
          ],
          "contourcarpet": [
           {
            "colorbar": {
             "outlinewidth": 0,
             "ticks": ""
            },
            "type": "contourcarpet"
           }
          ],
          "heatmap": [
           {
            "colorbar": {
             "outlinewidth": 0,
             "ticks": ""
            },
            "colorscale": [
             [
              0,
              "#0d0887"
             ],
             [
              0.1111111111111111,
              "#46039f"
             ],
             [
              0.2222222222222222,
              "#7201a8"
             ],
             [
              0.3333333333333333,
              "#9c179e"
             ],
             [
              0.4444444444444444,
              "#bd3786"
             ],
             [
              0.5555555555555556,
              "#d8576b"
             ],
             [
              0.6666666666666666,
              "#ed7953"
             ],
             [
              0.7777777777777778,
              "#fb9f3a"
             ],
             [
              0.8888888888888888,
              "#fdca26"
             ],
             [
              1,
              "#f0f921"
             ]
            ],
            "type": "heatmap"
           }
          ],
          "histogram": [
           {
            "marker": {
             "pattern": {
              "fillmode": "overlay",
              "size": 10,
              "solidity": 0.2
             }
            },
            "type": "histogram"
           }
          ],
          "histogram2d": [
           {
            "colorbar": {
             "outlinewidth": 0,
             "ticks": ""
            },
            "colorscale": [
             [
              0,
              "#0d0887"
             ],
             [
              0.1111111111111111,
              "#46039f"
             ],
             [
              0.2222222222222222,
              "#7201a8"
             ],
             [
              0.3333333333333333,
              "#9c179e"
             ],
             [
              0.4444444444444444,
              "#bd3786"
             ],
             [
              0.5555555555555556,
              "#d8576b"
             ],
             [
              0.6666666666666666,
              "#ed7953"
             ],
             [
              0.7777777777777778,
              "#fb9f3a"
             ],
             [
              0.8888888888888888,
              "#fdca26"
             ],
             [
              1,
              "#f0f921"
             ]
            ],
            "type": "histogram2d"
           }
          ],
          "histogram2dcontour": [
           {
            "colorbar": {
             "outlinewidth": 0,
             "ticks": ""
            },
            "colorscale": [
             [
              0,
              "#0d0887"
             ],
             [
              0.1111111111111111,
              "#46039f"
             ],
             [
              0.2222222222222222,
              "#7201a8"
             ],
             [
              0.3333333333333333,
              "#9c179e"
             ],
             [
              0.4444444444444444,
              "#bd3786"
             ],
             [
              0.5555555555555556,
              "#d8576b"
             ],
             [
              0.6666666666666666,
              "#ed7953"
             ],
             [
              0.7777777777777778,
              "#fb9f3a"
             ],
             [
              0.8888888888888888,
              "#fdca26"
             ],
             [
              1,
              "#f0f921"
             ]
            ],
            "type": "histogram2dcontour"
           }
          ],
          "mesh3d": [
           {
            "colorbar": {
             "outlinewidth": 0,
             "ticks": ""
            },
            "type": "mesh3d"
           }
          ],
          "parcoords": [
           {
            "line": {
             "colorbar": {
              "outlinewidth": 0,
              "ticks": ""
             }
            },
            "type": "parcoords"
           }
          ],
          "pie": [
           {
            "automargin": true,
            "type": "pie"
           }
          ],
          "scatter": [
           {
            "fillpattern": {
             "fillmode": "overlay",
             "size": 10,
             "solidity": 0.2
            },
            "type": "scatter"
           }
          ],
          "scatter3d": [
           {
            "line": {
             "colorbar": {
              "outlinewidth": 0,
              "ticks": ""
             }
            },
            "marker": {
             "colorbar": {
              "outlinewidth": 0,
              "ticks": ""
             }
            },
            "type": "scatter3d"
           }
          ],
          "scattercarpet": [
           {
            "marker": {
             "colorbar": {
              "outlinewidth": 0,
              "ticks": ""
             }
            },
            "type": "scattercarpet"
           }
          ],
          "scattergeo": [
           {
            "marker": {
             "colorbar": {
              "outlinewidth": 0,
              "ticks": ""
             }
            },
            "type": "scattergeo"
           }
          ],
          "scattergl": [
           {
            "marker": {
             "colorbar": {
              "outlinewidth": 0,
              "ticks": ""
             }
            },
            "type": "scattergl"
           }
          ],
          "scattermap": [
           {
            "marker": {
             "colorbar": {
              "outlinewidth": 0,
              "ticks": ""
             }
            },
            "type": "scattermap"
           }
          ],
          "scattermapbox": [
           {
            "marker": {
             "colorbar": {
              "outlinewidth": 0,
              "ticks": ""
             }
            },
            "type": "scattermapbox"
           }
          ],
          "scatterpolar": [
           {
            "marker": {
             "colorbar": {
              "outlinewidth": 0,
              "ticks": ""
             }
            },
            "type": "scatterpolar"
           }
          ],
          "scatterpolargl": [
           {
            "marker": {
             "colorbar": {
              "outlinewidth": 0,
              "ticks": ""
             }
            },
            "type": "scatterpolargl"
           }
          ],
          "scatterternary": [
           {
            "marker": {
             "colorbar": {
              "outlinewidth": 0,
              "ticks": ""
             }
            },
            "type": "scatterternary"
           }
          ],
          "surface": [
           {
            "colorbar": {
             "outlinewidth": 0,
             "ticks": ""
            },
            "colorscale": [
             [
              0,
              "#0d0887"
             ],
             [
              0.1111111111111111,
              "#46039f"
             ],
             [
              0.2222222222222222,
              "#7201a8"
             ],
             [
              0.3333333333333333,
              "#9c179e"
             ],
             [
              0.4444444444444444,
              "#bd3786"
             ],
             [
              0.5555555555555556,
              "#d8576b"
             ],
             [
              0.6666666666666666,
              "#ed7953"
             ],
             [
              0.7777777777777778,
              "#fb9f3a"
             ],
             [
              0.8888888888888888,
              "#fdca26"
             ],
             [
              1,
              "#f0f921"
             ]
            ],
            "type": "surface"
           }
          ],
          "table": [
           {
            "cells": {
             "fill": {
              "color": "#EBF0F8"
             },
             "line": {
              "color": "white"
             }
            },
            "header": {
             "fill": {
              "color": "#C8D4E3"
             },
             "line": {
              "color": "white"
             }
            },
            "type": "table"
           }
          ]
         },
         "layout": {
          "annotationdefaults": {
           "arrowcolor": "#2a3f5f",
           "arrowhead": 0,
           "arrowwidth": 1
          },
          "autotypenumbers": "strict",
          "coloraxis": {
           "colorbar": {
            "outlinewidth": 0,
            "ticks": ""
           }
          },
          "colorscale": {
           "diverging": [
            [
             0,
             "#8e0152"
            ],
            [
             0.1,
             "#c51b7d"
            ],
            [
             0.2,
             "#de77ae"
            ],
            [
             0.3,
             "#f1b6da"
            ],
            [
             0.4,
             "#fde0ef"
            ],
            [
             0.5,
             "#f7f7f7"
            ],
            [
             0.6,
             "#e6f5d0"
            ],
            [
             0.7,
             "#b8e186"
            ],
            [
             0.8,
             "#7fbc41"
            ],
            [
             0.9,
             "#4d9221"
            ],
            [
             1,
             "#276419"
            ]
           ],
           "sequential": [
            [
             0,
             "#0d0887"
            ],
            [
             0.1111111111111111,
             "#46039f"
            ],
            [
             0.2222222222222222,
             "#7201a8"
            ],
            [
             0.3333333333333333,
             "#9c179e"
            ],
            [
             0.4444444444444444,
             "#bd3786"
            ],
            [
             0.5555555555555556,
             "#d8576b"
            ],
            [
             0.6666666666666666,
             "#ed7953"
            ],
            [
             0.7777777777777778,
             "#fb9f3a"
            ],
            [
             0.8888888888888888,
             "#fdca26"
            ],
            [
             1,
             "#f0f921"
            ]
           ],
           "sequentialminus": [
            [
             0,
             "#0d0887"
            ],
            [
             0.1111111111111111,
             "#46039f"
            ],
            [
             0.2222222222222222,
             "#7201a8"
            ],
            [
             0.3333333333333333,
             "#9c179e"
            ],
            [
             0.4444444444444444,
             "#bd3786"
            ],
            [
             0.5555555555555556,
             "#d8576b"
            ],
            [
             0.6666666666666666,
             "#ed7953"
            ],
            [
             0.7777777777777778,
             "#fb9f3a"
            ],
            [
             0.8888888888888888,
             "#fdca26"
            ],
            [
             1,
             "#f0f921"
            ]
           ]
          },
          "colorway": [
           "#636efa",
           "#EF553B",
           "#00cc96",
           "#ab63fa",
           "#FFA15A",
           "#19d3f3",
           "#FF6692",
           "#B6E880",
           "#FF97FF",
           "#FECB52"
          ],
          "font": {
           "color": "#2a3f5f"
          },
          "geo": {
           "bgcolor": "white",
           "lakecolor": "white",
           "landcolor": "#E5ECF6",
           "showlakes": true,
           "showland": true,
           "subunitcolor": "white"
          },
          "hoverlabel": {
           "align": "left"
          },
          "hovermode": "closest",
          "mapbox": {
           "style": "light"
          },
          "paper_bgcolor": "white",
          "plot_bgcolor": "#E5ECF6",
          "polar": {
           "angularaxis": {
            "gridcolor": "white",
            "linecolor": "white",
            "ticks": ""
           },
           "bgcolor": "#E5ECF6",
           "radialaxis": {
            "gridcolor": "white",
            "linecolor": "white",
            "ticks": ""
           }
          },
          "scene": {
           "xaxis": {
            "backgroundcolor": "#E5ECF6",
            "gridcolor": "white",
            "gridwidth": 2,
            "linecolor": "white",
            "showbackground": true,
            "ticks": "",
            "zerolinecolor": "white"
           },
           "yaxis": {
            "backgroundcolor": "#E5ECF6",
            "gridcolor": "white",
            "gridwidth": 2,
            "linecolor": "white",
            "showbackground": true,
            "ticks": "",
            "zerolinecolor": "white"
           },
           "zaxis": {
            "backgroundcolor": "#E5ECF6",
            "gridcolor": "white",
            "gridwidth": 2,
            "linecolor": "white",
            "showbackground": true,
            "ticks": "",
            "zerolinecolor": "white"
           }
          },
          "shapedefaults": {
           "line": {
            "color": "#2a3f5f"
           }
          },
          "ternary": {
           "aaxis": {
            "gridcolor": "white",
            "linecolor": "white",
            "ticks": ""
           },
           "baxis": {
            "gridcolor": "white",
            "linecolor": "white",
            "ticks": ""
           },
           "bgcolor": "#E5ECF6",
           "caxis": {
            "gridcolor": "white",
            "linecolor": "white",
            "ticks": ""
           }
          },
          "title": {
           "x": 0.05
          },
          "xaxis": {
           "automargin": true,
           "gridcolor": "white",
           "linecolor": "white",
           "ticks": "",
           "title": {
            "standoff": 15
           },
           "zerolinecolor": "white",
           "zerolinewidth": 2
          },
          "yaxis": {
           "automargin": true,
           "gridcolor": "white",
           "linecolor": "white",
           "ticks": "",
           "title": {
            "standoff": 15
           },
           "zerolinecolor": "white",
           "zerolinewidth": 2
          }
         }
        },
        "title": {
         "text": "Number of Players Bought by Each Team"
        },
        "xaxis": {
         "anchor": "y",
         "domain": [
          0,
          1
         ],
         "title": {
          "text": "Team"
         }
        },
        "yaxis": {
         "anchor": "x",
         "domain": [
          0,
          1
         ],
         "title": {
          "text": "Players Bought"
         }
        }
       }
      }
     },
     "metadata": {},
     "output_type": "display_data"
    }
   ],
   "source": [
    "team_players = df['Team'].value_counts().reset_index()\n",
    "team_players.columns = ['Team', 'Players Bought']\n",
    "fig = px.bar(team_players, x='Team', y='Players Bought', title='Number of Players Bought by Each Team')\n",
    "fig.show()"
   ]
  },
  {
   "cell_type": "markdown",
   "id": "a58c4aa3",
   "metadata": {},
   "source": [
    "#### Base Price vs. Final Price Scatter Plot"
   ]
  },
  {
   "cell_type": "code",
   "execution_count": 13,
   "id": "6f6402df",
   "metadata": {},
   "outputs": [
    {
     "data": {
      "application/vnd.plotly.v1+json": {
       "config": {
        "plotlyServerURL": "https://plot.ly"
       },
       "data": [
        {
         "customdata": [
          [
           "Spencer Johnson",
           "Gujarat Titans"
          ],
          [
           "Umesh Yadav",
           "Gujarat Titans"
          ],
          [
           "Sushant Mishra",
           "Gujarat Titans"
          ],
          [
           "Kartik Tyagi",
           "Gujarat Titans"
          ],
          [
           "Manav Suthar",
           "Gujarat Titans"
          ],
          [
           "Mustafizur Rahman",
           "Chennai Super Kings"
          ],
          [
           "Jhye Richardson",
           "Delhi Capital"
          ],
          [
           "Rasikh Dar",
           "Delhi Capital"
          ],
          [
           "Mitchell Starc",
           "Kolkata Knight Riders"
          ],
          [
           "Mujeeb Rahman",
           "Kolkata Knight Riders"
          ],
          [
           "Gus Atkinson",
           "Kolkata Knight Riders"
          ],
          [
           "Chetan Sakariya",
           "Kolkata Knight Riders"
          ],
          [
           "Sakib Hussain",
           "Kolkata Knight Riders"
          ],
          [
           "Prince Choudhary",
           "Punjab Kings"
          ],
          [
           "Shivam Mavi",
           "Lucknow Super Giants"
          ],
          [
           "M. Siddharth",
           "Lucknow Super Giants"
          ],
          [
           "Nuwan Thushara",
           "Mumbai Indians"
          ],
          [
           "Shreyas Gopal",
           "Mumbai Indians"
          ],
          [
           "Dilshan Madushanka",
           "Mumbai Indians"
          ],
          [
           "Alzarri Joseph",
           "Royal Challengers Bengaluru"
          ],
          [
           "Yash Dayal",
           "Royal Challengers Bengaluru"
          ],
          [
           "Lockie Ferguson",
           "Royal Challengers Bengaluru"
          ],
          [
           "Nandre Burger",
           "Rajasthan Royals"
          ],
          [
           "Jaydev Unadkat",
           "Sunrisers Hyderabad"
          ],
          [
           "Akash Singh",
           "Sunrisers Hyderabad"
          ],
          [
           "Jhathavedh Subramanyan",
           "Sunrisers Hyderabad"
          ],
          [
           "Josh Hazlewood",
           "Unsold"
          ],
          [
           "Akeal Hosein",
           "Unsold"
          ],
          [
           "Adil Rashid",
           "Unsold"
          ],
          [
           "Mohammad Waqar Salamkheil",
           "Unsold"
          ],
          [
           "Tabraiz Shamsi",
           "Unsold"
          ],
          [
           "Ish Sodhi",
           "Unsold"
          ],
          [
           "Ishan Porel",
           "Unsold"
          ],
          [
           "Kuldip Yadav",
           "Unsold"
          ],
          [
           "Murgan Ashwin",
           "Unsold"
          ],
          [
           "Pulkit Narang",
           "Unsold"
          ],
          [
           "Shiva Singh",
           "Unsold"
          ],
          [
           "Varun Aaron",
           "Unsold"
          ],
          [
           "Fareed Ahmad",
           "Unsold"
          ],
          [
           "Taskin Ahmed",
           "Unsold"
          ],
          [
           "Dushmanta Chameera",
           "Unsold"
          ],
          [
           "Ben Dwarshuis",
           "Unsold"
          ],
          [
           "Richard Gleeson",
           "Unsold"
          ],
          [
           "Matt Henry",
           "Unsold"
          ],
          [
           "Md Shoriful Islam",
           "Unsold"
          ],
          [
           "Kyle Jamieson",
           "Unsold"
          ],
          [
           "Chris Jordan",
           "Unsold"
          ],
          [
           "Siddharth Kaul",
           "Unsold"
          ],
          [
           "Lahiru Kumara",
           "Unsold"
          ],
          [
           "Obed Mccoy",
           "Unsold"
          ],
          [
           "Riley Meredith",
           "Unsold"
          ],
          [
           "Tymal Mills",
           "Unsold"
          ],
          [
           "Adam Milne",
           "Unsold"
          ],
          [
           "Lance Morris",
           "Unsold"
          ],
          [
           "Blessing Muzarabani",
           "Unsold"
          ],
          [
           "Richard Ngarava",
           "Unsold"
          ],
          [
           "Wayne Parnell",
           "Unsold"
          ],
          [
           "Ollie Robinson",
           "Unsold"
          ],
          [
           "George Scrimshaw",
           "Unsold"
          ],
          [
           "Tim Southee",
           "Unsold"
          ],
          [
           "Barinder Sran",
           "Unsold"
          ],
          [
           "Billy Stanlake",
           "Unsold"
          ],
          [
           "Olly Stone",
           "Unsold"
          ],
          [
           "Oshane Thomas",
           "Unsold"
          ],
          [
           "Sandeep Warrier",
           "Unsold"
          ],
          [
           "Lizaad Williams",
           "Unsold"
          ],
          [
           "Luke Wood",
           "Unsold"
          ],
          [
           "K.M Asif",
           "Unsold"
          ],
          [
           "Mohit Avasthi",
           "Unsold"
          ],
          [
           "Ottneil Baartman",
           "Unsold"
          ],
          [
           "Basit Bashir",
           "Unsold"
          ],
          [
           "Waseem Bashir",
           "Unsold"
          ],
          [
           "Sachin Bhosale",
           "Unsold"
          ],
          [
           "Devendra Singh Bora",
           "Unsold"
          ],
          [
           "Gurnoor Singh Brar",
           "Unsold"
          ],
          [
           "Saurabh Dubey",
           "Unsold"
          ],
          [
           "Mrinmoy Dutta",
           "Unsold"
          ],
          [
           "Vishal Godara",
           "Unsold"
          ],
          [
           "Money Grewal",
           "Unsold"
          ],
          [
           "Arpit Guleria",
           "Unsold"
          ],
          [
           "Mukhtar Hussain",
           "Unsold"
          ],
          [
           "Shamar Joseph",
           "Unsold"
          ],
          [
           "Mohammed Kaif",
           "Unsold"
          ],
          [
           "Shubham Kapse",
           "Unsold"
          ],
          [
           "Devang Karamta",
           "Unsold"
          ],
          [
           "Kulwant Khejroliya",
           "Unsold"
          ],
          [
           "Ravi Kumar",
           "Unsold"
          ],
          [
           "Ashwani Kumar",
           "Unsold"
          ],
          [
           "Raj Limbani",
           "Unsold"
          ],
          [
           "Kwena Maphaka",
           "Unsold"
          ],
          [
           "Lukman Hussain Meriwala",
           "Unsold"
          ],
          [
           "Venkatesh Muralidhara",
           "Unsold"
          ],
          [
           "William O'Rourke",
           "Unsold"
          ],
          [
           "Rakshan Readdi",
           "Unsold"
          ],
          [
           "Manish Reddy",
           "Unsold"
          ],
          [
           "Monish Reddy",
           "Unsold"
          ],
          [
           "Akhin Sathar",
           "Unsold"
          ],
          [
           "Divesh Sharma",
           "Unsold"
          ],
          [
           "Ashok Sharma",
           "Unsold"
          ],
          [
           "Abhilash Shetty",
           "Unsold"
          ],
          [
           "Rahul Shukla",
           "Unsold"
          ],
          [
           "Manit Singh",
           "Unsold"
          ],
          [
           "Gurjapneet Singh",
           "Unsold"
          ],
          [
           "Basil Thampi",
           "Unsold"
          ],
          [
           "Paul Van Meekeren",
           "Unsold"
          ],
          [
           "Nitin Verma",
           "Unsold"
          ],
          [
           "Chris Wood",
           "Unsold"
          ],
          [
           "Gourav Yadav",
           "Unsold"
          ],
          [
           "Lalit Yadav",
           "Unsold"
          ],
          [
           "Prithvi Raj Yarra",
           "Unsold"
          ],
          [
           "Mujtaba Yousuf",
           "Unsold"
          ],
          [
           "Shubham Agrawal",
           "Unsold"
          ],
          [
           "Mustaq Beg",
           "Unsold"
          ],
          [
           "K.C Cariappa",
           "Unsold"
          ],
          [
           "Ganesh Chaudhary",
           "Unsold"
          ],
          [
           "Yuvraj Chudasama",
           "Unsold"
          ],
          [
           "Jasmer Dhankhar",
           "Unsold"
          ],
          [
           "Chintal Gandhi",
           "Unsold"
          ],
          [
           "Allah Ghazanfar",
           "Unsold"
          ],
          [
           "Raghav Goyal",
           "Unsold"
          ],
          [
           "Shreyas Gurav",
           "Unsold"
          ],
          [
           "Vishu Kashyap",
           "Unsold"
          ],
          [
           "S Midhun",
           "Unsold"
          ],
          [
           "Izharulhuq Naveed",
           "Unsold"
          ],
          [
           "Bhuwan Rohilla",
           "Unsold"
          ],
          [
           "Shivam Sharma",
           "Unsold"
          ],
          [
           "Digvesh Singh",
           "Unsold"
          ],
          [
           "Jagadeesha Suchith",
           "Unsold"
          ],
          [
           "B. Surya",
           "Unsold"
          ],
          [
           "Pankaj Yadav",
           "Unsold"
          ]
         ],
         "hovertemplate": "TYPE=BOWLER<br>Base Price=%{x}<br>COST IN ₹ (CR.)=%{y}<br>Player=%{customdata[0]}<br>Team=%{customdata[1]}<extra></extra>",
         "legendgroup": "BOWLER",
         "marker": {
          "color": "#636efa",
          "symbol": "circle"
         },
         "mode": "markers",
         "name": "BOWLER",
         "orientation": "v",
         "showlegend": true,
         "type": "scatter",
         "x": [
          "5000000",
          "20000000",
          "2000000",
          "2000000",
          "2000000",
          "20000000",
          "15000000",
          "2000000",
          "20000000",
          "20000000",
          "10000000",
          "5000000",
          "2000000",
          "2000000",
          "5000000",
          "2000000",
          "5000000",
          "2000000",
          "5000000",
          "10000000",
          "2000000",
          "20000000",
          "5000000",
          "5000000",
          "2000000",
          "2000000",
          "20000000",
          "5000000",
          "20000000",
          "5000000",
          "5000000",
          "7500000",
          "2000000",
          "2000000",
          "2000000",
          "2000000",
          "2000000",
          "5000000",
          "5000000",
          "7500000",
          "5000000",
          "5000000",
          "5000000",
          "7500000",
          "5000000",
          "10000000",
          "15000000",
          "5000000",
          "5000000",
          "5000000",
          "10000000",
          "15000000",
          "10000000",
          "7500000",
          "5000000",
          "5000000",
          "10000000",
          "7500000",
          "5000000",
          "15000000",
          "5000000",
          "7500000",
          "7500000",
          "5000000",
          "5000000",
          "5000000",
          "5000000",
          "2000000",
          "2000000",
          "2000000",
          "2000000",
          "2000000",
          "2000000",
          "2000000",
          "2000000",
          "2000000",
          "2000000",
          "2000000",
          "2000000",
          "2000000",
          "2000000",
          "2000000",
          "2000000",
          "2000000",
          "2000000",
          "2000000",
          "2000000",
          "2000000",
          "2000000",
          "2000000",
          "2000000",
          "2000000",
          "2000000",
          "2000000",
          "2000000",
          "2000000",
          "2000000",
          "2000000",
          "2000000",
          "2000000",
          "2000000",
          "2000000",
          "2000000",
          "3000000",
          "2000000",
          "2000000",
          "2000000",
          "2000000",
          "3000000",
          "2000000",
          "2000000",
          "2000000",
          "2000000",
          "2000000",
          "2000000",
          "2000000",
          "2000000",
          "2000000",
          "2000000",
          "2000000",
          "2000000",
          "2000000",
          "3000000",
          "3000000",
          "2000000",
          "2000000",
          "2000000",
          "2000000",
          "2000000",
          "2000000"
         ],
         "xaxis": "x",
         "y": {
          "bdata": "AAAAAAAAJEAzMzMzMzMXQJqZmZmZmQFAMzMzMzMz4z+amZmZmZnJPwAAAAAAAABAAAAAAAAAFECamZmZmZnJPwAAAAAAwDhAAAAAAAAAAEAAAAAAAADwPwAAAAAAAOA/mpmZmZmZyT+amZmZmZnJP5qZmZmZmRlAMzMzMzMzA0AzMzMzMzMTQJqZmZmZmck/ZmZmZmZmEkAAAAAAAAAnQAAAAAAAABRAAAAAAAAAAEAAAAAAAADgP5qZmZmZmfk/mpmZmZmZyT+amZmZmZnJPwAAAAAAAPh/AAAAAAAA+H8AAAAAAAD4fwAAAAAAAPh/AAAAAAAA+H8AAAAAAAD4fwAAAAAAAPh/AAAAAAAA+H8AAAAAAAD4fwAAAAAAAPh/AAAAAAAA+H8AAAAAAAD4fwAAAAAAAPh/AAAAAAAA+H8AAAAAAAD4fwAAAAAAAPh/AAAAAAAA+H8AAAAAAAD4fwAAAAAAAPh/AAAAAAAA+H8AAAAAAAD4fwAAAAAAAPh/AAAAAAAA+H8AAAAAAAD4fwAAAAAAAPh/AAAAAAAA+H8AAAAAAAD4fwAAAAAAAPh/AAAAAAAA+H8AAAAAAAD4fwAAAAAAAPh/AAAAAAAA+H8AAAAAAAD4fwAAAAAAAPh/AAAAAAAA+H8AAAAAAAD4fwAAAAAAAPh/AAAAAAAA+H8AAAAAAAD4fwAAAAAAAPh/AAAAAAAA+H8AAAAAAAD4fwAAAAAAAPh/AAAAAAAA+H8AAAAAAAD4fwAAAAAAAPh/AAAAAAAA+H8AAAAAAAD4fwAAAAAAAPh/AAAAAAAA+H8AAAAAAAD4fwAAAAAAAPh/AAAAAAAA+H8AAAAAAAD4fwAAAAAAAPh/AAAAAAAA+H8AAAAAAAD4fwAAAAAAAPh/AAAAAAAA+H8AAAAAAAD4fwAAAAAAAPh/AAAAAAAA+H8AAAAAAAD4fwAAAAAAAPh/AAAAAAAA+H8AAAAAAAD4fwAAAAAAAPh/AAAAAAAA+H8AAAAAAAD4fwAAAAAAAPh/AAAAAAAA+H8AAAAAAAD4fwAAAAAAAPh/AAAAAAAA+H8AAAAAAAD4fwAAAAAAAPh/AAAAAAAA+H8AAAAAAAD4fwAAAAAAAPh/AAAAAAAA+H8AAAAAAAD4fwAAAAAAAPh/AAAAAAAA+H8AAAAAAAD4fwAAAAAAAPh/AAAAAAAA+H8AAAAAAAD4fwAAAAAAAPh/AAAAAAAA+H8AAAAAAAD4fwAAAAAAAPh/AAAAAAAA+H8AAAAAAAD4fwAAAAAAAPh/AAAAAAAA+H8AAAAAAAD4fwAAAAAAAPh/AAAAAAAA+H8AAAAAAAD4fwAAAAAAAPh/AAAAAAAA+H8AAAAAAAD4fwAAAAAAAPh/AAAAAAAA+H8=",
          "dtype": "f8"
         },
         "yaxis": "y"
        },
        {
         "customdata": [
          [
           "Shahrukh Khan",
           "Gujarat Titans"
          ],
          [
           "Azmatullah Omarzai",
           "Gujarat Titans"
          ],
          [
           "Daryl Mitchell",
           "Chennai Super Kings"
          ],
          [
           "Shardul Thakur",
           "Chennai Super Kings"
          ],
          [
           "Rachin Ravindra",
           "Chennai Super Kings"
          ],
          [
           "Sumit Kumar",
           "Delhi Capital"
          ],
          [
           "Ramandeep Singh",
           "Kolkata Knight Riders"
          ],
          [
           "Harshal Patel",
           "Punjab Kings"
          ],
          [
           "Chris Woakes",
           "Punjab Kings"
          ],
          [
           "Ashutosh Sharma",
           "Punjab Kings"
          ],
          [
           "Vishwanath Pratap Singh",
           "Punjab Kings"
          ],
          [
           "Shashank Singh",
           "Punjab Kings"
          ],
          [
           "Tanay Thyagarajann",
           "Punjab Kings"
          ],
          [
           "David Willey",
           "Lucknow Super Giants"
          ],
          [
           "Mohd. Arshad Khan",
           "Lucknow Super Giants"
          ],
          [
           "Arshin Kulkarni",
           "Lucknow Super Giants"
          ],
          [
           "Gerald Coetzee",
           "Mumbai Indians"
          ],
          [
           "Mohammad Nabi",
           "Mumbai Indians"
          ],
          [
           "Naman Dhir",
           "Mumbai Indians"
          ],
          [
           "Anshul Kamboj",
           "Mumbai Indians"
          ],
          [
           "Shivalik Sharma",
           "Mumbai Indians"
          ],
          [
           "Tom Curran",
           "Royal Challengers Bengaluru"
          ],
          [
           "Swapnil Singh",
           "Royal Challengers Bengaluru"
          ],
          [
           "Abid Mushtaq",
           "Rajasthan Royals"
          ],
          [
           "Pat Cummins",
           "Sunrisers Hyderabad"
          ],
          [
           "Wanindu Hasaranga",
           "Sunrisers Hyderabad"
          ],
          [
           "Raj Angad Bawa",
           "Unsold"
          ],
          [
           "Sarfaraz Khan",
           "Unsold"
          ],
          [
           "Vivrant Sharma",
           "Unsold"
          ],
          [
           "Atit Sheth",
           "Unsold"
          ],
          [
           "Hrithik Shokeen",
           "Unsold"
          ],
          [
           "Sean Abbott",
           "Unsold"
          ],
          [
           "Ashton Agar",
           "Unsold"
          ],
          [
           "Wesley Agar",
           "Unsold"
          ],
          [
           "Qais Ahamad",
           "Unsold"
          ],
          [
           "Rehan Ahmed",
           "Unsold"
          ],
          [
           "Fabian Allen",
           "Unsold"
          ],
          [
           "Charith Asalanka",
           "Unsold"
          ],
          [
           "Michael Bracewell",
           "Unsold"
          ],
          [
           "Brydon Carse",
           "Unsold"
          ],
          [
           "Ben Cutting",
           "Unsold"
          ],
          [
           "Matthew Forde",
           "Unsold"
          ],
          [
           "George Garton",
           "Unsold"
          ],
          [
           "Jason Holder",
           "Unsold"
          ],
          [
           "George Linde",
           "Unsold"
          ],
          [
           "Keshav Maharaj",
           "Unsold"
          ],
          [
           "Wiaan Mulder",
           "Unsold"
          ],
          [
           "James Neesham",
           "Unsold"
          ],
          [
           "Jamie Overton",
           "Unsold"
          ],
          [
           "Keemo Paul",
           "Unsold"
          ],
          [
           "Dwaine Pretorius",
           "Unsold"
          ],
          [
           "Daniel Sams",
           "Unsold"
          ],
          [
           "Dasun Shanaka",
           "Unsold"
          ],
          [
           "Matthew Short",
           "Unsold"
          ],
          [
           "Odean Smith",
           "Unsold"
          ],
          [
           "Hanuma Vihari",
           "Unsold"
          ],
          [
           "P.A. Abdul",
           "Unsold"
          ],
          [
           "Murugan Abhishek",
           "Unsold"
          ],
          [
           "Atharva Ankolekar",
           "Unsold"
          ],
          [
           "Baba Aparajith",
           "Unsold"
          ],
          [
           "Jass Inder Baidwan",
           "Unsold"
          ],
          [
           "Corbin Bosch",
           "Unsold"
          ],
          [
           "Rahul Buddhi",
           "Unsold"
          ],
          [
           "Vaisakh Chandran",
           "Unsold"
          ],
          [
           "Writtick Chatterjee",
           "Unsold"
          ],
          [
           "Raj Chaudhary",
           "Unsold"
          ],
          [
           "Ravi Chauhan",
           "Unsold"
          ],
          [
           "Ashwin Das",
           "Unsold"
          ],
          [
           "Aarya Desai",
           "Unsold"
          ],
          [
           "Vineet Dhankhar",
           "Unsold"
          ],
          [
           "Harsh Dubey",
           "Unsold"
          ],
          [
           "Prerit Dutta",
           "Unsold"
          ],
          [
           "Jake Fraser-Mcgurk",
           "Unsold"
          ],
          [
           "Shubhang Hegde",
           "Unsold"
          ],
          [
           "Benny Howell",
           "Unsold"
          ],
          [
           "Saransh Jain",
           "Unsold"
          ],
          [
           "Duan Jansen",
           "Unsold"
          ],
          [
           "Mohammad Kaif",
           "Unsold"
          ],
          [
           "Aman Khan",
           "Unsold"
          ],
          [
           "Mohd Arslan Khan",
           "Unsold"
          ],
          [
           "Musheer Khan",
           "Unsold"
          ],
          [
           "Tanush Kotian",
           "Unsold"
          ],
          [
           "Manvanth Kumar",
           "Unsold"
          ],
          [
           "Saurabh Kumar",
           "Unsold"
          ],
          [
           "Dev Lakra",
           "Unsold"
          ],
          [
           "Nasir Lone",
           "Unsold"
          ],
          [
           "Kaushik Maity",
           "Unsold"
          ],
          [
           "Divij Mehra",
           "Unsold"
          ],
          [
           "Mani Sankar Mura Singh",
           "Unsold"
          ],
          [
           "Kamlesh Nagarkoti",
           "Unsold"
          ],
          [
           "Sanjay Pahal",
           "Unsold"
          ],
          [
           "Jitender Pal",
           "Unsold"
          ],
          [
           "Saumy Pandey",
           "Unsold"
          ],
          [
           "Ansh Patel",
           "Unsold"
          ],
          [
           "Sairaj Patil",
           "Unsold"
          ],
          [
           "Pradosh Paul",
           "Unsold"
          ],
          [
           "Shubham Singh Pundir",
           "Unsold"
          ],
          [
           "Atal Rai",
           "Unsold"
          ],
          [
           "Abhimanyusingh Rajput",
           "Unsold"
          ],
          [
           "Mohit Rathee",
           "Unsold"
          ],
          [
           "Ninad Rathva",
           "Unsold"
          ],
          [
           "Rohit Rayudu",
           "Unsold"
          ],
          [
           "Aniketh Reddy",
           "Unsold"
          ],
          [
           "Mohit Redkar",
           "Unsold"
          ],
          [
           "Jalaj Saxena",
           "Unsold"
          ],
          [
           "Akash Sengupta",
           "Unsold"
          ],
          [
           "Suryansh Shedge",
           "Unsold"
          ],
          [
           "Aradhya Shukla",
           "Unsold"
          ],
          [
           "Utkarsh Singh",
           "Unsold"
          ],
          [
           "Prenelan Subrayen",
           "Unsold"
          ],
          [
           "Ravi Teja",
           "Unsold"
          ],
          [
           "Akash Vashisht",
           "Unsold"
          ],
          [
           "David Wiese",
           "Unsold"
          ]
         ],
         "hovertemplate": "TYPE=ALL-ROUNDER<br>Base Price=%{x}<br>COST IN ₹ (CR.)=%{y}<br>Player=%{customdata[0]}<br>Team=%{customdata[1]}<extra></extra>",
         "legendgroup": "ALL-ROUNDER",
         "marker": {
          "color": "#EF553B",
          "symbol": "circle"
         },
         "mode": "markers",
         "name": "ALL-ROUNDER",
         "orientation": "v",
         "showlegend": true,
         "type": "scatter",
         "x": [
          "4000000",
          "5000000",
          "10000000",
          "20000000",
          "5000000",
          "2000000",
          "2000000",
          "20000000",
          "20000000",
          "2000000",
          "2000000",
          "2000000",
          "2000000",
          "20000000",
          "2000000",
          "2000000",
          "20000000",
          "15000000",
          "2000000",
          "2000000",
          "2000000",
          "15000000",
          "2000000",
          "2000000",
          "20000000",
          "15000000",
          "2000000",
          "2000000",
          "2000000",
          "2000000",
          "2000000",
          "20000000",
          "10000000",
          "5000000",
          "5000000",
          "5000000",
          "7500000",
          "5000000",
          "10000000",
          "5000000",
          "5000000",
          "5000000",
          "5000000",
          "15000000",
          "5000000",
          "5000000",
          "5000000",
          "15000000",
          "20000000",
          "7500000",
          "10000000",
          "15000000",
          "5000000",
          "5000000",
          "5000000",
          "5000000",
          "2000000",
          "2000000",
          "2000000",
          "2000000",
          "2000000",
          "3000000",
          "2000000",
          "2000000",
          "2000000",
          "2000000",
          "2000000",
          "2000000",
          "2000000",
          "2000000",
          "2000000",
          "2000000",
          "2000000",
          "2000000",
          "4000000",
          "2000000",
          "2000000",
          "2000000",
          "2000000",
          "2000000",
          "2000000",
          "2000000",
          "2000000",
          "2000000",
          "2000000",
          "2000000",
          "2000000",
          "2000000",
          "2000000",
          "3000000",
          "2000000",
          "2000000",
          "2000000",
          "2000000",
          "2000000",
          "2000000",
          "2000000",
          "2000000",
          "2000000",
          "2000000",
          "2000000",
          "2000000",
          "2000000",
          "2000000",
          "4000000",
          "2000000",
          "2000000",
          "2000000",
          "2000000",
          "2000000",
          "2000000",
          "2000000",
          "10000000"
         ],
         "xaxis": "x",
         "y": {
          "bdata": "mpmZmZmZHUAAAAAAAADgPwAAAAAAACxAAAAAAAAAEEDNzMzMzMz8PwAAAAAAAPA/mpmZmZmZyT8AAAAAAIAnQM3MzMzMzBBAmpmZmZmZyT+amZmZmZnJP5qZmZmZmck/mpmZmZmZyT8AAAAAAAAAQJqZmZmZmck/mpmZmZmZyT8AAAAAAAAUQAAAAAAAAPg/mpmZmZmZyT+amZmZmZnJP5qZmZmZmck/AAAAAAAA+D+amZmZmZnJP5qZmZmZmck/AAAAAACANEAAAAAAAAD4PwAAAAAAAPh/AAAAAAAA+H8AAAAAAAD4fwAAAAAAAPh/AAAAAAAA+H8AAAAAAAD4fwAAAAAAAPh/AAAAAAAA+H8AAAAAAAD4fwAAAAAAAPh/AAAAAAAA+H8AAAAAAAD4fwAAAAAAAPh/AAAAAAAA+H8AAAAAAAD4fwAAAAAAAPh/AAAAAAAA+H8AAAAAAAD4fwAAAAAAAPh/AAAAAAAA+H8AAAAAAAD4fwAAAAAAAPh/AAAAAAAA+H8AAAAAAAD4fwAAAAAAAPh/AAAAAAAA+H8AAAAAAAD4fwAAAAAAAPh/AAAAAAAA+H8AAAAAAAD4fwAAAAAAAPh/AAAAAAAA+H8AAAAAAAD4fwAAAAAAAPh/AAAAAAAA+H8AAAAAAAD4fwAAAAAAAPh/AAAAAAAA+H8AAAAAAAD4fwAAAAAAAPh/AAAAAAAA+H8AAAAAAAD4fwAAAAAAAPh/AAAAAAAA+H8AAAAAAAD4fwAAAAAAAPh/AAAAAAAA+H8AAAAAAAD4fwAAAAAAAPh/AAAAAAAA+H8AAAAAAAD4fwAAAAAAAPh/AAAAAAAA+H8AAAAAAAD4fwAAAAAAAPh/AAAAAAAA+H8AAAAAAAD4fwAAAAAAAPh/AAAAAAAA+H8AAAAAAAD4fwAAAAAAAPh/AAAAAAAA+H8AAAAAAAD4fwAAAAAAAPh/AAAAAAAA+H8AAAAAAAD4fwAAAAAAAPh/AAAAAAAA+H8AAAAAAAD4fwAAAAAAAPh/AAAAAAAA+H8AAAAAAAD4fwAAAAAAAPh/AAAAAAAA+H8AAAAAAAD4fwAAAAAAAPh/AAAAAAAA+H8AAAAAAAD4fwAAAAAAAPh/AAAAAAAA+H8AAAAAAAD4fwAAAAAAAPh/AAAAAAAA+H8AAAAAAAD4fwAAAAAAAPh/AAAAAAAA+H8AAAAAAAD4fw==",
          "dtype": "f8"
         },
         "yaxis": "y"
        },
        {
         "customdata": [
          [
           "Robin Minz",
           "Gujarat Titans"
          ],
          [
           "Avanish Rao Aravelly",
           "Chennai Super Kings"
          ],
          [
           "Kumar Kushagra",
           "Delhi Capital"
          ],
          [
           "Shai Hope",
           "Delhi Capital"
          ],
          [
           "Tristan Stubbs",
           "Delhi Capital"
          ],
          [
           "Ricky Bhui",
           "Delhi Capital"
          ],
          [
           "K.S. Bharat",
           "Kolkata Knight Riders"
          ],
          [
           "Tom Kohler-Cadmore",
           "Rajasthan Royals"
          ],
          [
           "Josh Inglis",
           "Unsold"
          ],
          [
           "Kusal Mendis",
           "Unsold"
          ],
          [
           "Philip Salt",
           "Unsold"
          ],
          [
           "Urvil Patel",
           "Unsold"
          ],
          [
           "Vishnu Solanki",
           "Unsold"
          ],
          [
           "Sam Billings",
           "Unsold"
          ],
          [
           "Johnson Charles",
           "Unsold"
          ],
          [
           "Ben Duckett",
           "Unsold"
          ],
          [
           "Mohit Ahlawat",
           "Unsold"
          ],
          [
           "G. Ajitesh",
           "Unsold"
          ],
          [
           "L.R. Chethan",
           "Unsold"
          ],
          [
           "Gourav Choudhary",
           "Unsold"
          ],
          [
           "Harvik Desai",
           "Unsold"
          ],
          [
           "Shakir Gandhi",
           "Unsold"
          ],
          [
           "Sumit Ghadigaonkar",
           "Unsold"
          ],
          [
           "Baba Indrajith",
           "Unsold"
          ],
          [
           "Bhagmender Lather",
           "Unsold"
          ],
          [
           "Anmol Malhotra",
           "Unsold"
          ],
          [
           "Darshan Misal",
           "Unsold"
          ],
          [
           "Nikhil Naik",
           "Unsold"
          ],
          [
           "Prasad Pawar",
           "Unsold"
          ],
          [
           "Mahesh Pithiya",
           "Unsold"
          ],
          [
           "William Salzmann",
           "Unsold"
          ],
          [
           "Bipin Saurabh",
           "Unsold"
          ],
          [
           "B.R. Sharath",
           "Unsold"
          ],
          [
           "K.L. Shrijith",
           "Unsold"
          ],
          [
           "Avneesh Sudha",
           "Unsold"
          ],
          [
           "Aditya Tare",
           "Unsold"
          ],
          [
           "Nihal Ullal",
           "Unsold"
          ]
         ],
         "hovertemplate": "TYPE=WICKETKEEPER<br>Base Price=%{x}<br>COST IN ₹ (CR.)=%{y}<br>Player=%{customdata[0]}<br>Team=%{customdata[1]}<extra></extra>",
         "legendgroup": "WICKETKEEPER",
         "marker": {
          "color": "#00cc96",
          "symbol": "circle"
         },
         "mode": "markers",
         "name": "WICKETKEEPER",
         "orientation": "v",
         "showlegend": true,
         "type": "scatter",
         "x": [
          "2000000",
          "2000000",
          "2000000",
          "7500000",
          "5000000",
          "2000000",
          "5000000",
          "4000000",
          "20000000",
          "5000000",
          "15000000",
          "2000000",
          "2000000",
          "10000000",
          "5000000",
          "20000000",
          "2000000",
          "2000000",
          "2000000",
          "2000000",
          "2000000",
          "2000000",
          "2000000",
          "2000000",
          "2000000",
          "2000000",
          "2000000",
          "2000000",
          "2000000",
          "2000000",
          "2000000",
          "2000000",
          "2000000",
          "2000000",
          "2000000",
          "2000000",
          "2000000"
         ],
         "xaxis": "x",
         "y": {
          "bdata": "zczMzMzMDECamZmZmZnJP83MzMzMzBxAAAAAAAAA6D8AAAAAAADgP5qZmZmZmck/AAAAAAAA4D+amZmZmZnZPwAAAAAAAPh/AAAAAAAA+H8AAAAAAAD4fwAAAAAAAPh/AAAAAAAA+H8AAAAAAAD4fwAAAAAAAPh/AAAAAAAA+H8AAAAAAAD4fwAAAAAAAPh/AAAAAAAA+H8AAAAAAAD4fwAAAAAAAPh/AAAAAAAA+H8AAAAAAAD4fwAAAAAAAPh/AAAAAAAA+H8AAAAAAAD4fwAAAAAAAPh/AAAAAAAA+H8AAAAAAAD4fwAAAAAAAPh/AAAAAAAA+H8AAAAAAAD4fwAAAAAAAPh/AAAAAAAA+H8AAAAAAAD4fwAAAAAAAPh/AAAAAAAA+H8=",
          "dtype": "f8"
         },
         "yaxis": "y"
        },
        {
         "customdata": [
          [
           "Sameer Rizvi",
           "Chennai Super Kings"
          ],
          [
           "Harry Brook",
           "Delhi Capital"
          ],
          [
           "Swastik Chhikara",
           "Delhi Capital"
          ],
          [
           "Sherfane Rutherford",
           "Kolkata Knight Riders"
          ],
          [
           "Manish Pandey",
           "Kolkata Knight Riders"
          ],
          [
           "Angkrish Raghuvanshi",
           "Kolkata Knight Riders"
          ],
          [
           "Rilee Rossouw",
           "Punjab Kings"
          ],
          [
           "Ashton Turner",
           "Lucknow Super Giants"
          ],
          [
           "Saurav Chuahan",
           "Royal Challengers Bengaluru"
          ],
          [
           "Rovman Powell",
           "Rajasthan Royals"
          ],
          [
           "Shubham Dubey",
           "Rajasthan Royals"
          ],
          [
           "Travis Head",
           "Sunrisers Hyderabad"
          ],
          [
           "Karun Nair",
           "Unsold"
          ],
          [
           "Steve Smith",
           "Unsold"
          ],
          [
           "Priyansh Arya",
           "Unsold"
          ],
          [
           "Rohan Kunnummal",
           "Unsold"
          ],
          [
           "Manan Vohra",
           "Unsold"
          ],
          [
           "Finn Allen",
           "Unsold"
          ],
          [
           "Alick Athanaze",
           "Unsold"
          ],
          [
           "Mark Chapman",
           "Unsold"
          ],
          [
           "Samuel Hain",
           "Unsold"
          ],
          [
           "Reeza Hendricks",
           "Unsold"
          ],
          [
           "Brandon King",
           "Unsold"
          ],
          [
           "Colin Munro",
           "Unsold"
          ],
          [
           "Rassie Van Der Dussen",
           "Unsold"
          ],
          [
           "James Vince",
           "Unsold"
          ],
          [
           "Ibrahim Zadran",
           "Unsold"
          ],
          [
           "Najibullah Zadran",
           "Unsold"
          ],
          [
           "Dinesh Bana",
           "Unsold"
          ],
          [
           "Rajat Dey",
           "Unsold"
          ],
          [
           "Abhimanyu Easwaran",
           "Unsold"
          ],
          [
           "Rithik Easwaran",
           "Unsold"
          ],
          [
           "Chirag Gandhi",
           "Unsold"
          ],
          [
           "Nikhil Gangta",
           "Unsold"
          ],
          [
           "Sudip Gharami",
           "Unsold"
          ],
          [
           "Ansh Gosai",
           "Unsold"
          ],
          [
           "Azim Kazi",
           "Unsold"
          ],
          [
           "Amandeep Khare",
           "Unsold"
          ],
          [
           "Ankit Kumar",
           "Unsold"
          ],
          [
           "Bhupen Lalwani",
           "Unsold"
          ],
          [
           "Pukhraj Mann",
           "Unsold"
          ],
          [
           "Tanmay Mishra",
           "Unsold"
          ],
          [
           "Salman Nizar",
           "Unsold"
          ],
          [
           "Priyank Panchal",
           "Unsold"
          ],
          [
           "Akshat Raghuwanshi",
           "Unsold"
          ],
          [
           "Ekant Sen",
           "Unsold"
          ],
          [
           "Subhranshu Senapati",
           "Unsold"
          ],
          [
           "Naushad Shaikh",
           "Unsold"
          ],
          [
           "Dhruv Shorey",
           "Unsold"
          ],
          [
           "Himmat Singh",
           "Unsold"
          ],
          [
           "Virat Singh",
           "Unsold"
          ],
          [
           "Shashank Singh",
           "Unsold"
          ],
          [
           "Sumeet Verma",
           "Unsold"
          ]
         ],
         "hovertemplate": "TYPE=BATTER<br>Base Price=%{x}<br>COST IN ₹ (CR.)=%{y}<br>Player=%{customdata[0]}<br>Team=%{customdata[1]}<extra></extra>",
         "legendgroup": "BATTER",
         "marker": {
          "color": "#ab63fa",
          "symbol": "circle"
         },
         "mode": "markers",
         "name": "BATTER",
         "orientation": "v",
         "showlegend": true,
         "type": "scatter",
         "x": [
          "2000000",
          "20000000",
          "2000000",
          "15000000",
          "5000000",
          "2000000",
          "20000000",
          "10000000",
          "2000000",
          "10000000",
          "2000000",
          "20000000",
          "5000000",
          "20000000",
          "2000000",
          "2000000",
          "2000000",
          "7500000",
          "5000000",
          "5000000",
          "5000000",
          "5000000",
          "5000000",
          "15000000",
          "20000000",
          "20000000",
          "5000000",
          "5000000",
          "2000000",
          "2000000",
          "2000000",
          "2000000",
          "2000000",
          "2000000",
          "2000000",
          "2000000",
          "2000000",
          "2000000",
          "2000000",
          "2000000",
          "2000000",
          "2000000",
          "2000000",
          "2000000",
          "2000000",
          "2000000",
          "2000000",
          "2000000",
          "2000000",
          "2000000",
          "2000000",
          "2000000",
          "2000000"
         ],
         "xaxis": "x",
         "y": {
          "bdata": "zczMzMzMIEAAAAAAAAAQQJqZmZmZmck/AAAAAAAA+D8AAAAAAADgP5qZmZmZmck/AAAAAAAAIEAAAAAAAADwP5qZmZmZmck/mpmZmZmZHUAzMzMzMzMXQDMzMzMzMxtAAAAAAAAA+H8AAAAAAAD4fwAAAAAAAPh/AAAAAAAA+H8AAAAAAAD4fwAAAAAAAPh/AAAAAAAA+H8AAAAAAAD4fwAAAAAAAPh/AAAAAAAA+H8AAAAAAAD4fwAAAAAAAPh/AAAAAAAA+H8AAAAAAAD4fwAAAAAAAPh/AAAAAAAA+H8AAAAAAAD4fwAAAAAAAPh/AAAAAAAA+H8AAAAAAAD4fwAAAAAAAPh/AAAAAAAA+H8AAAAAAAD4fwAAAAAAAPh/AAAAAAAA+H8AAAAAAAD4fwAAAAAAAPh/AAAAAAAA+H8AAAAAAAD4fwAAAAAAAPh/AAAAAAAA+H8AAAAAAAD4fwAAAAAAAPh/AAAAAAAA+H8AAAAAAAD4fwAAAAAAAPh/AAAAAAAA+H8AAAAAAAD4fwAAAAAAAPh/AAAAAAAA+H8AAAAAAAD4fw==",
          "dtype": "f8"
         },
         "yaxis": "y"
        }
       ],
       "layout": {
        "legend": {
         "title": {
          "text": "TYPE"
         },
         "tracegroupgap": 0
        },
        "template": {
         "data": {
          "bar": [
           {
            "error_x": {
             "color": "#2a3f5f"
            },
            "error_y": {
             "color": "#2a3f5f"
            },
            "marker": {
             "line": {
              "color": "#E5ECF6",
              "width": 0.5
             },
             "pattern": {
              "fillmode": "overlay",
              "size": 10,
              "solidity": 0.2
             }
            },
            "type": "bar"
           }
          ],
          "barpolar": [
           {
            "marker": {
             "line": {
              "color": "#E5ECF6",
              "width": 0.5
             },
             "pattern": {
              "fillmode": "overlay",
              "size": 10,
              "solidity": 0.2
             }
            },
            "type": "barpolar"
           }
          ],
          "carpet": [
           {
            "aaxis": {
             "endlinecolor": "#2a3f5f",
             "gridcolor": "white",
             "linecolor": "white",
             "minorgridcolor": "white",
             "startlinecolor": "#2a3f5f"
            },
            "baxis": {
             "endlinecolor": "#2a3f5f",
             "gridcolor": "white",
             "linecolor": "white",
             "minorgridcolor": "white",
             "startlinecolor": "#2a3f5f"
            },
            "type": "carpet"
           }
          ],
          "choropleth": [
           {
            "colorbar": {
             "outlinewidth": 0,
             "ticks": ""
            },
            "type": "choropleth"
           }
          ],
          "contour": [
           {
            "colorbar": {
             "outlinewidth": 0,
             "ticks": ""
            },
            "colorscale": [
             [
              0,
              "#0d0887"
             ],
             [
              0.1111111111111111,
              "#46039f"
             ],
             [
              0.2222222222222222,
              "#7201a8"
             ],
             [
              0.3333333333333333,
              "#9c179e"
             ],
             [
              0.4444444444444444,
              "#bd3786"
             ],
             [
              0.5555555555555556,
              "#d8576b"
             ],
             [
              0.6666666666666666,
              "#ed7953"
             ],
             [
              0.7777777777777778,
              "#fb9f3a"
             ],
             [
              0.8888888888888888,
              "#fdca26"
             ],
             [
              1,
              "#f0f921"
             ]
            ],
            "type": "contour"
           }
          ],
          "contourcarpet": [
           {
            "colorbar": {
             "outlinewidth": 0,
             "ticks": ""
            },
            "type": "contourcarpet"
           }
          ],
          "heatmap": [
           {
            "colorbar": {
             "outlinewidth": 0,
             "ticks": ""
            },
            "colorscale": [
             [
              0,
              "#0d0887"
             ],
             [
              0.1111111111111111,
              "#46039f"
             ],
             [
              0.2222222222222222,
              "#7201a8"
             ],
             [
              0.3333333333333333,
              "#9c179e"
             ],
             [
              0.4444444444444444,
              "#bd3786"
             ],
             [
              0.5555555555555556,
              "#d8576b"
             ],
             [
              0.6666666666666666,
              "#ed7953"
             ],
             [
              0.7777777777777778,
              "#fb9f3a"
             ],
             [
              0.8888888888888888,
              "#fdca26"
             ],
             [
              1,
              "#f0f921"
             ]
            ],
            "type": "heatmap"
           }
          ],
          "histogram": [
           {
            "marker": {
             "pattern": {
              "fillmode": "overlay",
              "size": 10,
              "solidity": 0.2
             }
            },
            "type": "histogram"
           }
          ],
          "histogram2d": [
           {
            "colorbar": {
             "outlinewidth": 0,
             "ticks": ""
            },
            "colorscale": [
             [
              0,
              "#0d0887"
             ],
             [
              0.1111111111111111,
              "#46039f"
             ],
             [
              0.2222222222222222,
              "#7201a8"
             ],
             [
              0.3333333333333333,
              "#9c179e"
             ],
             [
              0.4444444444444444,
              "#bd3786"
             ],
             [
              0.5555555555555556,
              "#d8576b"
             ],
             [
              0.6666666666666666,
              "#ed7953"
             ],
             [
              0.7777777777777778,
              "#fb9f3a"
             ],
             [
              0.8888888888888888,
              "#fdca26"
             ],
             [
              1,
              "#f0f921"
             ]
            ],
            "type": "histogram2d"
           }
          ],
          "histogram2dcontour": [
           {
            "colorbar": {
             "outlinewidth": 0,
             "ticks": ""
            },
            "colorscale": [
             [
              0,
              "#0d0887"
             ],
             [
              0.1111111111111111,
              "#46039f"
             ],
             [
              0.2222222222222222,
              "#7201a8"
             ],
             [
              0.3333333333333333,
              "#9c179e"
             ],
             [
              0.4444444444444444,
              "#bd3786"
             ],
             [
              0.5555555555555556,
              "#d8576b"
             ],
             [
              0.6666666666666666,
              "#ed7953"
             ],
             [
              0.7777777777777778,
              "#fb9f3a"
             ],
             [
              0.8888888888888888,
              "#fdca26"
             ],
             [
              1,
              "#f0f921"
             ]
            ],
            "type": "histogram2dcontour"
           }
          ],
          "mesh3d": [
           {
            "colorbar": {
             "outlinewidth": 0,
             "ticks": ""
            },
            "type": "mesh3d"
           }
          ],
          "parcoords": [
           {
            "line": {
             "colorbar": {
              "outlinewidth": 0,
              "ticks": ""
             }
            },
            "type": "parcoords"
           }
          ],
          "pie": [
           {
            "automargin": true,
            "type": "pie"
           }
          ],
          "scatter": [
           {
            "fillpattern": {
             "fillmode": "overlay",
             "size": 10,
             "solidity": 0.2
            },
            "type": "scatter"
           }
          ],
          "scatter3d": [
           {
            "line": {
             "colorbar": {
              "outlinewidth": 0,
              "ticks": ""
             }
            },
            "marker": {
             "colorbar": {
              "outlinewidth": 0,
              "ticks": ""
             }
            },
            "type": "scatter3d"
           }
          ],
          "scattercarpet": [
           {
            "marker": {
             "colorbar": {
              "outlinewidth": 0,
              "ticks": ""
             }
            },
            "type": "scattercarpet"
           }
          ],
          "scattergeo": [
           {
            "marker": {
             "colorbar": {
              "outlinewidth": 0,
              "ticks": ""
             }
            },
            "type": "scattergeo"
           }
          ],
          "scattergl": [
           {
            "marker": {
             "colorbar": {
              "outlinewidth": 0,
              "ticks": ""
             }
            },
            "type": "scattergl"
           }
          ],
          "scattermap": [
           {
            "marker": {
             "colorbar": {
              "outlinewidth": 0,
              "ticks": ""
             }
            },
            "type": "scattermap"
           }
          ],
          "scattermapbox": [
           {
            "marker": {
             "colorbar": {
              "outlinewidth": 0,
              "ticks": ""
             }
            },
            "type": "scattermapbox"
           }
          ],
          "scatterpolar": [
           {
            "marker": {
             "colorbar": {
              "outlinewidth": 0,
              "ticks": ""
             }
            },
            "type": "scatterpolar"
           }
          ],
          "scatterpolargl": [
           {
            "marker": {
             "colorbar": {
              "outlinewidth": 0,
              "ticks": ""
             }
            },
            "type": "scatterpolargl"
           }
          ],
          "scatterternary": [
           {
            "marker": {
             "colorbar": {
              "outlinewidth": 0,
              "ticks": ""
             }
            },
            "type": "scatterternary"
           }
          ],
          "surface": [
           {
            "colorbar": {
             "outlinewidth": 0,
             "ticks": ""
            },
            "colorscale": [
             [
              0,
              "#0d0887"
             ],
             [
              0.1111111111111111,
              "#46039f"
             ],
             [
              0.2222222222222222,
              "#7201a8"
             ],
             [
              0.3333333333333333,
              "#9c179e"
             ],
             [
              0.4444444444444444,
              "#bd3786"
             ],
             [
              0.5555555555555556,
              "#d8576b"
             ],
             [
              0.6666666666666666,
              "#ed7953"
             ],
             [
              0.7777777777777778,
              "#fb9f3a"
             ],
             [
              0.8888888888888888,
              "#fdca26"
             ],
             [
              1,
              "#f0f921"
             ]
            ],
            "type": "surface"
           }
          ],
          "table": [
           {
            "cells": {
             "fill": {
              "color": "#EBF0F8"
             },
             "line": {
              "color": "white"
             }
            },
            "header": {
             "fill": {
              "color": "#C8D4E3"
             },
             "line": {
              "color": "white"
             }
            },
            "type": "table"
           }
          ]
         },
         "layout": {
          "annotationdefaults": {
           "arrowcolor": "#2a3f5f",
           "arrowhead": 0,
           "arrowwidth": 1
          },
          "autotypenumbers": "strict",
          "coloraxis": {
           "colorbar": {
            "outlinewidth": 0,
            "ticks": ""
           }
          },
          "colorscale": {
           "diverging": [
            [
             0,
             "#8e0152"
            ],
            [
             0.1,
             "#c51b7d"
            ],
            [
             0.2,
             "#de77ae"
            ],
            [
             0.3,
             "#f1b6da"
            ],
            [
             0.4,
             "#fde0ef"
            ],
            [
             0.5,
             "#f7f7f7"
            ],
            [
             0.6,
             "#e6f5d0"
            ],
            [
             0.7,
             "#b8e186"
            ],
            [
             0.8,
             "#7fbc41"
            ],
            [
             0.9,
             "#4d9221"
            ],
            [
             1,
             "#276419"
            ]
           ],
           "sequential": [
            [
             0,
             "#0d0887"
            ],
            [
             0.1111111111111111,
             "#46039f"
            ],
            [
             0.2222222222222222,
             "#7201a8"
            ],
            [
             0.3333333333333333,
             "#9c179e"
            ],
            [
             0.4444444444444444,
             "#bd3786"
            ],
            [
             0.5555555555555556,
             "#d8576b"
            ],
            [
             0.6666666666666666,
             "#ed7953"
            ],
            [
             0.7777777777777778,
             "#fb9f3a"
            ],
            [
             0.8888888888888888,
             "#fdca26"
            ],
            [
             1,
             "#f0f921"
            ]
           ],
           "sequentialminus": [
            [
             0,
             "#0d0887"
            ],
            [
             0.1111111111111111,
             "#46039f"
            ],
            [
             0.2222222222222222,
             "#7201a8"
            ],
            [
             0.3333333333333333,
             "#9c179e"
            ],
            [
             0.4444444444444444,
             "#bd3786"
            ],
            [
             0.5555555555555556,
             "#d8576b"
            ],
            [
             0.6666666666666666,
             "#ed7953"
            ],
            [
             0.7777777777777778,
             "#fb9f3a"
            ],
            [
             0.8888888888888888,
             "#fdca26"
            ],
            [
             1,
             "#f0f921"
            ]
           ]
          },
          "colorway": [
           "#636efa",
           "#EF553B",
           "#00cc96",
           "#ab63fa",
           "#FFA15A",
           "#19d3f3",
           "#FF6692",
           "#B6E880",
           "#FF97FF",
           "#FECB52"
          ],
          "font": {
           "color": "#2a3f5f"
          },
          "geo": {
           "bgcolor": "white",
           "lakecolor": "white",
           "landcolor": "#E5ECF6",
           "showlakes": true,
           "showland": true,
           "subunitcolor": "white"
          },
          "hoverlabel": {
           "align": "left"
          },
          "hovermode": "closest",
          "mapbox": {
           "style": "light"
          },
          "paper_bgcolor": "white",
          "plot_bgcolor": "#E5ECF6",
          "polar": {
           "angularaxis": {
            "gridcolor": "white",
            "linecolor": "white",
            "ticks": ""
           },
           "bgcolor": "#E5ECF6",
           "radialaxis": {
            "gridcolor": "white",
            "linecolor": "white",
            "ticks": ""
           }
          },
          "scene": {
           "xaxis": {
            "backgroundcolor": "#E5ECF6",
            "gridcolor": "white",
            "gridwidth": 2,
            "linecolor": "white",
            "showbackground": true,
            "ticks": "",
            "zerolinecolor": "white"
           },
           "yaxis": {
            "backgroundcolor": "#E5ECF6",
            "gridcolor": "white",
            "gridwidth": 2,
            "linecolor": "white",
            "showbackground": true,
            "ticks": "",
            "zerolinecolor": "white"
           },
           "zaxis": {
            "backgroundcolor": "#E5ECF6",
            "gridcolor": "white",
            "gridwidth": 2,
            "linecolor": "white",
            "showbackground": true,
            "ticks": "",
            "zerolinecolor": "white"
           }
          },
          "shapedefaults": {
           "line": {
            "color": "#2a3f5f"
           }
          },
          "ternary": {
           "aaxis": {
            "gridcolor": "white",
            "linecolor": "white",
            "ticks": ""
           },
           "baxis": {
            "gridcolor": "white",
            "linecolor": "white",
            "ticks": ""
           },
           "bgcolor": "#E5ECF6",
           "caxis": {
            "gridcolor": "white",
            "linecolor": "white",
            "ticks": ""
           }
          },
          "title": {
           "x": 0.05
          },
          "xaxis": {
           "automargin": true,
           "gridcolor": "white",
           "linecolor": "white",
           "ticks": "",
           "title": {
            "standoff": 15
           },
           "zerolinecolor": "white",
           "zerolinewidth": 2
          },
          "yaxis": {
           "automargin": true,
           "gridcolor": "white",
           "linecolor": "white",
           "ticks": "",
           "title": {
            "standoff": 15
           },
           "zerolinecolor": "white",
           "zerolinewidth": 2
          }
         }
        },
        "title": {
         "text": "Base Price vs Final Price (Auction Buys Only)"
        },
        "xaxis": {
         "anchor": "y",
         "domain": [
          0,
          1
         ],
         "title": {
          "text": "Base Price"
         }
        },
        "yaxis": {
         "anchor": "x",
         "domain": [
          0,
          1
         ],
         "title": {
          "text": "COST IN ₹ (CR.)"
         }
        }
       }
      }
     },
     "metadata": {},
     "output_type": "display_data"
    }
   ],
   "source": [
    "# Filter out retained/traded players for this plot\n",
    "auction_buys = df[df['Base Price'].apply(lambda x: str(x).replace('.', '', 1).isdigit())]\n",
    "fig = px.scatter(auction_buys, x='Base Price', y='COST IN ₹ (CR.)', color='TYPE', hover_data=['Player', 'Team'],\n",
    "                title='Base Price vs Final Price (Auction Buys Only)')\n",
    "fig.show()"
   ]
  },
  {
   "cell_type": "markdown",
   "id": "af603bc8",
   "metadata": {},
   "source": [
    "#### Top 10 Bargain Buys (Lowest Price for High Base Price)"
   ]
  },
  {
   "cell_type": "code",
   "execution_count": 14,
   "id": "99410a77",
   "metadata": {},
   "outputs": [
    {
     "name": "stderr",
     "output_type": "stream",
     "text": [
      "C:\\Users\\Mohak kansal\\AppData\\Local\\Temp\\ipykernel_17656\\4269992280.py:2: SettingWithCopyWarning:\n",
      "\n",
      "\n",
      "A value is trying to be set on a copy of a slice from a DataFrame.\n",
      "Try using .loc[row_indexer,col_indexer] = value instead\n",
      "\n",
      "See the caveats in the documentation: https://pandas.pydata.org/pandas-docs/stable/user_guide/indexing.html#returning-a-view-versus-a-copy\n",
      "\n"
     ]
    },
    {
     "data": {
      "application/vnd.plotly.v1+json": {
       "config": {
        "plotlyServerURL": "https://plot.ly"
       },
       "data": [
        {
         "hovertemplate": "Team=Gujarat Titans<br>Player=%{x}<br>Bargain Index=%{y}<extra></extra>",
         "legendgroup": "Gujarat Titans",
         "marker": {
          "color": "#636efa",
          "pattern": {
           "shape": ""
          }
         },
         "name": "Gujarat Titans",
         "orientation": "v",
         "showlegend": true,
         "textposition": "auto",
         "type": "bar",
         "x": [
          "Azmatullah Omarzai",
          "Manav Suthar"
         ],
         "xaxis": "x",
         "y": {
          "bdata": "AAAAANASY0EAAAAA0BJjQQ==",
          "dtype": "f8"
         },
         "yaxis": "y"
        },
        {
         "hovertemplate": "Team=Delhi Capital<br>Player=%{x}<br>Bargain Index=%{y}<extra></extra>",
         "legendgroup": "Delhi Capital",
         "marker": {
          "color": "#EF553B",
          "pattern": {
           "shape": ""
          }
         },
         "name": "Delhi Capital",
         "orientation": "v",
         "showlegend": true,
         "textposition": "auto",
         "type": "bar",
         "x": [
          "Rasikh Dar",
          "Ricky Bhui",
          "Swastik Chhikara",
          "Shai Hope"
         ],
         "xaxis": "x",
         "y": {
          "bdata": "AAAAANASY0EAAAAA0BJjQQAAAADQEmNBAAAAANASY0E=",
          "dtype": "f8"
         },
         "yaxis": "y"
        },
        {
         "hovertemplate": "Team=Chennai Super Kings<br>Player=%{x}<br>Bargain Index=%{y}<extra></extra>",
         "legendgroup": "Chennai Super Kings",
         "marker": {
          "color": "#00cc96",
          "pattern": {
           "shape": ""
          }
         },
         "name": "Chennai Super Kings",
         "orientation": "v",
         "showlegend": true,
         "textposition": "auto",
         "type": "bar",
         "x": [
          "Avanish Rao Aravelly",
          "Mustafizur Rahman"
         ],
         "xaxis": "x",
         "y": {
          "bdata": "AAAAANASY0EAAAAA0BJjQQ==",
          "dtype": "f8"
         },
         "yaxis": "y"
        },
        {
         "hovertemplate": "Team=Sunrisers Hyderabad<br>Player=%{x}<br>Bargain Index=%{y}<extra></extra>",
         "legendgroup": "Sunrisers Hyderabad",
         "marker": {
          "color": "#ab63fa",
          "pattern": {
           "shape": ""
          }
         },
         "name": "Sunrisers Hyderabad",
         "orientation": "v",
         "showlegend": true,
         "textposition": "auto",
         "type": "bar",
         "x": [
          "Jhathavedh Subramanyan",
          "Wanindu Hasaranga"
         ],
         "xaxis": "x",
         "y": {
          "bdata": "AAAAANASY0EAAAAA0BJjQQ==",
          "dtype": "f8"
         },
         "yaxis": "y"
        }
       ],
       "layout": {
        "barmode": "relative",
        "legend": {
         "title": {
          "text": "Team"
         },
         "tracegroupgap": 0
        },
        "template": {
         "data": {
          "bar": [
           {
            "error_x": {
             "color": "#2a3f5f"
            },
            "error_y": {
             "color": "#2a3f5f"
            },
            "marker": {
             "line": {
              "color": "#E5ECF6",
              "width": 0.5
             },
             "pattern": {
              "fillmode": "overlay",
              "size": 10,
              "solidity": 0.2
             }
            },
            "type": "bar"
           }
          ],
          "barpolar": [
           {
            "marker": {
             "line": {
              "color": "#E5ECF6",
              "width": 0.5
             },
             "pattern": {
              "fillmode": "overlay",
              "size": 10,
              "solidity": 0.2
             }
            },
            "type": "barpolar"
           }
          ],
          "carpet": [
           {
            "aaxis": {
             "endlinecolor": "#2a3f5f",
             "gridcolor": "white",
             "linecolor": "white",
             "minorgridcolor": "white",
             "startlinecolor": "#2a3f5f"
            },
            "baxis": {
             "endlinecolor": "#2a3f5f",
             "gridcolor": "white",
             "linecolor": "white",
             "minorgridcolor": "white",
             "startlinecolor": "#2a3f5f"
            },
            "type": "carpet"
           }
          ],
          "choropleth": [
           {
            "colorbar": {
             "outlinewidth": 0,
             "ticks": ""
            },
            "type": "choropleth"
           }
          ],
          "contour": [
           {
            "colorbar": {
             "outlinewidth": 0,
             "ticks": ""
            },
            "colorscale": [
             [
              0,
              "#0d0887"
             ],
             [
              0.1111111111111111,
              "#46039f"
             ],
             [
              0.2222222222222222,
              "#7201a8"
             ],
             [
              0.3333333333333333,
              "#9c179e"
             ],
             [
              0.4444444444444444,
              "#bd3786"
             ],
             [
              0.5555555555555556,
              "#d8576b"
             ],
             [
              0.6666666666666666,
              "#ed7953"
             ],
             [
              0.7777777777777778,
              "#fb9f3a"
             ],
             [
              0.8888888888888888,
              "#fdca26"
             ],
             [
              1,
              "#f0f921"
             ]
            ],
            "type": "contour"
           }
          ],
          "contourcarpet": [
           {
            "colorbar": {
             "outlinewidth": 0,
             "ticks": ""
            },
            "type": "contourcarpet"
           }
          ],
          "heatmap": [
           {
            "colorbar": {
             "outlinewidth": 0,
             "ticks": ""
            },
            "colorscale": [
             [
              0,
              "#0d0887"
             ],
             [
              0.1111111111111111,
              "#46039f"
             ],
             [
              0.2222222222222222,
              "#7201a8"
             ],
             [
              0.3333333333333333,
              "#9c179e"
             ],
             [
              0.4444444444444444,
              "#bd3786"
             ],
             [
              0.5555555555555556,
              "#d8576b"
             ],
             [
              0.6666666666666666,
              "#ed7953"
             ],
             [
              0.7777777777777778,
              "#fb9f3a"
             ],
             [
              0.8888888888888888,
              "#fdca26"
             ],
             [
              1,
              "#f0f921"
             ]
            ],
            "type": "heatmap"
           }
          ],
          "histogram": [
           {
            "marker": {
             "pattern": {
              "fillmode": "overlay",
              "size": 10,
              "solidity": 0.2
             }
            },
            "type": "histogram"
           }
          ],
          "histogram2d": [
           {
            "colorbar": {
             "outlinewidth": 0,
             "ticks": ""
            },
            "colorscale": [
             [
              0,
              "#0d0887"
             ],
             [
              0.1111111111111111,
              "#46039f"
             ],
             [
              0.2222222222222222,
              "#7201a8"
             ],
             [
              0.3333333333333333,
              "#9c179e"
             ],
             [
              0.4444444444444444,
              "#bd3786"
             ],
             [
              0.5555555555555556,
              "#d8576b"
             ],
             [
              0.6666666666666666,
              "#ed7953"
             ],
             [
              0.7777777777777778,
              "#fb9f3a"
             ],
             [
              0.8888888888888888,
              "#fdca26"
             ],
             [
              1,
              "#f0f921"
             ]
            ],
            "type": "histogram2d"
           }
          ],
          "histogram2dcontour": [
           {
            "colorbar": {
             "outlinewidth": 0,
             "ticks": ""
            },
            "colorscale": [
             [
              0,
              "#0d0887"
             ],
             [
              0.1111111111111111,
              "#46039f"
             ],
             [
              0.2222222222222222,
              "#7201a8"
             ],
             [
              0.3333333333333333,
              "#9c179e"
             ],
             [
              0.4444444444444444,
              "#bd3786"
             ],
             [
              0.5555555555555556,
              "#d8576b"
             ],
             [
              0.6666666666666666,
              "#ed7953"
             ],
             [
              0.7777777777777778,
              "#fb9f3a"
             ],
             [
              0.8888888888888888,
              "#fdca26"
             ],
             [
              1,
              "#f0f921"
             ]
            ],
            "type": "histogram2dcontour"
           }
          ],
          "mesh3d": [
           {
            "colorbar": {
             "outlinewidth": 0,
             "ticks": ""
            },
            "type": "mesh3d"
           }
          ],
          "parcoords": [
           {
            "line": {
             "colorbar": {
              "outlinewidth": 0,
              "ticks": ""
             }
            },
            "type": "parcoords"
           }
          ],
          "pie": [
           {
            "automargin": true,
            "type": "pie"
           }
          ],
          "scatter": [
           {
            "fillpattern": {
             "fillmode": "overlay",
             "size": 10,
             "solidity": 0.2
            },
            "type": "scatter"
           }
          ],
          "scatter3d": [
           {
            "line": {
             "colorbar": {
              "outlinewidth": 0,
              "ticks": ""
             }
            },
            "marker": {
             "colorbar": {
              "outlinewidth": 0,
              "ticks": ""
             }
            },
            "type": "scatter3d"
           }
          ],
          "scattercarpet": [
           {
            "marker": {
             "colorbar": {
              "outlinewidth": 0,
              "ticks": ""
             }
            },
            "type": "scattercarpet"
           }
          ],
          "scattergeo": [
           {
            "marker": {
             "colorbar": {
              "outlinewidth": 0,
              "ticks": ""
             }
            },
            "type": "scattergeo"
           }
          ],
          "scattergl": [
           {
            "marker": {
             "colorbar": {
              "outlinewidth": 0,
              "ticks": ""
             }
            },
            "type": "scattergl"
           }
          ],
          "scattermap": [
           {
            "marker": {
             "colorbar": {
              "outlinewidth": 0,
              "ticks": ""
             }
            },
            "type": "scattermap"
           }
          ],
          "scattermapbox": [
           {
            "marker": {
             "colorbar": {
              "outlinewidth": 0,
              "ticks": ""
             }
            },
            "type": "scattermapbox"
           }
          ],
          "scatterpolar": [
           {
            "marker": {
             "colorbar": {
              "outlinewidth": 0,
              "ticks": ""
             }
            },
            "type": "scatterpolar"
           }
          ],
          "scatterpolargl": [
           {
            "marker": {
             "colorbar": {
              "outlinewidth": 0,
              "ticks": ""
             }
            },
            "type": "scatterpolargl"
           }
          ],
          "scatterternary": [
           {
            "marker": {
             "colorbar": {
              "outlinewidth": 0,
              "ticks": ""
             }
            },
            "type": "scatterternary"
           }
          ],
          "surface": [
           {
            "colorbar": {
             "outlinewidth": 0,
             "ticks": ""
            },
            "colorscale": [
             [
              0,
              "#0d0887"
             ],
             [
              0.1111111111111111,
              "#46039f"
             ],
             [
              0.2222222222222222,
              "#7201a8"
             ],
             [
              0.3333333333333333,
              "#9c179e"
             ],
             [
              0.4444444444444444,
              "#bd3786"
             ],
             [
              0.5555555555555556,
              "#d8576b"
             ],
             [
              0.6666666666666666,
              "#ed7953"
             ],
             [
              0.7777777777777778,
              "#fb9f3a"
             ],
             [
              0.8888888888888888,
              "#fdca26"
             ],
             [
              1,
              "#f0f921"
             ]
            ],
            "type": "surface"
           }
          ],
          "table": [
           {
            "cells": {
             "fill": {
              "color": "#EBF0F8"
             },
             "line": {
              "color": "white"
             }
            },
            "header": {
             "fill": {
              "color": "#C8D4E3"
             },
             "line": {
              "color": "white"
             }
            },
            "type": "table"
           }
          ]
         },
         "layout": {
          "annotationdefaults": {
           "arrowcolor": "#2a3f5f",
           "arrowhead": 0,
           "arrowwidth": 1
          },
          "autotypenumbers": "strict",
          "coloraxis": {
           "colorbar": {
            "outlinewidth": 0,
            "ticks": ""
           }
          },
          "colorscale": {
           "diverging": [
            [
             0,
             "#8e0152"
            ],
            [
             0.1,
             "#c51b7d"
            ],
            [
             0.2,
             "#de77ae"
            ],
            [
             0.3,
             "#f1b6da"
            ],
            [
             0.4,
             "#fde0ef"
            ],
            [
             0.5,
             "#f7f7f7"
            ],
            [
             0.6,
             "#e6f5d0"
            ],
            [
             0.7,
             "#b8e186"
            ],
            [
             0.8,
             "#7fbc41"
            ],
            [
             0.9,
             "#4d9221"
            ],
            [
             1,
             "#276419"
            ]
           ],
           "sequential": [
            [
             0,
             "#0d0887"
            ],
            [
             0.1111111111111111,
             "#46039f"
            ],
            [
             0.2222222222222222,
             "#7201a8"
            ],
            [
             0.3333333333333333,
             "#9c179e"
            ],
            [
             0.4444444444444444,
             "#bd3786"
            ],
            [
             0.5555555555555556,
             "#d8576b"
            ],
            [
             0.6666666666666666,
             "#ed7953"
            ],
            [
             0.7777777777777778,
             "#fb9f3a"
            ],
            [
             0.8888888888888888,
             "#fdca26"
            ],
            [
             1,
             "#f0f921"
            ]
           ],
           "sequentialminus": [
            [
             0,
             "#0d0887"
            ],
            [
             0.1111111111111111,
             "#46039f"
            ],
            [
             0.2222222222222222,
             "#7201a8"
            ],
            [
             0.3333333333333333,
             "#9c179e"
            ],
            [
             0.4444444444444444,
             "#bd3786"
            ],
            [
             0.5555555555555556,
             "#d8576b"
            ],
            [
             0.6666666666666666,
             "#ed7953"
            ],
            [
             0.7777777777777778,
             "#fb9f3a"
            ],
            [
             0.8888888888888888,
             "#fdca26"
            ],
            [
             1,
             "#f0f921"
            ]
           ]
          },
          "colorway": [
           "#636efa",
           "#EF553B",
           "#00cc96",
           "#ab63fa",
           "#FFA15A",
           "#19d3f3",
           "#FF6692",
           "#B6E880",
           "#FF97FF",
           "#FECB52"
          ],
          "font": {
           "color": "#2a3f5f"
          },
          "geo": {
           "bgcolor": "white",
           "lakecolor": "white",
           "landcolor": "#E5ECF6",
           "showlakes": true,
           "showland": true,
           "subunitcolor": "white"
          },
          "hoverlabel": {
           "align": "left"
          },
          "hovermode": "closest",
          "mapbox": {
           "style": "light"
          },
          "paper_bgcolor": "white",
          "plot_bgcolor": "#E5ECF6",
          "polar": {
           "angularaxis": {
            "gridcolor": "white",
            "linecolor": "white",
            "ticks": ""
           },
           "bgcolor": "#E5ECF6",
           "radialaxis": {
            "gridcolor": "white",
            "linecolor": "white",
            "ticks": ""
           }
          },
          "scene": {
           "xaxis": {
            "backgroundcolor": "#E5ECF6",
            "gridcolor": "white",
            "gridwidth": 2,
            "linecolor": "white",
            "showbackground": true,
            "ticks": "",
            "zerolinecolor": "white"
           },
           "yaxis": {
            "backgroundcolor": "#E5ECF6",
            "gridcolor": "white",
            "gridwidth": 2,
            "linecolor": "white",
            "showbackground": true,
            "ticks": "",
            "zerolinecolor": "white"
           },
           "zaxis": {
            "backgroundcolor": "#E5ECF6",
            "gridcolor": "white",
            "gridwidth": 2,
            "linecolor": "white",
            "showbackground": true,
            "ticks": "",
            "zerolinecolor": "white"
           }
          },
          "shapedefaults": {
           "line": {
            "color": "#2a3f5f"
           }
          },
          "ternary": {
           "aaxis": {
            "gridcolor": "white",
            "linecolor": "white",
            "ticks": ""
           },
           "baxis": {
            "gridcolor": "white",
            "linecolor": "white",
            "ticks": ""
           },
           "bgcolor": "#E5ECF6",
           "caxis": {
            "gridcolor": "white",
            "linecolor": "white",
            "ticks": ""
           }
          },
          "title": {
           "x": 0.05
          },
          "xaxis": {
           "automargin": true,
           "gridcolor": "white",
           "linecolor": "white",
           "ticks": "",
           "title": {
            "standoff": 15
           },
           "zerolinecolor": "white",
           "zerolinewidth": 2
          },
          "yaxis": {
           "automargin": true,
           "gridcolor": "white",
           "linecolor": "white",
           "ticks": "",
           "title": {
            "standoff": 15
           },
           "zerolinecolor": "white",
           "zerolinewidth": 2
          }
         }
        },
        "title": {
         "text": "Top 10 Bargain Buys (2024 Auction)"
        },
        "xaxis": {
         "anchor": "y",
         "domain": [
          0,
          1
         ],
         "title": {
          "text": "Player"
         }
        },
        "yaxis": {
         "anchor": "x",
         "domain": [
          0,
          1
         ],
         "title": {
          "text": "Bargain Index"
         }
        }
       }
      }
     },
     "metadata": {},
     "output_type": "display_data"
    }
   ],
   "source": [
    "auction_buys = df[df['Base Price'].apply(lambda x: str(x).replace('.', '', 1).isdigit())]\n",
    "auction_buys['Bargain Index'] = auction_buys['Base Price'].astype(float) / auction_buys['COST IN ₹ (CR.)'].replace(0, 1)\n",
    "top_bargains = auction_buys.sort_values('Bargain Index', ascending=False).head(10)\n",
    "fig = px.bar(top_bargains, x='Player', y='Bargain Index', color='Team', title='Top 10 Bargain Buys (2024 Auction)')\n",
    "fig.show()"
   ]
  },
  {
   "cell_type": "markdown",
   "id": "59ae6563",
   "metadata": {},
   "source": [
    "### Data Cleaning"
   ]
  },
  {
   "cell_type": "markdown",
   "id": "104ca175",
   "metadata": {},
   "source": [
    "#### Remove null values"
   ]
  },
  {
   "cell_type": "code",
   "execution_count": 15,
   "id": "cdb75ab2",
   "metadata": {},
   "outputs": [],
   "source": [
    "df['COST IN ₹ (CR.)'] = df['COST IN ₹ (CR.)'].fillna(0)\n",
    "df['Cost IN $ (000)'] = df['Cost IN $ (000)'].fillna(0)\n",
    "\n",
    "df['2023 Squad'] = df['2023 Squad'].fillna(\"Uncapped\")\n"
   ]
  },
  {
   "cell_type": "markdown",
   "id": "424e7f3f",
   "metadata": {},
   "source": [
    "#### Adjusting columns"
   ]
  },
  {
   "cell_type": "code",
   "execution_count": 16,
   "id": "11e57b59",
   "metadata": {},
   "outputs": [],
   "source": [
    "df = df.drop(columns=['Unnamed: 0'])\n"
   ]
  },
  {
   "cell_type": "code",
   "execution_count": 17,
   "id": "68a8b991",
   "metadata": {},
   "outputs": [],
   "source": [
    "df = df.rename(columns={'TYPE': 'Type', 'COST IN ₹ (CR.)': 'Cost IN ₹ (CR.)', 'Cost IN $ (000)': 'Cost IN $ (K)'})"
   ]
  },
  {
   "cell_type": "code",
   "execution_count": 18,
   "id": "813430f6",
   "metadata": {},
   "outputs": [
    {
     "name": "stdout",
     "output_type": "stream",
     "text": [
      "['Gujarat Titans' 'Chennai Super Kings' 'Delhi Capital'\n",
      " 'Kolkata Knight Riders' 'Punjab Kings' 'Lucknow Super Giants'\n",
      " 'Mumbai Indians' 'Royal Challengers Bengaluru' 'Rajasthan Royals'\n",
      " 'Sunrisers Hyderabad' 'Unsold']\n",
      "['BOWLER' 'ALL-ROUNDER' 'WICKETKEEPER' nan 'BATTER']\n"
     ]
    }
   ],
   "source": [
    "print(df['Team'].unique())\n",
    "print(df['Type'].unique())"
   ]
  },
  {
   "cell_type": "code",
   "execution_count": 19,
   "id": "23e9c8c6",
   "metadata": {},
   "outputs": [
    {
     "name": "stdout",
     "output_type": "stream",
     "text": [
      "['Bowler' 'All-Rounder' 'Wicketkeeper' 'Nan' 'Batter']\n"
     ]
    }
   ],
   "source": [
    "df['Type'] = df['Type'].astype(str).str.strip().str.title()\n",
    "print(df['Type'].unique())"
   ]
  },
  {
   "cell_type": "code",
   "execution_count": 20,
   "id": "e34a47e4",
   "metadata": {},
   "outputs": [],
   "source": [
    "df.to_csv('IPL_AUCTION_2024_DATASET_CLEANED.csv', index=False)"
   ]
  },
  {
   "cell_type": "code",
   "execution_count": 21,
   "id": "aa4da1f5",
   "metadata": {},
   "outputs": [
    {
     "data": {
      "text/html": [
       "<div>\n",
       "<style scoped>\n",
       "    .dataframe tbody tr th:only-of-type {\n",
       "        vertical-align: middle;\n",
       "    }\n",
       "\n",
       "    .dataframe tbody tr th {\n",
       "        vertical-align: top;\n",
       "    }\n",
       "\n",
       "    .dataframe thead th {\n",
       "        text-align: right;\n",
       "    }\n",
       "</style>\n",
       "<table border=\"1\" class=\"dataframe\">\n",
       "  <thead>\n",
       "    <tr style=\"text-align: right;\">\n",
       "      <th></th>\n",
       "      <th>Player</th>\n",
       "      <th>Base Price</th>\n",
       "      <th>Type</th>\n",
       "      <th>Cost IN ₹ (CR.)</th>\n",
       "      <th>Cost IN $ (K)</th>\n",
       "      <th>2023 Squad</th>\n",
       "      <th>Team</th>\n",
       "    </tr>\n",
       "  </thead>\n",
       "  <tbody>\n",
       "    <tr>\n",
       "      <th>0</th>\n",
       "      <td>Spencer Johnson</td>\n",
       "      <td>5000000</td>\n",
       "      <td>Bowler</td>\n",
       "      <td>10.0</td>\n",
       "      <td>1200.0</td>\n",
       "      <td>Uncapped</td>\n",
       "      <td>Gujarat Titans</td>\n",
       "    </tr>\n",
       "    <tr>\n",
       "      <th>1</th>\n",
       "      <td>Shahrukh Khan</td>\n",
       "      <td>4000000</td>\n",
       "      <td>All-Rounder</td>\n",
       "      <td>7.4</td>\n",
       "      <td>888.0</td>\n",
       "      <td>PBKS</td>\n",
       "      <td>Gujarat Titans</td>\n",
       "    </tr>\n",
       "    <tr>\n",
       "      <th>2</th>\n",
       "      <td>Umesh Yadav</td>\n",
       "      <td>20000000</td>\n",
       "      <td>Bowler</td>\n",
       "      <td>5.8</td>\n",
       "      <td>696.0</td>\n",
       "      <td>KKR</td>\n",
       "      <td>Gujarat Titans</td>\n",
       "    </tr>\n",
       "    <tr>\n",
       "      <th>3</th>\n",
       "      <td>Robin Minz</td>\n",
       "      <td>2000000</td>\n",
       "      <td>Wicketkeeper</td>\n",
       "      <td>3.6</td>\n",
       "      <td>432.0</td>\n",
       "      <td>Uncapped</td>\n",
       "      <td>Gujarat Titans</td>\n",
       "    </tr>\n",
       "    <tr>\n",
       "      <th>4</th>\n",
       "      <td>Sushant Mishra</td>\n",
       "      <td>2000000</td>\n",
       "      <td>Bowler</td>\n",
       "      <td>2.2</td>\n",
       "      <td>264.0</td>\n",
       "      <td>Uncapped</td>\n",
       "      <td>Gujarat Titans</td>\n",
       "    </tr>\n",
       "  </tbody>\n",
       "</table>\n",
       "</div>"
      ],
      "text/plain": [
       "            Player Base Price          Type  Cost IN ₹ (CR.)  Cost IN $ (K)  \\\n",
       "0  Spencer Johnson    5000000        Bowler             10.0         1200.0   \n",
       "1    Shahrukh Khan    4000000   All-Rounder              7.4          888.0   \n",
       "2      Umesh Yadav   20000000        Bowler              5.8          696.0   \n",
       "3       Robin Minz    2000000  Wicketkeeper              3.6          432.0   \n",
       "4   Sushant Mishra    2000000        Bowler              2.2          264.0   \n",
       "\n",
       "  2023 Squad            Team  \n",
       "0   Uncapped  Gujarat Titans  \n",
       "1       PBKS  Gujarat Titans  \n",
       "2        KKR  Gujarat Titans  \n",
       "3   Uncapped  Gujarat Titans  \n",
       "4   Uncapped  Gujarat Titans  "
      ]
     },
     "execution_count": 21,
     "metadata": {},
     "output_type": "execute_result"
    }
   ],
   "source": [
    "df = pd.read_csv(r'C:\\Users\\Mohak kansal\\Documents\\Coding\\Projects\\IPL Auction Analytics & Team Performance Prediction Dashboard\\Data Collection and Cleaning\\Used Datasets\\3.) IPL AUCTION 2024 DATASET\\IPL_AUCTION_2024_DATASET_CLEANED.csv')\n",
    "df.head()"
   ]
  },
  {
   "cell_type": "code",
   "execution_count": null,
   "id": "af344df9",
   "metadata": {},
   "outputs": [],
   "source": []
  }
 ],
 "metadata": {
  "kernelspec": {
   "display_name": "Python 3",
   "language": "python",
   "name": "python3"
  },
  "language_info": {
   "codemirror_mode": {
    "name": "ipython",
    "version": 3
   },
   "file_extension": ".py",
   "mimetype": "text/x-python",
   "name": "python",
   "nbconvert_exporter": "python",
   "pygments_lexer": "ipython3",
   "version": "3.10.2"
  }
 },
 "nbformat": 4,
 "nbformat_minor": 5
}
