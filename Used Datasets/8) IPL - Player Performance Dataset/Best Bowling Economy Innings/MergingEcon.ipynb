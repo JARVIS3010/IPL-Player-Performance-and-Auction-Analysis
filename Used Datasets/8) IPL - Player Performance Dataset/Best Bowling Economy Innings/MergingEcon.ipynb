{
 "cells": [
  {
   "cell_type": "code",
   "execution_count": 24,
   "id": "7e05000d",
   "metadata": {},
   "outputs": [],
   "source": [
    "import pandas as pd\n",
    "import os"
   ]
  },
  {
   "cell_type": "code",
   "execution_count": 25,
   "id": "8452c168",
   "metadata": {},
   "outputs": [
    {
     "data": {
      "text/html": [
       "<div>\n",
       "<style scoped>\n",
       "    .dataframe tbody tr th:only-of-type {\n",
       "        vertical-align: middle;\n",
       "    }\n",
       "\n",
       "    .dataframe tbody tr th {\n",
       "        vertical-align: top;\n",
       "    }\n",
       "\n",
       "    .dataframe thead th {\n",
       "        text-align: right;\n",
       "    }\n",
       "</style>\n",
       "<table border=\"1\" class=\"dataframe\">\n",
       "  <thead>\n",
       "    <tr style=\"text-align: right;\">\n",
       "      <th></th>\n",
       "      <th>POS</th>\n",
       "      <th>Player</th>\n",
       "      <th>Ov</th>\n",
       "      <th>Runs</th>\n",
       "      <th>Wkts</th>\n",
       "      <th>Dots</th>\n",
       "      <th>Econ</th>\n",
       "      <th>SR</th>\n",
       "      <th>Against</th>\n",
       "      <th>Venue</th>\n",
       "      <th>Match Date</th>\n",
       "      <th>Year</th>\n",
       "    </tr>\n",
       "  </thead>\n",
       "  <tbody>\n",
       "    <tr>\n",
       "      <th>0</th>\n",
       "      <td>1</td>\n",
       "      <td>Mohammad Hafeez</td>\n",
       "      <td>4.0</td>\n",
       "      <td>8</td>\n",
       "      <td>1</td>\n",
       "      <td>14</td>\n",
       "      <td>2.00</td>\n",
       "      <td>24.0</td>\n",
       "      <td>DEC</td>\n",
       "      <td>Eden Gardens</td>\n",
       "      <td>20 April 2008</td>\n",
       "      <td>2008</td>\n",
       "    </tr>\n",
       "    <tr>\n",
       "      <th>1</th>\n",
       "      <td>2</td>\n",
       "      <td>Ishant Sharma</td>\n",
       "      <td>4.0</td>\n",
       "      <td>9</td>\n",
       "      <td>2</td>\n",
       "      <td>14</td>\n",
       "      <td>2.25</td>\n",
       "      <td>12.0</td>\n",
       "      <td>RCB</td>\n",
       "      <td>M. Chinnaswamy Stadium</td>\n",
       "      <td>18 April 2008</td>\n",
       "      <td>2008</td>\n",
       "    </tr>\n",
       "    <tr>\n",
       "      <th>2</th>\n",
       "      <td>3</td>\n",
       "      <td>Brett Lee</td>\n",
       "      <td>4.0</td>\n",
       "      <td>9</td>\n",
       "      <td>1</td>\n",
       "      <td>17</td>\n",
       "      <td>2.25</td>\n",
       "      <td>24.0</td>\n",
       "      <td>MI</td>\n",
       "      <td>IS Bindra Stadium</td>\n",
       "      <td>25 April 2008</td>\n",
       "      <td>2008</td>\n",
       "    </tr>\n",
       "    <tr>\n",
       "      <th>3</th>\n",
       "      <td>4</td>\n",
       "      <td>Shaun Pollock</td>\n",
       "      <td>4.0</td>\n",
       "      <td>9</td>\n",
       "      <td>1</td>\n",
       "      <td>17</td>\n",
       "      <td>2.25</td>\n",
       "      <td>24.0</td>\n",
       "      <td>CSK</td>\n",
       "      <td>Wankhede Stadium</td>\n",
       "      <td>14 May 2008</td>\n",
       "      <td>2008</td>\n",
       "    </tr>\n",
       "    <tr>\n",
       "      <th>4</th>\n",
       "      <td>5</td>\n",
       "      <td>Dominic Thornely</td>\n",
       "      <td>3.0</td>\n",
       "      <td>7</td>\n",
       "      <td>2</td>\n",
       "      <td>12</td>\n",
       "      <td>2.33</td>\n",
       "      <td>9.0</td>\n",
       "      <td>KKR</td>\n",
       "      <td>Wankhede Stadium</td>\n",
       "      <td>16 May 2008</td>\n",
       "      <td>2008</td>\n",
       "    </tr>\n",
       "  </tbody>\n",
       "</table>\n",
       "</div>"
      ],
      "text/plain": [
       "   POS            Player   Ov  Runs  Wkts  Dots  Econ    SR Against  \\\n",
       "0    1   Mohammad Hafeez  4.0     8     1    14  2.00  24.0     DEC   \n",
       "1    2     Ishant Sharma  4.0     9     2    14  2.25  12.0     RCB   \n",
       "2    3         Brett Lee  4.0     9     1    17  2.25  24.0      MI   \n",
       "3    4     Shaun Pollock  4.0     9     1    17  2.25  24.0     CSK   \n",
       "4    5  Dominic Thornely  3.0     7     2    12  2.33   9.0     KKR   \n",
       "\n",
       "                    Venue     Match Date  Year  \n",
       "0            Eden Gardens  20 April 2008  2008  \n",
       "1  M. Chinnaswamy Stadium  18 April 2008  2008  \n",
       "2       IS Bindra Stadium  25 April 2008  2008  \n",
       "3        Wankhede Stadium    14 May 2008  2008  \n",
       "4        Wankhede Stadium    16 May 2008  2008  "
      ]
     },
     "execution_count": 25,
     "metadata": {},
     "output_type": "execute_result"
    }
   ],
   "source": [
    "years = range(2008, 2023)\n",
    "files = [fr\"C:\\Users\\Mohak kansal\\Documents\\Coding\\Projects\\IPL Auction Analytics & Team Performance Prediction Dashboard\\Data Collection and Cleaning\\Used Datasets\\8) IPL - Player Performance Dataset\\Best Bowling Economy Innings\\Best Bowling Economy Innings - {year}.csv\" for year in years]\n",
    "\n",
    "all_dfs = []\n",
    "\n",
    "for file in files:\n",
    "    df = pd.read_csv(file)\n",
    "\n",
    "    year = file.split(' - ')[-1].split('.')[0]\n",
    "        \n",
    "    df['Year'] = year\n",
    "\n",
    "    all_dfs.append(df)\n",
    "merged_df = pd.concat(all_dfs, ignore_index=True)\n",
    "\n",
    "merged_df.head()"
   ]
  },
  {
   "cell_type": "code",
   "execution_count": 26,
   "id": "cefd1bd8",
   "metadata": {},
   "outputs": [
    {
     "name": "stdout",
     "output_type": "stream",
     "text": [
      "<class 'pandas.core.frame.DataFrame'>\n",
      "RangeIndex: 2624 entries, 0 to 2623\n",
      "Data columns (total 12 columns):\n",
      " #   Column      Non-Null Count  Dtype  \n",
      "---  ------      --------------  -----  \n",
      " 0   POS         2624 non-null   int64  \n",
      " 1   Player      2624 non-null   object \n",
      " 2   Ov          2624 non-null   float64\n",
      " 3   Runs        2624 non-null   int64  \n",
      " 4   Wkts        2624 non-null   int64  \n",
      " 5   Dots        2624 non-null   int64  \n",
      " 6   Econ        2624 non-null   float64\n",
      " 7   SR          2624 non-null   float64\n",
      " 8   Against     2624 non-null   object \n",
      " 9   Venue       2624 non-null   object \n",
      " 10  Match Date  2624 non-null   object \n",
      " 11  Year        2624 non-null   object \n",
      "dtypes: float64(3), int64(4), object(5)\n",
      "memory usage: 246.1+ KB\n"
     ]
    }
   ],
   "source": [
    "merged_df.info()"
   ]
  },
  {
   "cell_type": "code",
   "execution_count": 27,
   "id": "cf69dd27",
   "metadata": {},
   "outputs": [],
   "source": [
    "merged_df['Ov'] = merged_df['Ov'].astype(int)\n",
    "\n",
    "merged_df['Match Date'] = pd.to_datetime(merged_df['Match Date'], dayfirst=True, errors='coerce')\n",
    "\n"
   ]
  },
  {
   "cell_type": "code",
   "execution_count": 28,
   "id": "f19b6619",
   "metadata": {},
   "outputs": [
    {
     "data": {
      "text/plain": [
       "POS           0\n",
       "Player        0\n",
       "Ov            0\n",
       "Runs          0\n",
       "Wkts          0\n",
       "Dots          0\n",
       "Econ          0\n",
       "SR            0\n",
       "Against       0\n",
       "Venue         0\n",
       "Match Date    0\n",
       "Year          0\n",
       "dtype: int64"
      ]
     },
     "execution_count": 28,
     "metadata": {},
     "output_type": "execute_result"
    }
   ],
   "source": [
    "merged_df.isnull().sum()"
   ]
  },
  {
   "cell_type": "code",
   "execution_count": 29,
   "id": "962abcdb",
   "metadata": {},
   "outputs": [
    {
     "data": {
      "text/plain": [
       "np.int64(0)"
      ]
     },
     "execution_count": 29,
     "metadata": {},
     "output_type": "execute_result"
    }
   ],
   "source": [
    "merged_df.duplicated().sum()"
   ]
  },
  {
   "cell_type": "code",
   "execution_count": 30,
   "id": "be1cfee0",
   "metadata": {},
   "outputs": [],
   "source": [
    "merged_df.to_csv('merged_best_bowling_economy.csv', index=False)"
   ]
  }
 ],
 "metadata": {
  "kernelspec": {
   "display_name": "Python 3",
   "language": "python",
   "name": "python3"
  },
  "language_info": {
   "codemirror_mode": {
    "name": "ipython",
    "version": 3
   },
   "file_extension": ".py",
   "mimetype": "text/x-python",
   "name": "python",
   "nbconvert_exporter": "python",
   "pygments_lexer": "ipython3",
   "version": "3.10.2"
  }
 },
 "nbformat": 4,
 "nbformat_minor": 5
}
