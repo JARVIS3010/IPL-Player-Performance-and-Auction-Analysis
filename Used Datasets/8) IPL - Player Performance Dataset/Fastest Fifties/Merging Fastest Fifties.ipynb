{
 "cells": [
  {
   "cell_type": "code",
   "execution_count": 18,
   "id": "7e05000d",
   "metadata": {},
   "outputs": [],
   "source": [
    "import pandas as pd\n",
    "import os"
   ]
  },
  {
   "cell_type": "code",
   "execution_count": 19,
   "id": "8452c168",
   "metadata": {},
   "outputs": [
    {
     "data": {
      "text/html": [
       "<div>\n",
       "<style scoped>\n",
       "    .dataframe tbody tr th:only-of-type {\n",
       "        vertical-align: middle;\n",
       "    }\n",
       "\n",
       "    .dataframe tbody tr th {\n",
       "        vertical-align: top;\n",
       "    }\n",
       "\n",
       "    .dataframe thead th {\n",
       "        text-align: right;\n",
       "    }\n",
       "</style>\n",
       "<table border=\"1\" class=\"dataframe\">\n",
       "  <thead>\n",
       "    <tr style=\"text-align: right;\">\n",
       "      <th></th>\n",
       "      <th>POS</th>\n",
       "      <th>Player</th>\n",
       "      <th>Runs</th>\n",
       "      <th>BF</th>\n",
       "      <th>4s</th>\n",
       "      <th>6s</th>\n",
       "      <th>Against</th>\n",
       "      <th>Venue</th>\n",
       "      <th>Match Date</th>\n",
       "      <th>Year</th>\n",
       "      <th>SR</th>\n",
       "    </tr>\n",
       "  </thead>\n",
       "  <tbody>\n",
       "    <tr>\n",
       "      <th>0</th>\n",
       "      <td>1</td>\n",
       "      <td>Yusuf Pathan</td>\n",
       "      <td>61</td>\n",
       "      <td>21</td>\n",
       "      <td>4</td>\n",
       "      <td>6</td>\n",
       "      <td>DEC</td>\n",
       "      <td>Rajiv Gandhi Intl. Cricket Stadium</td>\n",
       "      <td>24 April 2008</td>\n",
       "      <td>2008</td>\n",
       "      <td>NaN</td>\n",
       "    </tr>\n",
       "    <tr>\n",
       "      <th>1</th>\n",
       "      <td>2</td>\n",
       "      <td>Kumar Sangakkara</td>\n",
       "      <td>94</td>\n",
       "      <td>23</td>\n",
       "      <td>13</td>\n",
       "      <td>1</td>\n",
       "      <td>MI</td>\n",
       "      <td>IS Bindra Stadium</td>\n",
       "      <td>25 April 2008</td>\n",
       "      <td>2008</td>\n",
       "      <td>NaN</td>\n",
       "    </tr>\n",
       "    <tr>\n",
       "      <th>2</th>\n",
       "      <td>3</td>\n",
       "      <td>Virender Sehwag</td>\n",
       "      <td>51</td>\n",
       "      <td>23</td>\n",
       "      <td>2</td>\n",
       "      <td>5</td>\n",
       "      <td>PBKS</td>\n",
       "      <td>Arun Jaitley Stadium</td>\n",
       "      <td>17 May 2008</td>\n",
       "      <td>2008</td>\n",
       "      <td>NaN</td>\n",
       "    </tr>\n",
       "    <tr>\n",
       "      <th>3</th>\n",
       "      <td>4</td>\n",
       "      <td>Kumar Sangakkara</td>\n",
       "      <td>50</td>\n",
       "      <td>23</td>\n",
       "      <td>7</td>\n",
       "      <td>2</td>\n",
       "      <td>DEC</td>\n",
       "      <td>IS Bindra Stadium</td>\n",
       "      <td>23 May 2008</td>\n",
       "      <td>2008</td>\n",
       "      <td>NaN</td>\n",
       "    </tr>\n",
       "    <tr>\n",
       "      <th>4</th>\n",
       "      <td>5</td>\n",
       "      <td>Virender Sehwag</td>\n",
       "      <td>71</td>\n",
       "      <td>24</td>\n",
       "      <td>7</td>\n",
       "      <td>4</td>\n",
       "      <td>CSK</td>\n",
       "      <td>Chidambaram</td>\n",
       "      <td>02 May 2008</td>\n",
       "      <td>2008</td>\n",
       "      <td>NaN</td>\n",
       "    </tr>\n",
       "  </tbody>\n",
       "</table>\n",
       "</div>"
      ],
      "text/plain": [
       "   POS            Player  Runs  BF  4s  6s Against  \\\n",
       "0    1      Yusuf Pathan    61  21   4   6     DEC   \n",
       "1    2  Kumar Sangakkara    94  23  13   1      MI   \n",
       "2    3   Virender Sehwag    51  23   2   5    PBKS   \n",
       "3    4  Kumar Sangakkara    50  23   7   2     DEC   \n",
       "4    5   Virender Sehwag    71  24   7   4     CSK   \n",
       "\n",
       "                                Venue     Match Date  Year  SR  \n",
       "0  Rajiv Gandhi Intl. Cricket Stadium  24 April 2008  2008 NaN  \n",
       "1                   IS Bindra Stadium  25 April 2008  2008 NaN  \n",
       "2                Arun Jaitley Stadium    17 May 2008  2008 NaN  \n",
       "3                   IS Bindra Stadium    23 May 2008  2008 NaN  \n",
       "4                         Chidambaram    02 May 2008  2008 NaN  "
      ]
     },
     "execution_count": 19,
     "metadata": {},
     "output_type": "execute_result"
    }
   ],
   "source": [
    "years = range(2008, 2023)\n",
    "files = [fr\"C:\\Users\\Mohak kansal\\Documents\\Coding\\Projects\\IPL Auction Analytics & Team Performance Prediction Dashboard\\Data Collection and Cleaning\\Used Datasets\\8) IPL - Player Performance Dataset\\Fastest Fifties\\Fastest Fifties - {year}.csv\" for year in years]\n",
    "\n",
    "all_dfs = []\n",
    "\n",
    "for file in files:\n",
    "    df = pd.read_csv(file)\n",
    "\n",
    "    year = file.split(' - ')[-1].split('.')[0]\n",
    "        \n",
    "    df['Year'] = year\n",
    "\n",
    "    all_dfs.append(df)\n",
    "\n",
    "merged_df = pd.concat(all_dfs, ignore_index=True)\n",
    "\n",
    "\n",
    "\n",
    "merged_df.head()"
   ]
  },
  {
   "cell_type": "code",
   "execution_count": 20,
   "id": "45e5ce2b",
   "metadata": {},
   "outputs": [],
   "source": [
    "\n",
    "if 'SR' in merged_df.columns:\n",
    "    merged_df = merged_df.drop(columns=['SR'])"
   ]
  },
  {
   "cell_type": "code",
   "execution_count": 21,
   "id": "c98f8b1a",
   "metadata": {},
   "outputs": [],
   "source": [
    "merged_df['Match Date'] = pd.to_datetime(merged_df['Match Date'], dayfirst=True, errors='coerce')"
   ]
  },
  {
   "cell_type": "code",
   "execution_count": 22,
   "id": "98a4e753",
   "metadata": {},
   "outputs": [
    {
     "name": "stdout",
     "output_type": "stream",
     "text": [
      "<class 'pandas.core.frame.DataFrame'>\n",
      "RangeIndex: 118 entries, 0 to 117\n",
      "Data columns (total 11 columns):\n",
      " #   Column      Non-Null Count  Dtype  \n",
      "---  ------      --------------  -----  \n",
      " 0   POS         118 non-null    int64  \n",
      " 1   Player      118 non-null    object \n",
      " 2   Runs        118 non-null    int64  \n",
      " 3   BF          118 non-null    int64  \n",
      " 4   SR          118 non-null    float64\n",
      " 5   4s          118 non-null    int64  \n",
      " 6   6s          118 non-null    int64  \n",
      " 7   Against     118 non-null    object \n",
      " 8   Venue       118 non-null    object \n",
      " 9   Match Date  118 non-null    object \n",
      " 10  Year        118 non-null    object \n",
      "dtypes: float64(1), int64(5), object(5)\n",
      "memory usage: 10.3+ KB\n"
     ]
    }
   ],
   "source": [
    "df.info()"
   ]
  },
  {
   "cell_type": "code",
   "execution_count": 23,
   "id": "f19b6619",
   "metadata": {},
   "outputs": [
    {
     "data": {
      "text/plain": [
       "POS           0\n",
       "Player        0\n",
       "Runs          0\n",
       "BF            0\n",
       "4s            0\n",
       "6s            0\n",
       "Against       0\n",
       "Venue         0\n",
       "Match Date    0\n",
       "Year          0\n",
       "dtype: int64"
      ]
     },
     "execution_count": 23,
     "metadata": {},
     "output_type": "execute_result"
    }
   ],
   "source": [
    "merged_df.isnull().sum()"
   ]
  },
  {
   "cell_type": "code",
   "execution_count": 24,
   "id": "962abcdb",
   "metadata": {},
   "outputs": [
    {
     "data": {
      "text/plain": [
       "np.int64(0)"
      ]
     },
     "execution_count": 24,
     "metadata": {},
     "output_type": "execute_result"
    }
   ],
   "source": [
    "merged_df.duplicated().sum()"
   ]
  },
  {
   "cell_type": "code",
   "execution_count": 25,
   "id": "a288013b",
   "metadata": {},
   "outputs": [],
   "source": [
    "merged_df.to_csv('merged_Fastest_Fifties.csv', index=False)"
   ]
  }
 ],
 "metadata": {
  "kernelspec": {
   "display_name": "Python 3",
   "language": "python",
   "name": "python3"
  },
  "language_info": {
   "codemirror_mode": {
    "name": "ipython",
    "version": 3
   },
   "file_extension": ".py",
   "mimetype": "text/x-python",
   "name": "python",
   "nbconvert_exporter": "python",
   "pygments_lexer": "ipython3",
   "version": "3.10.2"
  }
 },
 "nbformat": 4,
 "nbformat_minor": 5
}
