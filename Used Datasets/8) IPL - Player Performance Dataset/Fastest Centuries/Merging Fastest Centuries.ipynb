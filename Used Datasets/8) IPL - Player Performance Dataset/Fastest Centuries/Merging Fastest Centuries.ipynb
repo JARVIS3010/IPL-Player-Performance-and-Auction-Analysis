{
 "cells": [
  {
   "cell_type": "code",
   "execution_count": 38,
   "id": "7e05000d",
   "metadata": {},
   "outputs": [],
   "source": [
    "import pandas as pd\n",
    "import os"
   ]
  },
  {
   "cell_type": "code",
   "execution_count": 39,
   "id": "8452c168",
   "metadata": {},
   "outputs": [
    {
     "data": {
      "text/html": [
       "<div>\n",
       "<style scoped>\n",
       "    .dataframe tbody tr th:only-of-type {\n",
       "        vertical-align: middle;\n",
       "    }\n",
       "\n",
       "    .dataframe tbody tr th {\n",
       "        vertical-align: top;\n",
       "    }\n",
       "\n",
       "    .dataframe thead th {\n",
       "        text-align: right;\n",
       "    }\n",
       "</style>\n",
       "<table border=\"1\" class=\"dataframe\">\n",
       "  <thead>\n",
       "    <tr style=\"text-align: right;\">\n",
       "      <th></th>\n",
       "      <th>POS</th>\n",
       "      <th>Player</th>\n",
       "      <th>Runs</th>\n",
       "      <th>BF</th>\n",
       "      <th>4s</th>\n",
       "      <th>6s</th>\n",
       "      <th>Against</th>\n",
       "      <th>Venue</th>\n",
       "      <th>Match Date</th>\n",
       "      <th>Year</th>\n",
       "      <th>SR</th>\n",
       "    </tr>\n",
       "  </thead>\n",
       "  <tbody>\n",
       "    <tr>\n",
       "      <th>0</th>\n",
       "      <td>1</td>\n",
       "      <td>Adam Gilchrist</td>\n",
       "      <td>109</td>\n",
       "      <td>42</td>\n",
       "      <td>9</td>\n",
       "      <td>10</td>\n",
       "      <td>MI</td>\n",
       "      <td>DY Patil Stadium</td>\n",
       "      <td>27 April 2008</td>\n",
       "      <td>2008</td>\n",
       "      <td>NaN</td>\n",
       "    </tr>\n",
       "    <tr>\n",
       "      <th>1</th>\n",
       "      <td>2</td>\n",
       "      <td>Sanath Jayasuriya</td>\n",
       "      <td>114</td>\n",
       "      <td>45</td>\n",
       "      <td>9</td>\n",
       "      <td>11</td>\n",
       "      <td>CSK</td>\n",
       "      <td>Wankhede Stadium</td>\n",
       "      <td>14 May 2008</td>\n",
       "      <td>2008</td>\n",
       "      <td>NaN</td>\n",
       "    </tr>\n",
       "    <tr>\n",
       "      <th>2</th>\n",
       "      <td>3</td>\n",
       "      <td>Andrew Symonds</td>\n",
       "      <td>117</td>\n",
       "      <td>47</td>\n",
       "      <td>11</td>\n",
       "      <td>7</td>\n",
       "      <td>RR</td>\n",
       "      <td>Rajiv Gandhi Intl. Cricket Stadium</td>\n",
       "      <td>24 April 2008</td>\n",
       "      <td>2008</td>\n",
       "      <td>NaN</td>\n",
       "    </tr>\n",
       "    <tr>\n",
       "      <th>3</th>\n",
       "      <td>4</td>\n",
       "      <td>Michael Hussey</td>\n",
       "      <td>116</td>\n",
       "      <td>50</td>\n",
       "      <td>8</td>\n",
       "      <td>9</td>\n",
       "      <td>PBKS</td>\n",
       "      <td>IS Bindra Stadium</td>\n",
       "      <td>19 April 2008</td>\n",
       "      <td>2008</td>\n",
       "      <td>NaN</td>\n",
       "    </tr>\n",
       "    <tr>\n",
       "      <th>4</th>\n",
       "      <td>5</td>\n",
       "      <td>Brendon McCullum</td>\n",
       "      <td>158</td>\n",
       "      <td>53</td>\n",
       "      <td>10</td>\n",
       "      <td>13</td>\n",
       "      <td>RCB</td>\n",
       "      <td>M. Chinnaswamy Stadium</td>\n",
       "      <td>18 April 2008</td>\n",
       "      <td>2008</td>\n",
       "      <td>NaN</td>\n",
       "    </tr>\n",
       "  </tbody>\n",
       "</table>\n",
       "</div>"
      ],
      "text/plain": [
       "   POS             Player  Runs  BF  4s  6s Against  \\\n",
       "0    1     Adam Gilchrist   109  42   9  10      MI   \n",
       "1    2  Sanath Jayasuriya   114  45   9  11     CSK   \n",
       "2    3     Andrew Symonds   117  47  11   7      RR   \n",
       "3    4     Michael Hussey   116  50   8   9    PBKS   \n",
       "4    5   Brendon McCullum   158  53  10  13     RCB   \n",
       "\n",
       "                                Venue     Match Date  Year  SR  \n",
       "0                    DY Patil Stadium  27 April 2008  2008 NaN  \n",
       "1                    Wankhede Stadium    14 May 2008  2008 NaN  \n",
       "2  Rajiv Gandhi Intl. Cricket Stadium  24 April 2008  2008 NaN  \n",
       "3                   IS Bindra Stadium  19 April 2008  2008 NaN  \n",
       "4              M. Chinnaswamy Stadium  18 April 2008  2008 NaN  "
      ]
     },
     "execution_count": 39,
     "metadata": {},
     "output_type": "execute_result"
    }
   ],
   "source": [
    "years = range(2008, 2023)\n",
    "files = [fr\"C:\\Users\\Mohak kansal\\Documents\\Coding\\Projects\\IPL Auction Analytics & Team Performance Prediction Dashboard\\Data Collection and Cleaning\\Used Datasets\\8) IPL - Player Performance Dataset\\Fastest Centuries\\Fastest Centuries - {year}.csv\" for year in years]\n",
    "\n",
    "all_dfs = []\n",
    "\n",
    "for file in files:\n",
    "    df = pd.read_csv(file)\n",
    "\n",
    "    year = file.split(' - ')[-1].split('.')[0]\n",
    "        \n",
    "    df['Year'] = year\n",
    "\n",
    "    all_dfs.append(df)\n",
    "\n",
    "merged_df = pd.concat(all_dfs, ignore_index=True)\n",
    "\n",
    "merged_df.head()"
   ]
  },
  {
   "cell_type": "code",
   "execution_count": 40,
   "id": "a2b3551f",
   "metadata": {},
   "outputs": [],
   "source": [
    "if 'SR' in merged_df.columns:\n",
    "    merged_df = merged_df.drop(columns=['SR'])"
   ]
  },
  {
   "cell_type": "code",
   "execution_count": 41,
   "id": "5dad1ced",
   "metadata": {},
   "outputs": [],
   "source": [
    "merged_df['Match Date'] = pd.to_datetime(merged_df['Match Date'], dayfirst=True, errors='coerce')"
   ]
  },
  {
   "cell_type": "code",
   "execution_count": 42,
   "id": "98a4e753",
   "metadata": {},
   "outputs": [
    {
     "name": "stdout",
     "output_type": "stream",
     "text": [
      "<class 'pandas.core.frame.DataFrame'>\n",
      "RangeIndex: 8 entries, 0 to 7\n",
      "Data columns (total 11 columns):\n",
      " #   Column      Non-Null Count  Dtype  \n",
      "---  ------      --------------  -----  \n",
      " 0   POS         8 non-null      int64  \n",
      " 1   Player      8 non-null      object \n",
      " 2   Runs        8 non-null      int64  \n",
      " 3   BF          8 non-null      int64  \n",
      " 4   SR          8 non-null      float64\n",
      " 5   4s          8 non-null      int64  \n",
      " 6   6s          8 non-null      int64  \n",
      " 7   Against     8 non-null      object \n",
      " 8   Venue       8 non-null      object \n",
      " 9   Match Date  8 non-null      object \n",
      " 10  Year        8 non-null      object \n",
      "dtypes: float64(1), int64(5), object(5)\n",
      "memory usage: 832.0+ bytes\n"
     ]
    }
   ],
   "source": [
    "df.info()"
   ]
  },
  {
   "cell_type": "code",
   "execution_count": 43,
   "id": "f19b6619",
   "metadata": {},
   "outputs": [
    {
     "data": {
      "text/plain": [
       "POS           0\n",
       "Player        0\n",
       "Runs          0\n",
       "BF            0\n",
       "4s            0\n",
       "6s            0\n",
       "Against       0\n",
       "Venue         0\n",
       "Match Date    0\n",
       "Year          0\n",
       "dtype: int64"
      ]
     },
     "execution_count": 43,
     "metadata": {},
     "output_type": "execute_result"
    }
   ],
   "source": [
    "merged_df.isnull().sum()"
   ]
  },
  {
   "cell_type": "code",
   "execution_count": 44,
   "id": "962abcdb",
   "metadata": {},
   "outputs": [
    {
     "data": {
      "text/plain": [
       "np.int64(0)"
      ]
     },
     "execution_count": 44,
     "metadata": {},
     "output_type": "execute_result"
    }
   ],
   "source": [
    "merged_df.duplicated().sum()"
   ]
  },
  {
   "cell_type": "code",
   "execution_count": 45,
   "id": "f3fb19d9",
   "metadata": {},
   "outputs": [],
   "source": [
    "merged_df.to_csv('merged_Fastest_Centuries.csv', index=False)"
   ]
  }
 ],
 "metadata": {
  "kernelspec": {
   "display_name": "Python 3",
   "language": "python",
   "name": "python3"
  },
  "language_info": {
   "codemirror_mode": {
    "name": "ipython",
    "version": 3
   },
   "file_extension": ".py",
   "mimetype": "text/x-python",
   "name": "python",
   "nbconvert_exporter": "python",
   "pygments_lexer": "ipython3",
   "version": "3.10.2"
  }
 },
 "nbformat": 4,
 "nbformat_minor": 5
}
