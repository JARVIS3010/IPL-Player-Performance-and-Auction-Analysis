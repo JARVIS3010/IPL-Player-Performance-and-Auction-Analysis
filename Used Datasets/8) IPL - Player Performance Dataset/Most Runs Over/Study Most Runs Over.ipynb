{
 "cells": [
  {
   "cell_type": "code",
   "execution_count": 1,
   "id": "7e05000d",
   "metadata": {},
   "outputs": [],
   "source": [
    "import pandas as pd\n",
    "import os"
   ]
  },
  {
   "cell_type": "code",
   "execution_count": 2,
   "id": "8452c168",
   "metadata": {},
   "outputs": [
    {
     "data": {
      "text/html": [
       "<div>\n",
       "<style scoped>\n",
       "    .dataframe tbody tr th:only-of-type {\n",
       "        vertical-align: middle;\n",
       "    }\n",
       "\n",
       "    .dataframe tbody tr th {\n",
       "        vertical-align: top;\n",
       "    }\n",
       "\n",
       "    .dataframe thead th {\n",
       "        text-align: right;\n",
       "    }\n",
       "</style>\n",
       "<table border=\"1\" class=\"dataframe\">\n",
       "  <thead>\n",
       "    <tr style=\"text-align: right;\">\n",
       "      <th></th>\n",
       "      <th>POS</th>\n",
       "      <th>Player</th>\n",
       "      <th>Runs</th>\n",
       "      <th>BF</th>\n",
       "      <th>SR</th>\n",
       "      <th>4s</th>\n",
       "      <th>6s</th>\n",
       "      <th>Against</th>\n",
       "      <th>Venue</th>\n",
       "      <th>Match Date</th>\n",
       "      <th>Year</th>\n",
       "    </tr>\n",
       "  </thead>\n",
       "  <tbody>\n",
       "    <tr>\n",
       "      <th>0</th>\n",
       "      <td>1</td>\n",
       "      <td>Virender Sehwag</td>\n",
       "      <td>30</td>\n",
       "      <td>6</td>\n",
       "      <td>500.00</td>\n",
       "      <td>3</td>\n",
       "      <td>3</td>\n",
       "      <td>DEC</td>\n",
       "      <td>Rajiv Gandhi Intl. Cricket Stadium</td>\n",
       "      <td>22 April 2008</td>\n",
       "      <td>2008</td>\n",
       "    </tr>\n",
       "    <tr>\n",
       "      <th>1</th>\n",
       "      <td>2</td>\n",
       "      <td>Sanath Jayasuriya</td>\n",
       "      <td>26</td>\n",
       "      <td>5</td>\n",
       "      <td>520.00</td>\n",
       "      <td>2</td>\n",
       "      <td>3</td>\n",
       "      <td>CSK</td>\n",
       "      <td>Wankhede Stadium</td>\n",
       "      <td>14 May 2008</td>\n",
       "      <td>2008</td>\n",
       "    </tr>\n",
       "    <tr>\n",
       "      <th>2</th>\n",
       "      <td>3</td>\n",
       "      <td>MF Maharoof</td>\n",
       "      <td>26</td>\n",
       "      <td>5</td>\n",
       "      <td>520.00</td>\n",
       "      <td>0</td>\n",
       "      <td>4</td>\n",
       "      <td>RR</td>\n",
       "      <td>Sawai Mansingh Stadium</td>\n",
       "      <td>11 May 2008</td>\n",
       "      <td>2008</td>\n",
       "    </tr>\n",
       "    <tr>\n",
       "      <th>3</th>\n",
       "      <td>4</td>\n",
       "      <td>Rohit Sharma</td>\n",
       "      <td>26</td>\n",
       "      <td>6</td>\n",
       "      <td>433.33</td>\n",
       "      <td>3</td>\n",
       "      <td>2</td>\n",
       "      <td>DC</td>\n",
       "      <td>Rajiv Gandhi Intl. Cricket Stadium</td>\n",
       "      <td>22 April 2008</td>\n",
       "      <td>2008</td>\n",
       "    </tr>\n",
       "    <tr>\n",
       "      <th>4</th>\n",
       "      <td>5</td>\n",
       "      <td>Shane Watson</td>\n",
       "      <td>26</td>\n",
       "      <td>6</td>\n",
       "      <td>433.33</td>\n",
       "      <td>5</td>\n",
       "      <td>1</td>\n",
       "      <td>RCB</td>\n",
       "      <td>M. Chinnaswamy Stadium</td>\n",
       "      <td>26 April 2008</td>\n",
       "      <td>2008</td>\n",
       "    </tr>\n",
       "  </tbody>\n",
       "</table>\n",
       "</div>"
      ],
      "text/plain": [
       "   POS             Player  Runs  BF      SR  4s  6s Against  \\\n",
       "0    1    Virender Sehwag    30   6  500.00   3   3     DEC   \n",
       "1    2  Sanath Jayasuriya    26   5  520.00   2   3     CSK   \n",
       "2    3        MF Maharoof    26   5  520.00   0   4      RR   \n",
       "3    4       Rohit Sharma    26   6  433.33   3   2      DC   \n",
       "4    5       Shane Watson    26   6  433.33   5   1     RCB   \n",
       "\n",
       "                                Venue     Match Date  Year  \n",
       "0  Rajiv Gandhi Intl. Cricket Stadium  22 April 2008  2008  \n",
       "1                    Wankhede Stadium    14 May 2008  2008  \n",
       "2              Sawai Mansingh Stadium    11 May 2008  2008  \n",
       "3  Rajiv Gandhi Intl. Cricket Stadium  22 April 2008  2008  \n",
       "4              M. Chinnaswamy Stadium  26 April 2008  2008  "
      ]
     },
     "execution_count": 2,
     "metadata": {},
     "output_type": "execute_result"
    }
   ],
   "source": [
    "years = range(2008, 2022)\n",
    "files = [fr\"C:\\Users\\Mohak kansal\\Documents\\Coding\\Projects\\IPL Auction Analytics & Team Performance Prediction Dashboard\\Data Collection and Cleaning\\Used Datasets\\8) IPL - Player Performance Dataset\\Most Runs Over\\Most Runs Over - {year}.csv\" for year in years]\n",
    "\n",
    "all_dfs = []\n",
    "\n",
    "for file in files:\n",
    "    df = pd.read_csv(file)\n",
    "\n",
    "    year = file.split(' - ')[-1].split('.')[0]\n",
    "        \n",
    "    df['Year'] = year\n",
    "\n",
    "    all_dfs.append(df)\n",
    "\n",
    "merged_df = pd.concat(all_dfs, ignore_index=True)\n",
    "\n",
    "\n",
    "merged_df.head()"
   ]
  },
  {
   "cell_type": "code",
   "execution_count": 3,
   "id": "966d62ee",
   "metadata": {},
   "outputs": [],
   "source": [
    "# Convert 'Year' column to int\n",
    "merged_df['Year'] = merged_df['Year'].astype(int)\n",
    "\n",
    "# Convert 'Match Date' column to datetime\n",
    "merged_df['Match Date'] = pd.to_datetime(merged_df['Match Date'])\n",
    "\n"
   ]
  },
  {
   "cell_type": "code",
   "execution_count": 4,
   "id": "f19b6619",
   "metadata": {},
   "outputs": [
    {
     "data": {
      "text/plain": [
       "POS           0\n",
       "Player        0\n",
       "Runs          0\n",
       "BF            0\n",
       "SR            0\n",
       "4s            0\n",
       "6s            0\n",
       "Against       0\n",
       "Venue         0\n",
       "Match Date    0\n",
       "Year          0\n",
       "dtype: int64"
      ]
     },
     "execution_count": 4,
     "metadata": {},
     "output_type": "execute_result"
    }
   ],
   "source": [
    "merged_df.isnull().sum()"
   ]
  },
  {
   "cell_type": "code",
   "execution_count": 5,
   "id": "962abcdb",
   "metadata": {},
   "outputs": [
    {
     "data": {
      "text/plain": [
       "np.int64(0)"
      ]
     },
     "execution_count": 5,
     "metadata": {},
     "output_type": "execute_result"
    }
   ],
   "source": [
    "merged_df.duplicated().sum()"
   ]
  },
  {
   "cell_type": "code",
   "execution_count": 6,
   "id": "f819f384",
   "metadata": {},
   "outputs": [],
   "source": [
    "merged_df.to_csv('merged_most_runs_over.csv', index=False)"
   ]
  }
 ],
 "metadata": {
  "kernelspec": {
   "display_name": "Python 3",
   "language": "python",
   "name": "python3"
  },
  "language_info": {
   "codemirror_mode": {
    "name": "ipython",
    "version": 3
   },
   "file_extension": ".py",
   "mimetype": "text/x-python",
   "name": "python",
   "nbconvert_exporter": "python",
   "pygments_lexer": "ipython3",
   "version": "3.10.2"
  }
 },
 "nbformat": 4,
 "nbformat_minor": 5
}
