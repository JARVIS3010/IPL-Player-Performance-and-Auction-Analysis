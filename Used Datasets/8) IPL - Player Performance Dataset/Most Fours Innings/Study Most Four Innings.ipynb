{
 "cells": [
  {
   "cell_type": "code",
   "execution_count": 7,
   "id": "7e05000d",
   "metadata": {},
   "outputs": [],
   "source": [
    "import pandas as pd\n",
    "import os"
   ]
  },
  {
   "cell_type": "code",
   "execution_count": 8,
   "id": "8452c168",
   "metadata": {},
   "outputs": [
    {
     "data": {
      "text/html": [
       "<div>\n",
       "<style scoped>\n",
       "    .dataframe tbody tr th:only-of-type {\n",
       "        vertical-align: middle;\n",
       "    }\n",
       "\n",
       "    .dataframe tbody tr th {\n",
       "        vertical-align: top;\n",
       "    }\n",
       "\n",
       "    .dataframe thead th {\n",
       "        text-align: right;\n",
       "    }\n",
       "</style>\n",
       "<table border=\"1\" class=\"dataframe\">\n",
       "  <thead>\n",
       "    <tr style=\"text-align: right;\">\n",
       "      <th></th>\n",
       "      <th>POS</th>\n",
       "      <th>Player</th>\n",
       "      <th>Runs</th>\n",
       "      <th>BF</th>\n",
       "      <th>SR</th>\n",
       "      <th>4s</th>\n",
       "      <th>6s</th>\n",
       "      <th>Against</th>\n",
       "      <th>Venue</th>\n",
       "      <th>Match Date</th>\n",
       "      <th>Year</th>\n",
       "    </tr>\n",
       "  </thead>\n",
       "  <tbody>\n",
       "    <tr>\n",
       "      <th>0</th>\n",
       "      <td>1</td>\n",
       "      <td>Kumar Sangakkara</td>\n",
       "      <td>94</td>\n",
       "      <td>56</td>\n",
       "      <td>167.85</td>\n",
       "      <td>13</td>\n",
       "      <td>1</td>\n",
       "      <td>MI</td>\n",
       "      <td>IS Bindra Stadium</td>\n",
       "      <td>25 April 2008</td>\n",
       "      <td>2008</td>\n",
       "    </tr>\n",
       "    <tr>\n",
       "      <th>1</th>\n",
       "      <td>2</td>\n",
       "      <td>Matthew Hayden</td>\n",
       "      <td>81</td>\n",
       "      <td>46</td>\n",
       "      <td>176.08</td>\n",
       "      <td>12</td>\n",
       "      <td>2</td>\n",
       "      <td>MI</td>\n",
       "      <td>Chidambaram</td>\n",
       "      <td>23 April 2008</td>\n",
       "      <td>2008</td>\n",
       "    </tr>\n",
       "    <tr>\n",
       "      <th>2</th>\n",
       "      <td>3</td>\n",
       "      <td>Sachin Tendulkar</td>\n",
       "      <td>65</td>\n",
       "      <td>46</td>\n",
       "      <td>141.30</td>\n",
       "      <td>12</td>\n",
       "      <td>0</td>\n",
       "      <td>PBKS</td>\n",
       "      <td>Wankhede Stadium</td>\n",
       "      <td>21 May 2008</td>\n",
       "      <td>2008</td>\n",
       "    </tr>\n",
       "    <tr>\n",
       "      <th>3</th>\n",
       "      <td>4</td>\n",
       "      <td>Andrew Symonds</td>\n",
       "      <td>117</td>\n",
       "      <td>53</td>\n",
       "      <td>220.75</td>\n",
       "      <td>11</td>\n",
       "      <td>7</td>\n",
       "      <td>RR</td>\n",
       "      <td>Rajiv Gandhi Intl. Cricket Stadium</td>\n",
       "      <td>24 April 2008</td>\n",
       "      <td>2008</td>\n",
       "    </tr>\n",
       "    <tr>\n",
       "      <th>4</th>\n",
       "      <td>5</td>\n",
       "      <td>Shaun Marsh</td>\n",
       "      <td>115</td>\n",
       "      <td>69</td>\n",
       "      <td>166.66</td>\n",
       "      <td>11</td>\n",
       "      <td>7</td>\n",
       "      <td>RR</td>\n",
       "      <td>IS Bindra Stadium</td>\n",
       "      <td>28 May 2008</td>\n",
       "      <td>2008</td>\n",
       "    </tr>\n",
       "  </tbody>\n",
       "</table>\n",
       "</div>"
      ],
      "text/plain": [
       "   POS            Player  Runs  BF      SR  4s  6s Against  \\\n",
       "0    1  Kumar Sangakkara    94  56  167.85  13   1      MI   \n",
       "1    2    Matthew Hayden    81  46  176.08  12   2      MI   \n",
       "2    3  Sachin Tendulkar    65  46  141.30  12   0    PBKS   \n",
       "3    4    Andrew Symonds   117  53  220.75  11   7      RR   \n",
       "4    5       Shaun Marsh   115  69  166.66  11   7      RR   \n",
       "\n",
       "                                Venue     Match Date  Year  \n",
       "0                   IS Bindra Stadium  25 April 2008  2008  \n",
       "1                         Chidambaram  23 April 2008  2008  \n",
       "2                    Wankhede Stadium    21 May 2008  2008  \n",
       "3  Rajiv Gandhi Intl. Cricket Stadium  24 April 2008  2008  \n",
       "4                   IS Bindra Stadium    28 May 2008  2008  "
      ]
     },
     "execution_count": 8,
     "metadata": {},
     "output_type": "execute_result"
    }
   ],
   "source": [
    "years = range(2008, 2023)\n",
    "files = [fr\"C:\\Users\\Mohak kansal\\Documents\\Coding\\Projects\\IPL Auction Analytics & Team Performance Prediction Dashboard\\Data Collection and Cleaning\\Used Datasets\\8) IPL - Player Performance Dataset\\Most Fours Innings\\Most Fours Innings - {year}.csv\" for year in years]\n",
    "\n",
    "all_dfs = []\n",
    "\n",
    "for file in files:\n",
    "    df = pd.read_csv(file)\n",
    "\n",
    "    year = file.split(' - ')[-1].split('.')[0]\n",
    "        \n",
    "    df['Year'] = year\n",
    "\n",
    "    all_dfs.append(df)\n",
    "\n",
    "merged_df = pd.concat(all_dfs, ignore_index=True)\n",
    "\n",
    "\n",
    "merged_df.head()"
   ]
  },
  {
   "cell_type": "code",
   "execution_count": 9,
   "id": "127731fa",
   "metadata": {},
   "outputs": [],
   "source": [
    "# Step 1: Convert the 'Match Date' column to datetime format\n",
    "merged_df['Match Date'] = pd.to_datetime(merged_df['Match Date'], dayfirst=True, errors='coerce')\n"
   ]
  },
  {
   "cell_type": "code",
   "execution_count": 10,
   "id": "f19b6619",
   "metadata": {},
   "outputs": [
    {
     "data": {
      "text/plain": [
       "POS           0\n",
       "Player        0\n",
       "Runs          0\n",
       "BF            0\n",
       "SR            0\n",
       "4s            0\n",
       "6s            0\n",
       "Against       0\n",
       "Venue         0\n",
       "Match Date    0\n",
       "Year          0\n",
       "dtype: int64"
      ]
     },
     "execution_count": 10,
     "metadata": {},
     "output_type": "execute_result"
    }
   ],
   "source": [
    "merged_df.isnull().sum()"
   ]
  },
  {
   "cell_type": "code",
   "execution_count": 11,
   "id": "962abcdb",
   "metadata": {},
   "outputs": [
    {
     "data": {
      "text/plain": [
       "np.int64(0)"
      ]
     },
     "execution_count": 11,
     "metadata": {},
     "output_type": "execute_result"
    }
   ],
   "source": [
    "merged_df.duplicated().sum()"
   ]
  },
  {
   "cell_type": "code",
   "execution_count": 12,
   "id": "f819f384",
   "metadata": {},
   "outputs": [],
   "source": [
    "merged_df.to_csv('merged_most_fours.csv', index=False)"
   ]
  }
 ],
 "metadata": {
  "kernelspec": {
   "display_name": "Python 3",
   "language": "python",
   "name": "python3"
  },
  "language_info": {
   "codemirror_mode": {
    "name": "ipython",
    "version": 3
   },
   "file_extension": ".py",
   "mimetype": "text/x-python",
   "name": "python",
   "nbconvert_exporter": "python",
   "pygments_lexer": "ipython3",
   "version": "3.10.2"
  }
 },
 "nbformat": 4,
 "nbformat_minor": 5
}
