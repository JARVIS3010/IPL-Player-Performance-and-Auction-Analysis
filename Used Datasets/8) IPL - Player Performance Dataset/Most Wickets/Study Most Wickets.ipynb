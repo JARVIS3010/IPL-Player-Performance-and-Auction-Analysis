{
 "cells": [
  {
   "cell_type": "code",
   "execution_count": 4,
   "id": "7e05000d",
   "metadata": {},
   "outputs": [],
   "source": [
    "import pandas as pd\n",
    "import os"
   ]
  },
  {
   "cell_type": "code",
   "execution_count": 5,
   "id": "8452c168",
   "metadata": {},
   "outputs": [
    {
     "data": {
      "text/html": [
       "<div>\n",
       "<style scoped>\n",
       "    .dataframe tbody tr th:only-of-type {\n",
       "        vertical-align: middle;\n",
       "    }\n",
       "\n",
       "    .dataframe tbody tr th {\n",
       "        vertical-align: top;\n",
       "    }\n",
       "\n",
       "    .dataframe thead th {\n",
       "        text-align: right;\n",
       "    }\n",
       "</style>\n",
       "<table border=\"1\" class=\"dataframe\">\n",
       "  <thead>\n",
       "    <tr style=\"text-align: right;\">\n",
       "      <th></th>\n",
       "      <th>POS</th>\n",
       "      <th>Player</th>\n",
       "      <th>Mat</th>\n",
       "      <th>Inns</th>\n",
       "      <th>Ov</th>\n",
       "      <th>Runs</th>\n",
       "      <th>Wkts</th>\n",
       "      <th>BBI</th>\n",
       "      <th>Avg</th>\n",
       "      <th>Econ</th>\n",
       "      <th>SR</th>\n",
       "      <th>4w</th>\n",
       "      <th>5w</th>\n",
       "      <th>Year</th>\n",
       "    </tr>\n",
       "  </thead>\n",
       "  <tbody>\n",
       "    <tr>\n",
       "      <th>0</th>\n",
       "      <td>1</td>\n",
       "      <td>Sohail Tanvir</td>\n",
       "      <td>11</td>\n",
       "      <td>11</td>\n",
       "      <td>41.1</td>\n",
       "      <td>266</td>\n",
       "      <td>22</td>\n",
       "      <td>6/14</td>\n",
       "      <td>12.09</td>\n",
       "      <td>6.46</td>\n",
       "      <td>11.22</td>\n",
       "      <td>1</td>\n",
       "      <td>1</td>\n",
       "      <td>2008</td>\n",
       "    </tr>\n",
       "    <tr>\n",
       "      <th>1</th>\n",
       "      <td>2</td>\n",
       "      <td>Shane Warne</td>\n",
       "      <td>15</td>\n",
       "      <td>15</td>\n",
       "      <td>52.0</td>\n",
       "      <td>404</td>\n",
       "      <td>19</td>\n",
       "      <td>3/19</td>\n",
       "      <td>21.26</td>\n",
       "      <td>7.76</td>\n",
       "      <td>16.42</td>\n",
       "      <td>0</td>\n",
       "      <td>0</td>\n",
       "      <td>2008</td>\n",
       "    </tr>\n",
       "    <tr>\n",
       "      <th>2</th>\n",
       "      <td>3</td>\n",
       "      <td>Shanthakumaran Sreesanth</td>\n",
       "      <td>15</td>\n",
       "      <td>15</td>\n",
       "      <td>51.1</td>\n",
       "      <td>442</td>\n",
       "      <td>19</td>\n",
       "      <td>3/29</td>\n",
       "      <td>23.26</td>\n",
       "      <td>8.63</td>\n",
       "      <td>16.15</td>\n",
       "      <td>0</td>\n",
       "      <td>0</td>\n",
       "      <td>2008</td>\n",
       "    </tr>\n",
       "    <tr>\n",
       "      <th>3</th>\n",
       "      <td>4</td>\n",
       "      <td>Shane Watson</td>\n",
       "      <td>15</td>\n",
       "      <td>15</td>\n",
       "      <td>54.1</td>\n",
       "      <td>383</td>\n",
       "      <td>17</td>\n",
       "      <td>3/10</td>\n",
       "      <td>22.52</td>\n",
       "      <td>7.07</td>\n",
       "      <td>19.11</td>\n",
       "      <td>0</td>\n",
       "      <td>0</td>\n",
       "      <td>2008</td>\n",
       "    </tr>\n",
       "    <tr>\n",
       "      <th>4</th>\n",
       "      <td>5</td>\n",
       "      <td>Manpreet Gony</td>\n",
       "      <td>16</td>\n",
       "      <td>16</td>\n",
       "      <td>60.0</td>\n",
       "      <td>443</td>\n",
       "      <td>17</td>\n",
       "      <td>3/34</td>\n",
       "      <td>26.05</td>\n",
       "      <td>7.38</td>\n",
       "      <td>21.17</td>\n",
       "      <td>0</td>\n",
       "      <td>0</td>\n",
       "      <td>2008</td>\n",
       "    </tr>\n",
       "  </tbody>\n",
       "</table>\n",
       "</div>"
      ],
      "text/plain": [
       "   POS                    Player  Mat  Inns    Ov  Runs  Wkts   BBI    Avg  \\\n",
       "0    1             Sohail Tanvir   11    11  41.1   266    22  6/14  12.09   \n",
       "1    2               Shane Warne   15    15  52.0   404    19  3/19  21.26   \n",
       "2    3  Shanthakumaran Sreesanth   15    15  51.1   442    19  3/29  23.26   \n",
       "3    4              Shane Watson   15    15  54.1   383    17  3/10  22.52   \n",
       "4    5             Manpreet Gony   16    16  60.0   443    17  3/34  26.05   \n",
       "\n",
       "   Econ     SR  4w  5w  Year  \n",
       "0  6.46  11.22   1   1  2008  \n",
       "1  7.76  16.42   0   0  2008  \n",
       "2  8.63  16.15   0   0  2008  \n",
       "3  7.07  19.11   0   0  2008  \n",
       "4  7.38  21.17   0   0  2008  "
      ]
     },
     "execution_count": 5,
     "metadata": {},
     "output_type": "execute_result"
    }
   ],
   "source": [
    "years = range(2008, 2023)\n",
    "files = [fr\"C:\\Users\\Mohak kansal\\Documents\\Coding\\Projects\\IPL Auction Analytics & Team Performance Prediction Dashboard\\Data Collection and Cleaning\\Used Datasets\\8) IPL - Player Performance Dataset\\Most Wickets\\Most Wickets - {year}.csv\" for year in years]\n",
    "\n",
    "all_dfs = []\n",
    "\n",
    "for file in files:\n",
    "    df = pd.read_csv(file)\n",
    "\n",
    "    year = file.split(' - ')[-1].split('.')[0]\n",
    "        \n",
    "    df['Year'] = year\n",
    "\n",
    "    all_dfs.append(df)\n",
    "\n",
    "merged_df = pd.concat(all_dfs, ignore_index=True)\n",
    "\n",
    "\n",
    "merged_df.head()"
   ]
  },
  {
   "cell_type": "code",
   "execution_count": 6,
   "id": "966d62ee",
   "metadata": {},
   "outputs": [],
   "source": [
    "# Convert 'Year' column to int\n",
    "merged_df['Year'] = merged_df['Year'].astype(int)\n"
   ]
  },
  {
   "cell_type": "code",
   "execution_count": 7,
   "id": "f19b6619",
   "metadata": {},
   "outputs": [
    {
     "data": {
      "text/plain": [
       "POS       0\n",
       "Player    0\n",
       "Mat       0\n",
       "Inns      0\n",
       "Ov        0\n",
       "Runs      0\n",
       "Wkts      0\n",
       "BBI       0\n",
       "Avg       0\n",
       "Econ      0\n",
       "SR        0\n",
       "4w        0\n",
       "5w        0\n",
       "Year      0\n",
       "dtype: int64"
      ]
     },
     "execution_count": 7,
     "metadata": {},
     "output_type": "execute_result"
    }
   ],
   "source": [
    "merged_df.isnull().sum()"
   ]
  },
  {
   "cell_type": "code",
   "execution_count": 8,
   "id": "962abcdb",
   "metadata": {},
   "outputs": [
    {
     "data": {
      "text/plain": [
       "np.int64(0)"
      ]
     },
     "execution_count": 8,
     "metadata": {},
     "output_type": "execute_result"
    }
   ],
   "source": [
    "merged_df.duplicated().sum()"
   ]
  },
  {
   "cell_type": "code",
   "execution_count": 9,
   "id": "f819f384",
   "metadata": {},
   "outputs": [],
   "source": [
    "merged_df.to_csv('merged_most_wickets.csv', index=False)"
   ]
  }
 ],
 "metadata": {
  "kernelspec": {
   "display_name": "Python 3",
   "language": "python",
   "name": "python3"
  },
  "language_info": {
   "codemirror_mode": {
    "name": "ipython",
    "version": 3
   },
   "file_extension": ".py",
   "mimetype": "text/x-python",
   "name": "python",
   "nbconvert_exporter": "python",
   "pygments_lexer": "ipython3",
   "version": "3.10.2"
  }
 },
 "nbformat": 4,
 "nbformat_minor": 5
}
