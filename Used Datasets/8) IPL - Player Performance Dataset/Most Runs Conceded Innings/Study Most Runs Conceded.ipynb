{
 "cells": [
  {
   "cell_type": "code",
   "execution_count": 7,
   "id": "7e05000d",
   "metadata": {},
   "outputs": [],
   "source": [
    "import pandas as pd\n",
    "import os"
   ]
  },
  {
   "cell_type": "code",
   "execution_count": 8,
   "id": "8452c168",
   "metadata": {},
   "outputs": [
    {
     "data": {
      "text/html": [
       "<div>\n",
       "<style scoped>\n",
       "    .dataframe tbody tr th:only-of-type {\n",
       "        vertical-align: middle;\n",
       "    }\n",
       "\n",
       "    .dataframe tbody tr th {\n",
       "        vertical-align: top;\n",
       "    }\n",
       "\n",
       "    .dataframe thead th {\n",
       "        text-align: right;\n",
       "    }\n",
       "</style>\n",
       "<table border=\"1\" class=\"dataframe\">\n",
       "  <thead>\n",
       "    <tr style=\"text-align: right;\">\n",
       "      <th></th>\n",
       "      <th>POS</th>\n",
       "      <th>Player</th>\n",
       "      <th>Ov</th>\n",
       "      <th>Runs</th>\n",
       "      <th>Wkts</th>\n",
       "      <th>SR</th>\n",
       "      <th>Against</th>\n",
       "      <th>Venue</th>\n",
       "      <th>Match Date</th>\n",
       "      <th>Year</th>\n",
       "    </tr>\n",
       "  </thead>\n",
       "  <tbody>\n",
       "    <tr>\n",
       "      <th>0</th>\n",
       "      <td>1</td>\n",
       "      <td>RP Singh</td>\n",
       "      <td>4.0</td>\n",
       "      <td>59</td>\n",
       "      <td>1</td>\n",
       "      <td>24.0</td>\n",
       "      <td>KKR</td>\n",
       "      <td>Rajiv Gandhi Intl. Cricket Stadium</td>\n",
       "      <td>11 May 2008</td>\n",
       "      <td>2008</td>\n",
       "    </tr>\n",
       "    <tr>\n",
       "      <th>1</th>\n",
       "      <td>2</td>\n",
       "      <td>Palani Amarnath</td>\n",
       "      <td>4.0</td>\n",
       "      <td>57</td>\n",
       "      <td>1</td>\n",
       "      <td>24.0</td>\n",
       "      <td>MI</td>\n",
       "      <td>Chidambaram</td>\n",
       "      <td>23 April 2008</td>\n",
       "      <td>2008</td>\n",
       "    </tr>\n",
       "    <tr>\n",
       "      <th>2</th>\n",
       "      <td>3</td>\n",
       "      <td>Vikram Singh</td>\n",
       "      <td>4.0</td>\n",
       "      <td>56</td>\n",
       "      <td>0</td>\n",
       "      <td>0.0</td>\n",
       "      <td>MI</td>\n",
       "      <td>Wankhede Stadium</td>\n",
       "      <td>21 May 2008</td>\n",
       "      <td>2008</td>\n",
       "    </tr>\n",
       "    <tr>\n",
       "      <th>3</th>\n",
       "      <td>4</td>\n",
       "      <td>Munaf Patel</td>\n",
       "      <td>4.0</td>\n",
       "      <td>55</td>\n",
       "      <td>0</td>\n",
       "      <td>0.0</td>\n",
       "      <td>DEC</td>\n",
       "      <td>Rajiv Gandhi Intl. Cricket Stadium</td>\n",
       "      <td>24 April 2008</td>\n",
       "      <td>2008</td>\n",
       "    </tr>\n",
       "    <tr>\n",
       "      <th>4</th>\n",
       "      <td>5</td>\n",
       "      <td>Munaf Patel</td>\n",
       "      <td>4.0</td>\n",
       "      <td>55</td>\n",
       "      <td>1</td>\n",
       "      <td>24.0</td>\n",
       "      <td>CSK</td>\n",
       "      <td>Chidambaram</td>\n",
       "      <td>24 May 2008</td>\n",
       "      <td>2008</td>\n",
       "    </tr>\n",
       "  </tbody>\n",
       "</table>\n",
       "</div>"
      ],
      "text/plain": [
       "   POS           Player   Ov  Runs  Wkts    SR Against  \\\n",
       "0    1         RP Singh  4.0    59     1  24.0     KKR   \n",
       "1    2  Palani Amarnath  4.0    57     1  24.0      MI   \n",
       "2    3     Vikram Singh  4.0    56     0   0.0      MI   \n",
       "3    4      Munaf Patel  4.0    55     0   0.0     DEC   \n",
       "4    5      Munaf Patel  4.0    55     1  24.0     CSK   \n",
       "\n",
       "                                Venue     Match Date  Year  \n",
       "0  Rajiv Gandhi Intl. Cricket Stadium    11 May 2008  2008  \n",
       "1                         Chidambaram  23 April 2008  2008  \n",
       "2                    Wankhede Stadium    21 May 2008  2008  \n",
       "3  Rajiv Gandhi Intl. Cricket Stadium  24 April 2008  2008  \n",
       "4                         Chidambaram    24 May 2008  2008  "
      ]
     },
     "execution_count": 8,
     "metadata": {},
     "output_type": "execute_result"
    }
   ],
   "source": [
    "years = range(2008, 2023)\n",
    "files = [fr\"C:\\Users\\Mohak kansal\\Documents\\Coding\\Projects\\IPL Auction Analytics & Team Performance Prediction Dashboard\\Data Collection and Cleaning\\Used Datasets\\8) IPL - Player Performance Dataset\\Most Runs Conceded Innings\\Most Runs Conceded Innings - {year}.csv\" for year in years]\n",
    "\n",
    "all_dfs = []\n",
    "\n",
    "for file in files:\n",
    "    df = pd.read_csv(file)\n",
    "\n",
    "    year = file.split(' - ')[-1].split('.')[0]\n",
    "        \n",
    "    df['Year'] = year\n",
    "\n",
    "    all_dfs.append(df)\n",
    "\n",
    "merged_df = pd.concat(all_dfs, ignore_index=True)\n",
    "\n",
    "\n",
    "merged_df.head()"
   ]
  },
  {
   "cell_type": "code",
   "execution_count": 9,
   "id": "966d62ee",
   "metadata": {},
   "outputs": [],
   "source": [
    "# Convert 'Year' column to int\n",
    "merged_df['Year'] = merged_df['Year'].astype(int)\n",
    "\n",
    "# Convert 'Match Date' column to datetime\n",
    "merged_df['Match Date'] = pd.to_datetime(merged_df['Match Date'], dayfirst=True, errors='coerce')\n"
   ]
  },
  {
   "cell_type": "code",
   "execution_count": 10,
   "id": "f19b6619",
   "metadata": {},
   "outputs": [
    {
     "data": {
      "text/plain": [
       "POS           0\n",
       "Player        0\n",
       "Ov            0\n",
       "Runs          0\n",
       "Wkts          0\n",
       "SR            0\n",
       "Against       0\n",
       "Venue         0\n",
       "Match Date    0\n",
       "Year          0\n",
       "dtype: int64"
      ]
     },
     "execution_count": 10,
     "metadata": {},
     "output_type": "execute_result"
    }
   ],
   "source": [
    "merged_df.isnull().sum()"
   ]
  },
  {
   "cell_type": "code",
   "execution_count": 11,
   "id": "962abcdb",
   "metadata": {},
   "outputs": [
    {
     "data": {
      "text/plain": [
       "np.int64(0)"
      ]
     },
     "execution_count": 11,
     "metadata": {},
     "output_type": "execute_result"
    }
   ],
   "source": [
    "merged_df.duplicated().sum()"
   ]
  },
  {
   "cell_type": "code",
   "execution_count": 12,
   "id": "f819f384",
   "metadata": {},
   "outputs": [],
   "source": [
    "merged_df.to_csv('merged_most_runs_conceded.csv', index=False)"
   ]
  }
 ],
 "metadata": {
  "kernelspec": {
   "display_name": "Python 3",
   "language": "python",
   "name": "python3"
  },
  "language_info": {
   "codemirror_mode": {
    "name": "ipython",
    "version": 3
   },
   "file_extension": ".py",
   "mimetype": "text/x-python",
   "name": "python",
   "nbconvert_exporter": "python",
   "pygments_lexer": "ipython3",
   "version": "3.10.2"
  }
 },
 "nbformat": 4,
 "nbformat_minor": 5
}
