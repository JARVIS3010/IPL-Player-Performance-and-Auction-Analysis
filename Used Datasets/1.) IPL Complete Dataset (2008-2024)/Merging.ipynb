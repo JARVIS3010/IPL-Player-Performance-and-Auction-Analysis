{
 "cells": [
  {
   "cell_type": "code",
   "execution_count": 11,
   "id": "8770c0cf",
   "metadata": {},
   "outputs": [],
   "source": [
    "import pandas as pd"
   ]
  },
  {
   "cell_type": "code",
   "execution_count": 12,
   "id": "15dbcb27",
   "metadata": {},
   "outputs": [],
   "source": [
    "\n",
    "deliveries = pd.read_csv('C:/Users/Mohak kansal/Documents/Coding/Projects/IPL Auction Analytics & Team Performance Prediction Dashboard/Data Collection and Cleaning/Used Datasets/1.) IPL Complete Dataset (2008-2024)/deliveries_cleaned.csv')\n",
    "matches = pd.read_csv('C:/Users/Mohak kansal/Documents/Coding/Projects/IPL Auction Analytics & Team Performance Prediction Dashboard/Data Collection and Cleaning/Used Datasets/1.) IPL Complete Dataset (2008-2024)/matches_cleaned.csv')"
   ]
  },
  {
   "cell_type": "code",
   "execution_count": 13,
   "id": "62e3926d",
   "metadata": {},
   "outputs": [
    {
     "name": "stdout",
     "output_type": "stream",
     "text": [
      "0    335982\n",
      "1    335982\n",
      "2    335982\n",
      "3    335982\n",
      "4    335982\n",
      "Name: match_id, dtype: int64\n",
      "0    335982\n",
      "1    335983\n",
      "2    335984\n",
      "3    335985\n",
      "4    335986\n",
      "Name: id, dtype: int64\n",
      "int64 int64\n"
     ]
    }
   ],
   "source": [
    "print(deliveries['match_id'].head())\n",
    "print(matches['id'].head())\n",
    "print(deliveries['match_id'].dtype, matches['id'].dtype)"
   ]
  },
  {
   "cell_type": "code",
   "execution_count": 14,
   "id": "36e65b9d",
   "metadata": {},
   "outputs": [
    {
     "name": "stdout",
     "output_type": "stream",
     "text": [
      "['2007/08' '2009' '2009/10' '2011' '2012' '2013' '2014' '2015' '2016'\n",
      " '2017' '2018' '2019' '2020/21' '2021' '2022' '2023' '2024']\n"
     ]
    }
   ],
   "source": [
    "print(matches['season'].unique())"
   ]
  },
  {
   "cell_type": "code",
   "execution_count": 15,
   "id": "c7eca069",
   "metadata": {},
   "outputs": [],
   "source": [
    "player_cols = ['batter', 'bowler', 'non_striker', 'player_dismissed', 'fielder']\n",
    "for col in player_cols:\n",
    "    if col in deliveries.columns:\n",
    "        deliveries[col] = deliveries[col].astype(str).str.strip().str.title()\n",
    "\n",
    "if 'player_of_match' in matches.columns:\n",
    "    matches['player_of_match'] = matches['player_of_match'].astype(str).str.strip().str.title()"
   ]
  },
  {
   "cell_type": "code",
   "execution_count": 16,
   "id": "e5b1d73e",
   "metadata": {},
   "outputs": [],
   "source": [
    "team_cols_deliveries = ['batting_team', 'bowling_team']\n",
    "team_cols_matches = ['team1', 'team2', 'winner', 'toss_winner']\n",
    "\n",
    "for col in team_cols_deliveries:\n",
    "    if col in deliveries.columns:\n",
    "        deliveries[col] = deliveries[col].astype(str).str.strip().str.title()\n",
    "\n",
    "for col in team_cols_matches:\n",
    "    if col in matches.columns:\n",
    "        matches[col] = matches[col].astype(str).str.strip().str.title()"
   ]
  },
  {
   "cell_type": "code",
   "execution_count": 17,
   "id": "9bcf2f23",
   "metadata": {},
   "outputs": [
    {
     "name": "stdout",
     "output_type": "stream",
     "text": [
      "{'Rising Pune Supergiants', 'Royal Challengers Bengaluru'}\n",
      "{'Rising Pune Supergiants', 'Royal Challengers Bengaluru'}\n"
     ]
    }
   ],
   "source": [
    "print(set(deliveries['batting_team'].unique()) - set(matches['team1'].unique()))\n",
    "print(set(deliveries['bowling_team'].unique()) - set(matches['team2'].unique()))"
   ]
  },
  {
   "cell_type": "code",
   "execution_count": 18,
   "id": "7c47a718",
   "metadata": {},
   "outputs": [],
   "source": [
    "deliveries.to_csv('deliveries_merging.csv', index=False)\n",
    "matches.to_csv('matches_merging.csv', index=False)"
   ]
  },
  {
   "cell_type": "code",
   "execution_count": 20,
   "id": "f700358f",
   "metadata": {},
   "outputs": [],
   "source": [
    "deliveries = pd.read_csv('deliveries_merging.csv')\n",
    "matches = pd.read_csv('matches_merging.csv')"
   ]
  },
  {
   "cell_type": "code",
   "execution_count": 22,
   "id": "9419ba46",
   "metadata": {},
   "outputs": [],
   "source": [
    "merged = pd.merge(deliveries, matches, left_on='match_id', right_on='id', how='left')"
   ]
  },
  {
   "cell_type": "code",
   "execution_count": 25,
   "id": "f9090411",
   "metadata": {},
   "outputs": [
    {
     "data": {
      "text/html": [
       "<div>\n",
       "<style scoped>\n",
       "    .dataframe tbody tr th:only-of-type {\n",
       "        vertical-align: middle;\n",
       "    }\n",
       "\n",
       "    .dataframe tbody tr th {\n",
       "        vertical-align: top;\n",
       "    }\n",
       "\n",
       "    .dataframe thead th {\n",
       "        text-align: right;\n",
       "    }\n",
       "</style>\n",
       "<table border=\"1\" class=\"dataframe\">\n",
       "  <thead>\n",
       "    <tr style=\"text-align: right;\">\n",
       "      <th></th>\n",
       "      <th>match_id</th>\n",
       "      <th>inning</th>\n",
       "      <th>batting_team</th>\n",
       "      <th>bowling_team</th>\n",
       "      <th>over</th>\n",
       "      <th>ball</th>\n",
       "      <th>batter</th>\n",
       "      <th>bowler</th>\n",
       "      <th>non_striker</th>\n",
       "      <th>batsman_runs</th>\n",
       "      <th>...</th>\n",
       "      <th>team2</th>\n",
       "      <th>toss_winner</th>\n",
       "      <th>toss_decision</th>\n",
       "      <th>winner</th>\n",
       "      <th>result</th>\n",
       "      <th>result_margin</th>\n",
       "      <th>target_runs</th>\n",
       "      <th>target_overs</th>\n",
       "      <th>super_over</th>\n",
       "      <th>toss_win_and_match_win</th>\n",
       "    </tr>\n",
       "  </thead>\n",
       "  <tbody>\n",
       "    <tr>\n",
       "      <th>0</th>\n",
       "      <td>335982</td>\n",
       "      <td>1</td>\n",
       "      <td>Kolkata Knight Riders</td>\n",
       "      <td>Royal Challengers Bangalore</td>\n",
       "      <td>0</td>\n",
       "      <td>1</td>\n",
       "      <td>Sc Ganguly</td>\n",
       "      <td>P Kumar</td>\n",
       "      <td>Bb Mccullum</td>\n",
       "      <td>0</td>\n",
       "      <td>...</td>\n",
       "      <td>Kolkata Knight Riders</td>\n",
       "      <td>Royal Challengers Bangalore</td>\n",
       "      <td>field</td>\n",
       "      <td>Kolkata Knight Riders</td>\n",
       "      <td>runs</td>\n",
       "      <td>140.0</td>\n",
       "      <td>223.0</td>\n",
       "      <td>20.0</td>\n",
       "      <td>False</td>\n",
       "      <td>False</td>\n",
       "    </tr>\n",
       "    <tr>\n",
       "      <th>1</th>\n",
       "      <td>335982</td>\n",
       "      <td>1</td>\n",
       "      <td>Kolkata Knight Riders</td>\n",
       "      <td>Royal Challengers Bangalore</td>\n",
       "      <td>0</td>\n",
       "      <td>2</td>\n",
       "      <td>Bb Mccullum</td>\n",
       "      <td>P Kumar</td>\n",
       "      <td>Sc Ganguly</td>\n",
       "      <td>0</td>\n",
       "      <td>...</td>\n",
       "      <td>Kolkata Knight Riders</td>\n",
       "      <td>Royal Challengers Bangalore</td>\n",
       "      <td>field</td>\n",
       "      <td>Kolkata Knight Riders</td>\n",
       "      <td>runs</td>\n",
       "      <td>140.0</td>\n",
       "      <td>223.0</td>\n",
       "      <td>20.0</td>\n",
       "      <td>False</td>\n",
       "      <td>False</td>\n",
       "    </tr>\n",
       "    <tr>\n",
       "      <th>2</th>\n",
       "      <td>335982</td>\n",
       "      <td>1</td>\n",
       "      <td>Kolkata Knight Riders</td>\n",
       "      <td>Royal Challengers Bangalore</td>\n",
       "      <td>0</td>\n",
       "      <td>3</td>\n",
       "      <td>Bb Mccullum</td>\n",
       "      <td>P Kumar</td>\n",
       "      <td>Sc Ganguly</td>\n",
       "      <td>0</td>\n",
       "      <td>...</td>\n",
       "      <td>Kolkata Knight Riders</td>\n",
       "      <td>Royal Challengers Bangalore</td>\n",
       "      <td>field</td>\n",
       "      <td>Kolkata Knight Riders</td>\n",
       "      <td>runs</td>\n",
       "      <td>140.0</td>\n",
       "      <td>223.0</td>\n",
       "      <td>20.0</td>\n",
       "      <td>False</td>\n",
       "      <td>False</td>\n",
       "    </tr>\n",
       "    <tr>\n",
       "      <th>3</th>\n",
       "      <td>335982</td>\n",
       "      <td>1</td>\n",
       "      <td>Kolkata Knight Riders</td>\n",
       "      <td>Royal Challengers Bangalore</td>\n",
       "      <td>0</td>\n",
       "      <td>4</td>\n",
       "      <td>Bb Mccullum</td>\n",
       "      <td>P Kumar</td>\n",
       "      <td>Sc Ganguly</td>\n",
       "      <td>0</td>\n",
       "      <td>...</td>\n",
       "      <td>Kolkata Knight Riders</td>\n",
       "      <td>Royal Challengers Bangalore</td>\n",
       "      <td>field</td>\n",
       "      <td>Kolkata Knight Riders</td>\n",
       "      <td>runs</td>\n",
       "      <td>140.0</td>\n",
       "      <td>223.0</td>\n",
       "      <td>20.0</td>\n",
       "      <td>False</td>\n",
       "      <td>False</td>\n",
       "    </tr>\n",
       "    <tr>\n",
       "      <th>4</th>\n",
       "      <td>335982</td>\n",
       "      <td>1</td>\n",
       "      <td>Kolkata Knight Riders</td>\n",
       "      <td>Royal Challengers Bangalore</td>\n",
       "      <td>0</td>\n",
       "      <td>5</td>\n",
       "      <td>Bb Mccullum</td>\n",
       "      <td>P Kumar</td>\n",
       "      <td>Sc Ganguly</td>\n",
       "      <td>0</td>\n",
       "      <td>...</td>\n",
       "      <td>Kolkata Knight Riders</td>\n",
       "      <td>Royal Challengers Bangalore</td>\n",
       "      <td>field</td>\n",
       "      <td>Kolkata Knight Riders</td>\n",
       "      <td>runs</td>\n",
       "      <td>140.0</td>\n",
       "      <td>223.0</td>\n",
       "      <td>20.0</td>\n",
       "      <td>False</td>\n",
       "      <td>False</td>\n",
       "    </tr>\n",
       "  </tbody>\n",
       "</table>\n",
       "<p>5 rows × 35 columns</p>\n",
       "</div>"
      ],
      "text/plain": [
       "   match_id  inning           batting_team                 bowling_team  over  \\\n",
       "0    335982       1  Kolkata Knight Riders  Royal Challengers Bangalore     0   \n",
       "1    335982       1  Kolkata Knight Riders  Royal Challengers Bangalore     0   \n",
       "2    335982       1  Kolkata Knight Riders  Royal Challengers Bangalore     0   \n",
       "3    335982       1  Kolkata Knight Riders  Royal Challengers Bangalore     0   \n",
       "4    335982       1  Kolkata Knight Riders  Royal Challengers Bangalore     0   \n",
       "\n",
       "   ball       batter   bowler  non_striker  batsman_runs  ...  \\\n",
       "0     1   Sc Ganguly  P Kumar  Bb Mccullum             0  ...   \n",
       "1     2  Bb Mccullum  P Kumar   Sc Ganguly             0  ...   \n",
       "2     3  Bb Mccullum  P Kumar   Sc Ganguly             0  ...   \n",
       "3     4  Bb Mccullum  P Kumar   Sc Ganguly             0  ...   \n",
       "4     5  Bb Mccullum  P Kumar   Sc Ganguly             0  ...   \n",
       "\n",
       "                   team2                  toss_winner toss_decision  \\\n",
       "0  Kolkata Knight Riders  Royal Challengers Bangalore         field   \n",
       "1  Kolkata Knight Riders  Royal Challengers Bangalore         field   \n",
       "2  Kolkata Knight Riders  Royal Challengers Bangalore         field   \n",
       "3  Kolkata Knight Riders  Royal Challengers Bangalore         field   \n",
       "4  Kolkata Knight Riders  Royal Challengers Bangalore         field   \n",
       "\n",
       "                  winner result result_margin target_runs  target_overs  \\\n",
       "0  Kolkata Knight Riders   runs         140.0       223.0          20.0   \n",
       "1  Kolkata Knight Riders   runs         140.0       223.0          20.0   \n",
       "2  Kolkata Knight Riders   runs         140.0       223.0          20.0   \n",
       "3  Kolkata Knight Riders   runs         140.0       223.0          20.0   \n",
       "4  Kolkata Knight Riders   runs         140.0       223.0          20.0   \n",
       "\n",
       "  super_over toss_win_and_match_win  \n",
       "0      False                  False  \n",
       "1      False                  False  \n",
       "2      False                  False  \n",
       "3      False                  False  \n",
       "4      False                  False  \n",
       "\n",
       "[5 rows x 35 columns]"
      ]
     },
     "execution_count": 25,
     "metadata": {},
     "output_type": "execute_result"
    }
   ],
   "source": [
    "merged.head()"
   ]
  },
  {
   "cell_type": "code",
   "execution_count": 27,
   "id": "9f94fa6b",
   "metadata": {},
   "outputs": [],
   "source": [
    "merged.to_csv('merged.csv', index=False)"
   ]
  }
 ],
 "metadata": {
  "kernelspec": {
   "display_name": "Python 3",
   "language": "python",
   "name": "python3"
  },
  "language_info": {
   "codemirror_mode": {
    "name": "ipython",
    "version": 3
   },
   "file_extension": ".py",
   "mimetype": "text/x-python",
   "name": "python",
   "nbconvert_exporter": "python",
   "pygments_lexer": "ipython3",
   "version": "3.10.2"
  }
 },
 "nbformat": 4,
 "nbformat_minor": 5
}
